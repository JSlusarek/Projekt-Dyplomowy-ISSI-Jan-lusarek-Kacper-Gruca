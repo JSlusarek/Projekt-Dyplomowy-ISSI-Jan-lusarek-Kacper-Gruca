{
 "cells": [
  {
   "cell_type": "code",
   "execution_count": null,
   "id": "5e4509fb",
   "metadata": {},
   "outputs": [
    {
     "name": "stderr",
     "output_type": "stream",
     "text": [
      "<>:4: SyntaxWarning: invalid escape sequence '\\P'\n",
      "<>:4: SyntaxWarning: invalid escape sequence '\\P'\n",
      "C:\\Users\\jansl\\AppData\\Local\\Temp\\ipykernel_5636\\4278035118.py:4: SyntaxWarning: invalid escape sequence '\\P'\n",
      "  file_path = \"Data\\Parquet\\household_sensors\\sensordata\\home47_hall654_sensor1216c1220_electric-mains_electric-combined.parquet\"\n"
     ]
    },
    {
     "name": "stdout",
     "output_type": "stream",
     "text": [
      "   2016-08-10 10:15:27    0\n",
      "0  2016-08-10 10:15:28  269\n",
      "1  2016-08-10 10:15:33  108\n",
      "2  2016-08-10 10:15:34  274\n",
      "3  2016-08-10 10:15:35  272\n",
      "4  2016-08-10 10:15:37  136\n"
     ]
    }
   ],
   "source": [
    "import duckdb\n",
    "\n",
    "\n",
    "file_path = \"Data\\Parquet\\household_sensors\\sensordata\\home47_hall654_sensor1216c1220_electric-mains_electric-combined.parquet\"\n",
    "\n",
    "con = duckdb.connect()\n",
    "\n",
    "df = con.execute(f\"SELECT * FROM '{file_path}'\").fetch_df()\n",
    "\n",
    "\n",
    "print(df.head())\n"
   ]
  },
  {
   "cell_type": "code",
   "execution_count": 8,
   "id": "0e1505cc",
   "metadata": {},
   "outputs": [
    {
     "name": "stderr",
     "output_type": "stream",
     "text": [
      "<>:1: SyntaxWarning: invalid escape sequence '\\P'\n",
      "<>:1: SyntaxWarning: invalid escape sequence '\\P'\n",
      "C:\\Users\\jansl\\AppData\\Local\\Temp\\ipykernel_5636\\3473138627.py:1: SyntaxWarning: invalid escape sequence '\\P'\n",
      "  duckdb.query(f\"SELECT count(*) FROM 'Data\\Parquet\\household_sensors\\sensordata\\home47_hall654_sensor1216c1220_electric-mains_electric-combined.parquet'\")\n"
     ]
    },
    {
     "data": {
      "text/plain": [
       "┌──────────────┐\n",
       "│ count_star() │\n",
       "│    int64     │\n",
       "├──────────────┤\n",
       "│     21447238 │\n",
       "└──────────────┘"
      ]
     },
     "execution_count": 8,
     "metadata": {},
     "output_type": "execute_result"
    }
   ],
   "source": [
    "duckdb.query(f\"SELECT count(*) FROM 'Data\\Parquet\\household_sensors\\sensordata\\home47_hall654_sensor1216c1220_electric-mains_electric-combined.parquet'\")"
   ]
  }
 ],
 "metadata": {
  "kernelspec": {
   "display_name": ".venv",
   "language": "python",
   "name": "python3"
  },
  "language_info": {
   "codemirror_mode": {
    "name": "ipython",
    "version": 3
   },
   "file_extension": ".py",
   "mimetype": "text/x-python",
   "name": "python",
   "nbconvert_exporter": "python",
   "pygments_lexer": "ipython3",
   "version": "3.12.9"
  }
 },
 "nbformat": 4,
 "nbformat_minor": 5
}
