{
 "cells": [
  {
   "cell_type": "code",
   "execution_count": 3,
   "id": "5e4509fb",
   "metadata": {},
   "outputs": [],
   "source": [
    "import duckdb\n",
    "from Metadata.DS_10283_3647.coding.coding.API.IdealDataInterface import IdealDataInterface\n",
    "from Metadata.DS_10283_3647.coding.coding.API.IdealMetadataInterface import IdealMetadataInterface\n",
    "import polars as pl"
   ]
  },
  {
   "cell_type": "code",
   "execution_count": null,
   "id": "0a98c562",
   "metadata": {},
   "outputs": [
    {
     "name": "stdout",
     "output_type": "stream",
     "text": [
      "homeid  roomid  room_type  category  subtype      sensorid\n",
      "100     1041    bedroom    room      humidity     4490        home100_bedroom1041_sensor4490_room_humidity.p...\n",
      "                                     temperature  4491        home100_bedroom1041_sensor4491_room_temperatur...\n",
      "        1042    bedroom    room      humidity     4495        home100_bedroom1042_sensor4495_room_humidity.p...\n",
      "                                     temperature  4496        home100_bedroom1042_sensor4496_room_temperatur...\n",
      "        1039    hall       room      humidity     4485        home100_hall1039_sensor4485_room_humidity.parquet\n",
      "Name: filename, dtype: object\n"
     ]
    }
   ],
   "source": [
    "\n",
    "sensorid_parquet = Ideal.sensorid_mapping.copy()\n",
    "sensorid_parquet['filename'] = sensorid_parquet['filename'].str.replace(r'\\.csv\\.gz$', '.parquet', regex=True)\n",
    "print(sensorid_parquet['filename'].head())\n"
   ]
  },
  {
   "cell_type": "code",
   "execution_count": 48,
   "id": "c46bf7a2",
   "metadata": {},
   "outputs": [
    {
     "data": {
      "text/plain": [
       "np.False_"
      ]
     },
     "execution_count": 48,
     "metadata": {},
     "output_type": "execute_result"
    }
   ],
   "source": [
    "sensorid_parquet['filename'].str.contains('.csv', regex=False).any()\n"
   ]
  },
  {
   "cell_type": "code",
   "execution_count": 49,
   "id": "01852c19",
   "metadata": {},
   "outputs": [],
   "source": [
    "Ideal.categories().to_csv('Data\\\\NAV\\\\Categories_nav.csv',index=False)\n",
    "sensorid_parquet.to_csv('Data\\\\NAV\\\\SensorID_mapping_nav.csv')"
   ]
  },
  {
   "cell_type": "code",
   "execution_count": 51,
   "id": "9bcbd539",
   "metadata": {},
   "outputs": [
    {
     "data": {
      "text/plain": [
       "┌────────┬────────┬────────────┬──────────┬─────────────┬──────────┬─────────────────────────────────────────────────────────────┐\n",
       "│ homeid │ roomid │ room_type  │ category │   subtype   │ sensorid │                          filename                           │\n",
       "│ int64  │ int64  │  varchar   │ varchar  │   varchar   │  int64   │                           varchar                           │\n",
       "├────────┼────────┼────────────┼──────────┼─────────────┼──────────┼─────────────────────────────────────────────────────────────┤\n",
       "│    100 │   1041 │ bedroom    │ room     │ humidity    │     4490 │ home100_bedroom1041_sensor4490_room_humidity.parquet        │\n",
       "│    100 │   1041 │ bedroom    │ room     │ temperature │     4491 │ home100_bedroom1041_sensor4491_room_temperature.parquet     │\n",
       "│    100 │   1042 │ bedroom    │ room     │ humidity    │     4495 │ home100_bedroom1042_sensor4495_room_humidity.parquet        │\n",
       "│    100 │   1042 │ bedroom    │ room     │ temperature │     4496 │ home100_bedroom1042_sensor4496_room_temperature.parquet     │\n",
       "│    100 │   1039 │ hall       │ room     │ humidity    │     4485 │ home100_hall1039_sensor4485_room_humidity.parquet           │\n",
       "│    100 │   1039 │ hall       │ room     │ temperature │     4486 │ home100_hall1039_sensor4486_room_temperature.parquet        │\n",
       "│    100 │   1037 │ kitchen    │ room     │ humidity    │     4462 │ home100_kitchen1037_sensor4462_room_humidity.parquet        │\n",
       "│    100 │   1037 │ kitchen    │ room     │ temperature │     4463 │ home100_kitchen1037_sensor4463_room_temperature.parquet     │\n",
       "│    100 │   1038 │ livingroom │ room     │ humidity    │     4473 │ home100_livingroom1038_sensor4473_room_humidity.parquet     │\n",
       "│    100 │   1038 │ livingroom │ room     │ temperature │     4474 │ home100_livingroom1038_sensor4474_room_temperature.parquet  │\n",
       "│      · │     ·  │  ·         │  ·       │      ·      │       ·  │                          ·                                  │\n",
       "│      · │     ·  │  ·         │  ·       │      ·      │       ·  │                          ·                                  │\n",
       "│      · │     ·  │  ·         │  ·       │      ·      │       ·  │                          ·                                  │\n",
       "│     99 │   1031 │ hall       │ room     │ temperature │     4409 │ home99_hall1031_sensor4409_room_temperature.parquet         │\n",
       "│     99 │   1032 │ hall       │ room     │ humidity    │     4414 │ home99_hall1032_sensor4414_room_humidity.parquet            │\n",
       "│     99 │   1032 │ hall       │ room     │ temperature │     4415 │ home99_hall1032_sensor4415_room_temperature.parquet         │\n",
       "│     99 │   1026 │ kitchen    │ room     │ humidity    │     4380 │ home99_kitchen1026_sensor4380_room_humidity.parquet         │\n",
       "│     99 │   1026 │ kitchen    │ room     │ temperature │     4381 │ home99_kitchen1026_sensor4381_room_temperature.parquet      │\n",
       "│     99 │   1029 │ livingroom │ heater   │ light       │     4392 │ home99_livingroom1029_sensor4392_heater_light.parquet       │\n",
       "│     99 │   1029 │ livingroom │ heater   │ humidity    │     4393 │ home99_livingroom1029_sensor4393_heater_humidity.parquet    │\n",
       "│     99 │   1029 │ livingroom │ heater   │ temperature │     4394 │ home99_livingroom1029_sensor4394_heater_temperature.parquet │\n",
       "│     99 │   1029 │ livingroom │ room     │ humidity    │     4398 │ home99_livingroom1029_sensor4398_room_humidity.parquet      │\n",
       "│     99 │   1029 │ livingroom │ room     │ temperature │     4399 │ home99_livingroom1029_sensor4399_room_temperature.parquet   │\n",
       "├────────┴────────┴────────────┴──────────┴─────────────┴──────────┴─────────────────────────────────────────────────────────────┤\n",
       "│ 4824 rows (20 shown)                                                                                                 7 columns │\n",
       "└────────────────────────────────────────────────────────────────────────────────────────────────────────────────────────────────┘"
      ]
     },
     "execution_count": 51,
     "metadata": {},
     "output_type": "execute_result"
    }
   ],
   "source": [
    "duckdb.query(\"\"\"\n",
    "    SELECT *\n",
    "    FROM 'Data/NAV/SensorID_mapping_nav.csv'\n",
    "\n",
    "\"\"\") "
   ]
  },
  {
   "cell_type": "code",
   "execution_count": 24,
   "metadata": {},
   "outputs": [
    {
     "data": {
      "text/plain": [
       "room_type\n",
       "bedroom          624\n",
       "bathroom         348\n",
       "hall             340\n",
       "livingroom       242\n",
       "kitchen          233\n",
       "study             50\n",
       "utility           41\n",
       "diningroom        38\n",
       "kitchenliving     16\n",
       "playroom          13\n",
       "other              9\n",
       "conservatory       8\n",
       "cupboard           1\n",
       "outside            1\n",
       "Name: Number of rooms, dtype: int64"
      ]
     },
     "execution_count": 24,
     "metadata": {},
     "output_type": "execute_result"
    }
   ],
   "source": [
    "Ideal.room_types()"
   ]
  }
 ],
 "metadata": {
  "kernelspec": {
   "display_name": ".venv",
   "language": "python",
   "name": "python3"
  },
  "language_info": {
   "codemirror_mode": {
    "name": "ipython",
    "version": 3
   },
   "file_extension": ".py",
   "mimetype": "text/x-python",
   "name": "python",
   "nbconvert_exporter": "python",
   "pygments_lexer": "ipython3",
   "version": "3.12.9"
  }
 },
 "nbformat": 4,
 "nbformat_minor": 5
}
