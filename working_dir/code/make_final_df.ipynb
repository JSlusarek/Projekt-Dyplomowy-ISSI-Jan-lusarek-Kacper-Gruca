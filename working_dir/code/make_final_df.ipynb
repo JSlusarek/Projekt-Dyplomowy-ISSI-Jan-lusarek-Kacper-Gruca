{
 "cells": [
  {
   "cell_type": "code",
   "execution_count": 1,
   "id": "a35d5f3c",
   "metadata": {},
   "outputs": [],
   "source": [
    "import polars as pl\n",
    "import pandas as pd"
   ]
  },
  {
   "cell_type": "code",
   "execution_count": 26,
   "id": "ab8e4300",
   "metadata": {},
   "outputs": [],
   "source": [
    "df_appl_without_null = pl.read_parquet(\"../../Data/ML_DF/df_appl_without_null.parquet\")\n",
    "data_frame_energy_home = pl.read_parquet(\"../../Data/ML_DF/df_energy_home.parquet\")\n",
    "df_home_appliances = pl.read_parquet(\"../../Data/ML_DF/df_home_appliances.parquet\")"
   ]
  },
  {
   "cell_type": "code",
   "execution_count": 27,
   "id": "6b411627",
   "metadata": {},
   "outputs": [],
   "source": [
    "df_appl_without_null = df_appl_without_null.drop([\n",
    "    'kettle',\n",
    "    'dishwasher',\n",
    "    'microwave',\n",
    "    'washingmachine',])"
   ]
  },
  {
   "cell_type": "code",
   "execution_count": 28,
   "id": "5d920e6a",
   "metadata": {},
   "outputs": [],
   "source": [
    "df_home_appliances = df_home_appliances.select(\n",
    "    \"homeid_1\",\n",
    "    \"date\",\n",
    "    'kettle',\n",
    "    'dishwasher',\n",
    "    'microwave',\n",
    "    'washingmachine',\n",
    ")"
   ]
  },
  {
   "cell_type": "code",
   "execution_count": 29,
   "id": "1a0d1695",
   "metadata": {},
   "outputs": [],
   "source": [
    "final_df_1 = df_appl_without_null.join(\n",
    "    data_frame_energy_home.unique(subset=[\"homeid_1\", \"date\"])\n",
    "    .select([\"homeid_1\", \"date\", \"total_power_consumption\"]),\n",
    "    left_on=[\"homeid_1\", \"date\"],\n",
    "    right_on=[\"homeid_1\", \"date\"],\n",
    "    how=\"left\",\n",
    ")"
   ]
  },
  {
   "cell_type": "code",
   "execution_count": 30,
   "id": "14b15f0f",
   "metadata": {},
   "outputs": [],
   "source": [
    "final_df_2 = final_df_1.join(\n",
    "    df_home_appliances.unique(subset=[\"homeid_1\", \"date\"]),\n",
    "    left_on=[\"homeid_1\", \"date\"],\n",
    "    right_on=[\"homeid_1\", \"date\"],\n",
    "    how=\"left\",\n",
    ")"
   ]
  },
  {
   "cell_type": "code",
   "execution_count": 31,
   "id": "b7cda3d5",
   "metadata": {},
   "outputs": [
    {
     "data": {
      "text/plain": [
       "(2922, 14)"
      ]
     },
     "execution_count": 31,
     "metadata": {},
     "output_type": "execute_result"
    }
   ],
   "source": [
    "final_df_1.shape"
   ]
  },
  {
   "cell_type": "code",
   "execution_count": 32,
   "id": "870eb182",
   "metadata": {},
   "outputs": [
    {
     "data": {
      "text/plain": [
       "(2922, 18)"
      ]
     },
     "execution_count": 32,
     "metadata": {},
     "output_type": "execute_result"
    }
   ],
   "source": [
    "final_df_2.shape"
   ]
  },
  {
   "cell_type": "code",
   "execution_count": 34,
   "id": "ebe2a41a",
   "metadata": {},
   "outputs": [],
   "source": [
    "final_df_clean = final_df_2.drop_nulls()"
   ]
  },
  {
   "cell_type": "code",
   "execution_count": 37,
   "id": "9c1ca2a2",
   "metadata": {},
   "outputs": [
    {
     "data": {
      "text/html": [
       "<div><style>\n",
       ".dataframe > thead > tr,\n",
       ".dataframe > tbody > tr {\n",
       "  text-align: right;\n",
       "  white-space: pre-wrap;\n",
       "}\n",
       "</style>\n",
       "<small>shape: (1, 18)</small><table border=\"1\" class=\"dataframe\"><thead><tr><th>homeid_1</th><th>num_males</th><th>num_females</th><th>num_residents</th><th>num_children</th><th>num_employed</th><th>num_with_higher_education</th><th>daily_standing_charge_pence</th><th>unit_charge_pence_per_kwh</th><th>n_rooms</th><th>hometype_flat</th><th>date</th><th>smart_automation_binary</th><th>total_power_consumption</th><th>kettle</th><th>dishwasher</th><th>microwave</th><th>washingmachine</th></tr><tr><td>u32</td><td>u32</td><td>u32</td><td>u32</td><td>u32</td><td>u32</td><td>u32</td><td>u32</td><td>u32</td><td>u32</td><td>u32</td><td>u32</td><td>u32</td><td>u32</td><td>u32</td><td>u32</td><td>u32</td><td>u32</td></tr></thead><tbody><tr><td>0</td><td>0</td><td>0</td><td>0</td><td>0</td><td>0</td><td>0</td><td>0</td><td>0</td><td>0</td><td>0</td><td>0</td><td>0</td><td>0</td><td>0</td><td>0</td><td>0</td><td>0</td></tr></tbody></table></div>"
      ],
      "text/plain": [
       "shape: (1, 18)\n",
       "┌──────────┬───────────┬────────────┬────────────┬───┬────────┬────────────┬───────────┬───────────┐\n",
       "│ homeid_1 ┆ num_males ┆ num_female ┆ num_reside ┆ … ┆ kettle ┆ dishwasher ┆ microwave ┆ washingma │\n",
       "│ ---      ┆ ---       ┆ s          ┆ nts        ┆   ┆ ---    ┆ ---        ┆ ---       ┆ chine     │\n",
       "│ u32      ┆ u32       ┆ ---        ┆ ---        ┆   ┆ u32    ┆ u32        ┆ u32       ┆ ---       │\n",
       "│          ┆           ┆ u32        ┆ u32        ┆   ┆        ┆            ┆           ┆ u32       │\n",
       "╞══════════╪═══════════╪════════════╪════════════╪═══╪════════╪════════════╪═══════════╪═══════════╡\n",
       "│ 0        ┆ 0         ┆ 0          ┆ 0          ┆ … ┆ 0      ┆ 0          ┆ 0         ┆ 0         │\n",
       "└──────────┴───────────┴────────────┴────────────┴───┴────────┴────────────┴───────────┴───────────┘"
      ]
     },
     "execution_count": 37,
     "metadata": {},
     "output_type": "execute_result"
    }
   ],
   "source": [
    "final_df_clean.select([\n",
    "    pl.col(col).is_null().sum().alias(col)\n",
    "    for col in final_df_2.columns\n",
    "])"
   ]
  },
  {
   "cell_type": "code",
   "execution_count": 38,
   "id": "05131cc6",
   "metadata": {},
   "outputs": [],
   "source": [
    "final_df_clean = final_df_clean.select(\n",
    "    'homeid_1',\n",
    "    'date',\n",
    "\n",
    "    'num_males',\n",
    "    'num_females',\n",
    "    'num_residents',\n",
    "    'num_children',\n",
    "    'num_employed',\n",
    "\n",
    "    'num_with_higher_education',\n",
    "    'daily_standing_charge_pence',\n",
    "    'unit_charge_pence_per_kwh',\n",
    "    \n",
    "    'n_rooms',\n",
    "    'hometype_flat',\n",
    "\n",
    "    'kettle',\n",
    "    'dishwasher',\n",
    "    'microwave',\n",
    "    'washingmachine',\n",
    "    'smart_automation_binary',\n",
    "    'total_power_consumption'\n",
    ")"
   ]
  },
  {
   "cell_type": "code",
   "execution_count": 41,
   "id": "043785f0",
   "metadata": {},
   "outputs": [],
   "source": [
    "# usunięcie powtarzających się wierszy - do sprawdzenia\n",
    "final_df_clean = final_df_clean.filter(pl.col(\"homeid_1\") != 96)"
   ]
  },
  {
   "cell_type": "code",
   "execution_count": 43,
   "id": "8dab3711",
   "metadata": {},
   "outputs": [],
   "source": [
    "model_df = final_df_clean.drop([\"num_females\", \"daily_standing_charge_pence\",\n",
    "                                \"unit_charge_pence_per_kwh\", \"homeid_1\", \"date\"])"
   ]
  },
  {
   "cell_type": "code",
   "execution_count": 44,
   "id": "4f4e147f",
   "metadata": {},
   "outputs": [],
   "source": [
    "model_df.write_parquet(\"../../Data/ML_DF/model_df.parquet\")"
   ]
  },
  {
   "cell_type": "code",
   "execution_count": 45,
   "id": "c94e1f51",
   "metadata": {},
   "outputs": [],
   "source": [
    "final_df_clean.write_parquet(\"../../Data/ML_DF/final_df_clean.parquet\")"
   ]
  }
 ],
 "metadata": {
  "kernelspec": {
   "display_name": ".venv",
   "language": "python",
   "name": "python3"
  },
  "language_info": {
   "codemirror_mode": {
    "name": "ipython",
    "version": 3
   },
   "file_extension": ".py",
   "mimetype": "text/x-python",
   "name": "python",
   "nbconvert_exporter": "python",
   "pygments_lexer": "ipython3",
   "version": "3.12.8"
  }
 },
 "nbformat": 4,
 "nbformat_minor": 5
}
