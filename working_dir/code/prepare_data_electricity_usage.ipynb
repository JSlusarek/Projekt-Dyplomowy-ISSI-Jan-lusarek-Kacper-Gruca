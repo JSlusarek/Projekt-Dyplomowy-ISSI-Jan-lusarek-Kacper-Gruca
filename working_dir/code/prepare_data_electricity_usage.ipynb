{
 "cells": [
  {
   "cell_type": "code",
   "execution_count": 1,
   "id": "ef665eaf",
   "metadata": {},
   "outputs": [],
   "source": [
    "import pandas as pd\n",
    "import polars as pl\n",
    "import os\n",
    "from functions.fix_parquet_with_header_data import fix_parquet_with_header_data\n",
    "from functions.prepare_electric_filenames_from_household_sensors import prepare_electric_filenames_from_household_sensors\n",
    "from functions.aggregate_data_daily import aggregate_data_daily\n",
    "from functions.prepare_electric_filenames_from_appliance import prepare_electric_filenames_from_appliance"
   ]
  },
  {
   "cell_type": "markdown",
   "id": "572f5156",
   "metadata": {},
   "source": [
    "### Przygotowanie df-a z lokalizacjami plików do agregowania"
   ]
  },
  {
   "cell_type": "code",
   "execution_count": 2,
   "id": "c35b6d7e",
   "metadata": {},
   "outputs": [],
   "source": [
    "folder_path = \"../../Data/Parquet/household_sensors/sensordata\"\n",
    "household_sensors_data_to_process = prepare_electric_filenames_from_household_sensors(folder_path)"
   ]
  },
  {
   "cell_type": "code",
   "execution_count": null,
   "id": "778958e9",
   "metadata": {},
   "outputs": [],
   "source": [
    "folder_path = \"../../Data/Parquet/room_and_appliance_sensors/sensordata\"\n",
    "appliance_data_to_process = prepare_electric_filenames_from_appliance(folder_path)"
   ]
  },
  {
   "cell_type": "code",
   "execution_count": 26,
   "id": "12a64546",
   "metadata": {},
   "outputs": [
    {
     "data": {
      "text/plain": [
       "254"
      ]
     },
     "execution_count": 26,
     "metadata": {},
     "output_type": "execute_result"
    }
   ],
   "source": [
    "len(household_sensors_data_to_process[\"home_id\"].unique())"
   ]
  },
  {
   "cell_type": "code",
   "execution_count": 7,
   "id": "5da1ddd3",
   "metadata": {},
   "outputs": [
    {
     "data": {
      "application/vnd.microsoft.datawrangler.viewer.v0+json": {
       "columns": [
        {
         "name": "index",
         "rawType": "int64",
         "type": "integer"
        },
        {
         "name": "home_id",
         "rawType": "int64",
         "type": "integer"
        },
        {
         "name": "electric",
         "rawType": "object",
         "type": "string"
        },
        {
         "name": "appliance_name",
         "rawType": "object",
         "type": "string"
        },
        {
         "name": "filename",
         "rawType": "object",
         "type": "string"
        }
       ],
       "ref": "548d5305-4f13-41aa-bcb8-9375509d1d0c",
       "rows": [
        [
         "0",
         "61",
         "electric-appliance",
         "kettle",
         "home61_kitchen695_sensor1967_electric-appliance_kettle.parquet"
        ],
        [
         "1",
         "61",
         "electric-appliance",
         "dishwasher",
         "home61_kitchen695_sensor1969_electric-appliance_dishwasher.parquet"
        ],
        [
         "2",
         "61",
         "electric-appliance",
         "microwave",
         "home61_kitchen695_sensor1971_electric-appliance_microwave.parquet"
        ],
        [
         "3",
         "62",
         "electric-appliance",
         "fridgefreezer",
         "home62_kitchen710_sensor1779_electric-appliance_fridgefreezer.parquet"
        ],
        [
         "4",
         "62",
         "electric-appliance",
         "kettle",
         "home62_kitchen710_sensor1780_electric-appliance_kettle.parquet"
        ],
        [
         "5",
         "62",
         "electric-appliance",
         "washingmachine",
         "home62_kitchen710_sensor1781_electric-appliance_washingmachine.parquet"
        ],
        [
         "6",
         "62",
         "electric-appliance",
         "dishwasher",
         "home62_kitchen710_sensor1782_electric-appliance_dishwasher.parquet"
        ],
        [
         "7",
         "62",
         "electric-appliance",
         "vacuumcleaner",
         "home62_kitchen710_sensor2400_electric-appliance_vacuumcleaner.parquet"
        ],
        [
         "8",
         "63",
         "electric-appliance",
         "washingmachinetumbledrier",
         "home63_kitchen720_sensor2268_electric-appliance_washingmachinetumbledrier.parquet"
        ],
        [
         "9",
         "63",
         "electric-appliance",
         "microwave",
         "home63_kitchen720_sensor2269_electric-appliance_microwave.parquet"
        ],
        [
         "10",
         "63",
         "electric-appliance",
         "dishwasher",
         "home63_kitchen720_sensor2270_electric-appliance_dishwasher.parquet"
        ],
        [
         "11",
         "63",
         "electric-appliance",
         "kettle",
         "home63_kitchen720_sensor3760_electric-appliance_kettle.parquet"
        ],
        [
         "12",
         "63",
         "electric-appliance",
         "vacuumcleaner",
         "home63_kitchen720_sensor3980_electric-appliance_vacuumcleaner.parquet"
        ],
        [
         "13",
         "65",
         "electric-appliance",
         "vacuumcleaner",
         "home65_bedroom736_sensor15880_electric-appliance_vacuumcleaner.parquet"
        ],
        [
         "14",
         "65",
         "electric-appliance",
         "vacuumcleaner",
         "home65_hall731_sensor8861_electric-appliance_vacuumcleaner.parquet"
        ],
        [
         "15",
         "65",
         "electric-appliance",
         "vacuumcleaner",
         "home65_hall735_sensor5306_electric-appliance_vacuumcleaner.parquet"
        ],
        [
         "16",
         "65",
         "electric-appliance",
         "kettle",
         "home65_kitchen733_sensor3109_electric-appliance_kettle.parquet"
        ],
        [
         "17",
         "65",
         "electric-appliance",
         "washingmachine",
         "home65_kitchen733_sensor3110_electric-appliance_washingmachine.parquet"
        ],
        [
         "18",
         "65",
         "electric-appliance",
         "dishwasher",
         "home65_kitchen733_sensor3111_electric-appliance_dishwasher.parquet"
        ],
        [
         "19",
         "73",
         "electric-appliance",
         "kettle",
         "home73_kitchenliving781_sensor4077_electric-appliance_kettle.parquet"
        ],
        [
         "20",
         "73",
         "electric-appliance",
         "washingmachine",
         "home73_kitchenliving781_sensor4078_electric-appliance_washingmachine.parquet"
        ],
        [
         "21",
         "73",
         "electric-appliance",
         "fridgefreezer",
         "home73_kitchenliving781_sensor4079_electric-appliance_fridgefreezer.parquet"
        ],
        [
         "22",
         "90",
         "electric-appliance",
         "kettle",
         "home90_kitchen957_sensor4858_electric-appliance_kettle.parquet"
        ],
        [
         "23",
         "90",
         "electric-appliance",
         "microwave",
         "home90_kitchen957_sensor4859_electric-appliance_microwave.parquet"
        ],
        [
         "24",
         "90",
         "electric-appliance",
         "fridgefreezer",
         "home90_kitchen957_sensor4860_electric-appliance_fridgefreezer.parquet"
        ],
        [
         "25",
         "96",
         "electric-appliance",
         "vacuumcleaner",
         "home96_hall998_sensor11255_electric-appliance_vacuumcleaner.parquet"
        ],
        [
         "26",
         "96",
         "electric-appliance",
         "washingmachine",
         "home96_kitchen999_sensor11254_electric-appliance_washingmachine.parquet"
        ],
        [
         "27",
         "96",
         "electric-appliance",
         "kettle",
         "home96_kitchen999_sensor9110_electric-appliance_kettle.parquet"
        ],
        [
         "28",
         "96",
         "electric-appliance",
         "microwave",
         "home96_kitchen999_sensor9111_electric-appliance_microwave.parquet"
        ],
        [
         "29",
         "96",
         "electric-appliance",
         "dishwasher",
         "home96_kitchen999_sensor9116_electric-appliance_dishwasher.parquet"
        ],
        [
         "30",
         "96",
         "electric-appliance",
         "fridgefreezer",
         "home96_kitchen999_sensor9608_electric-appliance_fridgefreezer.parquet"
        ],
        [
         "31",
         "105",
         "electric-appliance",
         "kettle",
         "home105_kitchen1110_sensor5283_electric-appliance_kettle.parquet"
        ],
        [
         "32",
         "105",
         "electric-appliance",
         "fridgefreezer",
         "home105_kitchen1110_sensor5284_electric-appliance_fridgefreezer.parquet"
        ],
        [
         "33",
         "105",
         "electric-appliance",
         "washingmachine",
         "home105_kitchen1110_sensor5285_electric-appliance_washingmachine.parquet"
        ],
        [
         "34",
         "105",
         "electric-appliance",
         "microwave",
         "home105_kitchen1110_sensor5286_electric-appliance_microwave.parquet"
        ],
        [
         "35",
         "105",
         "electric-appliance",
         "dishwasher",
         "home105_kitchen1110_sensor5287_electric-appliance_dishwasher.parquet"
        ],
        [
         "36",
         "105",
         "electric-appliance",
         "vacuumcleaner",
         "home105_kitchen1110_sensor7932_electric-appliance_vacuumcleaner.parquet"
        ],
        [
         "37",
         "106",
         "electric-appliance",
         "kettle",
         "home106_kitchen1085_sensor5210_electric-appliance_kettle.parquet"
        ],
        [
         "38",
         "106",
         "electric-appliance",
         "microwave",
         "home106_kitchen1085_sensor5211_electric-appliance_microwave.parquet"
        ],
        [
         "39",
         "106",
         "electric-appliance",
         "washingmachine",
         "home106_kitchen1085_sensor5212_electric-appliance_washingmachine.parquet"
        ],
        [
         "40",
         "106",
         "electric-appliance",
         "fridgefreezer",
         "home106_kitchen1085_sensor5213_electric-appliance_fridgefreezer.parquet"
        ],
        [
         "41",
         "128",
         "electric-appliance",
         "vacuumcleaner",
         "home128_hall1250_sensor10802_electric-appliance_vacuumcleaner.parquet"
        ],
        [
         "42",
         "128",
         "electric-appliance",
         "other",
         "home128_kitchen1253_sensor10803_electric-appliance_other.parquet"
        ],
        [
         "43",
         "128",
         "electric-appliance",
         "microwave",
         "home128_kitchen1253_sensor10805_electric-appliance_microwave.parquet"
        ],
        [
         "44",
         "128",
         "electric-appliance",
         "toaster",
         "home128_kitchen1253_sensor10924_electric-appliance_toaster.parquet"
        ],
        [
         "45",
         "128",
         "electric-appliance",
         "washingmachine",
         "home128_kitchen1253_sensor13307_electric-appliance_washingmachine.parquet"
        ],
        [
         "46",
         "128",
         "electric-appliance",
         "kettle",
         "home128_kitchen1253_sensor9251_electric-appliance_kettle.parquet"
        ],
        [
         "47",
         "128",
         "electric-appliance",
         "fridgefreezer",
         "home128_kitchen1253_sensor9252_electric-appliance_fridgefreezer.parquet"
        ],
        [
         "48",
         "136",
         "electric-appliance",
         "vacuumcleaner",
         "home136_hall1287_sensor9275_electric-appliance_vacuumcleaner.parquet"
        ],
        [
         "49",
         "136",
         "electric-appliance",
         "kettle",
         "home136_kitchen1294_sensor21311_electric-appliance_kettle.parquet"
        ]
       ],
       "shape": {
        "columns": 4,
        "rows": 219
       }
      },
      "text/html": [
       "<div>\n",
       "<style scoped>\n",
       "    .dataframe tbody tr th:only-of-type {\n",
       "        vertical-align: middle;\n",
       "    }\n",
       "\n",
       "    .dataframe tbody tr th {\n",
       "        vertical-align: top;\n",
       "    }\n",
       "\n",
       "    .dataframe thead th {\n",
       "        text-align: right;\n",
       "    }\n",
       "</style>\n",
       "<table border=\"1\" class=\"dataframe\">\n",
       "  <thead>\n",
       "    <tr style=\"text-align: right;\">\n",
       "      <th></th>\n",
       "      <th>home_id</th>\n",
       "      <th>electric</th>\n",
       "      <th>appliance_name</th>\n",
       "      <th>filename</th>\n",
       "    </tr>\n",
       "  </thead>\n",
       "  <tbody>\n",
       "    <tr>\n",
       "      <th>0</th>\n",
       "      <td>61</td>\n",
       "      <td>electric-appliance</td>\n",
       "      <td>kettle</td>\n",
       "      <td>home61_kitchen695_sensor1967_electric-applianc...</td>\n",
       "    </tr>\n",
       "    <tr>\n",
       "      <th>1</th>\n",
       "      <td>61</td>\n",
       "      <td>electric-appliance</td>\n",
       "      <td>dishwasher</td>\n",
       "      <td>home61_kitchen695_sensor1969_electric-applianc...</td>\n",
       "    </tr>\n",
       "    <tr>\n",
       "      <th>2</th>\n",
       "      <td>61</td>\n",
       "      <td>electric-appliance</td>\n",
       "      <td>microwave</td>\n",
       "      <td>home61_kitchen695_sensor1971_electric-applianc...</td>\n",
       "    </tr>\n",
       "    <tr>\n",
       "      <th>3</th>\n",
       "      <td>62</td>\n",
       "      <td>electric-appliance</td>\n",
       "      <td>fridgefreezer</td>\n",
       "      <td>home62_kitchen710_sensor1779_electric-applianc...</td>\n",
       "    </tr>\n",
       "    <tr>\n",
       "      <th>4</th>\n",
       "      <td>62</td>\n",
       "      <td>electric-appliance</td>\n",
       "      <td>kettle</td>\n",
       "      <td>home62_kitchen710_sensor1780_electric-applianc...</td>\n",
       "    </tr>\n",
       "    <tr>\n",
       "      <th>...</th>\n",
       "      <td>...</td>\n",
       "      <td>...</td>\n",
       "      <td>...</td>\n",
       "      <td>...</td>\n",
       "    </tr>\n",
       "    <tr>\n",
       "      <th>214</th>\n",
       "      <td>328</td>\n",
       "      <td>electric-appliance</td>\n",
       "      <td>vacuumcleaner</td>\n",
       "      <td>home328_hall2976_sensor31009_electric-applianc...</td>\n",
       "    </tr>\n",
       "    <tr>\n",
       "      <th>215</th>\n",
       "      <td>328</td>\n",
       "      <td>electric-appliance</td>\n",
       "      <td>kettle</td>\n",
       "      <td>home328_kitchen2980_sensor31003_electric-appli...</td>\n",
       "    </tr>\n",
       "    <tr>\n",
       "      <th>216</th>\n",
       "      <td>328</td>\n",
       "      <td>electric-appliance</td>\n",
       "      <td>toaster</td>\n",
       "      <td>home328_kitchen2980_sensor31004_electric-appli...</td>\n",
       "    </tr>\n",
       "    <tr>\n",
       "      <th>217</th>\n",
       "      <td>328</td>\n",
       "      <td>electric-appliance</td>\n",
       "      <td>fridgefreezer</td>\n",
       "      <td>home328_kitchen2980_sensor31005_electric-appli...</td>\n",
       "    </tr>\n",
       "    <tr>\n",
       "      <th>218</th>\n",
       "      <td>328</td>\n",
       "      <td>electric-appliance</td>\n",
       "      <td>microwave</td>\n",
       "      <td>home328_kitchen2980_sensor31014_electric-appli...</td>\n",
       "    </tr>\n",
       "  </tbody>\n",
       "</table>\n",
       "<p>219 rows × 4 columns</p>\n",
       "</div>"
      ],
      "text/plain": [
       "     home_id            electric appliance_name  \\\n",
       "0         61  electric-appliance         kettle   \n",
       "1         61  electric-appliance     dishwasher   \n",
       "2         61  electric-appliance      microwave   \n",
       "3         62  electric-appliance  fridgefreezer   \n",
       "4         62  electric-appliance         kettle   \n",
       "..       ...                 ...            ...   \n",
       "214      328  electric-appliance  vacuumcleaner   \n",
       "215      328  electric-appliance         kettle   \n",
       "216      328  electric-appliance        toaster   \n",
       "217      328  electric-appliance  fridgefreezer   \n",
       "218      328  electric-appliance      microwave   \n",
       "\n",
       "                                              filename  \n",
       "0    home61_kitchen695_sensor1967_electric-applianc...  \n",
       "1    home61_kitchen695_sensor1969_electric-applianc...  \n",
       "2    home61_kitchen695_sensor1971_electric-applianc...  \n",
       "3    home62_kitchen710_sensor1779_electric-applianc...  \n",
       "4    home62_kitchen710_sensor1780_electric-applianc...  \n",
       "..                                                 ...  \n",
       "214  home328_hall2976_sensor31009_electric-applianc...  \n",
       "215  home328_kitchen2980_sensor31003_electric-appli...  \n",
       "216  home328_kitchen2980_sensor31004_electric-appli...  \n",
       "217  home328_kitchen2980_sensor31005_electric-appli...  \n",
       "218  home328_kitchen2980_sensor31014_electric-appli...  \n",
       "\n",
       "[219 rows x 4 columns]"
      ]
     },
     "execution_count": 7,
     "metadata": {},
     "output_type": "execute_result"
    }
   ],
   "source": [
    "appliance_data_to_process"
   ]
  },
  {
   "cell_type": "markdown",
   "id": "38b08221",
   "metadata": {},
   "source": [
    "### Poprawienie pierwszej kolumny"
   ]
  },
  {
   "cell_type": "code",
   "execution_count": 13,
   "id": "9d0ba1bd",
   "metadata": {},
   "outputs": [],
   "source": [
    "df_org = pl.read_parquet(\"../../Data/Parquet/household_sensors/sensordata/home47_hall654_sensor1216c1220_electric-mains_electric-combined.parquet\")\n",
    "df = fix_parquet_with_header_data(df_org)"
   ]
  },
  {
   "cell_type": "code",
   "execution_count": 15,
   "id": "10836086",
   "metadata": {},
   "outputs": [],
   "source": [
    "daily_data = aggregate_data_daily(df)"
   ]
  },
  {
   "cell_type": "code",
   "execution_count": 16,
   "id": "08994859",
   "metadata": {},
   "outputs": [
    {
     "data": {
      "text/html": [
       "<div><style>\n",
       ".dataframe > thead > tr,\n",
       ".dataframe > tbody > tr {\n",
       "  text-align: right;\n",
       "  white-space: pre-wrap;\n",
       "}\n",
       "</style>\n",
       "<small>shape: (271, 2)</small><table border=\"1\" class=\"dataframe\"><thead><tr><th>date</th><th>daily_sum</th></tr><tr><td>date</td><td>i64</td></tr></thead><tbody><tr><td>2016-08-10</td><td>6785970</td></tr><tr><td>2016-08-11</td><td>10097498</td></tr><tr><td>2016-08-12</td><td>8450189</td></tr><tr><td>2016-08-13</td><td>9321356</td></tr><tr><td>2016-08-14</td><td>16723329</td></tr><tr><td>&hellip;</td><td>&hellip;</td></tr><tr><td>2017-05-04</td><td>12720364</td></tr><tr><td>2017-05-05</td><td>10235043</td></tr><tr><td>2017-05-06</td><td>12310177</td></tr><tr><td>2017-05-07</td><td>16038362</td></tr><tr><td>2017-05-08</td><td>8997071</td></tr></tbody></table></div>"
      ],
      "text/plain": [
       "shape: (271, 2)\n",
       "┌────────────┬───────────┐\n",
       "│ date       ┆ daily_sum │\n",
       "│ ---        ┆ ---       │\n",
       "│ date       ┆ i64       │\n",
       "╞════════════╪═══════════╡\n",
       "│ 2016-08-10 ┆ 6785970   │\n",
       "│ 2016-08-11 ┆ 10097498  │\n",
       "│ 2016-08-12 ┆ 8450189   │\n",
       "│ 2016-08-13 ┆ 9321356   │\n",
       "│ 2016-08-14 ┆ 16723329  │\n",
       "│ …          ┆ …         │\n",
       "│ 2017-05-04 ┆ 12720364  │\n",
       "│ 2017-05-05 ┆ 10235043  │\n",
       "│ 2017-05-06 ┆ 12310177  │\n",
       "│ 2017-05-07 ┆ 16038362  │\n",
       "│ 2017-05-08 ┆ 8997071   │\n",
       "└────────────┴───────────┘"
      ]
     },
     "execution_count": 16,
     "metadata": {},
     "output_type": "execute_result"
    }
   ],
   "source": [
    "daily_data"
   ]
  },
  {
   "cell_type": "code",
   "execution_count": 18,
   "id": "718707ec",
   "metadata": {},
   "outputs": [],
   "source": [
    "df = pl.read_parquet(\"../../Data/Parquet/room_and_appliance_sensors/sensordata/home61_kitchen695_sensor1967_electric-appliance_kettle.parquet\")"
   ]
  },
  {
   "cell_type": "code",
   "execution_count": 20,
   "id": "7e0daaaa",
   "metadata": {},
   "outputs": [],
   "source": [
    "df_clean = fix_parquet_with_header_data(df)"
   ]
  },
  {
   "cell_type": "code",
   "execution_count": 22,
   "id": "4477eece",
   "metadata": {},
   "outputs": [],
   "source": [
    "daily_kettle = aggregate_data_daily(df_clean)"
   ]
  },
  {
   "cell_type": "code",
   "execution_count": null,
   "id": "6fc5fa97",
   "metadata": {},
   "outputs": [],
   "source": []
  }
 ],
 "metadata": {
  "kernelspec": {
   "display_name": ".venv",
   "language": "python",
   "name": "python3"
  },
  "language_info": {
   "codemirror_mode": {
    "name": "ipython",
    "version": 3
   },
   "file_extension": ".py",
   "mimetype": "text/x-python",
   "name": "python",
   "nbconvert_exporter": "python",
   "pygments_lexer": "ipython3",
   "version": "3.12.8"
  }
 },
 "nbformat": 4,
 "nbformat_minor": 5
}
