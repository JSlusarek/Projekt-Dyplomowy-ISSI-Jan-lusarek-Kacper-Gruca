{
 "cells": [
  {
   "cell_type": "code",
   "execution_count": 1,
   "id": "ef665eaf",
   "metadata": {},
   "outputs": [],
   "source": [
    "import pandas as pd\n",
    "import polars as pl\n",
    "import os\n",
    "from functions.fix_parquet_with_header_data import fix_parquet_with_header_data\n",
    "from functions.prepare_electric_filenames_from_household_sensors import prepare_electric_filenames_from_household_sensors\n",
    "from functions.aggregate_data_daily import aggregate_data_daily\n",
    "from functions.prepare_electric_filenames_from_appliance import prepare_electric_filenames_from_appliance\n",
    "from pathlib import Path"
   ]
  },
  {
   "cell_type": "markdown",
   "id": "572f5156",
   "metadata": {},
   "source": [
    "### Przygotowanie df-a z lokalizacjami plików do agregowania"
   ]
  },
  {
   "cell_type": "code",
   "execution_count": 2,
   "id": "c35b6d7e",
   "metadata": {},
   "outputs": [],
   "source": [
    "folder_path = \"../../Data/Parquet/household_sensors/sensordata\"\n",
    "household_sensors_data_to_process = prepare_electric_filenames_from_household_sensors(folder_path)"
   ]
  },
  {
   "cell_type": "code",
   "execution_count": 3,
   "id": "778958e9",
   "metadata": {},
   "outputs": [],
   "source": [
    "folder_path = \"../../Data/Parquet/room_and_appliance_sensors/sensordata\"\n",
    "appliance_data_to_process = prepare_electric_filenames_from_appliance(folder_path)"
   ]
  },
  {
   "cell_type": "code",
   "execution_count": 4,
   "id": "12a64546",
   "metadata": {},
   "outputs": [
    {
     "data": {
      "text/plain": [
       "254"
      ]
     },
     "execution_count": 4,
     "metadata": {},
     "output_type": "execute_result"
    }
   ],
   "source": [
    "len(household_sensors_data_to_process[\"home_id\"].unique())"
   ]
  },
  {
   "cell_type": "code",
   "execution_count": 5,
   "id": "5da1ddd3",
   "metadata": {},
   "outputs": [
    {
     "data": {
      "application/vnd.microsoft.datawrangler.viewer.v0+json": {
       "columns": [
        {
         "name": "index",
         "rawType": "int64",
         "type": "integer"
        },
        {
         "name": "home_id",
         "rawType": "int64",
         "type": "integer"
        },
        {
         "name": "electric",
         "rawType": "object",
         "type": "string"
        },
        {
         "name": "appliance_name",
         "rawType": "object",
         "type": "string"
        },
        {
         "name": "filename",
         "rawType": "object",
         "type": "string"
        }
       ],
       "ref": "12617402-014e-4c74-948d-4e01dc80e595",
       "rows": [
        [
         "0",
         "61",
         "electric-appliance",
         "kettle",
         "home61_kitchen695_sensor1967_electric-appliance_kettle.parquet"
        ],
        [
         "1",
         "61",
         "electric-appliance",
         "dishwasher",
         "home61_kitchen695_sensor1969_electric-appliance_dishwasher.parquet"
        ],
        [
         "2",
         "61",
         "electric-appliance",
         "microwave",
         "home61_kitchen695_sensor1971_electric-appliance_microwave.parquet"
        ],
        [
         "3",
         "62",
         "electric-appliance",
         "fridgefreezer",
         "home62_kitchen710_sensor1779_electric-appliance_fridgefreezer.parquet"
        ],
        [
         "4",
         "62",
         "electric-appliance",
         "kettle",
         "home62_kitchen710_sensor1780_electric-appliance_kettle.parquet"
        ],
        [
         "5",
         "62",
         "electric-appliance",
         "washingmachine",
         "home62_kitchen710_sensor1781_electric-appliance_washingmachine.parquet"
        ],
        [
         "6",
         "62",
         "electric-appliance",
         "dishwasher",
         "home62_kitchen710_sensor1782_electric-appliance_dishwasher.parquet"
        ],
        [
         "7",
         "62",
         "electric-appliance",
         "vacuumcleaner",
         "home62_kitchen710_sensor2400_electric-appliance_vacuumcleaner.parquet"
        ],
        [
         "8",
         "63",
         "electric-appliance",
         "washingmachinetumbledrier",
         "home63_kitchen720_sensor2268_electric-appliance_washingmachinetumbledrier.parquet"
        ],
        [
         "9",
         "63",
         "electric-appliance",
         "microwave",
         "home63_kitchen720_sensor2269_electric-appliance_microwave.parquet"
        ],
        [
         "10",
         "63",
         "electric-appliance",
         "dishwasher",
         "home63_kitchen720_sensor2270_electric-appliance_dishwasher.parquet"
        ],
        [
         "11",
         "63",
         "electric-appliance",
         "kettle",
         "home63_kitchen720_sensor3760_electric-appliance_kettle.parquet"
        ],
        [
         "12",
         "63",
         "electric-appliance",
         "vacuumcleaner",
         "home63_kitchen720_sensor3980_electric-appliance_vacuumcleaner.parquet"
        ],
        [
         "13",
         "65",
         "electric-appliance",
         "vacuumcleaner",
         "home65_bedroom736_sensor15880_electric-appliance_vacuumcleaner.parquet"
        ],
        [
         "14",
         "65",
         "electric-appliance",
         "vacuumcleaner",
         "home65_hall731_sensor8861_electric-appliance_vacuumcleaner.parquet"
        ],
        [
         "15",
         "65",
         "electric-appliance",
         "vacuumcleaner",
         "home65_hall735_sensor5306_electric-appliance_vacuumcleaner.parquet"
        ],
        [
         "16",
         "65",
         "electric-appliance",
         "kettle",
         "home65_kitchen733_sensor3109_electric-appliance_kettle.parquet"
        ],
        [
         "17",
         "65",
         "electric-appliance",
         "washingmachine",
         "home65_kitchen733_sensor3110_electric-appliance_washingmachine.parquet"
        ],
        [
         "18",
         "65",
         "electric-appliance",
         "dishwasher",
         "home65_kitchen733_sensor3111_electric-appliance_dishwasher.parquet"
        ],
        [
         "19",
         "73",
         "electric-appliance",
         "kettle",
         "home73_kitchenliving781_sensor4077_electric-appliance_kettle.parquet"
        ],
        [
         "20",
         "73",
         "electric-appliance",
         "washingmachine",
         "home73_kitchenliving781_sensor4078_electric-appliance_washingmachine.parquet"
        ],
        [
         "21",
         "73",
         "electric-appliance",
         "fridgefreezer",
         "home73_kitchenliving781_sensor4079_electric-appliance_fridgefreezer.parquet"
        ],
        [
         "22",
         "90",
         "electric-appliance",
         "kettle",
         "home90_kitchen957_sensor4858_electric-appliance_kettle.parquet"
        ],
        [
         "23",
         "90",
         "electric-appliance",
         "microwave",
         "home90_kitchen957_sensor4859_electric-appliance_microwave.parquet"
        ],
        [
         "24",
         "90",
         "electric-appliance",
         "fridgefreezer",
         "home90_kitchen957_sensor4860_electric-appliance_fridgefreezer.parquet"
        ],
        [
         "25",
         "96",
         "electric-appliance",
         "vacuumcleaner",
         "home96_hall998_sensor11255_electric-appliance_vacuumcleaner.parquet"
        ],
        [
         "26",
         "96",
         "electric-appliance",
         "washingmachine",
         "home96_kitchen999_sensor11254_electric-appliance_washingmachine.parquet"
        ],
        [
         "27",
         "96",
         "electric-appliance",
         "kettle",
         "home96_kitchen999_sensor9110_electric-appliance_kettle.parquet"
        ],
        [
         "28",
         "96",
         "electric-appliance",
         "microwave",
         "home96_kitchen999_sensor9111_electric-appliance_microwave.parquet"
        ],
        [
         "29",
         "96",
         "electric-appliance",
         "dishwasher",
         "home96_kitchen999_sensor9116_electric-appliance_dishwasher.parquet"
        ],
        [
         "30",
         "96",
         "electric-appliance",
         "fridgefreezer",
         "home96_kitchen999_sensor9608_electric-appliance_fridgefreezer.parquet"
        ],
        [
         "31",
         "105",
         "electric-appliance",
         "kettle",
         "home105_kitchen1110_sensor5283_electric-appliance_kettle.parquet"
        ],
        [
         "32",
         "105",
         "electric-appliance",
         "fridgefreezer",
         "home105_kitchen1110_sensor5284_electric-appliance_fridgefreezer.parquet"
        ],
        [
         "33",
         "105",
         "electric-appliance",
         "washingmachine",
         "home105_kitchen1110_sensor5285_electric-appliance_washingmachine.parquet"
        ],
        [
         "34",
         "105",
         "electric-appliance",
         "microwave",
         "home105_kitchen1110_sensor5286_electric-appliance_microwave.parquet"
        ],
        [
         "35",
         "105",
         "electric-appliance",
         "dishwasher",
         "home105_kitchen1110_sensor5287_electric-appliance_dishwasher.parquet"
        ],
        [
         "36",
         "105",
         "electric-appliance",
         "vacuumcleaner",
         "home105_kitchen1110_sensor7932_electric-appliance_vacuumcleaner.parquet"
        ],
        [
         "37",
         "106",
         "electric-appliance",
         "kettle",
         "home106_kitchen1085_sensor5210_electric-appliance_kettle.parquet"
        ],
        [
         "38",
         "106",
         "electric-appliance",
         "microwave",
         "home106_kitchen1085_sensor5211_electric-appliance_microwave.parquet"
        ],
        [
         "39",
         "106",
         "electric-appliance",
         "washingmachine",
         "home106_kitchen1085_sensor5212_electric-appliance_washingmachine.parquet"
        ],
        [
         "40",
         "106",
         "electric-appliance",
         "fridgefreezer",
         "home106_kitchen1085_sensor5213_electric-appliance_fridgefreezer.parquet"
        ],
        [
         "41",
         "128",
         "electric-appliance",
         "vacuumcleaner",
         "home128_hall1250_sensor10802_electric-appliance_vacuumcleaner.parquet"
        ],
        [
         "42",
         "128",
         "electric-appliance",
         "other",
         "home128_kitchen1253_sensor10803_electric-appliance_other.parquet"
        ],
        [
         "43",
         "128",
         "electric-appliance",
         "microwave",
         "home128_kitchen1253_sensor10805_electric-appliance_microwave.parquet"
        ],
        [
         "44",
         "128",
         "electric-appliance",
         "toaster",
         "home128_kitchen1253_sensor10924_electric-appliance_toaster.parquet"
        ],
        [
         "45",
         "128",
         "electric-appliance",
         "washingmachine",
         "home128_kitchen1253_sensor13307_electric-appliance_washingmachine.parquet"
        ],
        [
         "46",
         "128",
         "electric-appliance",
         "kettle",
         "home128_kitchen1253_sensor9251_electric-appliance_kettle.parquet"
        ],
        [
         "47",
         "128",
         "electric-appliance",
         "fridgefreezer",
         "home128_kitchen1253_sensor9252_electric-appliance_fridgefreezer.parquet"
        ],
        [
         "48",
         "136",
         "electric-appliance",
         "vacuumcleaner",
         "home136_hall1287_sensor9275_electric-appliance_vacuumcleaner.parquet"
        ],
        [
         "49",
         "136",
         "electric-appliance",
         "kettle",
         "home136_kitchen1294_sensor21311_electric-appliance_kettle.parquet"
        ]
       ],
       "shape": {
        "columns": 4,
        "rows": 219
       }
      },
      "text/html": [
       "<div>\n",
       "<style scoped>\n",
       "    .dataframe tbody tr th:only-of-type {\n",
       "        vertical-align: middle;\n",
       "    }\n",
       "\n",
       "    .dataframe tbody tr th {\n",
       "        vertical-align: top;\n",
       "    }\n",
       "\n",
       "    .dataframe thead th {\n",
       "        text-align: right;\n",
       "    }\n",
       "</style>\n",
       "<table border=\"1\" class=\"dataframe\">\n",
       "  <thead>\n",
       "    <tr style=\"text-align: right;\">\n",
       "      <th></th>\n",
       "      <th>home_id</th>\n",
       "      <th>electric</th>\n",
       "      <th>appliance_name</th>\n",
       "      <th>filename</th>\n",
       "    </tr>\n",
       "  </thead>\n",
       "  <tbody>\n",
       "    <tr>\n",
       "      <th>0</th>\n",
       "      <td>61</td>\n",
       "      <td>electric-appliance</td>\n",
       "      <td>kettle</td>\n",
       "      <td>home61_kitchen695_sensor1967_electric-applianc...</td>\n",
       "    </tr>\n",
       "    <tr>\n",
       "      <th>1</th>\n",
       "      <td>61</td>\n",
       "      <td>electric-appliance</td>\n",
       "      <td>dishwasher</td>\n",
       "      <td>home61_kitchen695_sensor1969_electric-applianc...</td>\n",
       "    </tr>\n",
       "    <tr>\n",
       "      <th>2</th>\n",
       "      <td>61</td>\n",
       "      <td>electric-appliance</td>\n",
       "      <td>microwave</td>\n",
       "      <td>home61_kitchen695_sensor1971_electric-applianc...</td>\n",
       "    </tr>\n",
       "    <tr>\n",
       "      <th>3</th>\n",
       "      <td>62</td>\n",
       "      <td>electric-appliance</td>\n",
       "      <td>fridgefreezer</td>\n",
       "      <td>home62_kitchen710_sensor1779_electric-applianc...</td>\n",
       "    </tr>\n",
       "    <tr>\n",
       "      <th>4</th>\n",
       "      <td>62</td>\n",
       "      <td>electric-appliance</td>\n",
       "      <td>kettle</td>\n",
       "      <td>home62_kitchen710_sensor1780_electric-applianc...</td>\n",
       "    </tr>\n",
       "    <tr>\n",
       "      <th>...</th>\n",
       "      <td>...</td>\n",
       "      <td>...</td>\n",
       "      <td>...</td>\n",
       "      <td>...</td>\n",
       "    </tr>\n",
       "    <tr>\n",
       "      <th>214</th>\n",
       "      <td>328</td>\n",
       "      <td>electric-appliance</td>\n",
       "      <td>vacuumcleaner</td>\n",
       "      <td>home328_hall2976_sensor31009_electric-applianc...</td>\n",
       "    </tr>\n",
       "    <tr>\n",
       "      <th>215</th>\n",
       "      <td>328</td>\n",
       "      <td>electric-appliance</td>\n",
       "      <td>kettle</td>\n",
       "      <td>home328_kitchen2980_sensor31003_electric-appli...</td>\n",
       "    </tr>\n",
       "    <tr>\n",
       "      <th>216</th>\n",
       "      <td>328</td>\n",
       "      <td>electric-appliance</td>\n",
       "      <td>toaster</td>\n",
       "      <td>home328_kitchen2980_sensor31004_electric-appli...</td>\n",
       "    </tr>\n",
       "    <tr>\n",
       "      <th>217</th>\n",
       "      <td>328</td>\n",
       "      <td>electric-appliance</td>\n",
       "      <td>fridgefreezer</td>\n",
       "      <td>home328_kitchen2980_sensor31005_electric-appli...</td>\n",
       "    </tr>\n",
       "    <tr>\n",
       "      <th>218</th>\n",
       "      <td>328</td>\n",
       "      <td>electric-appliance</td>\n",
       "      <td>microwave</td>\n",
       "      <td>home328_kitchen2980_sensor31014_electric-appli...</td>\n",
       "    </tr>\n",
       "  </tbody>\n",
       "</table>\n",
       "<p>219 rows × 4 columns</p>\n",
       "</div>"
      ],
      "text/plain": [
       "     home_id            electric appliance_name  \\\n",
       "0         61  electric-appliance         kettle   \n",
       "1         61  electric-appliance     dishwasher   \n",
       "2         61  electric-appliance      microwave   \n",
       "3         62  electric-appliance  fridgefreezer   \n",
       "4         62  electric-appliance         kettle   \n",
       "..       ...                 ...            ...   \n",
       "214      328  electric-appliance  vacuumcleaner   \n",
       "215      328  electric-appliance         kettle   \n",
       "216      328  electric-appliance        toaster   \n",
       "217      328  electric-appliance  fridgefreezer   \n",
       "218      328  electric-appliance      microwave   \n",
       "\n",
       "                                              filename  \n",
       "0    home61_kitchen695_sensor1967_electric-applianc...  \n",
       "1    home61_kitchen695_sensor1969_electric-applianc...  \n",
       "2    home61_kitchen695_sensor1971_electric-applianc...  \n",
       "3    home62_kitchen710_sensor1779_electric-applianc...  \n",
       "4    home62_kitchen710_sensor1780_electric-applianc...  \n",
       "..                                                 ...  \n",
       "214  home328_hall2976_sensor31009_electric-applianc...  \n",
       "215  home328_kitchen2980_sensor31003_electric-appli...  \n",
       "216  home328_kitchen2980_sensor31004_electric-appli...  \n",
       "217  home328_kitchen2980_sensor31005_electric-appli...  \n",
       "218  home328_kitchen2980_sensor31014_electric-appli...  \n",
       "\n",
       "[219 rows x 4 columns]"
      ]
     },
     "execution_count": 5,
     "metadata": {},
     "output_type": "execute_result"
    }
   ],
   "source": [
    "appliance_data_to_process"
   ]
  },
  {
   "cell_type": "code",
   "execution_count": 44,
   "id": "f6819984",
   "metadata": {},
   "outputs": [
    {
     "data": {
      "application/vnd.microsoft.datawrangler.viewer.v0+json": {
       "columns": [
        {
         "name": "index",
         "rawType": "int64",
         "type": "integer"
        },
        {
         "name": "home_id",
         "rawType": "int64",
         "type": "integer"
        },
        {
         "name": "electric",
         "rawType": "object",
         "type": "string"
        },
        {
         "name": "subcircuit",
         "rawType": "object",
         "type": "unknown"
        },
        {
         "name": "filename",
         "rawType": "object",
         "type": "string"
        }
       ],
       "ref": "65c2b183-0127-4ae9-b831-a8a074903491",
       "rows": [
        [
         "0",
         "47",
         "electric-mains_electric-combined",
         null,
         "home47_hall654_sensor1216c1220_electric-mains_electric-combined.parquet"
        ],
        [
         "1",
         "59",
         "electric-mains_electric-combined",
         null,
         "home59_hall687_sensor1506c1508_electric-mains_electric-combined.parquet"
        ],
        [
         "2",
         "61",
         "electric-mains_electric-combined",
         null,
         "home61_hall693_sensor1563c1569_electric-mains_electric-combined.parquet"
        ],
        [
         "3",
         "61",
         "electric-subcircuit",
         "mains",
         "home61_utility1109_sensor5071_electric-subcircuit_mains.parquet"
        ],
        [
         "4",
         "62",
         "electric-mains_electric-combined",
         null,
         "home62_hall705_sensor1662c1666_electric-mains_electric-combined.parquet"
        ],
        [
         "5",
         "62",
         "electric-subcircuit",
         "mains",
         "home62_utility711_sensor1786_electric-subcircuit_mains.parquet"
        ],
        [
         "6",
         "63",
         "electric-mains_electric-combined",
         null,
         "home63_hall722_sensor1862c1866_electric-mains_electric-combined.parquet"
        ],
        [
         "7",
         "63",
         "electric-subcircuit",
         "shower",
         "home63_utility1129_sensor2279_electric-subcircuit_shower.parquet"
        ],
        [
         "8",
         "64",
         "electric-mains_electric-combined",
         null,
         "home64_hall713_sensor1810c1814_electric-mains_electric-combined.parquet"
        ],
        [
         "9",
         "65",
         "electric-mains_electric-combined",
         null,
         "home65_hall731_sensor1910c1912_electric-mains_electric-combined.parquet"
        ],
        [
         "10",
         "65",
         "electric-subcircuit",
         "shower",
         "home65_utility1135_sensor3099_electric-subcircuit_shower.parquet"
        ],
        [
         "11",
         "65",
         "electric-subcircuit",
         "mains",
         "home65_utility1135_sensor3100_electric-subcircuit_mains.parquet"
        ],
        [
         "12",
         "65",
         "electric-subcircuit",
         "cooker",
         "home65_utility1135_sensor3126_electric-subcircuit_cooker.parquet"
        ],
        [
         "13",
         "66",
         "electric-mains_electric-combined",
         null,
         "home66_utility745_sensor2045c2049_electric-mains_electric-combined.parquet"
        ],
        [
         "14",
         "67",
         "electric-mains_electric-combined",
         null,
         "home67_hall767_sensor2242c2246_electric-mains_electric-combined.parquet"
        ],
        [
         "15",
         "68",
         "electric-mains_electric-combined",
         null,
         "home68_utility757_sensor2122c2126_electric-mains_electric-combined.parquet"
        ],
        [
         "16",
         "69",
         "electric-mains_electric-combined",
         null,
         "home69_hall788_sensor2410c2414_electric-mains_electric-combined.parquet"
        ],
        [
         "17",
         "70",
         "electric-mains_electric-combined",
         null,
         "home70_hall774_sensor2299c2303_electric-mains_electric-combined.parquet"
        ],
        [
         "18",
         "71",
         "electric-mains_electric-combined",
         null,
         "home71_hall824_sensor2713c2715_electric-mains_electric-combined.parquet"
        ],
        [
         "19",
         "72",
         "electric-mains_electric-combined",
         null,
         "home72_hall796_sensor2476c2480_electric-mains_electric-combined.parquet"
        ],
        [
         "20",
         "73",
         "electric-mains_electric-combined",
         null,
         "home73_hall782_sensor2364c2368_electric-mains_electric-combined.parquet"
        ],
        [
         "21",
         "73",
         "electric-subcircuit",
         "mains",
         "home73_utility996_sensor4076_electric-subcircuit_mains.parquet"
        ],
        [
         "22",
         "73",
         "electric-subcircuit",
         "shower",
         "home73_utility996_sensor4111_electric-subcircuit_shower.parquet"
        ],
        [
         "23",
         "74",
         "electric-mains_electric-combined",
         null,
         "home74_utility804_sensor2559c2563_electric-mains_electric-combined.parquet"
        ],
        [
         "24",
         "75",
         "electric-mains_electric-combined",
         null,
         "home75_hall813_sensor2634c2638_electric-mains_electric-combined.parquet"
        ],
        [
         "25",
         "76",
         "electric-mains_electric-combined",
         null,
         "home76_other852_sensor2887c2891_electric-mains_electric-combined.parquet"
        ],
        [
         "26",
         "77",
         "electric-mains_electric-combined",
         null,
         "home77_hall828_sensor2751c2755_electric-mains_electric-combined.parquet"
        ],
        [
         "27",
         "78",
         "electric-mains_electric-combined",
         null,
         "home78_hall864_sensor2978_electric-mains_electric-combined.parquet"
        ],
        [
         "28",
         "79",
         "electric-mains_electric-combined",
         null,
         "home79_outside836_sensor2803c2807_electric-mains_electric-combined.parquet"
        ],
        [
         "29",
         "80",
         "electric-mains_electric-combined",
         null,
         "home80_hall873_sensor3068c3079_electric-mains_electric-combined.parquet"
        ],
        [
         "30",
         "81",
         "electric-mains_electric-combined",
         null,
         "home81_utility879_sensor3158c3160_electric-mains_electric-combined.parquet"
        ],
        [
         "31",
         "82",
         "electric-mains_electric-combined",
         null,
         "home82_hall891_sensor3242c3246_electric-mains_electric-combined.parquet"
        ],
        [
         "32",
         "83",
         "electric-mains_electric-combined",
         null,
         "home83_hall899_sensor3311c3315_electric-mains_electric-combined.parquet"
        ],
        [
         "33",
         "84",
         "electric-mains_electric-combined",
         null,
         "home84_hall908_sensor3372c3377_electric-mains_electric-combined.parquet"
        ],
        [
         "34",
         "85",
         "electric-mains_electric-combined",
         null,
         "home85_hall920_sensor3429c3433_electric-mains_electric-combined.parquet"
        ],
        [
         "35",
         "86",
         "electric-mains_electric-combined",
         null,
         "home86_kitchen926_sensor3479c3481_electric-mains_electric-combined.parquet"
        ],
        [
         "36",
         "88",
         "electric-mains_electric-combined",
         null,
         "home88_hall938_sensor3610c3611_electric-mains_electric-combined.parquet"
        ],
        [
         "37",
         "89",
         "electric-mains_electric-combined",
         null,
         "home89_kitchen947_sensor3643c3647_electric-mains_electric-combined.parquet"
        ],
        [
         "38",
         "90",
         "electric-mains_electric-combined",
         null,
         "home90_outside956_sensor3719_electric-mains_electric-combined.parquet"
        ],
        [
         "39",
         "90",
         "electric-subcircuit",
         "shower",
         "home90_utility1084_sensor4863_electric-subcircuit_shower.parquet"
        ],
        [
         "40",
         "90",
         "electric-subcircuit",
         "cooker",
         "home90_utility1084_sensor4864_electric-subcircuit_cooker.parquet"
        ],
        [
         "41",
         "90",
         "electric-subcircuit",
         "mains",
         "home90_utility1084_sensor4865_electric-subcircuit_mains.parquet"
        ],
        [
         "42",
         "91",
         "electric-mains_electric-combined",
         null,
         "home91_hall963_sensor3770c3774_electric-mains_electric-combined.parquet"
        ],
        [
         "43",
         "92",
         "electric-mains_electric-combined",
         null,
         "home92_utility971_sensor3843c3847_electric-mains_electric-combined.parquet"
        ],
        [
         "44",
         "93",
         "electric-mains_electric-combined",
         null,
         "home93_hall983_sensor3914c3937_electric-mains_electric-combined.parquet"
        ],
        [
         "45",
         "94",
         "electric-mains_electric-combined",
         null,
         "home94_hall990_sensor3991c3995_electric-mains_electric-combined.parquet"
        ],
        [
         "46",
         "96",
         "electric-mains_electric-combined",
         null,
         "home96_livingroom997_sensor4121c4125_electric-mains_electric-combined.parquet"
        ],
        [
         "47",
         "96",
         "electric-subcircuit",
         "cooker",
         "home96_utility1608_sensor9067_electric-subcircuit_cooker.parquet"
        ],
        [
         "48",
         "96",
         "electric-subcircuit",
         "mains",
         "home96_utility1608_sensor9068_electric-subcircuit_mains.parquet"
        ],
        [
         "49",
         "97",
         "electric-mains_electric-combined",
         null,
         "home97_hall1010_sensor4238c4242_electric-mains_electric-combined.parquet"
        ]
       ],
       "shape": {
        "columns": 4,
        "rows": 334
       }
      },
      "text/html": [
       "<div>\n",
       "<style scoped>\n",
       "    .dataframe tbody tr th:only-of-type {\n",
       "        vertical-align: middle;\n",
       "    }\n",
       "\n",
       "    .dataframe tbody tr th {\n",
       "        vertical-align: top;\n",
       "    }\n",
       "\n",
       "    .dataframe thead th {\n",
       "        text-align: right;\n",
       "    }\n",
       "</style>\n",
       "<table border=\"1\" class=\"dataframe\">\n",
       "  <thead>\n",
       "    <tr style=\"text-align: right;\">\n",
       "      <th></th>\n",
       "      <th>home_id</th>\n",
       "      <th>electric</th>\n",
       "      <th>subcircuit</th>\n",
       "      <th>filename</th>\n",
       "    </tr>\n",
       "  </thead>\n",
       "  <tbody>\n",
       "    <tr>\n",
       "      <th>0</th>\n",
       "      <td>47</td>\n",
       "      <td>electric-mains_electric-combined</td>\n",
       "      <td>None</td>\n",
       "      <td>home47_hall654_sensor1216c1220_electric-mains_...</td>\n",
       "    </tr>\n",
       "    <tr>\n",
       "      <th>1</th>\n",
       "      <td>59</td>\n",
       "      <td>electric-mains_electric-combined</td>\n",
       "      <td>None</td>\n",
       "      <td>home59_hall687_sensor1506c1508_electric-mains_...</td>\n",
       "    </tr>\n",
       "    <tr>\n",
       "      <th>2</th>\n",
       "      <td>61</td>\n",
       "      <td>electric-mains_electric-combined</td>\n",
       "      <td>None</td>\n",
       "      <td>home61_hall693_sensor1563c1569_electric-mains_...</td>\n",
       "    </tr>\n",
       "    <tr>\n",
       "      <th>3</th>\n",
       "      <td>61</td>\n",
       "      <td>electric-subcircuit</td>\n",
       "      <td>mains</td>\n",
       "      <td>home61_utility1109_sensor5071_electric-subcirc...</td>\n",
       "    </tr>\n",
       "    <tr>\n",
       "      <th>4</th>\n",
       "      <td>62</td>\n",
       "      <td>electric-mains_electric-combined</td>\n",
       "      <td>None</td>\n",
       "      <td>home62_hall705_sensor1662c1666_electric-mains_...</td>\n",
       "    </tr>\n",
       "    <tr>\n",
       "      <th>...</th>\n",
       "      <td>...</td>\n",
       "      <td>...</td>\n",
       "      <td>...</td>\n",
       "      <td>...</td>\n",
       "    </tr>\n",
       "    <tr>\n",
       "      <th>329</th>\n",
       "      <td>331</td>\n",
       "      <td>electric-mains_electric-combined</td>\n",
       "      <td>None</td>\n",
       "      <td>home331_hall2999_sensor21563c21567_electric-ma...</td>\n",
       "    </tr>\n",
       "    <tr>\n",
       "      <th>330</th>\n",
       "      <td>332</td>\n",
       "      <td>electric-mains_electric-combined</td>\n",
       "      <td>None</td>\n",
       "      <td>home332_hall3027_sensor21901c21903_electric-ma...</td>\n",
       "    </tr>\n",
       "    <tr>\n",
       "      <th>331</th>\n",
       "      <td>333</td>\n",
       "      <td>electric-mains_electric-combined</td>\n",
       "      <td>None</td>\n",
       "      <td>home333_hall3015_sensor21748c21765_electric-ma...</td>\n",
       "    </tr>\n",
       "    <tr>\n",
       "      <th>332</th>\n",
       "      <td>334</td>\n",
       "      <td>electric-mains_electric-combined</td>\n",
       "      <td>None</td>\n",
       "      <td>home334_hall3013_sensor21787c21791_electric-ma...</td>\n",
       "    </tr>\n",
       "    <tr>\n",
       "      <th>333</th>\n",
       "      <td>335</td>\n",
       "      <td>electric-mains_electric-combined</td>\n",
       "      <td>None</td>\n",
       "      <td>home335_hall3034_sensor21969c21974_electric-ma...</td>\n",
       "    </tr>\n",
       "  </tbody>\n",
       "</table>\n",
       "<p>334 rows × 4 columns</p>\n",
       "</div>"
      ],
      "text/plain": [
       "     home_id                          electric subcircuit  \\\n",
       "0         47  electric-mains_electric-combined       None   \n",
       "1         59  electric-mains_electric-combined       None   \n",
       "2         61  electric-mains_electric-combined       None   \n",
       "3         61               electric-subcircuit      mains   \n",
       "4         62  electric-mains_electric-combined       None   \n",
       "..       ...                               ...        ...   \n",
       "329      331  electric-mains_electric-combined       None   \n",
       "330      332  electric-mains_electric-combined       None   \n",
       "331      333  electric-mains_electric-combined       None   \n",
       "332      334  electric-mains_electric-combined       None   \n",
       "333      335  electric-mains_electric-combined       None   \n",
       "\n",
       "                                              filename  \n",
       "0    home47_hall654_sensor1216c1220_electric-mains_...  \n",
       "1    home59_hall687_sensor1506c1508_electric-mains_...  \n",
       "2    home61_hall693_sensor1563c1569_electric-mains_...  \n",
       "3    home61_utility1109_sensor5071_electric-subcirc...  \n",
       "4    home62_hall705_sensor1662c1666_electric-mains_...  \n",
       "..                                                 ...  \n",
       "329  home331_hall2999_sensor21563c21567_electric-ma...  \n",
       "330  home332_hall3027_sensor21901c21903_electric-ma...  \n",
       "331  home333_hall3015_sensor21748c21765_electric-ma...  \n",
       "332  home334_hall3013_sensor21787c21791_electric-ma...  \n",
       "333  home335_hall3034_sensor21969c21974_electric-ma...  \n",
       "\n",
       "[334 rows x 4 columns]"
      ]
     },
     "execution_count": 44,
     "metadata": {},
     "output_type": "execute_result"
    }
   ],
   "source": [
    "household_sensors_data_to_process"
   ]
  },
  {
   "cell_type": "markdown",
   "id": "38b08221",
   "metadata": {},
   "source": [
    "### Poprawienie pierwszej kolumny i agregacja dancyh do dziennych - przykład"
   ]
  },
  {
   "cell_type": "code",
   "execution_count": null,
   "id": "718707ec",
   "metadata": {},
   "outputs": [],
   "source": [
    "df = pl.read_parquet(\"../../Data/Parquet/room_and_appliance_sensors/sensordata/home61_kitchen695_sensor1967_electric-appliance_kettle.parquet\")\n",
    "df_clean = fix_parquet_with_header_data(df)\n",
    "daily_kettle = aggregate_data_daily(df_clean)"
   ]
  },
  {
   "cell_type": "code",
   "execution_count": 15,
   "id": "78853a5e",
   "metadata": {},
   "outputs": [
    {
     "data": {
      "text/html": [
       "<div><style>\n",
       ".dataframe > thead > tr,\n",
       ".dataframe > tbody > tr {\n",
       "  text-align: right;\n",
       "  white-space: pre-wrap;\n",
       "}\n",
       "</style>\n",
       "<small>shape: (219, 12)</small><table border=\"1\" class=\"dataframe\"><thead><tr><th>homeid_1</th><th>num_males</th><th>num_females</th><th>num_residents</th><th>num_children</th><th>num_employed</th><th>num_with_higher_education</th><th>daily_standing_charge_pence</th><th>unit_charge_pence_per_kwh</th><th>n_rooms</th><th>smart_automation</th><th>hometype</th></tr><tr><td>i64</td><td>i64</td><td>i64</td><td>i64</td><td>i64</td><td>i64</td><td>i64</td><td>f64</td><td>f64</td><td>i64</td><td>str</td><td>str</td></tr></thead><tbody><tr><td>61</td><td>1</td><td>1</td><td>2</td><td>0</td><td>2</td><td>0</td><td>0.33</td><td>0.12</td><td>9</td><td>&quot;Don&#x27;t own&quot;</td><td>&quot;house_or_bungalow&quot;</td></tr><tr><td>61</td><td>1</td><td>1</td><td>2</td><td>0</td><td>2</td><td>0</td><td>0.33</td><td>0.12</td><td>9</td><td>&quot;Don&#x27;t own&quot;</td><td>&quot;house_or_bungalow&quot;</td></tr><tr><td>61</td><td>1</td><td>1</td><td>2</td><td>0</td><td>2</td><td>0</td><td>0.33</td><td>0.12</td><td>9</td><td>&quot;Don&#x27;t own&quot;</td><td>&quot;house_or_bungalow&quot;</td></tr><tr><td>62</td><td>1</td><td>1</td><td>2</td><td>0</td><td>2</td><td>2</td><td>36.0</td><td>16.16</td><td>7</td><td>&quot;Don&#x27;t own&quot;</td><td>&quot;flat&quot;</td></tr><tr><td>62</td><td>1</td><td>1</td><td>2</td><td>0</td><td>2</td><td>2</td><td>36.0</td><td>16.16</td><td>7</td><td>&quot;Don&#x27;t own&quot;</td><td>&quot;flat&quot;</td></tr><tr><td>&hellip;</td><td>&hellip;</td><td>&hellip;</td><td>&hellip;</td><td>&hellip;</td><td>&hellip;</td><td>&hellip;</td><td>&hellip;</td><td>&hellip;</td><td>&hellip;</td><td>&hellip;</td><td>&hellip;</td></tr><tr><td>328</td><td>0</td><td>1</td><td>1</td><td>0</td><td>0</td><td>1</td><td>null</td><td>null</td><td>6</td><td>&quot;Don&#x27;t own&quot;</td><td>&quot;flat&quot;</td></tr><tr><td>328</td><td>0</td><td>1</td><td>1</td><td>0</td><td>0</td><td>1</td><td>null</td><td>null</td><td>6</td><td>&quot;Don&#x27;t own&quot;</td><td>&quot;flat&quot;</td></tr><tr><td>328</td><td>0</td><td>1</td><td>1</td><td>0</td><td>0</td><td>1</td><td>null</td><td>null</td><td>6</td><td>&quot;Don&#x27;t own&quot;</td><td>&quot;flat&quot;</td></tr><tr><td>328</td><td>0</td><td>1</td><td>1</td><td>0</td><td>0</td><td>1</td><td>null</td><td>null</td><td>6</td><td>&quot;Don&#x27;t own&quot;</td><td>&quot;flat&quot;</td></tr><tr><td>328</td><td>0</td><td>1</td><td>1</td><td>0</td><td>0</td><td>1</td><td>null</td><td>null</td><td>6</td><td>&quot;Don&#x27;t own&quot;</td><td>&quot;flat&quot;</td></tr></tbody></table></div>"
      ],
      "text/plain": [
       "shape: (219, 12)\n",
       "┌──────────┬───────────┬────────────┬────────────┬───┬───────────┬─────────┬───────────┬───────────┐\n",
       "│ homeid_1 ┆ num_males ┆ num_female ┆ num_reside ┆ … ┆ unit_char ┆ n_rooms ┆ smart_aut ┆ hometype  │\n",
       "│ ---      ┆ ---       ┆ s          ┆ nts        ┆   ┆ ge_pence_ ┆ ---     ┆ omation   ┆ ---       │\n",
       "│ i64      ┆ i64       ┆ ---        ┆ ---        ┆   ┆ per_kwh   ┆ i64     ┆ ---       ┆ str       │\n",
       "│          ┆           ┆ i64        ┆ i64        ┆   ┆ ---       ┆         ┆ str       ┆           │\n",
       "│          ┆           ┆            ┆            ┆   ┆ f64       ┆         ┆           ┆           │\n",
       "╞══════════╪═══════════╪════════════╪════════════╪═══╪═══════════╪═════════╪═══════════╪═══════════╡\n",
       "│ 61       ┆ 1         ┆ 1          ┆ 2          ┆ … ┆ 0.12      ┆ 9       ┆ Don't own ┆ house_or_ │\n",
       "│          ┆           ┆            ┆            ┆   ┆           ┆         ┆           ┆ bungalow  │\n",
       "│ 61       ┆ 1         ┆ 1          ┆ 2          ┆ … ┆ 0.12      ┆ 9       ┆ Don't own ┆ house_or_ │\n",
       "│          ┆           ┆            ┆            ┆   ┆           ┆         ┆           ┆ bungalow  │\n",
       "│ 61       ┆ 1         ┆ 1          ┆ 2          ┆ … ┆ 0.12      ┆ 9       ┆ Don't own ┆ house_or_ │\n",
       "│          ┆           ┆            ┆            ┆   ┆           ┆         ┆           ┆ bungalow  │\n",
       "│ 62       ┆ 1         ┆ 1          ┆ 2          ┆ … ┆ 16.16     ┆ 7       ┆ Don't own ┆ flat      │\n",
       "│ 62       ┆ 1         ┆ 1          ┆ 2          ┆ … ┆ 16.16     ┆ 7       ┆ Don't own ┆ flat      │\n",
       "│ …        ┆ …         ┆ …          ┆ …          ┆ … ┆ …         ┆ …       ┆ …         ┆ …         │\n",
       "│ 328      ┆ 0         ┆ 1          ┆ 1          ┆ … ┆ null      ┆ 6       ┆ Don't own ┆ flat      │\n",
       "│ 328      ┆ 0         ┆ 1          ┆ 1          ┆ … ┆ null      ┆ 6       ┆ Don't own ┆ flat      │\n",
       "│ 328      ┆ 0         ┆ 1          ┆ 1          ┆ … ┆ null      ┆ 6       ┆ Don't own ┆ flat      │\n",
       "│ 328      ┆ 0         ┆ 1          ┆ 1          ┆ … ┆ null      ┆ 6       ┆ Don't own ┆ flat      │\n",
       "│ 328      ┆ 0         ┆ 1          ┆ 1          ┆ … ┆ null      ┆ 6       ┆ Don't own ┆ flat      │\n",
       "└──────────┴───────────┴────────────┴────────────┴───┴───────────┴─────────┴───────────┴───────────┘"
      ]
     },
     "execution_count": 15,
     "metadata": {},
     "output_type": "execute_result"
    }
   ],
   "source": [
    "# zaczytanie danych o domu\n",
    "df_home_id=pl.read_csv('../../Data/NAV/Features_HomeID.csv')\n",
    "df_home_id"
   ]
  },
  {
   "cell_type": "markdown",
   "id": "4055bd29",
   "metadata": {},
   "source": [
    "### appliance_data_to_process"
   ]
  },
  {
   "cell_type": "code",
   "execution_count": 16,
   "id": "effdfac7",
   "metadata": {},
   "outputs": [
    {
     "data": {
      "text/html": [
       "<div><style>\n",
       ".dataframe > thead > tr,\n",
       ".dataframe > tbody > tr {\n",
       "  text-align: right;\n",
       "  white-space: pre-wrap;\n",
       "}\n",
       "</style>\n",
       "<small>shape: (219, 4)</small><table border=\"1\" class=\"dataframe\"><thead><tr><th>home_id</th><th>electric</th><th>appliance_name</th><th>filename</th></tr><tr><td>i64</td><td>str</td><td>str</td><td>str</td></tr></thead><tbody><tr><td>61</td><td>&quot;electric-appliance&quot;</td><td>&quot;kettle&quot;</td><td>&quot;home61_kitchen695_sensor1967_e…</td></tr><tr><td>61</td><td>&quot;electric-appliance&quot;</td><td>&quot;dishwasher&quot;</td><td>&quot;home61_kitchen695_sensor1969_e…</td></tr><tr><td>61</td><td>&quot;electric-appliance&quot;</td><td>&quot;microwave&quot;</td><td>&quot;home61_kitchen695_sensor1971_e…</td></tr><tr><td>62</td><td>&quot;electric-appliance&quot;</td><td>&quot;fridgefreezer&quot;</td><td>&quot;home62_kitchen710_sensor1779_e…</td></tr><tr><td>62</td><td>&quot;electric-appliance&quot;</td><td>&quot;kettle&quot;</td><td>&quot;home62_kitchen710_sensor1780_e…</td></tr><tr><td>&hellip;</td><td>&hellip;</td><td>&hellip;</td><td>&hellip;</td></tr><tr><td>328</td><td>&quot;electric-appliance&quot;</td><td>&quot;vacuumcleaner&quot;</td><td>&quot;home328_hall2976_sensor31009_e…</td></tr><tr><td>328</td><td>&quot;electric-appliance&quot;</td><td>&quot;kettle&quot;</td><td>&quot;home328_kitchen2980_sensor3100…</td></tr><tr><td>328</td><td>&quot;electric-appliance&quot;</td><td>&quot;toaster&quot;</td><td>&quot;home328_kitchen2980_sensor3100…</td></tr><tr><td>328</td><td>&quot;electric-appliance&quot;</td><td>&quot;fridgefreezer&quot;</td><td>&quot;home328_kitchen2980_sensor3100…</td></tr><tr><td>328</td><td>&quot;electric-appliance&quot;</td><td>&quot;microwave&quot;</td><td>&quot;home328_kitchen2980_sensor3101…</td></tr></tbody></table></div>"
      ],
      "text/plain": [
       "shape: (219, 4)\n",
       "┌─────────┬────────────────────┬────────────────┬─────────────────────────────────┐\n",
       "│ home_id ┆ electric           ┆ appliance_name ┆ filename                        │\n",
       "│ ---     ┆ ---                ┆ ---            ┆ ---                             │\n",
       "│ i64     ┆ str                ┆ str            ┆ str                             │\n",
       "╞═════════╪════════════════════╪════════════════╪═════════════════════════════════╡\n",
       "│ 61      ┆ electric-appliance ┆ kettle         ┆ home61_kitchen695_sensor1967_e… │\n",
       "│ 61      ┆ electric-appliance ┆ dishwasher     ┆ home61_kitchen695_sensor1969_e… │\n",
       "│ 61      ┆ electric-appliance ┆ microwave      ┆ home61_kitchen695_sensor1971_e… │\n",
       "│ 62      ┆ electric-appliance ┆ fridgefreezer  ┆ home62_kitchen710_sensor1779_e… │\n",
       "│ 62      ┆ electric-appliance ┆ kettle         ┆ home62_kitchen710_sensor1780_e… │\n",
       "│ …       ┆ …                  ┆ …              ┆ …                               │\n",
       "│ 328     ┆ electric-appliance ┆ vacuumcleaner  ┆ home328_hall2976_sensor31009_e… │\n",
       "│ 328     ┆ electric-appliance ┆ kettle         ┆ home328_kitchen2980_sensor3100… │\n",
       "│ 328     ┆ electric-appliance ┆ toaster        ┆ home328_kitchen2980_sensor3100… │\n",
       "│ 328     ┆ electric-appliance ┆ fridgefreezer  ┆ home328_kitchen2980_sensor3100… │\n",
       "│ 328     ┆ electric-appliance ┆ microwave      ┆ home328_kitchen2980_sensor3101… │\n",
       "└─────────┴────────────────────┴────────────────┴─────────────────────────────────┘"
      ]
     },
     "execution_count": 16,
     "metadata": {},
     "output_type": "execute_result"
    }
   ],
   "source": [
    "# Zmiana appliance_data_to_process na DataFrame Polars\n",
    "appliance_data_to_process_pl = pl.DataFrame(appliance_data_to_process)\n",
    "appliance_data_to_process_pl"
   ]
  },
  {
   "cell_type": "code",
   "execution_count": 17,
   "id": "102096ec",
   "metadata": {},
   "outputs": [
    {
     "data": {
      "text/html": [
       "<div><style>\n",
       ".dataframe > thead > tr,\n",
       ".dataframe > tbody > tr {\n",
       "  text-align: right;\n",
       "  white-space: pre-wrap;\n",
       "}\n",
       "</style>\n",
       "<small>shape: (219, 15)</small><table border=\"1\" class=\"dataframe\"><thead><tr><th>home_id</th><th>electric</th><th>appliance_name</th><th>filename</th><th>num_males</th><th>num_females</th><th>num_residents</th><th>num_children</th><th>num_employed</th><th>num_with_higher_education</th><th>daily_standing_charge_pence</th><th>unit_charge_pence_per_kwh</th><th>n_rooms</th><th>smart_automation</th><th>hometype</th></tr><tr><td>i64</td><td>str</td><td>str</td><td>str</td><td>i64</td><td>i64</td><td>i64</td><td>i64</td><td>i64</td><td>i64</td><td>f64</td><td>f64</td><td>i64</td><td>str</td><td>str</td></tr></thead><tbody><tr><td>61</td><td>&quot;electric-appliance&quot;</td><td>&quot;kettle&quot;</td><td>&quot;home61_kitchen695_sensor1967_e…</td><td>1</td><td>1</td><td>2</td><td>0</td><td>2</td><td>0</td><td>0.33</td><td>0.12</td><td>9</td><td>&quot;Don&#x27;t own&quot;</td><td>&quot;house_or_bungalow&quot;</td></tr><tr><td>61</td><td>&quot;electric-appliance&quot;</td><td>&quot;dishwasher&quot;</td><td>&quot;home61_kitchen695_sensor1969_e…</td><td>1</td><td>1</td><td>2</td><td>0</td><td>2</td><td>0</td><td>0.33</td><td>0.12</td><td>9</td><td>&quot;Don&#x27;t own&quot;</td><td>&quot;house_or_bungalow&quot;</td></tr><tr><td>61</td><td>&quot;electric-appliance&quot;</td><td>&quot;microwave&quot;</td><td>&quot;home61_kitchen695_sensor1971_e…</td><td>1</td><td>1</td><td>2</td><td>0</td><td>2</td><td>0</td><td>0.33</td><td>0.12</td><td>9</td><td>&quot;Don&#x27;t own&quot;</td><td>&quot;house_or_bungalow&quot;</td></tr><tr><td>62</td><td>&quot;electric-appliance&quot;</td><td>&quot;fridgefreezer&quot;</td><td>&quot;home62_kitchen710_sensor1779_e…</td><td>1</td><td>1</td><td>2</td><td>0</td><td>2</td><td>2</td><td>36.0</td><td>16.16</td><td>7</td><td>&quot;Don&#x27;t own&quot;</td><td>&quot;flat&quot;</td></tr><tr><td>62</td><td>&quot;electric-appliance&quot;</td><td>&quot;kettle&quot;</td><td>&quot;home62_kitchen710_sensor1780_e…</td><td>1</td><td>1</td><td>2</td><td>0</td><td>2</td><td>2</td><td>36.0</td><td>16.16</td><td>7</td><td>&quot;Don&#x27;t own&quot;</td><td>&quot;flat&quot;</td></tr><tr><td>&hellip;</td><td>&hellip;</td><td>&hellip;</td><td>&hellip;</td><td>&hellip;</td><td>&hellip;</td><td>&hellip;</td><td>&hellip;</td><td>&hellip;</td><td>&hellip;</td><td>&hellip;</td><td>&hellip;</td><td>&hellip;</td><td>&hellip;</td><td>&hellip;</td></tr><tr><td>328</td><td>&quot;electric-appliance&quot;</td><td>&quot;vacuumcleaner&quot;</td><td>&quot;home328_hall2976_sensor31009_e…</td><td>0</td><td>1</td><td>1</td><td>0</td><td>0</td><td>1</td><td>null</td><td>null</td><td>6</td><td>&quot;Don&#x27;t own&quot;</td><td>&quot;flat&quot;</td></tr><tr><td>328</td><td>&quot;electric-appliance&quot;</td><td>&quot;kettle&quot;</td><td>&quot;home328_kitchen2980_sensor3100…</td><td>0</td><td>1</td><td>1</td><td>0</td><td>0</td><td>1</td><td>null</td><td>null</td><td>6</td><td>&quot;Don&#x27;t own&quot;</td><td>&quot;flat&quot;</td></tr><tr><td>328</td><td>&quot;electric-appliance&quot;</td><td>&quot;toaster&quot;</td><td>&quot;home328_kitchen2980_sensor3100…</td><td>0</td><td>1</td><td>1</td><td>0</td><td>0</td><td>1</td><td>null</td><td>null</td><td>6</td><td>&quot;Don&#x27;t own&quot;</td><td>&quot;flat&quot;</td></tr><tr><td>328</td><td>&quot;electric-appliance&quot;</td><td>&quot;fridgefreezer&quot;</td><td>&quot;home328_kitchen2980_sensor3100…</td><td>0</td><td>1</td><td>1</td><td>0</td><td>0</td><td>1</td><td>null</td><td>null</td><td>6</td><td>&quot;Don&#x27;t own&quot;</td><td>&quot;flat&quot;</td></tr><tr><td>328</td><td>&quot;electric-appliance&quot;</td><td>&quot;microwave&quot;</td><td>&quot;home328_kitchen2980_sensor3101…</td><td>0</td><td>1</td><td>1</td><td>0</td><td>0</td><td>1</td><td>null</td><td>null</td><td>6</td><td>&quot;Don&#x27;t own&quot;</td><td>&quot;flat&quot;</td></tr></tbody></table></div>"
      ],
      "text/plain": [
       "shape: (219, 15)\n",
       "┌─────────┬────────────┬────────────┬────────────┬───┬───────────┬─────────┬───────────┬───────────┐\n",
       "│ home_id ┆ electric   ┆ appliance_ ┆ filename   ┆ … ┆ unit_char ┆ n_rooms ┆ smart_aut ┆ hometype  │\n",
       "│ ---     ┆ ---        ┆ name       ┆ ---        ┆   ┆ ge_pence_ ┆ ---     ┆ omation   ┆ ---       │\n",
       "│ i64     ┆ str        ┆ ---        ┆ str        ┆   ┆ per_kwh   ┆ i64     ┆ ---       ┆ str       │\n",
       "│         ┆            ┆ str        ┆            ┆   ┆ ---       ┆         ┆ str       ┆           │\n",
       "│         ┆            ┆            ┆            ┆   ┆ f64       ┆         ┆           ┆           │\n",
       "╞═════════╪════════════╪════════════╪════════════╪═══╪═══════════╪═════════╪═══════════╪═══════════╡\n",
       "│ 61      ┆ electric-a ┆ kettle     ┆ home61_kit ┆ … ┆ 0.12      ┆ 9       ┆ Don't own ┆ house_or_ │\n",
       "│         ┆ ppliance   ┆            ┆ chen695_se ┆   ┆           ┆         ┆           ┆ bungalow  │\n",
       "│         ┆            ┆            ┆ nsor1967_e ┆   ┆           ┆         ┆           ┆           │\n",
       "│         ┆            ┆            ┆ …          ┆   ┆           ┆         ┆           ┆           │\n",
       "│ 61      ┆ electric-a ┆ dishwasher ┆ home61_kit ┆ … ┆ 0.12      ┆ 9       ┆ Don't own ┆ house_or_ │\n",
       "│         ┆ ppliance   ┆            ┆ chen695_se ┆   ┆           ┆         ┆           ┆ bungalow  │\n",
       "│         ┆            ┆            ┆ nsor1969_e ┆   ┆           ┆         ┆           ┆           │\n",
       "│         ┆            ┆            ┆ …          ┆   ┆           ┆         ┆           ┆           │\n",
       "│ 61      ┆ electric-a ┆ microwave  ┆ home61_kit ┆ … ┆ 0.12      ┆ 9       ┆ Don't own ┆ house_or_ │\n",
       "│         ┆ ppliance   ┆            ┆ chen695_se ┆   ┆           ┆         ┆           ┆ bungalow  │\n",
       "│         ┆            ┆            ┆ nsor1971_e ┆   ┆           ┆         ┆           ┆           │\n",
       "│         ┆            ┆            ┆ …          ┆   ┆           ┆         ┆           ┆           │\n",
       "│ 62      ┆ electric-a ┆ fridgefree ┆ home62_kit ┆ … ┆ 16.16     ┆ 7       ┆ Don't own ┆ flat      │\n",
       "│         ┆ ppliance   ┆ zer        ┆ chen710_se ┆   ┆           ┆         ┆           ┆           │\n",
       "│         ┆            ┆            ┆ nsor1779_e ┆   ┆           ┆         ┆           ┆           │\n",
       "│         ┆            ┆            ┆ …          ┆   ┆           ┆         ┆           ┆           │\n",
       "│ 62      ┆ electric-a ┆ kettle     ┆ home62_kit ┆ … ┆ 16.16     ┆ 7       ┆ Don't own ┆ flat      │\n",
       "│         ┆ ppliance   ┆            ┆ chen710_se ┆   ┆           ┆         ┆           ┆           │\n",
       "│         ┆            ┆            ┆ nsor1780_e ┆   ┆           ┆         ┆           ┆           │\n",
       "│         ┆            ┆            ┆ …          ┆   ┆           ┆         ┆           ┆           │\n",
       "│ …       ┆ …          ┆ …          ┆ …          ┆ … ┆ …         ┆ …       ┆ …         ┆ …         │\n",
       "│ 328     ┆ electric-a ┆ vacuumclea ┆ home328_ha ┆ … ┆ null      ┆ 6       ┆ Don't own ┆ flat      │\n",
       "│         ┆ ppliance   ┆ ner        ┆ ll2976_sen ┆   ┆           ┆         ┆           ┆           │\n",
       "│         ┆            ┆            ┆ sor31009_e ┆   ┆           ┆         ┆           ┆           │\n",
       "│         ┆            ┆            ┆ …          ┆   ┆           ┆         ┆           ┆           │\n",
       "│ 328     ┆ electric-a ┆ kettle     ┆ home328_ki ┆ … ┆ null      ┆ 6       ┆ Don't own ┆ flat      │\n",
       "│         ┆ ppliance   ┆            ┆ tchen2980_ ┆   ┆           ┆         ┆           ┆           │\n",
       "│         ┆            ┆            ┆ sensor3100 ┆   ┆           ┆         ┆           ┆           │\n",
       "│         ┆            ┆            ┆ …          ┆   ┆           ┆         ┆           ┆           │\n",
       "│ 328     ┆ electric-a ┆ toaster    ┆ home328_ki ┆ … ┆ null      ┆ 6       ┆ Don't own ┆ flat      │\n",
       "│         ┆ ppliance   ┆            ┆ tchen2980_ ┆   ┆           ┆         ┆           ┆           │\n",
       "│         ┆            ┆            ┆ sensor3100 ┆   ┆           ┆         ┆           ┆           │\n",
       "│         ┆            ┆            ┆ …          ┆   ┆           ┆         ┆           ┆           │\n",
       "│ 328     ┆ electric-a ┆ fridgefree ┆ home328_ki ┆ … ┆ null      ┆ 6       ┆ Don't own ┆ flat      │\n",
       "│         ┆ ppliance   ┆ zer        ┆ tchen2980_ ┆   ┆           ┆         ┆           ┆           │\n",
       "│         ┆            ┆            ┆ sensor3100 ┆   ┆           ┆         ┆           ┆           │\n",
       "│         ┆            ┆            ┆ …          ┆   ┆           ┆         ┆           ┆           │\n",
       "│ 328     ┆ electric-a ┆ microwave  ┆ home328_ki ┆ … ┆ null      ┆ 6       ┆ Don't own ┆ flat      │\n",
       "│         ┆ ppliance   ┆            ┆ tchen2980_ ┆   ┆           ┆         ┆           ┆           │\n",
       "│         ┆            ┆            ┆ sensor3101 ┆   ┆           ┆         ┆           ┆           │\n",
       "│         ┆            ┆            ┆ …          ┆   ┆           ┆         ┆           ┆           │\n",
       "└─────────┴────────────┴────────────┴────────────┴───┴───────────┴─────────┴───────────┴───────────┘"
      ]
     },
     "execution_count": 17,
     "metadata": {},
     "output_type": "execute_result"
    }
   ],
   "source": [
    "df_joined = appliance_data_to_process_pl.join(\n",
    "    df_home_id.unique(subset=[\"homeid_1\"]),\n",
    "    left_on='home_id',\n",
    "    right_on='homeid_1',\n",
    "    how='left'\n",
    ")\n",
    "df_joined"
   ]
  },
  {
   "cell_type": "code",
   "execution_count": null,
   "id": "bd9d90b4",
   "metadata": {},
   "outputs": [
    {
     "name": "stdout",
     "output_type": "stream",
     "text": [
      "POMINIĘTO pusty plik: ../../Data/Parquet/room_and_appliance_sensors/sensordata/home139_hall1313_sensor14580_electric-appliance_vacuumcleaner.parquet\n",
      "POMINIĘTO pusty plik: ../../Data/Parquet/room_and_appliance_sensors/sensordata/home328_hall2976_sensor31009_electric-appliance_vacuumcleaner.parquet\n"
     ]
    }
   ],
   "source": [
    "df_all = []\n",
    "\n",
    "# Iterujemy po unikalnych wierszach z potrzebnymi informacjami\n",
    "for row in df_joined.iter_rows(named=True):\n",
    "    home_id = row[\"home_id\"]\n",
    "    filename = row[\"filename\"]\n",
    "    device = row[\"appliance_name\"]\n",
    "\n",
    "    path_file = Path(f\"../../Data/Parquet/room_and_appliance_sensors/sensordata/{filename}\")\n",
    "    # print(path_file)\n",
    "\n",
    "    try:\n",
    "        df = pl.read_parquet(path_file)\n",
    "    \n",
    "        if df.is_empty():\n",
    "            print(f\"POMINIĘTO pusty plik: {path_file}\")\n",
    "            continue\n",
    "\n",
    "        df_clean = fix_parquet_with_header_data(df)\n",
    "        daily_data = aggregate_data_daily(df_clean)\n",
    "\n",
    "        df_tmp = daily_data.with_columns([\n",
    "            pl.lit(home_id).alias(\"home_id\"),\n",
    "            pl.lit(device).alias(\"device\")\n",
    "        ])\n",
    "\n",
    "        df_all.append(df_tmp)\n",
    "\n",
    "    except Exception as e:        \n",
    "        print(f\"Błąd przy pliku {path_file}: {e}\")\n",
    "        continue\n",
    "\n",
    "# Łączenie wszystkich przetworzonych ramek\n",
    "df_all = pl.concat(df_all)"
   ]
  },
  {
   "cell_type": "code",
   "execution_count": 34,
   "id": "f0d82510",
   "metadata": {},
   "outputs": [
    {
     "data": {
      "text/html": [
       "<div><style>\n",
       ".dataframe > thead > tr,\n",
       ".dataframe > tbody > tr {\n",
       "  text-align: right;\n",
       "  white-space: pre-wrap;\n",
       "}\n",
       "</style>\n",
       "<small>shape: (30_275, 4)</small><table border=\"1\" class=\"dataframe\"><thead><tr><th>date</th><th>daily_sum</th><th>home_id</th><th>device</th></tr><tr><td>date</td><td>i64</td><td>i32</td><td>str</td></tr></thead><tbody><tr><td>2016-11-17</td><td>11763</td><td>61</td><td>&quot;kettle&quot;</td></tr><tr><td>2016-11-18</td><td>14256</td><td>61</td><td>&quot;kettle&quot;</td></tr><tr><td>2016-11-19</td><td>22827</td><td>61</td><td>&quot;kettle&quot;</td></tr><tr><td>2016-11-20</td><td>25511</td><td>61</td><td>&quot;kettle&quot;</td></tr><tr><td>2016-11-21</td><td>19826</td><td>61</td><td>&quot;kettle&quot;</td></tr><tr><td>&hellip;</td><td>&hellip;</td><td>&hellip;</td><td>&hellip;</td></tr><tr><td>2018-05-26</td><td>3776</td><td>328</td><td>&quot;microwave&quot;</td></tr><tr><td>2018-05-27</td><td>0</td><td>328</td><td>&quot;microwave&quot;</td></tr><tr><td>2018-05-28</td><td>2662</td><td>328</td><td>&quot;microwave&quot;</td></tr><tr><td>2018-05-29</td><td>2392</td><td>328</td><td>&quot;microwave&quot;</td></tr><tr><td>2018-05-30</td><td>0</td><td>328</td><td>&quot;microwave&quot;</td></tr></tbody></table></div>"
      ],
      "text/plain": [
       "shape: (30_275, 4)\n",
       "┌────────────┬───────────┬─────────┬───────────┐\n",
       "│ date       ┆ daily_sum ┆ home_id ┆ device    │\n",
       "│ ---        ┆ ---       ┆ ---     ┆ ---       │\n",
       "│ date       ┆ i64       ┆ i32     ┆ str       │\n",
       "╞════════════╪═══════════╪═════════╪═══════════╡\n",
       "│ 2016-11-17 ┆ 11763     ┆ 61      ┆ kettle    │\n",
       "│ 2016-11-18 ┆ 14256     ┆ 61      ┆ kettle    │\n",
       "│ 2016-11-19 ┆ 22827     ┆ 61      ┆ kettle    │\n",
       "│ 2016-11-20 ┆ 25511     ┆ 61      ┆ kettle    │\n",
       "│ 2016-11-21 ┆ 19826     ┆ 61      ┆ kettle    │\n",
       "│ …          ┆ …         ┆ …       ┆ …         │\n",
       "│ 2018-05-26 ┆ 3776      ┆ 328     ┆ microwave │\n",
       "│ 2018-05-27 ┆ 0         ┆ 328     ┆ microwave │\n",
       "│ 2018-05-28 ┆ 2662      ┆ 328     ┆ microwave │\n",
       "│ 2018-05-29 ┆ 2392      ┆ 328     ┆ microwave │\n",
       "│ 2018-05-30 ┆ 0         ┆ 328     ┆ microwave │\n",
       "└────────────┴───────────┴─────────┴───────────┘"
      ]
     },
     "execution_count": 34,
     "metadata": {},
     "output_type": "execute_result"
    }
   ],
   "source": [
    "df_all"
   ]
  },
  {
   "cell_type": "code",
   "execution_count": null,
   "id": "e9320197",
   "metadata": {},
   "outputs": [
    {
     "data": {
      "text/html": [
       "<div><style>\n",
       ".dataframe > thead > tr,\n",
       ".dataframe > tbody > tr {\n",
       "  text-align: right;\n",
       "  white-space: pre-wrap;\n",
       "}\n",
       "</style>\n",
       "<small>shape: (5, 2)</small><table border=\"1\" class=\"dataframe\"><thead><tr><th>date</th><th>daily_sum</th></tr><tr><td>date</td><td>i64</td></tr></thead><tbody><tr><td>2018-05-26</td><td>3776</td></tr><tr><td>2018-05-27</td><td>0</td></tr><tr><td>2018-05-28</td><td>2662</td></tr><tr><td>2018-05-29</td><td>2392</td></tr><tr><td>2018-05-30</td><td>0</td></tr></tbody></table></div>"
      ],
      "text/plain": [
       "shape: (5, 2)\n",
       "┌────────────┬───────────┐\n",
       "│ date       ┆ daily_sum │\n",
       "│ ---        ┆ ---       │\n",
       "│ date       ┆ i64       │\n",
       "╞════════════╪═══════════╡\n",
       "│ 2018-05-26 ┆ 3776      │\n",
       "│ 2018-05-27 ┆ 0         │\n",
       "│ 2018-05-28 ┆ 2662      │\n",
       "│ 2018-05-29 ┆ 2392      │\n",
       "│ 2018-05-30 ┆ 0         │\n",
       "└────────────┴───────────┘"
      ]
     },
     "execution_count": 85,
     "metadata": {},
     "output_type": "execute_result"
    }
   ],
   "source": [
    "# df_joined.filter(pl.col('home_id') == 328)['filename'][-1]\n",
    "# path_file = Path(f\"../../Data/Parquet/room_and_appliance_sensors/sensordata/{df_joined.filter(pl.col('home_id') == 328)['filename'][-1]}\")\n",
    "# path_file\n",
    "# clean_microwave = fix_parquet_with_header_data(pl.read_parquet(path_file))\n",
    "# daily_microwave = aggregate_data_daily(clean_microwave)\n",
    "# daily_microwave"
   ]
  },
  {
   "cell_type": "markdown",
   "id": "31faeb29",
   "metadata": {},
   "source": [
    "### Dojoinowanie danych o elekryczności z appliance do danych o domu"
   ]
  },
  {
   "cell_type": "code",
   "execution_count": 43,
   "id": "60f50d3c",
   "metadata": {},
   "outputs": [
    {
     "data": {
      "text/html": [
       "<div><style>\n",
       ".dataframe > thead > tr,\n",
       ".dataframe > tbody > tr {\n",
       "  text-align: right;\n",
       "  white-space: pre-wrap;\n",
       "}\n",
       "</style>\n",
       "<small>shape: (30_275, 4)</small><table border=\"1\" class=\"dataframe\"><thead><tr><th>date</th><th>daily_sum</th><th>home_id</th><th>device</th></tr><tr><td>date</td><td>i64</td><td>i32</td><td>str</td></tr></thead><tbody><tr><td>2016-11-17</td><td>11763</td><td>61</td><td>&quot;kettle&quot;</td></tr><tr><td>2016-11-18</td><td>14256</td><td>61</td><td>&quot;kettle&quot;</td></tr><tr><td>2016-11-19</td><td>22827</td><td>61</td><td>&quot;kettle&quot;</td></tr><tr><td>2016-11-20</td><td>25511</td><td>61</td><td>&quot;kettle&quot;</td></tr><tr><td>2016-11-21</td><td>19826</td><td>61</td><td>&quot;kettle&quot;</td></tr><tr><td>&hellip;</td><td>&hellip;</td><td>&hellip;</td><td>&hellip;</td></tr><tr><td>2018-05-26</td><td>3776</td><td>328</td><td>&quot;microwave&quot;</td></tr><tr><td>2018-05-27</td><td>0</td><td>328</td><td>&quot;microwave&quot;</td></tr><tr><td>2018-05-28</td><td>2662</td><td>328</td><td>&quot;microwave&quot;</td></tr><tr><td>2018-05-29</td><td>2392</td><td>328</td><td>&quot;microwave&quot;</td></tr><tr><td>2018-05-30</td><td>0</td><td>328</td><td>&quot;microwave&quot;</td></tr></tbody></table></div>"
      ],
      "text/plain": [
       "shape: (30_275, 4)\n",
       "┌────────────┬───────────┬─────────┬───────────┐\n",
       "│ date       ┆ daily_sum ┆ home_id ┆ device    │\n",
       "│ ---        ┆ ---       ┆ ---     ┆ ---       │\n",
       "│ date       ┆ i64       ┆ i32     ┆ str       │\n",
       "╞════════════╪═══════════╪═════════╪═══════════╡\n",
       "│ 2016-11-17 ┆ 11763     ┆ 61      ┆ kettle    │\n",
       "│ 2016-11-18 ┆ 14256     ┆ 61      ┆ kettle    │\n",
       "│ 2016-11-19 ┆ 22827     ┆ 61      ┆ kettle    │\n",
       "│ 2016-11-20 ┆ 25511     ┆ 61      ┆ kettle    │\n",
       "│ 2016-11-21 ┆ 19826     ┆ 61      ┆ kettle    │\n",
       "│ …          ┆ …         ┆ …       ┆ …         │\n",
       "│ 2018-05-26 ┆ 3776      ┆ 328     ┆ microwave │\n",
       "│ 2018-05-27 ┆ 0         ┆ 328     ┆ microwave │\n",
       "│ 2018-05-28 ┆ 2662      ┆ 328     ┆ microwave │\n",
       "│ 2018-05-29 ┆ 2392      ┆ 328     ┆ microwave │\n",
       "│ 2018-05-30 ┆ 0         ┆ 328     ┆ microwave │\n",
       "└────────────┴───────────┴─────────┴───────────┘"
      ]
     },
     "execution_count": 43,
     "metadata": {},
     "output_type": "execute_result"
    }
   ],
   "source": [
    "df_all"
   ]
  },
  {
   "cell_type": "code",
   "execution_count": null,
   "id": "904f15d1",
   "metadata": {},
   "outputs": [],
   "source": [
    "df_all = df_all.with_columns([\n",
    "    pl.col(\"device\").str.strip_chars().str.to_lowercase()\n",
    "])\n",
    "\n",
    "df_joined = df_joined.with_columns([\n",
    "    pl.col(\"appliance_name\").str.strip_chars().str.to_lowercase()\n",
    "])\n",
    "\n",
    "df_panel_long = df_all.join(\n",
    "    df_joined,\n",
    "    left_on=[\"home_id\", \"device\"],\n",
    "    right_on=[\"home_id\", \"appliance_name\"],\n",
    "    how=\"left\"\n",
    ")"
   ]
  },
  {
   "cell_type": "code",
   "execution_count": 36,
   "id": "2c9784d7",
   "metadata": {},
   "outputs": [
    {
     "data": {
      "text/html": [
       "<div><style>\n",
       ".dataframe > thead > tr,\n",
       ".dataframe > tbody > tr {\n",
       "  text-align: right;\n",
       "  white-space: pre-wrap;\n",
       "}\n",
       "</style>\n",
       "<small>shape: (31_502, 17)</small><table border=\"1\" class=\"dataframe\"><thead><tr><th>date</th><th>daily_sum</th><th>home_id</th><th>device</th><th>electric</th><th>filename</th><th>num_males</th><th>num_females</th><th>num_residents</th><th>num_children</th><th>num_employed</th><th>num_with_higher_education</th><th>daily_standing_charge_pence</th><th>unit_charge_pence_per_kwh</th><th>n_rooms</th><th>smart_automation</th><th>hometype</th></tr><tr><td>date</td><td>i64</td><td>i32</td><td>str</td><td>str</td><td>str</td><td>i64</td><td>i64</td><td>i64</td><td>i64</td><td>i64</td><td>i64</td><td>f64</td><td>f64</td><td>i64</td><td>str</td><td>str</td></tr></thead><tbody><tr><td>2016-11-17</td><td>11763</td><td>61</td><td>&quot;kettle&quot;</td><td>&quot;electric-appliance&quot;</td><td>&quot;home61_kitchen695_sensor1967_e…</td><td>1</td><td>1</td><td>2</td><td>0</td><td>2</td><td>0</td><td>0.33</td><td>0.12</td><td>9</td><td>&quot;Don&#x27;t own&quot;</td><td>&quot;house_or_bungalow&quot;</td></tr><tr><td>2016-11-18</td><td>14256</td><td>61</td><td>&quot;kettle&quot;</td><td>&quot;electric-appliance&quot;</td><td>&quot;home61_kitchen695_sensor1967_e…</td><td>1</td><td>1</td><td>2</td><td>0</td><td>2</td><td>0</td><td>0.33</td><td>0.12</td><td>9</td><td>&quot;Don&#x27;t own&quot;</td><td>&quot;house_or_bungalow&quot;</td></tr><tr><td>2016-11-19</td><td>22827</td><td>61</td><td>&quot;kettle&quot;</td><td>&quot;electric-appliance&quot;</td><td>&quot;home61_kitchen695_sensor1967_e…</td><td>1</td><td>1</td><td>2</td><td>0</td><td>2</td><td>0</td><td>0.33</td><td>0.12</td><td>9</td><td>&quot;Don&#x27;t own&quot;</td><td>&quot;house_or_bungalow&quot;</td></tr><tr><td>2016-11-20</td><td>25511</td><td>61</td><td>&quot;kettle&quot;</td><td>&quot;electric-appliance&quot;</td><td>&quot;home61_kitchen695_sensor1967_e…</td><td>1</td><td>1</td><td>2</td><td>0</td><td>2</td><td>0</td><td>0.33</td><td>0.12</td><td>9</td><td>&quot;Don&#x27;t own&quot;</td><td>&quot;house_or_bungalow&quot;</td></tr><tr><td>2016-11-21</td><td>19826</td><td>61</td><td>&quot;kettle&quot;</td><td>&quot;electric-appliance&quot;</td><td>&quot;home61_kitchen695_sensor1967_e…</td><td>1</td><td>1</td><td>2</td><td>0</td><td>2</td><td>0</td><td>0.33</td><td>0.12</td><td>9</td><td>&quot;Don&#x27;t own&quot;</td><td>&quot;house_or_bungalow&quot;</td></tr><tr><td>&hellip;</td><td>&hellip;</td><td>&hellip;</td><td>&hellip;</td><td>&hellip;</td><td>&hellip;</td><td>&hellip;</td><td>&hellip;</td><td>&hellip;</td><td>&hellip;</td><td>&hellip;</td><td>&hellip;</td><td>&hellip;</td><td>&hellip;</td><td>&hellip;</td><td>&hellip;</td><td>&hellip;</td></tr><tr><td>2018-05-26</td><td>3776</td><td>328</td><td>&quot;microwave&quot;</td><td>&quot;electric-appliance&quot;</td><td>&quot;home328_kitchen2980_sensor3101…</td><td>0</td><td>1</td><td>1</td><td>0</td><td>0</td><td>1</td><td>null</td><td>null</td><td>6</td><td>&quot;Don&#x27;t own&quot;</td><td>&quot;flat&quot;</td></tr><tr><td>2018-05-27</td><td>0</td><td>328</td><td>&quot;microwave&quot;</td><td>&quot;electric-appliance&quot;</td><td>&quot;home328_kitchen2980_sensor3101…</td><td>0</td><td>1</td><td>1</td><td>0</td><td>0</td><td>1</td><td>null</td><td>null</td><td>6</td><td>&quot;Don&#x27;t own&quot;</td><td>&quot;flat&quot;</td></tr><tr><td>2018-05-28</td><td>2662</td><td>328</td><td>&quot;microwave&quot;</td><td>&quot;electric-appliance&quot;</td><td>&quot;home328_kitchen2980_sensor3101…</td><td>0</td><td>1</td><td>1</td><td>0</td><td>0</td><td>1</td><td>null</td><td>null</td><td>6</td><td>&quot;Don&#x27;t own&quot;</td><td>&quot;flat&quot;</td></tr><tr><td>2018-05-29</td><td>2392</td><td>328</td><td>&quot;microwave&quot;</td><td>&quot;electric-appliance&quot;</td><td>&quot;home328_kitchen2980_sensor3101…</td><td>0</td><td>1</td><td>1</td><td>0</td><td>0</td><td>1</td><td>null</td><td>null</td><td>6</td><td>&quot;Don&#x27;t own&quot;</td><td>&quot;flat&quot;</td></tr><tr><td>2018-05-30</td><td>0</td><td>328</td><td>&quot;microwave&quot;</td><td>&quot;electric-appliance&quot;</td><td>&quot;home328_kitchen2980_sensor3101…</td><td>0</td><td>1</td><td>1</td><td>0</td><td>0</td><td>1</td><td>null</td><td>null</td><td>6</td><td>&quot;Don&#x27;t own&quot;</td><td>&quot;flat&quot;</td></tr></tbody></table></div>"
      ],
      "text/plain": [
       "shape: (31_502, 17)\n",
       "┌────────────┬───────────┬─────────┬───────────┬───┬────────────┬─────────┬────────────┬───────────┐\n",
       "│ date       ┆ daily_sum ┆ home_id ┆ device    ┆ … ┆ unit_charg ┆ n_rooms ┆ smart_auto ┆ hometype  │\n",
       "│ ---        ┆ ---       ┆ ---     ┆ ---       ┆   ┆ e_pence_pe ┆ ---     ┆ mation     ┆ ---       │\n",
       "│ date       ┆ i64       ┆ i32     ┆ str       ┆   ┆ r_kwh      ┆ i64     ┆ ---        ┆ str       │\n",
       "│            ┆           ┆         ┆           ┆   ┆ ---        ┆         ┆ str        ┆           │\n",
       "│            ┆           ┆         ┆           ┆   ┆ f64        ┆         ┆            ┆           │\n",
       "╞════════════╪═══════════╪═════════╪═══════════╪═══╪════════════╪═════════╪════════════╪═══════════╡\n",
       "│ 2016-11-17 ┆ 11763     ┆ 61      ┆ kettle    ┆ … ┆ 0.12       ┆ 9       ┆ Don't own  ┆ house_or_ │\n",
       "│            ┆           ┆         ┆           ┆   ┆            ┆         ┆            ┆ bungalow  │\n",
       "│ 2016-11-18 ┆ 14256     ┆ 61      ┆ kettle    ┆ … ┆ 0.12       ┆ 9       ┆ Don't own  ┆ house_or_ │\n",
       "│            ┆           ┆         ┆           ┆   ┆            ┆         ┆            ┆ bungalow  │\n",
       "│ 2016-11-19 ┆ 22827     ┆ 61      ┆ kettle    ┆ … ┆ 0.12       ┆ 9       ┆ Don't own  ┆ house_or_ │\n",
       "│            ┆           ┆         ┆           ┆   ┆            ┆         ┆            ┆ bungalow  │\n",
       "│ 2016-11-20 ┆ 25511     ┆ 61      ┆ kettle    ┆ … ┆ 0.12       ┆ 9       ┆ Don't own  ┆ house_or_ │\n",
       "│            ┆           ┆         ┆           ┆   ┆            ┆         ┆            ┆ bungalow  │\n",
       "│ 2016-11-21 ┆ 19826     ┆ 61      ┆ kettle    ┆ … ┆ 0.12       ┆ 9       ┆ Don't own  ┆ house_or_ │\n",
       "│            ┆           ┆         ┆           ┆   ┆            ┆         ┆            ┆ bungalow  │\n",
       "│ …          ┆ …         ┆ …       ┆ …         ┆ … ┆ …          ┆ …       ┆ …          ┆ …         │\n",
       "│ 2018-05-26 ┆ 3776      ┆ 328     ┆ microwave ┆ … ┆ null       ┆ 6       ┆ Don't own  ┆ flat      │\n",
       "│ 2018-05-27 ┆ 0         ┆ 328     ┆ microwave ┆ … ┆ null       ┆ 6       ┆ Don't own  ┆ flat      │\n",
       "│ 2018-05-28 ┆ 2662      ┆ 328     ┆ microwave ┆ … ┆ null       ┆ 6       ┆ Don't own  ┆ flat      │\n",
       "│ 2018-05-29 ┆ 2392      ┆ 328     ┆ microwave ┆ … ┆ null       ┆ 6       ┆ Don't own  ┆ flat      │\n",
       "│ 2018-05-30 ┆ 0         ┆ 328     ┆ microwave ┆ … ┆ null       ┆ 6       ┆ Don't own  ┆ flat      │\n",
       "└────────────┴───────────┴─────────┴───────────┴───┴────────────┴─────────┴────────────┴───────────┘"
      ]
     },
     "execution_count": 36,
     "metadata": {},
     "output_type": "execute_result"
    }
   ],
   "source": [
    "df_panel_long"
   ]
  },
  {
   "cell_type": "code",
   "execution_count": 39,
   "id": "29fcb93f",
   "metadata": {},
   "outputs": [],
   "source": [
    "df_panel_long.write_parquet(\"../../Data/ML_DF/data_frame_panel_long.parquet\")"
   ]
  },
  {
   "cell_type": "code",
   "execution_count": 40,
   "id": "0339c483",
   "metadata": {},
   "outputs": [
    {
     "name": "stderr",
     "output_type": "stream",
     "text": [
      "/var/folders/rh/w6cl6rd95vj2g4s03scz_4fc0000gn/T/ipykernel_68391/2203284142.py:1: DeprecationWarning: the argument `columns` for `DataFrame.pivot` is deprecated. It was renamed to `on` in version 1.0.0.\n",
      "  pivot_df = df_panel_long.pivot(\n"
     ]
    }
   ],
   "source": [
    "pivot_df = df_panel_long.pivot(\n",
    "    values=\"daily_sum\",\n",
    "    index=[\"date\",'home_id'],\n",
    "    columns=\"device\",\n",
    "    aggregate_function='first'  # or \"sum\" if you expect multiple entries per date/device\n",
    ")"
   ]
  },
  {
   "cell_type": "code",
   "execution_count": 121,
   "id": "5700eec9",
   "metadata": {},
   "outputs": [
    {
     "data": {
      "text/html": [
       "<div><style>\n",
       ".dataframe > thead > tr,\n",
       ".dataframe > tbody > tr {\n",
       "  text-align: right;\n",
       "  white-space: pre-wrap;\n",
       "}\n",
       "</style>\n",
       "<small>shape: (42_865, 30)</small><table border=\"1\" class=\"dataframe\"><thead><tr><th>homeid_1</th><th>num_males</th><th>num_females</th><th>num_residents</th><th>num_children</th><th>num_employed</th><th>num_with_higher_education</th><th>daily_standing_charge_pence</th><th>unit_charge_pence_per_kwh</th><th>n_rooms</th><th>smart_automation</th><th>hometype</th><th>date</th><th>kettle</th><th>dishwasher</th><th>microwave</th><th>fridgefreezer</th><th>washingmachine</th><th>vacuumcleaner</th><th>washingmachinetumbledrier</th><th>other</th><th>toaster</th><th>freezer</th><th>fridge</th><th>dehumidifier</th><th>electricheater</th><th>tumbledrier</th><th>grill</th><th>appliance</th><th>electricoven</th></tr><tr><td>i64</td><td>i64</td><td>i64</td><td>i64</td><td>i64</td><td>i64</td><td>i64</td><td>f64</td><td>f64</td><td>i64</td><td>str</td><td>str</td><td>date</td><td>i64</td><td>i64</td><td>i64</td><td>i64</td><td>i64</td><td>i64</td><td>i64</td><td>i64</td><td>i64</td><td>i64</td><td>i64</td><td>i64</td><td>i64</td><td>i64</td><td>i64</td><td>i64</td><td>i64</td></tr></thead><tbody><tr><td>61</td><td>1</td><td>1</td><td>2</td><td>0</td><td>2</td><td>0</td><td>0.33</td><td>0.12</td><td>9</td><td>&quot;Don&#x27;t own&quot;</td><td>&quot;house_or_bungalow&quot;</td><td>2016-11-17</td><td>11763</td><td>2969</td><td>342</td><td>null</td><td>null</td><td>null</td><td>null</td><td>null</td><td>null</td><td>null</td><td>null</td><td>null</td><td>null</td><td>null</td><td>null</td><td>null</td><td>null</td></tr><tr><td>61</td><td>1</td><td>1</td><td>2</td><td>0</td><td>2</td><td>0</td><td>0.33</td><td>0.12</td><td>9</td><td>&quot;Don&#x27;t own&quot;</td><td>&quot;house_or_bungalow&quot;</td><td>2016-11-18</td><td>14256</td><td>14482</td><td>9147</td><td>null</td><td>null</td><td>null</td><td>null</td><td>null</td><td>null</td><td>null</td><td>null</td><td>null</td><td>null</td><td>null</td><td>null</td><td>null</td><td>null</td></tr><tr><td>61</td><td>1</td><td>1</td><td>2</td><td>0</td><td>2</td><td>0</td><td>0.33</td><td>0.12</td><td>9</td><td>&quot;Don&#x27;t own&quot;</td><td>&quot;house_or_bungalow&quot;</td><td>2016-11-19</td><td>22827</td><td>7705</td><td>4858</td><td>null</td><td>null</td><td>null</td><td>null</td><td>null</td><td>null</td><td>null</td><td>null</td><td>null</td><td>null</td><td>null</td><td>null</td><td>null</td><td>null</td></tr><tr><td>61</td><td>1</td><td>1</td><td>2</td><td>0</td><td>2</td><td>0</td><td>0.33</td><td>0.12</td><td>9</td><td>&quot;Don&#x27;t own&quot;</td><td>&quot;house_or_bungalow&quot;</td><td>2016-11-20</td><td>25511</td><td>20033</td><td>3333</td><td>null</td><td>null</td><td>null</td><td>null</td><td>null</td><td>null</td><td>null</td><td>null</td><td>null</td><td>null</td><td>null</td><td>null</td><td>null</td><td>null</td></tr><tr><td>61</td><td>1</td><td>1</td><td>2</td><td>0</td><td>2</td><td>0</td><td>0.33</td><td>0.12</td><td>9</td><td>&quot;Don&#x27;t own&quot;</td><td>&quot;house_or_bungalow&quot;</td><td>2016-11-21</td><td>19826</td><td>133</td><td>4</td><td>null</td><td>null</td><td>null</td><td>null</td><td>null</td><td>null</td><td>null</td><td>null</td><td>null</td><td>null</td><td>null</td><td>null</td><td>null</td><td>null</td></tr><tr><td>&hellip;</td><td>&hellip;</td><td>&hellip;</td><td>&hellip;</td><td>&hellip;</td><td>&hellip;</td><td>&hellip;</td><td>&hellip;</td><td>&hellip;</td><td>&hellip;</td><td>&hellip;</td><td>&hellip;</td><td>&hellip;</td><td>&hellip;</td><td>&hellip;</td><td>&hellip;</td><td>&hellip;</td><td>&hellip;</td><td>&hellip;</td><td>&hellip;</td><td>&hellip;</td><td>&hellip;</td><td>&hellip;</td><td>&hellip;</td><td>&hellip;</td><td>&hellip;</td><td>&hellip;</td><td>&hellip;</td><td>&hellip;</td><td>&hellip;</td></tr><tr><td>328</td><td>0</td><td>1</td><td>1</td><td>0</td><td>0</td><td>1</td><td>null</td><td>null</td><td>6</td><td>&quot;Don&#x27;t own&quot;</td><td>&quot;flat&quot;</td><td>2018-05-26</td><td>8791</td><td>null</td><td>3776</td><td>20097</td><td>null</td><td>null</td><td>null</td><td>null</td><td>0</td><td>null</td><td>null</td><td>null</td><td>null</td><td>null</td><td>null</td><td>null</td><td>null</td></tr><tr><td>328</td><td>0</td><td>1</td><td>1</td><td>0</td><td>0</td><td>1</td><td>null</td><td>null</td><td>6</td><td>&quot;Don&#x27;t own&quot;</td><td>&quot;flat&quot;</td><td>2018-05-27</td><td>12940</td><td>null</td><td>0</td><td>16200</td><td>null</td><td>null</td><td>null</td><td>null</td><td>0</td><td>null</td><td>null</td><td>null</td><td>null</td><td>null</td><td>null</td><td>null</td><td>null</td></tr><tr><td>328</td><td>0</td><td>1</td><td>1</td><td>0</td><td>0</td><td>1</td><td>null</td><td>null</td><td>6</td><td>&quot;Don&#x27;t own&quot;</td><td>&quot;flat&quot;</td><td>2018-05-28</td><td>2934</td><td>null</td><td>2662</td><td>18679</td><td>null</td><td>null</td><td>null</td><td>null</td><td>0</td><td>null</td><td>null</td><td>null</td><td>null</td><td>null</td><td>null</td><td>null</td><td>null</td></tr><tr><td>328</td><td>0</td><td>1</td><td>1</td><td>0</td><td>0</td><td>1</td><td>null</td><td>null</td><td>6</td><td>&quot;Don&#x27;t own&quot;</td><td>&quot;flat&quot;</td><td>2018-05-29</td><td>9924</td><td>null</td><td>2392</td><td>18349</td><td>null</td><td>null</td><td>null</td><td>null</td><td>0</td><td>null</td><td>null</td><td>null</td><td>null</td><td>null</td><td>null</td><td>null</td><td>null</td></tr><tr><td>328</td><td>0</td><td>1</td><td>1</td><td>0</td><td>0</td><td>1</td><td>null</td><td>null</td><td>6</td><td>&quot;Don&#x27;t own&quot;</td><td>&quot;flat&quot;</td><td>2018-05-30</td><td>3856</td><td>null</td><td>0</td><td>19497</td><td>null</td><td>null</td><td>null</td><td>null</td><td>0</td><td>null</td><td>null</td><td>null</td><td>null</td><td>null</td><td>null</td><td>null</td><td>null</td></tr></tbody></table></div>"
      ],
      "text/plain": [
       "shape: (42_865, 30)\n",
       "┌──────────┬───────────┬────────────┬────────────┬───┬────────────┬───────┬───────────┬────────────┐\n",
       "│ homeid_1 ┆ num_males ┆ num_female ┆ num_reside ┆ … ┆ tumbledrie ┆ grill ┆ appliance ┆ electricov │\n",
       "│ ---      ┆ ---       ┆ s          ┆ nts        ┆   ┆ r          ┆ ---   ┆ ---       ┆ en         │\n",
       "│ i64      ┆ i64       ┆ ---        ┆ ---        ┆   ┆ ---        ┆ i64   ┆ i64       ┆ ---        │\n",
       "│          ┆           ┆ i64        ┆ i64        ┆   ┆ i64        ┆       ┆           ┆ i64        │\n",
       "╞══════════╪═══════════╪════════════╪════════════╪═══╪════════════╪═══════╪═══════════╪════════════╡\n",
       "│ 61       ┆ 1         ┆ 1          ┆ 2          ┆ … ┆ null       ┆ null  ┆ null      ┆ null       │\n",
       "│ 61       ┆ 1         ┆ 1          ┆ 2          ┆ … ┆ null       ┆ null  ┆ null      ┆ null       │\n",
       "│ 61       ┆ 1         ┆ 1          ┆ 2          ┆ … ┆ null       ┆ null  ┆ null      ┆ null       │\n",
       "│ 61       ┆ 1         ┆ 1          ┆ 2          ┆ … ┆ null       ┆ null  ┆ null      ┆ null       │\n",
       "│ 61       ┆ 1         ┆ 1          ┆ 2          ┆ … ┆ null       ┆ null  ┆ null      ┆ null       │\n",
       "│ …        ┆ …         ┆ …          ┆ …          ┆ … ┆ …          ┆ …     ┆ …         ┆ …          │\n",
       "│ 328      ┆ 0         ┆ 1          ┆ 1          ┆ … ┆ null       ┆ null  ┆ null      ┆ null       │\n",
       "│ 328      ┆ 0         ┆ 1          ┆ 1          ┆ … ┆ null       ┆ null  ┆ null      ┆ null       │\n",
       "│ 328      ┆ 0         ┆ 1          ┆ 1          ┆ … ┆ null       ┆ null  ┆ null      ┆ null       │\n",
       "│ 328      ┆ 0         ┆ 1          ┆ 1          ┆ … ┆ null       ┆ null  ┆ null      ┆ null       │\n",
       "│ 328      ┆ 0         ┆ 1          ┆ 1          ┆ … ┆ null       ┆ null  ┆ null      ┆ null       │\n",
       "└──────────┴───────────┴────────────┴────────────┴───┴────────────┴───────┴───────────┴────────────┘"
      ]
     },
     "execution_count": 121,
     "metadata": {},
     "output_type": "execute_result"
    }
   ],
   "source": [
    "df_home_id.join(\n",
    "    pivot_df,\n",
    "    left_on='homeid_1',\n",
    "    right_on='home_id',\n",
    "    how='left')"
   ]
  },
  {
   "cell_type": "markdown",
   "id": "59655d5a",
   "metadata": {},
   "source": [
    "### household_sensors_data_to_process"
   ]
  },
  {
   "cell_type": "code",
   "execution_count": 45,
   "id": "237fe11e",
   "metadata": {},
   "outputs": [
    {
     "data": {
      "text/html": [
       "<div><style>\n",
       ".dataframe > thead > tr,\n",
       ".dataframe > tbody > tr {\n",
       "  text-align: right;\n",
       "  white-space: pre-wrap;\n",
       "}\n",
       "</style>\n",
       "<small>shape: (334, 4)</small><table border=\"1\" class=\"dataframe\"><thead><tr><th>home_id</th><th>electric</th><th>subcircuit</th><th>filename</th></tr><tr><td>i64</td><td>str</td><td>str</td><td>str</td></tr></thead><tbody><tr><td>47</td><td>&quot;electric-mains_electric-combin…</td><td>null</td><td>&quot;home47_hall654_sensor1216c1220…</td></tr><tr><td>59</td><td>&quot;electric-mains_electric-combin…</td><td>null</td><td>&quot;home59_hall687_sensor1506c1508…</td></tr><tr><td>61</td><td>&quot;electric-mains_electric-combin…</td><td>null</td><td>&quot;home61_hall693_sensor1563c1569…</td></tr><tr><td>61</td><td>&quot;electric-subcircuit&quot;</td><td>&quot;mains&quot;</td><td>&quot;home61_utility1109_sensor5071_…</td></tr><tr><td>62</td><td>&quot;electric-mains_electric-combin…</td><td>null</td><td>&quot;home62_hall705_sensor1662c1666…</td></tr><tr><td>&hellip;</td><td>&hellip;</td><td>&hellip;</td><td>&hellip;</td></tr><tr><td>331</td><td>&quot;electric-mains_electric-combin…</td><td>null</td><td>&quot;home331_hall2999_sensor21563c2…</td></tr><tr><td>332</td><td>&quot;electric-mains_electric-combin…</td><td>null</td><td>&quot;home332_hall3027_sensor21901c2…</td></tr><tr><td>333</td><td>&quot;electric-mains_electric-combin…</td><td>null</td><td>&quot;home333_hall3015_sensor21748c2…</td></tr><tr><td>334</td><td>&quot;electric-mains_electric-combin…</td><td>null</td><td>&quot;home334_hall3013_sensor21787c2…</td></tr><tr><td>335</td><td>&quot;electric-mains_electric-combin…</td><td>null</td><td>&quot;home335_hall3034_sensor21969c2…</td></tr></tbody></table></div>"
      ],
      "text/plain": [
       "shape: (334, 4)\n",
       "┌─────────┬─────────────────────────────────┬────────────┬─────────────────────────────────┐\n",
       "│ home_id ┆ electric                        ┆ subcircuit ┆ filename                        │\n",
       "│ ---     ┆ ---                             ┆ ---        ┆ ---                             │\n",
       "│ i64     ┆ str                             ┆ str        ┆ str                             │\n",
       "╞═════════╪═════════════════════════════════╪════════════╪═════════════════════════════════╡\n",
       "│ 47      ┆ electric-mains_electric-combin… ┆ null       ┆ home47_hall654_sensor1216c1220… │\n",
       "│ 59      ┆ electric-mains_electric-combin… ┆ null       ┆ home59_hall687_sensor1506c1508… │\n",
       "│ 61      ┆ electric-mains_electric-combin… ┆ null       ┆ home61_hall693_sensor1563c1569… │\n",
       "│ 61      ┆ electric-subcircuit             ┆ mains      ┆ home61_utility1109_sensor5071_… │\n",
       "│ 62      ┆ electric-mains_electric-combin… ┆ null       ┆ home62_hall705_sensor1662c1666… │\n",
       "│ …       ┆ …                               ┆ …          ┆ …                               │\n",
       "│ 331     ┆ electric-mains_electric-combin… ┆ null       ┆ home331_hall2999_sensor21563c2… │\n",
       "│ 332     ┆ electric-mains_electric-combin… ┆ null       ┆ home332_hall3027_sensor21901c2… │\n",
       "│ 333     ┆ electric-mains_electric-combin… ┆ null       ┆ home333_hall3015_sensor21748c2… │\n",
       "│ 334     ┆ electric-mains_electric-combin… ┆ null       ┆ home334_hall3013_sensor21787c2… │\n",
       "│ 335     ┆ electric-mains_electric-combin… ┆ null       ┆ home335_hall3034_sensor21969c2… │\n",
       "└─────────┴─────────────────────────────────┴────────────┴─────────────────────────────────┘"
      ]
     },
     "execution_count": 45,
     "metadata": {},
     "output_type": "execute_result"
    }
   ],
   "source": [
    "# Zmiana appliance_data_to_process na DataFrame Polars\n",
    "household_sensors_data_to_process = pl.DataFrame(household_sensors_data_to_process)\n",
    "household_sensors_data_to_process"
   ]
  },
  {
   "cell_type": "code",
   "execution_count": 50,
   "id": "ed49c4ad",
   "metadata": {},
   "outputs": [
    {
     "ename": "SchemaError",
     "evalue": "type String is incompatible with expected type Null",
     "output_type": "error",
     "traceback": [
      "\u001b[31m---------------------------------------------------------------------------\u001b[39m",
      "\u001b[31mSchemaError\u001b[39m                               Traceback (most recent call last)",
      "\u001b[36mCell\u001b[39m\u001b[36m \u001b[39m\u001b[32mIn[50]\u001b[39m\u001b[32m, line 34\u001b[39m\n\u001b[32m     31\u001b[39m         \u001b[38;5;28;01mcontinue\u001b[39;00m\n\u001b[32m     33\u001b[39m \u001b[38;5;66;03m# Łączenie wszystkich przetworzonych ramek\u001b[39;00m\n\u001b[32m---> \u001b[39m\u001b[32m34\u001b[39m df_all_sensors = \u001b[43mpl\u001b[49m\u001b[43m.\u001b[49m\u001b[43mconcat\u001b[49m\u001b[43m(\u001b[49m\u001b[43mdf_all_sensors\u001b[49m\u001b[43m)\u001b[49m\n",
      "\u001b[36mFile \u001b[39m\u001b[32m/Volumes/T7/Projekty/Projekt-Dyplomowy-ISSI-Jan-lusarek-Kacper-Gruca/.venv/lib/python3.12/site-packages/polars/functions/eager.py:231\u001b[39m, in \u001b[36mconcat\u001b[39m\u001b[34m(items, how, rechunk, parallel)\u001b[39m\n\u001b[32m    229\u001b[39m \u001b[38;5;28;01mif\u001b[39;00m \u001b[38;5;28misinstance\u001b[39m(first, pl.DataFrame):\n\u001b[32m    230\u001b[39m     \u001b[38;5;28;01mif\u001b[39;00m how == \u001b[33m\"\u001b[39m\u001b[33mvertical\u001b[39m\u001b[33m\"\u001b[39m:\n\u001b[32m--> \u001b[39m\u001b[32m231\u001b[39m         out = wrap_df(\u001b[43mplr\u001b[49m\u001b[43m.\u001b[49m\u001b[43mconcat_df\u001b[49m\u001b[43m(\u001b[49m\u001b[43melems\u001b[49m\u001b[43m)\u001b[49m)\n\u001b[32m    232\u001b[39m     \u001b[38;5;28;01melif\u001b[39;00m how == \u001b[33m\"\u001b[39m\u001b[33mvertical_relaxed\u001b[39m\u001b[33m\"\u001b[39m:\n\u001b[32m    233\u001b[39m         out = wrap_ldf(\n\u001b[32m    234\u001b[39m             plr.concat_lf(\n\u001b[32m    235\u001b[39m                 [df.lazy() \u001b[38;5;28;01mfor\u001b[39;00m df \u001b[38;5;129;01min\u001b[39;00m elems],\n\u001b[32m   (...)\u001b[39m\u001b[32m    239\u001b[39m             )\n\u001b[32m    240\u001b[39m         ).collect(optimizations=QueryOptFlags._eager())\n",
      "\u001b[31mSchemaError\u001b[39m: type String is incompatible with expected type Null"
     ]
    }
   ],
   "source": [
    "df_all_sensors = []\n",
    "\n",
    "# Iterujemy po unikalnych wierszach z potrzebnymi informacjami\n",
    "for row in household_sensors_data_to_process.iter_rows(named=True):\n",
    "    home_id = row[\"home_id\"]\n",
    "    filename = row[\"filename\"]\n",
    "    subcircuit = row[\"subcircuit\"]\n",
    "\n",
    "    path_file = Path(f\"../../Data/Parquet/household_sensors/sensordata/{filename}\")\n",
    "    # print(path_file)\n",
    "\n",
    "    try:\n",
    "        df = pl.read_parquet(path_file)\n",
    "    \n",
    "        if df.is_empty():\n",
    "            print(f\"POMINIĘTO pusty plik: {path_file}\")\n",
    "            continue\n",
    "\n",
    "        df_clean = fix_parquet_with_header_data(df)\n",
    "        daily_data = aggregate_data_daily(df_clean)\n",
    "\n",
    "        df_tmp = daily_data.with_columns([\n",
    "            pl.lit(home_id).alias(\"home_id\"),\n",
    "            pl.lit(subcircuit).alias(\"subcircuit\")\n",
    "        ])\n",
    "\n",
    "        df_all_sensors.append(df_tmp)\n",
    "\n",
    "    except Exception as e:      \n",
    "        print(f\"Błąd przy pliku {path_file}: {e}\")\n",
    "        continue\n",
    "\n",
    "# Łączenie wszystkich przetworzonych ramek\n",
    "df_all_sensors = pl.concat(df_all_sensors)"
   ]
  },
  {
   "cell_type": "code",
   "execution_count": null,
   "id": "2907f969",
   "metadata": {},
   "outputs": [],
   "source": []
  }
 ],
 "metadata": {
  "kernelspec": {
   "display_name": ".venv",
   "language": "python",
   "name": "python3"
  },
  "language_info": {
   "codemirror_mode": {
    "name": "ipython",
    "version": 3
   },
   "file_extension": ".py",
   "mimetype": "text/x-python",
   "name": "python",
   "nbconvert_exporter": "python",
   "pygments_lexer": "ipython3",
   "version": "3.12.9"
  }
 },
 "nbformat": 4,
 "nbformat_minor": 5
}
