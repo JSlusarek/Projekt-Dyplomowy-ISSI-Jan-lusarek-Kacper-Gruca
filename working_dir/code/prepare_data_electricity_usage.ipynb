{
 "cells": [
  {
   "cell_type": "code",
   "execution_count": 54,
   "id": "ef665eaf",
   "metadata": {},
   "outputs": [],
   "source": [
    "import pandas as pd\n",
    "import polars as pl\n",
    "import os\n",
    "from functions.fix_parquet_with_header_data import fix_parquet_with_header_data\n",
    "from functions.prepare_electric_filenames_from_household_sensors import prepare_electric_filenames_from_household_sensors\n",
    "from functions.aggregate_data_daily import aggregate_data_daily\n",
    "from functions.prepare_electric_filenames_from_appliance import prepare_electric_filenames_from_appliance\n",
    "from pathlib import Path\n"
   ]
  },
  {
   "cell_type": "markdown",
   "id": "572f5156",
   "metadata": {},
   "source": [
    "### Przygotowanie df-a z lokalizacjami plików do agregowania"
   ]
  },
  {
   "cell_type": "code",
   "execution_count": 2,
   "id": "c35b6d7e",
   "metadata": {},
   "outputs": [],
   "source": [
    "folder_path = \"../../Data/Parquet/household_sensors/sensordata\"\n",
    "household_sensors_data_to_process = prepare_electric_filenames_from_household_sensors(folder_path)"
   ]
  },
  {
   "cell_type": "code",
   "execution_count": 3,
   "id": "778958e9",
   "metadata": {},
   "outputs": [],
   "source": [
    "folder_path = \"../../Data/Parquet/room_and_appliance_sensors/sensordata\"\n",
    "appliance_data_to_process = prepare_electric_filenames_from_appliance(folder_path)"
   ]
  },
  {
   "cell_type": "code",
   "execution_count": 4,
   "id": "12a64546",
   "metadata": {},
   "outputs": [
    {
     "data": {
      "text/plain": [
       "254"
      ]
     },
     "execution_count": 4,
     "metadata": {},
     "output_type": "execute_result"
    }
   ],
   "source": [
    "len(household_sensors_data_to_process[\"home_id\"].unique())"
   ]
  },
  {
   "cell_type": "code",
   "execution_count": 17,
   "id": "5da1ddd3",
   "metadata": {},
   "outputs": [
    {
     "data": {
      "text/html": [
       "<div>\n",
       "<style scoped>\n",
       "    .dataframe tbody tr th:only-of-type {\n",
       "        vertical-align: middle;\n",
       "    }\n",
       "\n",
       "    .dataframe tbody tr th {\n",
       "        vertical-align: top;\n",
       "    }\n",
       "\n",
       "    .dataframe thead th {\n",
       "        text-align: right;\n",
       "    }\n",
       "</style>\n",
       "<table border=\"1\" class=\"dataframe\">\n",
       "  <thead>\n",
       "    <tr style=\"text-align: right;\">\n",
       "      <th></th>\n",
       "      <th>home_id</th>\n",
       "      <th>electric</th>\n",
       "      <th>appliance_name</th>\n",
       "      <th>filename</th>\n",
       "    </tr>\n",
       "  </thead>\n",
       "  <tbody>\n",
       "    <tr>\n",
       "      <th>0</th>\n",
       "      <td>61</td>\n",
       "      <td>electric-appliance</td>\n",
       "      <td>kettle</td>\n",
       "      <td>home61_kitchen695_sensor1967_electric-applianc...</td>\n",
       "    </tr>\n",
       "    <tr>\n",
       "      <th>1</th>\n",
       "      <td>61</td>\n",
       "      <td>electric-appliance</td>\n",
       "      <td>dishwasher</td>\n",
       "      <td>home61_kitchen695_sensor1969_electric-applianc...</td>\n",
       "    </tr>\n",
       "    <tr>\n",
       "      <th>2</th>\n",
       "      <td>61</td>\n",
       "      <td>electric-appliance</td>\n",
       "      <td>microwave</td>\n",
       "      <td>home61_kitchen695_sensor1971_electric-applianc...</td>\n",
       "    </tr>\n",
       "    <tr>\n",
       "      <th>3</th>\n",
       "      <td>62</td>\n",
       "      <td>electric-appliance</td>\n",
       "      <td>fridgefreezer</td>\n",
       "      <td>home62_kitchen710_sensor1779_electric-applianc...</td>\n",
       "    </tr>\n",
       "    <tr>\n",
       "      <th>4</th>\n",
       "      <td>62</td>\n",
       "      <td>electric-appliance</td>\n",
       "      <td>kettle</td>\n",
       "      <td>home62_kitchen710_sensor1780_electric-applianc...</td>\n",
       "    </tr>\n",
       "    <tr>\n",
       "      <th>...</th>\n",
       "      <td>...</td>\n",
       "      <td>...</td>\n",
       "      <td>...</td>\n",
       "      <td>...</td>\n",
       "    </tr>\n",
       "    <tr>\n",
       "      <th>212</th>\n",
       "      <td>311</td>\n",
       "      <td>electric-appliance</td>\n",
       "      <td>vacuumcleaner</td>\n",
       "      <td>home311_kitchen2857_sensor31438_electric-appli...</td>\n",
       "    </tr>\n",
       "    <tr>\n",
       "      <th>213</th>\n",
       "      <td>328</td>\n",
       "      <td>electric-appliance</td>\n",
       "      <td>kettle</td>\n",
       "      <td>home328_kitchen2980_sensor31003_electric-appli...</td>\n",
       "    </tr>\n",
       "    <tr>\n",
       "      <th>214</th>\n",
       "      <td>328</td>\n",
       "      <td>electric-appliance</td>\n",
       "      <td>toaster</td>\n",
       "      <td>home328_kitchen2980_sensor31004_electric-appli...</td>\n",
       "    </tr>\n",
       "    <tr>\n",
       "      <th>215</th>\n",
       "      <td>328</td>\n",
       "      <td>electric-appliance</td>\n",
       "      <td>fridgefreezer</td>\n",
       "      <td>home328_kitchen2980_sensor31005_electric-appli...</td>\n",
       "    </tr>\n",
       "    <tr>\n",
       "      <th>216</th>\n",
       "      <td>328</td>\n",
       "      <td>electric-appliance</td>\n",
       "      <td>microwave</td>\n",
       "      <td>home328_kitchen2980_sensor31014_electric-appli...</td>\n",
       "    </tr>\n",
       "  </tbody>\n",
       "</table>\n",
       "<p>217 rows × 4 columns</p>\n",
       "</div>"
      ],
      "text/plain": [
       "     home_id            electric appliance_name  \\\n",
       "0         61  electric-appliance         kettle   \n",
       "1         61  electric-appliance     dishwasher   \n",
       "2         61  electric-appliance      microwave   \n",
       "3         62  electric-appliance  fridgefreezer   \n",
       "4         62  electric-appliance         kettle   \n",
       "..       ...                 ...            ...   \n",
       "212      311  electric-appliance  vacuumcleaner   \n",
       "213      328  electric-appliance         kettle   \n",
       "214      328  electric-appliance        toaster   \n",
       "215      328  electric-appliance  fridgefreezer   \n",
       "216      328  electric-appliance      microwave   \n",
       "\n",
       "                                              filename  \n",
       "0    home61_kitchen695_sensor1967_electric-applianc...  \n",
       "1    home61_kitchen695_sensor1969_electric-applianc...  \n",
       "2    home61_kitchen695_sensor1971_electric-applianc...  \n",
       "3    home62_kitchen710_sensor1779_electric-applianc...  \n",
       "4    home62_kitchen710_sensor1780_electric-applianc...  \n",
       "..                                                 ...  \n",
       "212  home311_kitchen2857_sensor31438_electric-appli...  \n",
       "213  home328_kitchen2980_sensor31003_electric-appli...  \n",
       "214  home328_kitchen2980_sensor31004_electric-appli...  \n",
       "215  home328_kitchen2980_sensor31005_electric-appli...  \n",
       "216  home328_kitchen2980_sensor31014_electric-appli...  \n",
       "\n",
       "[217 rows x 4 columns]"
      ]
     },
     "execution_count": 17,
     "metadata": {},
     "output_type": "execute_result"
    }
   ],
   "source": [
    "appliance_data_to_process"
   ]
  },
  {
   "cell_type": "markdown",
   "id": "38b08221",
   "metadata": {},
   "source": [
    "### Poprawienie pierwszej kolumny"
   ]
  },
  {
   "cell_type": "code",
   "execution_count": 6,
   "id": "9d0ba1bd",
   "metadata": {},
   "outputs": [],
   "source": [
    "df_org = pl.read_parquet(\"../../Data/Parquet/household_sensors/sensordata/home47_hall654_sensor1216c1220_electric-mains_electric-combined.parquet\")\n",
    "df = fix_parquet_with_header_data(df_org)"
   ]
  },
  {
   "cell_type": "code",
   "execution_count": 7,
   "id": "10836086",
   "metadata": {},
   "outputs": [],
   "source": [
    "daily_data = aggregate_data_daily(df)"
   ]
  },
  {
   "cell_type": "code",
   "execution_count": 8,
   "id": "08994859",
   "metadata": {},
   "outputs": [
    {
     "data": {
      "text/html": [
       "<div><style>\n",
       ".dataframe > thead > tr,\n",
       ".dataframe > tbody > tr {\n",
       "  text-align: right;\n",
       "  white-space: pre-wrap;\n",
       "}\n",
       "</style>\n",
       "<small>shape: (271, 2)</small><table border=\"1\" class=\"dataframe\"><thead><tr><th>date</th><th>daily_sum</th></tr><tr><td>date</td><td>i64</td></tr></thead><tbody><tr><td>2016-08-10</td><td>6785970</td></tr><tr><td>2016-08-11</td><td>10097498</td></tr><tr><td>2016-08-12</td><td>8450189</td></tr><tr><td>2016-08-13</td><td>9321356</td></tr><tr><td>2016-08-14</td><td>16723329</td></tr><tr><td>&hellip;</td><td>&hellip;</td></tr><tr><td>2017-05-04</td><td>12720364</td></tr><tr><td>2017-05-05</td><td>10235043</td></tr><tr><td>2017-05-06</td><td>12310177</td></tr><tr><td>2017-05-07</td><td>16038362</td></tr><tr><td>2017-05-08</td><td>8997071</td></tr></tbody></table></div>"
      ],
      "text/plain": [
       "shape: (271, 2)\n",
       "┌────────────┬───────────┐\n",
       "│ date       ┆ daily_sum │\n",
       "│ ---        ┆ ---       │\n",
       "│ date       ┆ i64       │\n",
       "╞════════════╪═══════════╡\n",
       "│ 2016-08-10 ┆ 6785970   │\n",
       "│ 2016-08-11 ┆ 10097498  │\n",
       "│ 2016-08-12 ┆ 8450189   │\n",
       "│ 2016-08-13 ┆ 9321356   │\n",
       "│ 2016-08-14 ┆ 16723329  │\n",
       "│ …          ┆ …         │\n",
       "│ 2017-05-04 ┆ 12720364  │\n",
       "│ 2017-05-05 ┆ 10235043  │\n",
       "│ 2017-05-06 ┆ 12310177  │\n",
       "│ 2017-05-07 ┆ 16038362  │\n",
       "│ 2017-05-08 ┆ 8997071   │\n",
       "└────────────┴───────────┘"
      ]
     },
     "execution_count": 8,
     "metadata": {},
     "output_type": "execute_result"
    }
   ],
   "source": [
    "daily_data"
   ]
  },
  {
   "cell_type": "code",
   "execution_count": 9,
   "id": "718707ec",
   "metadata": {},
   "outputs": [],
   "source": [
    "df = pl.read_parquet(\"../../Data/Parquet/room_and_appliance_sensors/sensordata/home61_kitchen695_sensor1967_electric-appliance_kettle.parquet\")"
   ]
  },
  {
   "cell_type": "code",
   "execution_count": 10,
   "id": "7e0daaaa",
   "metadata": {},
   "outputs": [],
   "source": [
    "df_clean = fix_parquet_with_header_data(df)"
   ]
  },
  {
   "cell_type": "code",
   "execution_count": 11,
   "id": "4477eece",
   "metadata": {},
   "outputs": [],
   "source": [
    "daily_kettle = aggregate_data_daily(df_clean)"
   ]
  },
  {
   "cell_type": "code",
   "execution_count": 13,
   "id": "6fc5fa97",
   "metadata": {},
   "outputs": [
    {
     "data": {
      "text/html": [
       "<div><style>\n",
       ".dataframe > thead > tr,\n",
       ".dataframe > tbody > tr {\n",
       "  text-align: right;\n",
       "  white-space: pre-wrap;\n",
       "}\n",
       "</style>\n",
       "<small>shape: (260, 2)</small><table border=\"1\" class=\"dataframe\"><thead><tr><th>date</th><th>daily_sum</th></tr><tr><td>date</td><td>i64</td></tr></thead><tbody><tr><td>2016-11-17</td><td>11763</td></tr><tr><td>2016-11-18</td><td>14256</td></tr><tr><td>2016-11-19</td><td>22827</td></tr><tr><td>2016-11-20</td><td>25511</td></tr><tr><td>2016-11-21</td><td>19826</td></tr><tr><td>&hellip;</td><td>&hellip;</td></tr><tr><td>2017-08-03</td><td>11549</td></tr><tr><td>2017-08-04</td><td>0</td></tr><tr><td>2017-08-05</td><td>0</td></tr><tr><td>2017-08-06</td><td>0</td></tr><tr><td>2017-08-07</td><td>0</td></tr></tbody></table></div>"
      ],
      "text/plain": [
       "shape: (260, 2)\n",
       "┌────────────┬───────────┐\n",
       "│ date       ┆ daily_sum │\n",
       "│ ---        ┆ ---       │\n",
       "│ date       ┆ i64       │\n",
       "╞════════════╪═══════════╡\n",
       "│ 2016-11-17 ┆ 11763     │\n",
       "│ 2016-11-18 ┆ 14256     │\n",
       "│ 2016-11-19 ┆ 22827     │\n",
       "│ 2016-11-20 ┆ 25511     │\n",
       "│ 2016-11-21 ┆ 19826     │\n",
       "│ …          ┆ …         │\n",
       "│ 2017-08-03 ┆ 11549     │\n",
       "│ 2017-08-04 ┆ 0         │\n",
       "│ 2017-08-05 ┆ 0         │\n",
       "│ 2017-08-06 ┆ 0         │\n",
       "│ 2017-08-07 ┆ 0         │\n",
       "└────────────┴───────────┘"
      ]
     },
     "execution_count": 13,
     "metadata": {},
     "output_type": "execute_result"
    }
   ],
   "source": [
    "daily_kettle"
   ]
  },
  {
   "cell_type": "code",
   "execution_count": 18,
   "id": "78853a5e",
   "metadata": {},
   "outputs": [
    {
     "data": {
      "text/html": [
       "<div><style>\n",
       ".dataframe > thead > tr,\n",
       ".dataframe > tbody > tr {\n",
       "  text-align: right;\n",
       "  white-space: pre-wrap;\n",
       "}\n",
       "</style>\n",
       "<small>shape: (219, 12)</small><table border=\"1\" class=\"dataframe\"><thead><tr><th>homeid_1</th><th>num_males</th><th>num_females</th><th>num_residents</th><th>num_children</th><th>num_employed</th><th>num_with_higher_education</th><th>daily_standing_charge_pence</th><th>unit_charge_pence_per_kwh</th><th>n_rooms</th><th>smart_automation</th><th>hometype</th></tr><tr><td>i64</td><td>i64</td><td>i64</td><td>i64</td><td>i64</td><td>i64</td><td>i64</td><td>f64</td><td>f64</td><td>i64</td><td>str</td><td>str</td></tr></thead><tbody><tr><td>61</td><td>1</td><td>1</td><td>2</td><td>0</td><td>2</td><td>0</td><td>0.33</td><td>0.12</td><td>9</td><td>&quot;Don&#x27;t own&quot;</td><td>&quot;house_or_bungalow&quot;</td></tr><tr><td>61</td><td>1</td><td>1</td><td>2</td><td>0</td><td>2</td><td>0</td><td>0.33</td><td>0.12</td><td>9</td><td>&quot;Don&#x27;t own&quot;</td><td>&quot;house_or_bungalow&quot;</td></tr><tr><td>61</td><td>1</td><td>1</td><td>2</td><td>0</td><td>2</td><td>0</td><td>0.33</td><td>0.12</td><td>9</td><td>&quot;Don&#x27;t own&quot;</td><td>&quot;house_or_bungalow&quot;</td></tr><tr><td>62</td><td>1</td><td>1</td><td>2</td><td>0</td><td>2</td><td>2</td><td>36.0</td><td>16.16</td><td>7</td><td>&quot;Don&#x27;t own&quot;</td><td>&quot;flat&quot;</td></tr><tr><td>62</td><td>1</td><td>1</td><td>2</td><td>0</td><td>2</td><td>2</td><td>36.0</td><td>16.16</td><td>7</td><td>&quot;Don&#x27;t own&quot;</td><td>&quot;flat&quot;</td></tr><tr><td>&hellip;</td><td>&hellip;</td><td>&hellip;</td><td>&hellip;</td><td>&hellip;</td><td>&hellip;</td><td>&hellip;</td><td>&hellip;</td><td>&hellip;</td><td>&hellip;</td><td>&hellip;</td><td>&hellip;</td></tr><tr><td>328</td><td>0</td><td>1</td><td>1</td><td>0</td><td>0</td><td>1</td><td>null</td><td>null</td><td>6</td><td>&quot;Don&#x27;t own&quot;</td><td>&quot;flat&quot;</td></tr><tr><td>328</td><td>0</td><td>1</td><td>1</td><td>0</td><td>0</td><td>1</td><td>null</td><td>null</td><td>6</td><td>&quot;Don&#x27;t own&quot;</td><td>&quot;flat&quot;</td></tr><tr><td>328</td><td>0</td><td>1</td><td>1</td><td>0</td><td>0</td><td>1</td><td>null</td><td>null</td><td>6</td><td>&quot;Don&#x27;t own&quot;</td><td>&quot;flat&quot;</td></tr><tr><td>328</td><td>0</td><td>1</td><td>1</td><td>0</td><td>0</td><td>1</td><td>null</td><td>null</td><td>6</td><td>&quot;Don&#x27;t own&quot;</td><td>&quot;flat&quot;</td></tr><tr><td>328</td><td>0</td><td>1</td><td>1</td><td>0</td><td>0</td><td>1</td><td>null</td><td>null</td><td>6</td><td>&quot;Don&#x27;t own&quot;</td><td>&quot;flat&quot;</td></tr></tbody></table></div>"
      ],
      "text/plain": [
       "shape: (219, 12)\n",
       "┌──────────┬───────────┬────────────┬────────────┬───┬───────────┬─────────┬───────────┬───────────┐\n",
       "│ homeid_1 ┆ num_males ┆ num_female ┆ num_reside ┆ … ┆ unit_char ┆ n_rooms ┆ smart_aut ┆ hometype  │\n",
       "│ ---      ┆ ---       ┆ s          ┆ nts        ┆   ┆ ge_pence_ ┆ ---     ┆ omation   ┆ ---       │\n",
       "│ i64      ┆ i64       ┆ ---        ┆ ---        ┆   ┆ per_kwh   ┆ i64     ┆ ---       ┆ str       │\n",
       "│          ┆           ┆ i64        ┆ i64        ┆   ┆ ---       ┆         ┆ str       ┆           │\n",
       "│          ┆           ┆            ┆            ┆   ┆ f64       ┆         ┆           ┆           │\n",
       "╞══════════╪═══════════╪════════════╪════════════╪═══╪═══════════╪═════════╪═══════════╪═══════════╡\n",
       "│ 61       ┆ 1         ┆ 1          ┆ 2          ┆ … ┆ 0.12      ┆ 9       ┆ Don't own ┆ house_or_ │\n",
       "│          ┆           ┆            ┆            ┆   ┆           ┆         ┆           ┆ bungalow  │\n",
       "│ 61       ┆ 1         ┆ 1          ┆ 2          ┆ … ┆ 0.12      ┆ 9       ┆ Don't own ┆ house_or_ │\n",
       "│          ┆           ┆            ┆            ┆   ┆           ┆         ┆           ┆ bungalow  │\n",
       "│ 61       ┆ 1         ┆ 1          ┆ 2          ┆ … ┆ 0.12      ┆ 9       ┆ Don't own ┆ house_or_ │\n",
       "│          ┆           ┆            ┆            ┆   ┆           ┆         ┆           ┆ bungalow  │\n",
       "│ 62       ┆ 1         ┆ 1          ┆ 2          ┆ … ┆ 16.16     ┆ 7       ┆ Don't own ┆ flat      │\n",
       "│ 62       ┆ 1         ┆ 1          ┆ 2          ┆ … ┆ 16.16     ┆ 7       ┆ Don't own ┆ flat      │\n",
       "│ …        ┆ …         ┆ …          ┆ …          ┆ … ┆ …         ┆ …       ┆ …         ┆ …         │\n",
       "│ 328      ┆ 0         ┆ 1          ┆ 1          ┆ … ┆ null      ┆ 6       ┆ Don't own ┆ flat      │\n",
       "│ 328      ┆ 0         ┆ 1          ┆ 1          ┆ … ┆ null      ┆ 6       ┆ Don't own ┆ flat      │\n",
       "│ 328      ┆ 0         ┆ 1          ┆ 1          ┆ … ┆ null      ┆ 6       ┆ Don't own ┆ flat      │\n",
       "│ 328      ┆ 0         ┆ 1          ┆ 1          ┆ … ┆ null      ┆ 6       ┆ Don't own ┆ flat      │\n",
       "│ 328      ┆ 0         ┆ 1          ┆ 1          ┆ … ┆ null      ┆ 6       ┆ Don't own ┆ flat      │\n",
       "└──────────┴───────────┴────────────┴────────────┴───┴───────────┴─────────┴───────────┴───────────┘"
      ]
     },
     "execution_count": 18,
     "metadata": {},
     "output_type": "execute_result"
    }
   ],
   "source": [
    "df_home_id=pl.read_csv('../../Data/NAV/Features_HomeID.csv')\n",
    "df_home_id"
   ]
  },
  {
   "cell_type": "code",
   "execution_count": 33,
   "id": "effdfac7",
   "metadata": {},
   "outputs": [
    {
     "data": {
      "text/html": [
       "<div><style>\n",
       ".dataframe > thead > tr,\n",
       ".dataframe > tbody > tr {\n",
       "  text-align: right;\n",
       "  white-space: pre-wrap;\n",
       "}\n",
       "</style>\n",
       "<small>shape: (217, 4)</small><table border=\"1\" class=\"dataframe\"><thead><tr><th>home_id</th><th>electric</th><th>appliance_name</th><th>filename</th></tr><tr><td>i64</td><td>str</td><td>str</td><td>str</td></tr></thead><tbody><tr><td>61</td><td>&quot;electric-appliance&quot;</td><td>&quot;kettle&quot;</td><td>&quot;home61_kitchen695_sensor1967_e…</td></tr><tr><td>61</td><td>&quot;electric-appliance&quot;</td><td>&quot;dishwasher&quot;</td><td>&quot;home61_kitchen695_sensor1969_e…</td></tr><tr><td>61</td><td>&quot;electric-appliance&quot;</td><td>&quot;microwave&quot;</td><td>&quot;home61_kitchen695_sensor1971_e…</td></tr><tr><td>62</td><td>&quot;electric-appliance&quot;</td><td>&quot;fridgefreezer&quot;</td><td>&quot;home62_kitchen710_sensor1779_e…</td></tr><tr><td>62</td><td>&quot;electric-appliance&quot;</td><td>&quot;kettle&quot;</td><td>&quot;home62_kitchen710_sensor1780_e…</td></tr><tr><td>&hellip;</td><td>&hellip;</td><td>&hellip;</td><td>&hellip;</td></tr><tr><td>311</td><td>&quot;electric-appliance&quot;</td><td>&quot;vacuumcleaner&quot;</td><td>&quot;home311_kitchen2857_sensor3143…</td></tr><tr><td>328</td><td>&quot;electric-appliance&quot;</td><td>&quot;kettle&quot;</td><td>&quot;home328_kitchen2980_sensor3100…</td></tr><tr><td>328</td><td>&quot;electric-appliance&quot;</td><td>&quot;toaster&quot;</td><td>&quot;home328_kitchen2980_sensor3100…</td></tr><tr><td>328</td><td>&quot;electric-appliance&quot;</td><td>&quot;fridgefreezer&quot;</td><td>&quot;home328_kitchen2980_sensor3100…</td></tr><tr><td>328</td><td>&quot;electric-appliance&quot;</td><td>&quot;microwave&quot;</td><td>&quot;home328_kitchen2980_sensor3101…</td></tr></tbody></table></div>"
      ],
      "text/plain": [
       "shape: (217, 4)\n",
       "┌─────────┬────────────────────┬────────────────┬─────────────────────────────────┐\n",
       "│ home_id ┆ electric           ┆ appliance_name ┆ filename                        │\n",
       "│ ---     ┆ ---                ┆ ---            ┆ ---                             │\n",
       "│ i64     ┆ str                ┆ str            ┆ str                             │\n",
       "╞═════════╪════════════════════╪════════════════╪═════════════════════════════════╡\n",
       "│ 61      ┆ electric-appliance ┆ kettle         ┆ home61_kitchen695_sensor1967_e… │\n",
       "│ 61      ┆ electric-appliance ┆ dishwasher     ┆ home61_kitchen695_sensor1969_e… │\n",
       "│ 61      ┆ electric-appliance ┆ microwave      ┆ home61_kitchen695_sensor1971_e… │\n",
       "│ 62      ┆ electric-appliance ┆ fridgefreezer  ┆ home62_kitchen710_sensor1779_e… │\n",
       "│ 62      ┆ electric-appliance ┆ kettle         ┆ home62_kitchen710_sensor1780_e… │\n",
       "│ …       ┆ …                  ┆ …              ┆ …                               │\n",
       "│ 311     ┆ electric-appliance ┆ vacuumcleaner  ┆ home311_kitchen2857_sensor3143… │\n",
       "│ 328     ┆ electric-appliance ┆ kettle         ┆ home328_kitchen2980_sensor3100… │\n",
       "│ 328     ┆ electric-appliance ┆ toaster        ┆ home328_kitchen2980_sensor3100… │\n",
       "│ 328     ┆ electric-appliance ┆ fridgefreezer  ┆ home328_kitchen2980_sensor3100… │\n",
       "│ 328     ┆ electric-appliance ┆ microwave      ┆ home328_kitchen2980_sensor3101… │\n",
       "└─────────┴────────────────────┴────────────────┴─────────────────────────────────┘"
      ]
     },
     "execution_count": 33,
     "metadata": {},
     "output_type": "execute_result"
    }
   ],
   "source": [
    "appliance_data_to_process_pl = pl.DataFrame(appliance_data_to_process)\n",
    "appliance_data_to_process_pl"
   ]
  },
  {
   "cell_type": "code",
   "execution_count": 40,
   "id": "102096ec",
   "metadata": {},
   "outputs": [
    {
     "data": {
      "text/html": [
       "<div><style>\n",
       ".dataframe > thead > tr,\n",
       ".dataframe > tbody > tr {\n",
       "  text-align: right;\n",
       "  white-space: pre-wrap;\n",
       "}\n",
       "</style>\n",
       "<small>shape: (217, 15)</small><table border=\"1\" class=\"dataframe\"><thead><tr><th>home_id</th><th>electric</th><th>appliance_name</th><th>filename</th><th>num_males</th><th>num_females</th><th>num_residents</th><th>num_children</th><th>num_employed</th><th>num_with_higher_education</th><th>daily_standing_charge_pence</th><th>unit_charge_pence_per_kwh</th><th>n_rooms</th><th>smart_automation</th><th>hometype</th></tr><tr><td>i64</td><td>str</td><td>str</td><td>str</td><td>i64</td><td>i64</td><td>i64</td><td>i64</td><td>i64</td><td>i64</td><td>f64</td><td>f64</td><td>i64</td><td>str</td><td>str</td></tr></thead><tbody><tr><td>61</td><td>&quot;electric-appliance&quot;</td><td>&quot;kettle&quot;</td><td>&quot;home61_kitchen695_sensor1967_e…</td><td>1</td><td>1</td><td>2</td><td>0</td><td>2</td><td>0</td><td>0.33</td><td>0.12</td><td>9</td><td>&quot;Don&#x27;t own&quot;</td><td>&quot;house_or_bungalow&quot;</td></tr><tr><td>61</td><td>&quot;electric-appliance&quot;</td><td>&quot;dishwasher&quot;</td><td>&quot;home61_kitchen695_sensor1969_e…</td><td>1</td><td>1</td><td>2</td><td>0</td><td>2</td><td>0</td><td>0.33</td><td>0.12</td><td>9</td><td>&quot;Don&#x27;t own&quot;</td><td>&quot;house_or_bungalow&quot;</td></tr><tr><td>61</td><td>&quot;electric-appliance&quot;</td><td>&quot;microwave&quot;</td><td>&quot;home61_kitchen695_sensor1971_e…</td><td>1</td><td>1</td><td>2</td><td>0</td><td>2</td><td>0</td><td>0.33</td><td>0.12</td><td>9</td><td>&quot;Don&#x27;t own&quot;</td><td>&quot;house_or_bungalow&quot;</td></tr><tr><td>62</td><td>&quot;electric-appliance&quot;</td><td>&quot;fridgefreezer&quot;</td><td>&quot;home62_kitchen710_sensor1779_e…</td><td>1</td><td>1</td><td>2</td><td>0</td><td>2</td><td>2</td><td>36.0</td><td>16.16</td><td>7</td><td>&quot;Don&#x27;t own&quot;</td><td>&quot;flat&quot;</td></tr><tr><td>62</td><td>&quot;electric-appliance&quot;</td><td>&quot;kettle&quot;</td><td>&quot;home62_kitchen710_sensor1780_e…</td><td>1</td><td>1</td><td>2</td><td>0</td><td>2</td><td>2</td><td>36.0</td><td>16.16</td><td>7</td><td>&quot;Don&#x27;t own&quot;</td><td>&quot;flat&quot;</td></tr><tr><td>&hellip;</td><td>&hellip;</td><td>&hellip;</td><td>&hellip;</td><td>&hellip;</td><td>&hellip;</td><td>&hellip;</td><td>&hellip;</td><td>&hellip;</td><td>&hellip;</td><td>&hellip;</td><td>&hellip;</td><td>&hellip;</td><td>&hellip;</td><td>&hellip;</td></tr><tr><td>311</td><td>&quot;electric-appliance&quot;</td><td>&quot;vacuumcleaner&quot;</td><td>&quot;home311_kitchen2857_sensor3143…</td><td>1</td><td>1</td><td>2</td><td>0</td><td>2</td><td>0</td><td>null</td><td>null</td><td>8</td><td>&quot;Don&#x27;t own&quot;</td><td>&quot;flat&quot;</td></tr><tr><td>328</td><td>&quot;electric-appliance&quot;</td><td>&quot;kettle&quot;</td><td>&quot;home328_kitchen2980_sensor3100…</td><td>0</td><td>1</td><td>1</td><td>0</td><td>0</td><td>1</td><td>null</td><td>null</td><td>6</td><td>&quot;Don&#x27;t own&quot;</td><td>&quot;flat&quot;</td></tr><tr><td>328</td><td>&quot;electric-appliance&quot;</td><td>&quot;toaster&quot;</td><td>&quot;home328_kitchen2980_sensor3100…</td><td>0</td><td>1</td><td>1</td><td>0</td><td>0</td><td>1</td><td>null</td><td>null</td><td>6</td><td>&quot;Don&#x27;t own&quot;</td><td>&quot;flat&quot;</td></tr><tr><td>328</td><td>&quot;electric-appliance&quot;</td><td>&quot;fridgefreezer&quot;</td><td>&quot;home328_kitchen2980_sensor3100…</td><td>0</td><td>1</td><td>1</td><td>0</td><td>0</td><td>1</td><td>null</td><td>null</td><td>6</td><td>&quot;Don&#x27;t own&quot;</td><td>&quot;flat&quot;</td></tr><tr><td>328</td><td>&quot;electric-appliance&quot;</td><td>&quot;microwave&quot;</td><td>&quot;home328_kitchen2980_sensor3101…</td><td>0</td><td>1</td><td>1</td><td>0</td><td>0</td><td>1</td><td>null</td><td>null</td><td>6</td><td>&quot;Don&#x27;t own&quot;</td><td>&quot;flat&quot;</td></tr></tbody></table></div>"
      ],
      "text/plain": [
       "shape: (217, 15)\n",
       "┌─────────┬────────────┬────────────┬────────────┬───┬───────────┬─────────┬───────────┬───────────┐\n",
       "│ home_id ┆ electric   ┆ appliance_ ┆ filename   ┆ … ┆ unit_char ┆ n_rooms ┆ smart_aut ┆ hometype  │\n",
       "│ ---     ┆ ---        ┆ name       ┆ ---        ┆   ┆ ge_pence_ ┆ ---     ┆ omation   ┆ ---       │\n",
       "│ i64     ┆ str        ┆ ---        ┆ str        ┆   ┆ per_kwh   ┆ i64     ┆ ---       ┆ str       │\n",
       "│         ┆            ┆ str        ┆            ┆   ┆ ---       ┆         ┆ str       ┆           │\n",
       "│         ┆            ┆            ┆            ┆   ┆ f64       ┆         ┆           ┆           │\n",
       "╞═════════╪════════════╪════════════╪════════════╪═══╪═══════════╪═════════╪═══════════╪═══════════╡\n",
       "│ 61      ┆ electric-a ┆ kettle     ┆ home61_kit ┆ … ┆ 0.12      ┆ 9       ┆ Don't own ┆ house_or_ │\n",
       "│         ┆ ppliance   ┆            ┆ chen695_se ┆   ┆           ┆         ┆           ┆ bungalow  │\n",
       "│         ┆            ┆            ┆ nsor1967_e ┆   ┆           ┆         ┆           ┆           │\n",
       "│         ┆            ┆            ┆ …          ┆   ┆           ┆         ┆           ┆           │\n",
       "│ 61      ┆ electric-a ┆ dishwasher ┆ home61_kit ┆ … ┆ 0.12      ┆ 9       ┆ Don't own ┆ house_or_ │\n",
       "│         ┆ ppliance   ┆            ┆ chen695_se ┆   ┆           ┆         ┆           ┆ bungalow  │\n",
       "│         ┆            ┆            ┆ nsor1969_e ┆   ┆           ┆         ┆           ┆           │\n",
       "│         ┆            ┆            ┆ …          ┆   ┆           ┆         ┆           ┆           │\n",
       "│ 61      ┆ electric-a ┆ microwave  ┆ home61_kit ┆ … ┆ 0.12      ┆ 9       ┆ Don't own ┆ house_or_ │\n",
       "│         ┆ ppliance   ┆            ┆ chen695_se ┆   ┆           ┆         ┆           ┆ bungalow  │\n",
       "│         ┆            ┆            ┆ nsor1971_e ┆   ┆           ┆         ┆           ┆           │\n",
       "│         ┆            ┆            ┆ …          ┆   ┆           ┆         ┆           ┆           │\n",
       "│ 62      ┆ electric-a ┆ fridgefree ┆ home62_kit ┆ … ┆ 16.16     ┆ 7       ┆ Don't own ┆ flat      │\n",
       "│         ┆ ppliance   ┆ zer        ┆ chen710_se ┆   ┆           ┆         ┆           ┆           │\n",
       "│         ┆            ┆            ┆ nsor1779_e ┆   ┆           ┆         ┆           ┆           │\n",
       "│         ┆            ┆            ┆ …          ┆   ┆           ┆         ┆           ┆           │\n",
       "│ 62      ┆ electric-a ┆ kettle     ┆ home62_kit ┆ … ┆ 16.16     ┆ 7       ┆ Don't own ┆ flat      │\n",
       "│         ┆ ppliance   ┆            ┆ chen710_se ┆   ┆           ┆         ┆           ┆           │\n",
       "│         ┆            ┆            ┆ nsor1780_e ┆   ┆           ┆         ┆           ┆           │\n",
       "│         ┆            ┆            ┆ …          ┆   ┆           ┆         ┆           ┆           │\n",
       "│ …       ┆ …          ┆ …          ┆ …          ┆ … ┆ …         ┆ …       ┆ …         ┆ …         │\n",
       "│ 311     ┆ electric-a ┆ vacuumclea ┆ home311_ki ┆ … ┆ null      ┆ 8       ┆ Don't own ┆ flat      │\n",
       "│         ┆ ppliance   ┆ ner        ┆ tchen2857_ ┆   ┆           ┆         ┆           ┆           │\n",
       "│         ┆            ┆            ┆ sensor3143 ┆   ┆           ┆         ┆           ┆           │\n",
       "│         ┆            ┆            ┆ …          ┆   ┆           ┆         ┆           ┆           │\n",
       "│ 328     ┆ electric-a ┆ kettle     ┆ home328_ki ┆ … ┆ null      ┆ 6       ┆ Don't own ┆ flat      │\n",
       "│         ┆ ppliance   ┆            ┆ tchen2980_ ┆   ┆           ┆         ┆           ┆           │\n",
       "│         ┆            ┆            ┆ sensor3100 ┆   ┆           ┆         ┆           ┆           │\n",
       "│         ┆            ┆            ┆ …          ┆   ┆           ┆         ┆           ┆           │\n",
       "│ 328     ┆ electric-a ┆ toaster    ┆ home328_ki ┆ … ┆ null      ┆ 6       ┆ Don't own ┆ flat      │\n",
       "│         ┆ ppliance   ┆            ┆ tchen2980_ ┆   ┆           ┆         ┆           ┆           │\n",
       "│         ┆            ┆            ┆ sensor3100 ┆   ┆           ┆         ┆           ┆           │\n",
       "│         ┆            ┆            ┆ …          ┆   ┆           ┆         ┆           ┆           │\n",
       "│ 328     ┆ electric-a ┆ fridgefree ┆ home328_ki ┆ … ┆ null      ┆ 6       ┆ Don't own ┆ flat      │\n",
       "│         ┆ ppliance   ┆ zer        ┆ tchen2980_ ┆   ┆           ┆         ┆           ┆           │\n",
       "│         ┆            ┆            ┆ sensor3100 ┆   ┆           ┆         ┆           ┆           │\n",
       "│         ┆            ┆            ┆ …          ┆   ┆           ┆         ┆           ┆           │\n",
       "│ 328     ┆ electric-a ┆ microwave  ┆ home328_ki ┆ … ┆ null      ┆ 6       ┆ Don't own ┆ flat      │\n",
       "│         ┆ ppliance   ┆            ┆ tchen2980_ ┆   ┆           ┆         ┆           ┆           │\n",
       "│         ┆            ┆            ┆ sensor3101 ┆   ┆           ┆         ┆           ┆           │\n",
       "│         ┆            ┆            ┆ …          ┆   ┆           ┆         ┆           ┆           │\n",
       "└─────────┴────────────┴────────────┴────────────┴───┴───────────┴─────────┴───────────┴───────────┘"
      ]
     },
     "execution_count": 40,
     "metadata": {},
     "output_type": "execute_result"
    }
   ],
   "source": [
    "df_joined = appliance_data_to_process_pl.join(\n",
    "    df_home_id.unique(subset=[\"homeid_1\"]),\n",
    "    left_on='home_id',\n",
    "    right_on='homeid_1',\n",
    "    how='left'\n",
    ")\n",
    "df_joined"
   ]
  },
  {
   "cell_type": "code",
   "execution_count": 71,
   "id": "cbf7ef84",
   "metadata": {},
   "outputs": [
    {
     "data": {
      "text/plain": [
       "<function polars.dataframe.frame.DataFrame.with_columns(self, *exprs: 'IntoExpr | Iterable[IntoExpr]', **named_exprs: 'IntoExpr') -> 'DataFrame'>"
      ]
     },
     "execution_count": 71,
     "metadata": {},
     "output_type": "execute_result"
    }
   ],
   "source": [
    "pl.DataFrame.with_columns"
   ]
  },
  {
   "cell_type": "code",
   "execution_count": null,
   "id": "732f5ed6",
   "metadata": {},
   "outputs": [
    {
     "name": "stdout",
     "output_type": "stream",
     "text": [
      "..\\..\\Data\\Parquet\\room_and_appliance_sensors\\sensordata\\home61_kitchen695_sensor1967_electric-appliance_kettle.parquet\n",
      "..\\..\\Data\\Parquet\\room_and_appliance_sensors\\sensordata\\home61_kitchen695_sensor1969_electric-appliance_dishwasher.parquet\n",
      "..\\..\\Data\\Parquet\\room_and_appliance_sensors\\sensordata\\home61_kitchen695_sensor1971_electric-appliance_microwave.parquet\n",
      "..\\..\\Data\\Parquet\\room_and_appliance_sensors\\sensordata\\home62_kitchen710_sensor1779_electric-appliance_fridgefreezer.parquet\n",
      "..\\..\\Data\\Parquet\\room_and_appliance_sensors\\sensordata\\home62_kitchen710_sensor1780_electric-appliance_kettle.parquet\n",
      "..\\..\\Data\\Parquet\\room_and_appliance_sensors\\sensordata\\home62_kitchen710_sensor1781_electric-appliance_washingmachine.parquet\n",
      "..\\..\\Data\\Parquet\\room_and_appliance_sensors\\sensordata\\home62_kitchen710_sensor1782_electric-appliance_dishwasher.parquet\n",
      "..\\..\\Data\\Parquet\\room_and_appliance_sensors\\sensordata\\home62_kitchen710_sensor2400_electric-appliance_vacuumcleaner.parquet\n",
      "..\\..\\Data\\Parquet\\room_and_appliance_sensors\\sensordata\\home63_kitchen720_sensor2268_electric-appliance_washingmachinetumbledrier.parquet\n",
      "..\\..\\Data\\Parquet\\room_and_appliance_sensors\\sensordata\\home63_kitchen720_sensor2269_electric-appliance_microwave.parquet\n",
      "..\\..\\Data\\Parquet\\room_and_appliance_sensors\\sensordata\\home63_kitchen720_sensor2270_electric-appliance_dishwasher.parquet\n",
      "..\\..\\Data\\Parquet\\room_and_appliance_sensors\\sensordata\\home63_kitchen720_sensor3760_electric-appliance_kettle.parquet\n",
      "..\\..\\Data\\Parquet\\room_and_appliance_sensors\\sensordata\\home63_kitchen720_sensor3980_electric-appliance_vacuumcleaner.parquet\n",
      "..\\..\\Data\\Parquet\\room_and_appliance_sensors\\sensordata\\home65_bedroom736_sensor15880_electric-appliance_vacuumcleaner.parquet\n",
      "..\\..\\Data\\Parquet\\room_and_appliance_sensors\\sensordata\\home65_hall731_sensor8861_electric-appliance_vacuumcleaner.parquet\n",
      "..\\..\\Data\\Parquet\\room_and_appliance_sensors\\sensordata\\home65_hall735_sensor5306_electric-appliance_vacuumcleaner.parquet\n",
      "..\\..\\Data\\Parquet\\room_and_appliance_sensors\\sensordata\\home65_kitchen733_sensor3109_electric-appliance_kettle.parquet\n",
      "..\\..\\Data\\Parquet\\room_and_appliance_sensors\\sensordata\\home65_kitchen733_sensor3110_electric-appliance_washingmachine.parquet\n",
      "..\\..\\Data\\Parquet\\room_and_appliance_sensors\\sensordata\\home65_kitchen733_sensor3111_electric-appliance_dishwasher.parquet\n",
      "..\\..\\Data\\Parquet\\room_and_appliance_sensors\\sensordata\\home73_kitchenliving781_sensor4077_electric-appliance_kettle.parquet\n",
      "..\\..\\Data\\Parquet\\room_and_appliance_sensors\\sensordata\\home73_kitchenliving781_sensor4078_electric-appliance_washingmachine.parquet\n",
      "..\\..\\Data\\Parquet\\room_and_appliance_sensors\\sensordata\\home73_kitchenliving781_sensor4079_electric-appliance_fridgefreezer.parquet\n",
      "..\\..\\Data\\Parquet\\room_and_appliance_sensors\\sensordata\\home90_kitchen957_sensor4858_electric-appliance_kettle.parquet\n",
      "..\\..\\Data\\Parquet\\room_and_appliance_sensors\\sensordata\\home90_kitchen957_sensor4859_electric-appliance_microwave.parquet\n",
      "..\\..\\Data\\Parquet\\room_and_appliance_sensors\\sensordata\\home90_kitchen957_sensor4860_electric-appliance_fridgefreezer.parquet\n",
      "..\\..\\Data\\Parquet\\room_and_appliance_sensors\\sensordata\\home96_hall998_sensor11255_electric-appliance_vacuumcleaner.parquet\n",
      "..\\..\\Data\\Parquet\\room_and_appliance_sensors\\sensordata\\home96_kitchen999_sensor11254_electric-appliance_washingmachine.parquet\n",
      "..\\..\\Data\\Parquet\\room_and_appliance_sensors\\sensordata\\home96_kitchen999_sensor9110_electric-appliance_kettle.parquet\n",
      "..\\..\\Data\\Parquet\\room_and_appliance_sensors\\sensordata\\home96_kitchen999_sensor9111_electric-appliance_microwave.parquet\n",
      "..\\..\\Data\\Parquet\\room_and_appliance_sensors\\sensordata\\home96_kitchen999_sensor9116_electric-appliance_dishwasher.parquet\n",
      "..\\..\\Data\\Parquet\\room_and_appliance_sensors\\sensordata\\home96_kitchen999_sensor9608_electric-appliance_fridgefreezer.parquet\n",
      "..\\..\\Data\\Parquet\\room_and_appliance_sensors\\sensordata\\home105_kitchen1110_sensor5283_electric-appliance_kettle.parquet\n",
      "..\\..\\Data\\Parquet\\room_and_appliance_sensors\\sensordata\\home105_kitchen1110_sensor5284_electric-appliance_fridgefreezer.parquet\n",
      "..\\..\\Data\\Parquet\\room_and_appliance_sensors\\sensordata\\home105_kitchen1110_sensor5285_electric-appliance_washingmachine.parquet\n",
      "..\\..\\Data\\Parquet\\room_and_appliance_sensors\\sensordata\\home105_kitchen1110_sensor5286_electric-appliance_microwave.parquet\n",
      "..\\..\\Data\\Parquet\\room_and_appliance_sensors\\sensordata\\home105_kitchen1110_sensor5287_electric-appliance_dishwasher.parquet\n",
      "..\\..\\Data\\Parquet\\room_and_appliance_sensors\\sensordata\\home105_kitchen1110_sensor7932_electric-appliance_vacuumcleaner.parquet\n",
      "..\\..\\Data\\Parquet\\room_and_appliance_sensors\\sensordata\\home106_kitchen1085_sensor5210_electric-appliance_kettle.parquet\n",
      "..\\..\\Data\\Parquet\\room_and_appliance_sensors\\sensordata\\home106_kitchen1085_sensor5211_electric-appliance_microwave.parquet\n",
      "..\\..\\Data\\Parquet\\room_and_appliance_sensors\\sensordata\\home106_kitchen1085_sensor5212_electric-appliance_washingmachine.parquet\n",
      "..\\..\\Data\\Parquet\\room_and_appliance_sensors\\sensordata\\home106_kitchen1085_sensor5213_electric-appliance_fridgefreezer.parquet\n",
      "..\\..\\Data\\Parquet\\room_and_appliance_sensors\\sensordata\\home128_hall1250_sensor10802_electric-appliance_vacuumcleaner.parquet\n",
      "..\\..\\Data\\Parquet\\room_and_appliance_sensors\\sensordata\\home128_kitchen1253_sensor10803_electric-appliance_other.parquet\n",
      "..\\..\\Data\\Parquet\\room_and_appliance_sensors\\sensordata\\home128_kitchen1253_sensor10805_electric-appliance_microwave.parquet\n",
      "..\\..\\Data\\Parquet\\room_and_appliance_sensors\\sensordata\\home128_kitchen1253_sensor10924_electric-appliance_toaster.parquet\n",
      "..\\..\\Data\\Parquet\\room_and_appliance_sensors\\sensordata\\home128_kitchen1253_sensor13307_electric-appliance_washingmachine.parquet\n",
      "..\\..\\Data\\Parquet\\room_and_appliance_sensors\\sensordata\\home128_kitchen1253_sensor9251_electric-appliance_kettle.parquet\n",
      "..\\..\\Data\\Parquet\\room_and_appliance_sensors\\sensordata\\home128_kitchen1253_sensor9252_electric-appliance_fridgefreezer.parquet\n",
      "..\\..\\Data\\Parquet\\room_and_appliance_sensors\\sensordata\\home136_hall1287_sensor9275_electric-appliance_vacuumcleaner.parquet\n",
      "..\\..\\Data\\Parquet\\room_and_appliance_sensors\\sensordata\\home136_kitchen1294_sensor21311_electric-appliance_kettle.parquet\n",
      "..\\..\\Data\\Parquet\\room_and_appliance_sensors\\sensordata\\home136_kitchen1294_sensor21312_electric-appliance_microwave.parquet\n",
      "..\\..\\Data\\Parquet\\room_and_appliance_sensors\\sensordata\\home136_kitchen1294_sensor9269_electric-appliance_microwave.parquet\n",
      "..\\..\\Data\\Parquet\\room_and_appliance_sensors\\sensordata\\home136_kitchen1294_sensor9270_electric-appliance_freezer.parquet\n",
      "..\\..\\Data\\Parquet\\room_and_appliance_sensors\\sensordata\\home136_kitchen1294_sensor9271_electric-appliance_kettle.parquet\n",
      "..\\..\\Data\\Parquet\\room_and_appliance_sensors\\sensordata\\home136_kitchen1294_sensor9273_electric-appliance_fridge.parquet\n",
      "..\\..\\Data\\Parquet\\room_and_appliance_sensors\\sensordata\\home136_kitchen1294_sensor9471_electric-appliance_washingmachine.parquet\n",
      "..\\..\\Data\\Parquet\\room_and_appliance_sensors\\sensordata\\home136_kitchen1294_sensor9475_electric-appliance_dishwasher.parquet\n",
      "..\\..\\Data\\Parquet\\room_and_appliance_sensors\\sensordata\\home136_outside1291_sensor9272_electric-appliance_dehumidifier.parquet\n",
      "..\\..\\Data\\Parquet\\room_and_appliance_sensors\\sensordata\\home136_outside1291_sensor9274_electric-appliance_freezer.parquet\n",
      "..\\..\\Data\\Parquet\\room_and_appliance_sensors\\sensordata\\home139_kitchen1315_sensor13304_electric-appliance_dishwasher.parquet\n",
      "..\\..\\Data\\Parquet\\room_and_appliance_sensors\\sensordata\\home139_kitchen1315_sensor13305_electric-appliance_fridgefreezer.parquet\n",
      "..\\..\\Data\\Parquet\\room_and_appliance_sensors\\sensordata\\home139_kitchen1315_sensor13306_electric-appliance_washingmachine.parquet\n",
      "..\\..\\Data\\Parquet\\room_and_appliance_sensors\\sensordata\\home139_kitchen1315_sensor13310_electric-appliance_toaster.parquet\n",
      "..\\..\\Data\\Parquet\\room_and_appliance_sensors\\sensordata\\home140_kitchen1317_sensor10457_electric-appliance_fridgefreezer.parquet\n",
      "..\\..\\Data\\Parquet\\room_and_appliance_sensors\\sensordata\\home140_livingroom1318_sensor10464_electric-appliance_electricheater.parquet\n",
      "..\\..\\Data\\Parquet\\room_and_appliance_sensors\\sensordata\\home145_hall1345_sensor16526_electric-appliance_vacuumcleaner.parquet\n",
      "..\\..\\Data\\Parquet\\room_and_appliance_sensors\\sensordata\\home145_kitchen1349_sensor13736_electric-appliance_fridgefreezer.parquet\n",
      "..\\..\\Data\\Parquet\\room_and_appliance_sensors\\sensordata\\home145_kitchen1349_sensor14222_electric-appliance_washingmachine.parquet\n",
      "..\\..\\Data\\Parquet\\room_and_appliance_sensors\\sensordata\\home146_hall1352_sensor15550_electric-appliance_vacuumcleaner.parquet\n",
      "..\\..\\Data\\Parquet\\room_and_appliance_sensors\\sensordata\\home146_kitchen1355_sensor15431_electric-appliance_microwave.parquet\n",
      "..\\..\\Data\\Parquet\\room_and_appliance_sensors\\sensordata\\home146_kitchen1355_sensor15432_electric-appliance_kettle.parquet\n",
      "..\\..\\Data\\Parquet\\room_and_appliance_sensors\\sensordata\\home146_kitchen1355_sensor15885_electric-appliance_washingmachinetumbledrier.parquet\n",
      "..\\..\\Data\\Parquet\\room_and_appliance_sensors\\sensordata\\home162_hall1618_sensor15133_electric-appliance_vacuumcleaner.parquet\n",
      "..\\..\\Data\\Parquet\\room_and_appliance_sensors\\sensordata\\home162_kitchen1622_sensor15130_electric-appliance_kettle.parquet\n",
      "..\\..\\Data\\Parquet\\room_and_appliance_sensors\\sensordata\\home162_kitchen1622_sensor15131_electric-appliance_fridgefreezer.parquet\n",
      "..\\..\\Data\\Parquet\\room_and_appliance_sensors\\sensordata\\home162_kitchen1622_sensor15132_electric-appliance_washingmachinetumbledrier.parquet\n",
      "..\\..\\Data\\Parquet\\room_and_appliance_sensors\\sensordata\\home168_kitchen1534_sensor12520_electric-appliance_washingmachinetumbledrier.parquet\n",
      "..\\..\\Data\\Parquet\\room_and_appliance_sensors\\sensordata\\home168_kitchen1534_sensor12521_electric-appliance_kettle.parquet\n",
      "..\\..\\Data\\Parquet\\room_and_appliance_sensors\\sensordata\\home168_kitchen1534_sensor12522_electric-appliance_microwave.parquet\n",
      "..\\..\\Data\\Parquet\\room_and_appliance_sensors\\sensordata\\home168_kitchen1534_sensor12523_electric-appliance_fridgefreezer.parquet\n",
      "..\\..\\Data\\Parquet\\room_and_appliance_sensors\\sensordata\\home168_kitchen1534_sensor12524_electric-appliance_tumbledrier.parquet\n",
      "..\\..\\Data\\Parquet\\room_and_appliance_sensors\\sensordata\\home168_kitchen1534_sensor12525_electric-appliance_vacuumcleaner.parquet\n",
      "..\\..\\Data\\Parquet\\room_and_appliance_sensors\\sensordata\\home168_kitchen1534_sensor12589_electric-appliance_toaster.parquet\n",
      "..\\..\\Data\\Parquet\\room_and_appliance_sensors\\sensordata\\home168_kitchen1534_sensor21309_electric-appliance_kettle.parquet\n",
      "..\\..\\Data\\Parquet\\room_and_appliance_sensors\\sensordata\\home169_bedroom1547_sensor13185_electric-appliance_other.parquet\n",
      "..\\..\\Data\\Parquet\\room_and_appliance_sensors\\sensordata\\home169_diningroom1543_sensor13183_electric-appliance_electricheater.parquet\n",
      "..\\..\\Data\\Parquet\\room_and_appliance_sensors\\sensordata\\home169_hall1551_sensor13370_electric-appliance_vacuumcleaner.parquet\n",
      "..\\..\\Data\\Parquet\\room_and_appliance_sensors\\sensordata\\home169_kitchen1542_sensor13184_electric-appliance_microwave.parquet\n",
      "..\\..\\Data\\Parquet\\room_and_appliance_sensors\\sensordata\\home169_kitchen1542_sensor13186_electric-appliance_washingmachinetumbledrier.parquet\n",
      "..\\..\\Data\\Parquet\\room_and_appliance_sensors\\sensordata\\home169_kitchen1542_sensor13187_electric-appliance_dishwasher.parquet\n",
      "..\\..\\Data\\Parquet\\room_and_appliance_sensors\\sensordata\\home169_kitchen1542_sensor13188_electric-appliance_fridgefreezer.parquet\n",
      "..\\..\\Data\\Parquet\\room_and_appliance_sensors\\sensordata\\home169_kitchen1542_sensor13192_electric-appliance_toaster.parquet\n",
      "..\\..\\Data\\Parquet\\room_and_appliance_sensors\\sensordata\\home169_kitchen1542_sensor13826_electric-appliance_grill.parquet\n",
      "..\\..\\Data\\Parquet\\room_and_appliance_sensors\\sensordata\\home171_kitchen1565_sensor11686_electric-appliance_fridgefreezer.parquet\n",
      "..\\..\\Data\\Parquet\\room_and_appliance_sensors\\sensordata\\home171_kitchen1565_sensor11687_electric-appliance_washingmachine.parquet\n",
      "..\\..\\Data\\Parquet\\room_and_appliance_sensors\\sensordata\\home171_kitchen1565_sensor11688_electric-appliance_microwave.parquet\n",
      "..\\..\\Data\\Parquet\\room_and_appliance_sensors\\sensordata\\home171_kitchen1565_sensor12110_electric-appliance_toaster.parquet\n",
      "..\\..\\Data\\Parquet\\room_and_appliance_sensors\\sensordata\\home175_bedroom1641_sensor11553_electric-appliance_dehumidifier.parquet\n",
      "..\\..\\Data\\Parquet\\room_and_appliance_sensors\\sensordata\\home175_diningroom1636_sensor11522_electric-appliance_fridgefreezer.parquet\n",
      "..\\..\\Data\\Parquet\\room_and_appliance_sensors\\sensordata\\home175_diningroom1636_sensor11523_electric-appliance_washingmachine.parquet\n",
      "..\\..\\Data\\Parquet\\room_and_appliance_sensors\\sensordata\\home175_diningroom1636_sensor11548_electric-appliance_microwave.parquet\n",
      "..\\..\\Data\\Parquet\\room_and_appliance_sensors\\sensordata\\home175_diningroom1636_sensor11549_electric-appliance_kettle.parquet\n",
      "..\\..\\Data\\Parquet\\room_and_appliance_sensors\\sensordata\\home175_diningroom1636_sensor11550_electric-appliance_toaster.parquet\n",
      "..\\..\\Data\\Parquet\\room_and_appliance_sensors\\sensordata\\home175_diningroom1636_sensor11551_electric-appliance_dishwasher.parquet\n",
      "..\\..\\Data\\Parquet\\room_and_appliance_sensors\\sensordata\\home175_livingroom1635_sensor11552_electric-appliance_vacuumcleaner.parquet\n",
      "..\\..\\Data\\Parquet\\room_and_appliance_sensors\\sensordata\\home208_kitchen1935_sensor18018_electric-appliance_fridgefreezer.parquet\n",
      "..\\..\\Data\\Parquet\\room_and_appliance_sensors\\sensordata\\home208_kitchen1935_sensor18019_electric-appliance_kettle.parquet\n",
      "..\\..\\Data\\Parquet\\room_and_appliance_sensors\\sensordata\\home208_kitchen1935_sensor18020_electric-appliance_appliance.parquet\n",
      "..\\..\\Data\\Parquet\\room_and_appliance_sensors\\sensordata\\home208_kitchen1935_sensor18021_electric-appliance_washingmachine.parquet\n",
      "..\\..\\Data\\Parquet\\room_and_appliance_sensors\\sensordata\\home212_hall1968_sensor15873_electric-appliance_washingmachine.parquet\n",
      "..\\..\\Data\\Parquet\\room_and_appliance_sensors\\sensordata\\home212_hall1968_sensor18049_electric-appliance_tumbledrier.parquet\n",
      "..\\..\\Data\\Parquet\\room_and_appliance_sensors\\sensordata\\home212_kitchen1973_sensor15874_electric-appliance_fridgefreezer.parquet\n",
      "..\\..\\Data\\Parquet\\room_and_appliance_sensors\\sensordata\\home212_kitchen1973_sensor16939_electric-appliance_dishwasher.parquet\n",
      "..\\..\\Data\\Parquet\\room_and_appliance_sensors\\sensordata\\home212_kitchen1973_sensor16943_electric-appliance_toaster.parquet\n",
      "..\\..\\Data\\Parquet\\room_and_appliance_sensors\\sensordata\\home225_kitchen2086_sensor17458_electric-appliance_toaster.parquet\n",
      "..\\..\\Data\\Parquet\\room_and_appliance_sensors\\sensordata\\home225_kitchen2086_sensor17459_electric-appliance_freezer.parquet\n",
      "..\\..\\Data\\Parquet\\room_and_appliance_sensors\\sensordata\\home225_kitchen2086_sensor17465_electric-appliance_fridgefreezer.parquet\n",
      "..\\..\\Data\\Parquet\\room_and_appliance_sensors\\sensordata\\home225_livingroom2082_sensor17457_electric-appliance_other.parquet\n",
      "..\\..\\Data\\Parquet\\room_and_appliance_sensors\\sensordata\\home227_hall2099_sensor16091_electric-appliance_vacuumcleaner.parquet\n",
      "..\\..\\Data\\Parquet\\room_and_appliance_sensors\\sensordata\\home227_hall2099_sensor31451_electric-appliance_vacuumcleaner.parquet\n",
      "..\\..\\Data\\Parquet\\room_and_appliance_sensors\\sensordata\\home227_kitchen2103_sensor16060_electric-appliance_washingmachine.parquet\n",
      "..\\..\\Data\\Parquet\\room_and_appliance_sensors\\sensordata\\home227_kitchen2103_sensor16079_electric-appliance_toaster.parquet\n",
      "..\\..\\Data\\Parquet\\room_and_appliance_sensors\\sensordata\\home227_kitchen2103_sensor18029_electric-appliance_washingmachine.parquet\n",
      "..\\..\\Data\\Parquet\\room_and_appliance_sensors\\sensordata\\home227_kitchen2103_sensor18030_electric-appliance_toaster.parquet\n",
      "..\\..\\Data\\Parquet\\room_and_appliance_sensors\\sensordata\\home227_kitchen2103_sensor18031_electric-appliance_microwave.parquet\n",
      "..\\..\\Data\\Parquet\\room_and_appliance_sensors\\sensordata\\home227_kitchen2103_sensor18035_electric-appliance_kettle.parquet\n",
      "..\\..\\Data\\Parquet\\room_and_appliance_sensors\\sensordata\\home227_livingroom2098_sensor16441_electric-appliance_electricheater.parquet\n",
      "..\\..\\Data\\Parquet\\room_and_appliance_sensors\\sensordata\\home227_livingroom2098_sensor18441_electric-appliance_electricheater.parquet\n",
      "..\\..\\Data\\Parquet\\room_and_appliance_sensors\\sensordata\\home228_kitchen2109_sensor17329_electric-appliance_washingmachine.parquet\n",
      "..\\..\\Data\\Parquet\\room_and_appliance_sensors\\sensordata\\home228_kitchen2109_sensor17330_electric-appliance_fridgefreezer.parquet\n",
      "..\\..\\Data\\Parquet\\room_and_appliance_sensors\\sensordata\\home228_kitchen2109_sensor17384_electric-appliance_appliance.parquet\n",
      "..\\..\\Data\\Parquet\\room_and_appliance_sensors\\sensordata\\home228_kitchen2109_sensor17400_electric-appliance_microwave.parquet\n",
      "..\\..\\Data\\Parquet\\room_and_appliance_sensors\\sensordata\\home231_hall2140_sensor18909_electric-appliance_vacuumcleaner.parquet\n",
      "..\\..\\Data\\Parquet\\room_and_appliance_sensors\\sensordata\\home231_kitchen2147_sensor18899_electric-appliance_microwave.parquet\n",
      "..\\..\\Data\\Parquet\\room_and_appliance_sensors\\sensordata\\home231_kitchen2147_sensor18900_electric-appliance_kettle.parquet\n",
      "..\\..\\Data\\Parquet\\room_and_appliance_sensors\\sensordata\\home231_kitchen2147_sensor18901_electric-appliance_fridge.parquet\n",
      "..\\..\\Data\\Parquet\\room_and_appliance_sensors\\sensordata\\home231_kitchen2147_sensor18902_electric-appliance_dishwasher.parquet\n",
      "..\\..\\Data\\Parquet\\room_and_appliance_sensors\\sensordata\\home231_kitchen2147_sensor18914_electric-appliance_toaster.parquet\n",
      "..\\..\\Data\\Parquet\\room_and_appliance_sensors\\sensordata\\home231_kitchen2147_sensor19709_electric-appliance_washingmachine.parquet\n",
      "..\\..\\Data\\Parquet\\room_and_appliance_sensors\\sensordata\\home238_kitchen2202_sensor21681_electric-appliance_toaster.parquet\n",
      "..\\..\\Data\\Parquet\\room_and_appliance_sensors\\sensordata\\home238_kitchen2202_sensor21682_electric-appliance_microwave.parquet\n",
      "..\\..\\Data\\Parquet\\room_and_appliance_sensors\\sensordata\\home238_kitchen2202_sensor21683_electric-appliance_washingmachine.parquet\n",
      "..\\..\\Data\\Parquet\\room_and_appliance_sensors\\sensordata\\home238_kitchen2202_sensor21684_electric-appliance_other.parquet\n",
      "..\\..\\Data\\Parquet\\room_and_appliance_sensors\\sensordata\\home238_kitchen2202_sensor21703_electric-appliance_dishwasher.parquet\n",
      "..\\..\\Data\\Parquet\\room_and_appliance_sensors\\sensordata\\home238_kitchen2202_sensor22085_electric-appliance_vacuumcleaner.parquet\n",
      "..\\..\\Data\\Parquet\\room_and_appliance_sensors\\sensordata\\home242_diningroom2246_sensor18830_electric-appliance_vacuumcleaner.parquet\n",
      "..\\..\\Data\\Parquet\\room_and_appliance_sensors\\sensordata\\home242_kitchen2240_sensor18821_electric-appliance_toaster.parquet\n",
      "..\\..\\Data\\Parquet\\room_and_appliance_sensors\\sensordata\\home242_kitchen2240_sensor18822_electric-appliance_dishwasher.parquet\n",
      "..\\..\\Data\\Parquet\\room_and_appliance_sensors\\sensordata\\home242_utility2241_sensor18808_electric-appliance_freezer.parquet\n",
      "..\\..\\Data\\Parquet\\room_and_appliance_sensors\\sensordata\\home242_utility2241_sensor18809_electric-appliance_washingmachine.parquet\n",
      "..\\..\\Data\\Parquet\\room_and_appliance_sensors\\sensordata\\home242_utility2241_sensor18810_electric-appliance_fridge.parquet\n",
      "..\\..\\Data\\Parquet\\room_and_appliance_sensors\\sensordata\\home242_utility2241_sensor18818_electric-appliance_microwave.parquet\n",
      "..\\..\\Data\\Parquet\\room_and_appliance_sensors\\sensordata\\home249_kitchenliving2305_sensor18362_electric-appliance_washingmachinetumbledrier.parquet\n",
      "..\\..\\Data\\Parquet\\room_and_appliance_sensors\\sensordata\\home249_kitchenliving2305_sensor18363_electric-appliance_fridgefreezer.parquet\n",
      "..\\..\\Data\\Parquet\\room_and_appliance_sensors\\sensordata\\home249_kitchenliving2305_sensor18366_electric-appliance_kettle.parquet\n",
      "..\\..\\Data\\Parquet\\room_and_appliance_sensors\\sensordata\\home249_kitchenliving2305_sensor18410_electric-appliance_microwave.parquet\n",
      "..\\..\\Data\\Parquet\\room_and_appliance_sensors\\sensordata\\home249_kitchenliving2305_sensor18541_electric-appliance_dishwasher.parquet\n",
      "..\\..\\Data\\Parquet\\room_and_appliance_sensors\\sensordata\\home255_kitchenliving2357_sensor20661_electric-appliance_microwave.parquet\n",
      "..\\..\\Data\\Parquet\\room_and_appliance_sensors\\sensordata\\home255_kitchenliving2357_sensor21186_electric-appliance_dishwasher.parquet\n",
      "..\\..\\Data\\Parquet\\room_and_appliance_sensors\\sensordata\\home255_kitchenliving2357_sensor21457_electric-appliance_fridgefreezer.parquet\n",
      "..\\..\\Data\\Parquet\\room_and_appliance_sensors\\sensordata\\home255_kitchenliving2357_sensor21462_electric-appliance_toaster.parquet\n",
      "..\\..\\Data\\Parquet\\room_and_appliance_sensors\\sensordata\\home255_utility2363_sensor21618_electric-appliance_washingmachine.parquet\n",
      "..\\..\\Data\\Parquet\\room_and_appliance_sensors\\sensordata\\home255_utility2363_sensor21619_electric-appliance_vacuumcleaner.parquet\n",
      "..\\..\\Data\\Parquet\\room_and_appliance_sensors\\sensordata\\home259_hall2485_sensor31450_electric-appliance_vacuumcleaner.parquet\n",
      "..\\..\\Data\\Parquet\\room_and_appliance_sensors\\sensordata\\home259_kitchenliving2487_sensor31347_electric-appliance_toaster.parquet\n",
      "..\\..\\Data\\Parquet\\room_and_appliance_sensors\\sensordata\\home259_kitchenliving2487_sensor31349_electric-appliance_dishwasher.parquet\n",
      "..\\..\\Data\\Parquet\\room_and_appliance_sensors\\sensordata\\home259_kitchenliving2487_sensor31359_electric-appliance_kettle.parquet\n",
      "..\\..\\Data\\Parquet\\room_and_appliance_sensors\\sensordata\\home259_kitchenliving2487_sensor31436_electric-appliance_microwave.parquet\n",
      "..\\..\\Data\\Parquet\\room_and_appliance_sensors\\sensordata\\home259_other2488_sensor31346_electric-appliance_fridgefreezer.parquet\n",
      "..\\..\\Data\\Parquet\\room_and_appliance_sensors\\sensordata\\home259_other2488_sensor31348_electric-appliance_freezer.parquet\n",
      "..\\..\\Data\\Parquet\\room_and_appliance_sensors\\sensordata\\home259_other2488_sensor31444_electric-appliance_tumbledrier.parquet\n",
      "..\\..\\Data\\Parquet\\room_and_appliance_sensors\\sensordata\\home262_hall2404_sensor19566_electric-appliance_vacuumcleaner.parquet\n",
      "..\\..\\Data\\Parquet\\room_and_appliance_sensors\\sensordata\\home262_kitchen2414_sensor19563_electric-appliance_fridgefreezer.parquet\n",
      "..\\..\\Data\\Parquet\\room_and_appliance_sensors\\sensordata\\home262_kitchen2414_sensor19564_electric-appliance_toaster.parquet\n",
      "..\\..\\Data\\Parquet\\room_and_appliance_sensors\\sensordata\\home262_kitchen2414_sensor19565_electric-appliance_kettle.parquet\n",
      "..\\..\\Data\\Parquet\\room_and_appliance_sensors\\sensordata\\home263_kitchen2430_sensor18176_electric-appliance_fridgefreezer.parquet\n",
      "..\\..\\Data\\Parquet\\room_and_appliance_sensors\\sensordata\\home263_kitchen2430_sensor18177_electric-appliance_electricoven.parquet\n",
      "..\\..\\Data\\Parquet\\room_and_appliance_sensors\\sensordata\\home263_kitchen2430_sensor18178_electric-appliance_microwave.parquet\n",
      "..\\..\\Data\\Parquet\\room_and_appliance_sensors\\sensordata\\home263_kitchen2430_sensor18319_electric-appliance_dishwasher.parquet\n",
      "..\\..\\Data\\Parquet\\room_and_appliance_sensors\\sensordata\\home263_kitchen2430_sensor21723_electric-appliance_toaster.parquet\n",
      "..\\..\\Data\\Parquet\\room_and_appliance_sensors\\sensordata\\home263_utility2428_sensor18320_electric-appliance_washingmachinetumbledrier.parquet\n",
      "..\\..\\Data\\Parquet\\room_and_appliance_sensors\\sensordata\\home264_kitchen2437_sensor20737_electric-appliance_dishwasher.parquet\n",
      "..\\..\\Data\\Parquet\\room_and_appliance_sensors\\sensordata\\home264_kitchen2437_sensor20738_electric-appliance_washingmachine.parquet\n",
      "..\\..\\Data\\Parquet\\room_and_appliance_sensors\\sensordata\\home264_kitchen2437_sensor20764_electric-appliance_kettle.parquet\n",
      "..\\..\\Data\\Parquet\\room_and_appliance_sensors\\sensordata\\home264_kitchen2437_sensor20775_electric-appliance_microwave.parquet\n",
      "..\\..\\Data\\Parquet\\room_and_appliance_sensors\\sensordata\\home264_kitchen2437_sensor20824_electric-appliance_toaster.parquet\n",
      "..\\..\\Data\\Parquet\\room_and_appliance_sensors\\sensordata\\home264_kitchen2437_sensor20825_electric-appliance_vacuumcleaner.parquet\n",
      "..\\..\\Data\\Parquet\\room_and_appliance_sensors\\sensordata\\home264_livingroom2446_sensor20763_electric-appliance_electricheater.parquet\n",
      "..\\..\\Data\\Parquet\\room_and_appliance_sensors\\sensordata\\home266_kitchen2454_sensor18412_electric-appliance_microwave.parquet\n",
      "..\\..\\Data\\Parquet\\room_and_appliance_sensors\\sensordata\\home266_kitchen2454_sensor18425_electric-appliance_fridge.parquet\n",
      "..\\..\\Data\\Parquet\\room_and_appliance_sensors\\sensordata\\home266_kitchen2454_sensor18444_electric-appliance_fridgefreezer.parquet\n",
      "..\\..\\Data\\Parquet\\room_and_appliance_sensors\\sensordata\\home266_kitchen2454_sensor18547_electric-appliance_washingmachinetumbledrier.parquet\n",
      "..\\..\\Data\\Parquet\\room_and_appliance_sensors\\sensordata\\home266_kitchen2454_sensor18910_electric-appliance_appliance.parquet\n",
      "..\\..\\Data\\Parquet\\room_and_appliance_sensors\\sensordata\\home266_livingroom2451_sensor18413_electric-appliance_vacuumcleaner.parquet\n",
      "..\\..\\Data\\Parquet\\room_and_appliance_sensors\\sensordata\\home268_hall2465_sensor21708_electric-appliance_vacuumcleaner.parquet\n",
      "..\\..\\Data\\Parquet\\room_and_appliance_sensors\\sensordata\\home268_kitchen2471_sensor21532_electric-appliance_kettle.parquet\n",
      "..\\..\\Data\\Parquet\\room_and_appliance_sensors\\sensordata\\home268_kitchen2471_sensor21533_electric-appliance_fridgefreezer.parquet\n",
      "..\\..\\Data\\Parquet\\room_and_appliance_sensors\\sensordata\\home268_kitchen2471_sensor21534_electric-appliance_microwave.parquet\n",
      "..\\..\\Data\\Parquet\\room_and_appliance_sensors\\sensordata\\home268_kitchen2471_sensor21620_electric-appliance_toaster.parquet\n",
      "..\\..\\Data\\Parquet\\room_and_appliance_sensors\\sensordata\\home268_kitchen2471_sensor21624_electric-appliance_washingmachine.parquet\n",
      "..\\..\\Data\\Parquet\\room_and_appliance_sensors\\sensordata\\home276_diningroom2560_sensor22065_electric-appliance_freezer.parquet\n",
      "..\\..\\Data\\Parquet\\room_and_appliance_sensors\\sensordata\\home276_diningroom2560_sensor22069_electric-appliance_other.parquet\n",
      "..\\..\\Data\\Parquet\\room_and_appliance_sensors\\sensordata\\home276_kitchen2561_sensor22066_electric-appliance_toaster.parquet\n",
      "..\\..\\Data\\Parquet\\room_and_appliance_sensors\\sensordata\\home276_kitchen2561_sensor22067_electric-appliance_washingmachinetumbledrier.parquet\n",
      "..\\..\\Data\\Parquet\\room_and_appliance_sensors\\sensordata\\home276_kitchen2561_sensor22068_electric-appliance_fridge.parquet\n",
      "..\\..\\Data\\Parquet\\room_and_appliance_sensors\\sensordata\\home276_kitchen2561_sensor22075_electric-appliance_kettle.parquet\n",
      "..\\..\\Data\\Parquet\\room_and_appliance_sensors\\sensordata\\home276_kitchen2561_sensor22076_electric-appliance_microwave.parquet\n",
      "..\\..\\Data\\Parquet\\room_and_appliance_sensors\\sensordata\\home311_kitchen2857_sensor31431_electric-appliance_fridgefreezer.parquet\n",
      "..\\..\\Data\\Parquet\\room_and_appliance_sensors\\sensordata\\home311_kitchen2857_sensor31432_electric-appliance_kettle.parquet\n",
      "..\\..\\Data\\Parquet\\room_and_appliance_sensors\\sensordata\\home311_kitchen2857_sensor31433_electric-appliance_toaster.parquet\n",
      "..\\..\\Data\\Parquet\\room_and_appliance_sensors\\sensordata\\home311_kitchen2857_sensor31435_electric-appliance_washingmachine.parquet\n",
      "..\\..\\Data\\Parquet\\room_and_appliance_sensors\\sensordata\\home311_kitchen2857_sensor31437_electric-appliance_dishwasher.parquet\n",
      "..\\..\\Data\\Parquet\\room_and_appliance_sensors\\sensordata\\home311_kitchen2857_sensor31438_electric-appliance_vacuumcleaner.parquet\n",
      "..\\..\\Data\\Parquet\\room_and_appliance_sensors\\sensordata\\home328_kitchen2980_sensor31003_electric-appliance_kettle.parquet\n",
      "..\\..\\Data\\Parquet\\room_and_appliance_sensors\\sensordata\\home328_kitchen2980_sensor31004_electric-appliance_toaster.parquet\n",
      "..\\..\\Data\\Parquet\\room_and_appliance_sensors\\sensordata\\home328_kitchen2980_sensor31005_electric-appliance_fridgefreezer.parquet\n",
      "..\\..\\Data\\Parquet\\room_and_appliance_sensors\\sensordata\\home328_kitchen2980_sensor31014_electric-appliance_microwave.parquet\n"
     ]
    }
   ],
   "source": [
    "import polars as pl\n",
    "from pathlib import Path\n",
    "\n",
    "df_all = []\n",
    "\n",
    "for i in df_joined['home_id'].unique().to_list():\n",
    "    df_id = df_joined.filter(pl.col('home_id') == i)\n",
    "    for k in df_id['filename']:\n",
    "        df_id_file = df_id.filter(pl.col('filename') == k)\n",
    "        device = df_id_file['appliance_name'][0]\n",
    "        path_file = Path(f\"../../Data/Parquet/room_and_appliance_sensors/sensordata/{k}\")\n",
    "        print(path_file)\n",
    "        df = pl.read_parquet(path_file)\n",
    "        df_clean = fix_parquet_with_header_data(df)\n",
    "        daily_data = aggregate_data_daily(df_clean)  \n",
    "\n",
    " \n",
    "        df_tmp = daily_data.with_columns([\n",
    "            pl.lit(i).alias(\"home_id\"),\n",
    "            pl.lit(device).alias(\"device\")\n",
    "        ])\n",
    "        df_all.append(df_tmp)\n",
    "\n",
    "df_all = pl.concat(df_all)\n"
   ]
  },
  {
   "cell_type": "code",
   "execution_count": 78,
   "id": "ad63d9b9",
   "metadata": {},
   "outputs": [
    {
     "data": {
      "text/html": [
       "<div><style>\n",
       ".dataframe > thead > tr,\n",
       ".dataframe > tbody > tr {\n",
       "  text-align: right;\n",
       "  white-space: pre-wrap;\n",
       "}\n",
       "</style>\n",
       "<small>shape: (28, 15)</small><table border=\"1\" class=\"dataframe\"><thead><tr><th>home_id</th><th>electric</th><th>appliance_name</th><th>filename</th><th>num_males</th><th>num_females</th><th>num_residents</th><th>num_children</th><th>num_employed</th><th>num_with_higher_education</th><th>daily_standing_charge_pence</th><th>unit_charge_pence_per_kwh</th><th>n_rooms</th><th>smart_automation</th><th>hometype</th></tr><tr><td>i64</td><td>str</td><td>str</td><td>str</td><td>i64</td><td>i64</td><td>i64</td><td>i64</td><td>i64</td><td>i64</td><td>f64</td><td>f64</td><td>i64</td><td>str</td><td>str</td></tr></thead><tbody><tr><td>61</td><td>&quot;electric-appliance&quot;</td><td>&quot;kettle&quot;</td><td>&quot;home61_kitchen695_sensor1967_e…</td><td>1</td><td>1</td><td>2</td><td>0</td><td>2</td><td>0</td><td>0.33</td><td>0.12</td><td>9</td><td>&quot;Don&#x27;t own&quot;</td><td>&quot;house_or_bungalow&quot;</td></tr><tr><td>62</td><td>&quot;electric-appliance&quot;</td><td>&quot;kettle&quot;</td><td>&quot;home62_kitchen710_sensor1780_e…</td><td>1</td><td>1</td><td>2</td><td>0</td><td>2</td><td>2</td><td>36.0</td><td>16.16</td><td>7</td><td>&quot;Don&#x27;t own&quot;</td><td>&quot;flat&quot;</td></tr><tr><td>63</td><td>&quot;electric-appliance&quot;</td><td>&quot;kettle&quot;</td><td>&quot;home63_kitchen720_sensor3760_e…</td><td>1</td><td>1</td><td>2</td><td>0</td><td>2</td><td>2</td><td>null</td><td>null</td><td>9</td><td>&quot;Don&#x27;t own&quot;</td><td>&quot;house_or_bungalow&quot;</td></tr><tr><td>65</td><td>&quot;electric-appliance&quot;</td><td>&quot;kettle&quot;</td><td>&quot;home65_kitchen733_sensor3109_e…</td><td>1</td><td>1</td><td>2</td><td>0</td><td>2</td><td>1</td><td>27.0</td><td>15.0</td><td>11</td><td>&quot;Don&#x27;t own&quot;</td><td>&quot;house_or_bungalow&quot;</td></tr><tr><td>73</td><td>&quot;electric-appliance&quot;</td><td>&quot;kettle&quot;</td><td>&quot;home73_kitchenliving781_sensor…</td><td>1</td><td>2</td><td>3</td><td>2</td><td>1</td><td>0</td><td>null</td><td>null</td><td>8</td><td>&quot;Don&#x27;t own&quot;</td><td>&quot;flat&quot;</td></tr><tr><td>&hellip;</td><td>&hellip;</td><td>&hellip;</td><td>&hellip;</td><td>&hellip;</td><td>&hellip;</td><td>&hellip;</td><td>&hellip;</td><td>&hellip;</td><td>&hellip;</td><td>&hellip;</td><td>&hellip;</td><td>&hellip;</td><td>&hellip;</td><td>&hellip;</td></tr><tr><td>264</td><td>&quot;electric-appliance&quot;</td><td>&quot;kettle&quot;</td><td>&quot;home264_kitchen2437_sensor2076…</td><td>3</td><td>1</td><td>4</td><td>2</td><td>2</td><td>1</td><td>25.0</td><td>12.53</td><td>11</td><td>&quot;Own and use&quot;</td><td>&quot;house_or_bungalow&quot;</td></tr><tr><td>268</td><td>&quot;electric-appliance&quot;</td><td>&quot;kettle&quot;</td><td>&quot;home268_kitchen2471_sensor2153…</td><td>1</td><td>0</td><td>1</td><td>0</td><td>1</td><td>1</td><td>27.0</td><td>15.0</td><td>10</td><td>&quot;Don&#x27;t own&quot;</td><td>&quot;house_or_bungalow&quot;</td></tr><tr><td>276</td><td>&quot;electric-appliance&quot;</td><td>&quot;kettle&quot;</td><td>&quot;home276_kitchen2561_sensor2207…</td><td>1</td><td>1</td><td>2</td><td>0</td><td>1</td><td>2</td><td>26.0</td><td>3.75</td><td>10</td><td>&quot;Own and use&quot;</td><td>&quot;flat&quot;</td></tr><tr><td>311</td><td>&quot;electric-appliance&quot;</td><td>&quot;kettle&quot;</td><td>&quot;home311_kitchen2857_sensor3143…</td><td>1</td><td>1</td><td>2</td><td>0</td><td>2</td><td>0</td><td>null</td><td>null</td><td>8</td><td>&quot;Don&#x27;t own&quot;</td><td>&quot;flat&quot;</td></tr><tr><td>328</td><td>&quot;electric-appliance&quot;</td><td>&quot;kettle&quot;</td><td>&quot;home328_kitchen2980_sensor3100…</td><td>0</td><td>1</td><td>1</td><td>0</td><td>0</td><td>1</td><td>null</td><td>null</td><td>6</td><td>&quot;Don&#x27;t own&quot;</td><td>&quot;flat&quot;</td></tr></tbody></table></div>"
      ],
      "text/plain": [
       "shape: (28, 15)\n",
       "┌─────────┬────────────┬────────────┬────────────┬───┬───────────┬─────────┬───────────┬───────────┐\n",
       "│ home_id ┆ electric   ┆ appliance_ ┆ filename   ┆ … ┆ unit_char ┆ n_rooms ┆ smart_aut ┆ hometype  │\n",
       "│ ---     ┆ ---        ┆ name       ┆ ---        ┆   ┆ ge_pence_ ┆ ---     ┆ omation   ┆ ---       │\n",
       "│ i64     ┆ str        ┆ ---        ┆ str        ┆   ┆ per_kwh   ┆ i64     ┆ ---       ┆ str       │\n",
       "│         ┆            ┆ str        ┆            ┆   ┆ ---       ┆         ┆ str       ┆           │\n",
       "│         ┆            ┆            ┆            ┆   ┆ f64       ┆         ┆           ┆           │\n",
       "╞═════════╪════════════╪════════════╪════════════╪═══╪═══════════╪═════════╪═══════════╪═══════════╡\n",
       "│ 61      ┆ electric-a ┆ kettle     ┆ home61_kit ┆ … ┆ 0.12      ┆ 9       ┆ Don't own ┆ house_or_ │\n",
       "│         ┆ ppliance   ┆            ┆ chen695_se ┆   ┆           ┆         ┆           ┆ bungalow  │\n",
       "│         ┆            ┆            ┆ nsor1967_e ┆   ┆           ┆         ┆           ┆           │\n",
       "│         ┆            ┆            ┆ …          ┆   ┆           ┆         ┆           ┆           │\n",
       "│ 62      ┆ electric-a ┆ kettle     ┆ home62_kit ┆ … ┆ 16.16     ┆ 7       ┆ Don't own ┆ flat      │\n",
       "│         ┆ ppliance   ┆            ┆ chen710_se ┆   ┆           ┆         ┆           ┆           │\n",
       "│         ┆            ┆            ┆ nsor1780_e ┆   ┆           ┆         ┆           ┆           │\n",
       "│         ┆            ┆            ┆ …          ┆   ┆           ┆         ┆           ┆           │\n",
       "│ 63      ┆ electric-a ┆ kettle     ┆ home63_kit ┆ … ┆ null      ┆ 9       ┆ Don't own ┆ house_or_ │\n",
       "│         ┆ ppliance   ┆            ┆ chen720_se ┆   ┆           ┆         ┆           ┆ bungalow  │\n",
       "│         ┆            ┆            ┆ nsor3760_e ┆   ┆           ┆         ┆           ┆           │\n",
       "│         ┆            ┆            ┆ …          ┆   ┆           ┆         ┆           ┆           │\n",
       "│ 65      ┆ electric-a ┆ kettle     ┆ home65_kit ┆ … ┆ 15.0      ┆ 11      ┆ Don't own ┆ house_or_ │\n",
       "│         ┆ ppliance   ┆            ┆ chen733_se ┆   ┆           ┆         ┆           ┆ bungalow  │\n",
       "│         ┆            ┆            ┆ nsor3109_e ┆   ┆           ┆         ┆           ┆           │\n",
       "│         ┆            ┆            ┆ …          ┆   ┆           ┆         ┆           ┆           │\n",
       "│ 73      ┆ electric-a ┆ kettle     ┆ home73_kit ┆ … ┆ null      ┆ 8       ┆ Don't own ┆ flat      │\n",
       "│         ┆ ppliance   ┆            ┆ chenliving ┆   ┆           ┆         ┆           ┆           │\n",
       "│         ┆            ┆            ┆ 781_sensor ┆   ┆           ┆         ┆           ┆           │\n",
       "│         ┆            ┆            ┆ …          ┆   ┆           ┆         ┆           ┆           │\n",
       "│ …       ┆ …          ┆ …          ┆ …          ┆ … ┆ …         ┆ …       ┆ …         ┆ …         │\n",
       "│ 264     ┆ electric-a ┆ kettle     ┆ home264_ki ┆ … ┆ 12.53     ┆ 11      ┆ Own and   ┆ house_or_ │\n",
       "│         ┆ ppliance   ┆            ┆ tchen2437_ ┆   ┆           ┆         ┆ use       ┆ bungalow  │\n",
       "│         ┆            ┆            ┆ sensor2076 ┆   ┆           ┆         ┆           ┆           │\n",
       "│         ┆            ┆            ┆ …          ┆   ┆           ┆         ┆           ┆           │\n",
       "│ 268     ┆ electric-a ┆ kettle     ┆ home268_ki ┆ … ┆ 15.0      ┆ 10      ┆ Don't own ┆ house_or_ │\n",
       "│         ┆ ppliance   ┆            ┆ tchen2471_ ┆   ┆           ┆         ┆           ┆ bungalow  │\n",
       "│         ┆            ┆            ┆ sensor2153 ┆   ┆           ┆         ┆           ┆           │\n",
       "│         ┆            ┆            ┆ …          ┆   ┆           ┆         ┆           ┆           │\n",
       "│ 276     ┆ electric-a ┆ kettle     ┆ home276_ki ┆ … ┆ 3.75      ┆ 10      ┆ Own and   ┆ flat      │\n",
       "│         ┆ ppliance   ┆            ┆ tchen2561_ ┆   ┆           ┆         ┆ use       ┆           │\n",
       "│         ┆            ┆            ┆ sensor2207 ┆   ┆           ┆         ┆           ┆           │\n",
       "│         ┆            ┆            ┆ …          ┆   ┆           ┆         ┆           ┆           │\n",
       "│ 311     ┆ electric-a ┆ kettle     ┆ home311_ki ┆ … ┆ null      ┆ 8       ┆ Don't own ┆ flat      │\n",
       "│         ┆ ppliance   ┆            ┆ tchen2857_ ┆   ┆           ┆         ┆           ┆           │\n",
       "│         ┆            ┆            ┆ sensor3143 ┆   ┆           ┆         ┆           ┆           │\n",
       "│         ┆            ┆            ┆ …          ┆   ┆           ┆         ┆           ┆           │\n",
       "│ 328     ┆ electric-a ┆ kettle     ┆ home328_ki ┆ … ┆ null      ┆ 6       ┆ Don't own ┆ flat      │\n",
       "│         ┆ ppliance   ┆            ┆ tchen2980_ ┆   ┆           ┆         ┆           ┆           │\n",
       "│         ┆            ┆            ┆ sensor3100 ┆   ┆           ┆         ┆           ┆           │\n",
       "│         ┆            ┆            ┆ …          ┆   ┆           ┆         ┆           ┆           │\n",
       "└─────────┴────────────┴────────────┴────────────┴───┴───────────┴─────────┴───────────┴───────────┘"
      ]
     },
     "execution_count": 78,
     "metadata": {},
     "output_type": "execute_result"
    }
   ],
   "source": [
    "df_joined.filter(pl.col('appliance_name') == 'kettle')"
   ]
  },
  {
   "cell_type": "code",
   "execution_count": 79,
   "id": "7d99243a",
   "metadata": {},
   "outputs": [
    {
     "data": {
      "text/html": [
       "<div><style>\n",
       ".dataframe > thead > tr,\n",
       ".dataframe > tbody > tr {\n",
       "  text-align: right;\n",
       "  white-space: pre-wrap;\n",
       "}\n",
       "</style>\n",
       "<small>shape: (260, 2)</small><table border=\"1\" class=\"dataframe\"><thead><tr><th>date</th><th>daily_sum</th></tr><tr><td>date</td><td>i64</td></tr></thead><tbody><tr><td>2016-11-17</td><td>11763</td></tr><tr><td>2016-11-18</td><td>14256</td></tr><tr><td>2016-11-19</td><td>22827</td></tr><tr><td>2016-11-20</td><td>25511</td></tr><tr><td>2016-11-21</td><td>19826</td></tr><tr><td>&hellip;</td><td>&hellip;</td></tr><tr><td>2017-08-03</td><td>11549</td></tr><tr><td>2017-08-04</td><td>0</td></tr><tr><td>2017-08-05</td><td>0</td></tr><tr><td>2017-08-06</td><td>0</td></tr><tr><td>2017-08-07</td><td>0</td></tr></tbody></table></div>"
      ],
      "text/plain": [
       "shape: (260, 2)\n",
       "┌────────────┬───────────┐\n",
       "│ date       ┆ daily_sum │\n",
       "│ ---        ┆ ---       │\n",
       "│ date       ┆ i64       │\n",
       "╞════════════╪═══════════╡\n",
       "│ 2016-11-17 ┆ 11763     │\n",
       "│ 2016-11-18 ┆ 14256     │\n",
       "│ 2016-11-19 ┆ 22827     │\n",
       "│ 2016-11-20 ┆ 25511     │\n",
       "│ 2016-11-21 ┆ 19826     │\n",
       "│ …          ┆ …         │\n",
       "│ 2017-08-03 ┆ 11549     │\n",
       "│ 2017-08-04 ┆ 0         │\n",
       "│ 2017-08-05 ┆ 0         │\n",
       "│ 2017-08-06 ┆ 0         │\n",
       "│ 2017-08-07 ┆ 0         │\n",
       "└────────────┴───────────┘"
      ]
     },
     "execution_count": 79,
     "metadata": {},
     "output_type": "execute_result"
    }
   ],
   "source": [
    "daily_kettle"
   ]
  },
  {
   "cell_type": "code",
   "execution_count": 85,
   "id": "e9320197",
   "metadata": {},
   "outputs": [
    {
     "data": {
      "text/html": [
       "<div><style>\n",
       ".dataframe > thead > tr,\n",
       ".dataframe > tbody > tr {\n",
       "  text-align: right;\n",
       "  white-space: pre-wrap;\n",
       "}\n",
       "</style>\n",
       "<small>shape: (5, 2)</small><table border=\"1\" class=\"dataframe\"><thead><tr><th>date</th><th>daily_sum</th></tr><tr><td>date</td><td>i64</td></tr></thead><tbody><tr><td>2018-05-26</td><td>3776</td></tr><tr><td>2018-05-27</td><td>0</td></tr><tr><td>2018-05-28</td><td>2662</td></tr><tr><td>2018-05-29</td><td>2392</td></tr><tr><td>2018-05-30</td><td>0</td></tr></tbody></table></div>"
      ],
      "text/plain": [
       "shape: (5, 2)\n",
       "┌────────────┬───────────┐\n",
       "│ date       ┆ daily_sum │\n",
       "│ ---        ┆ ---       │\n",
       "│ date       ┆ i64       │\n",
       "╞════════════╪═══════════╡\n",
       "│ 2018-05-26 ┆ 3776      │\n",
       "│ 2018-05-27 ┆ 0         │\n",
       "│ 2018-05-28 ┆ 2662      │\n",
       "│ 2018-05-29 ┆ 2392      │\n",
       "│ 2018-05-30 ┆ 0         │\n",
       "└────────────┴───────────┘"
      ]
     },
     "execution_count": 85,
     "metadata": {},
     "output_type": "execute_result"
    }
   ],
   "source": [
    "df_joined.filter(pl.col('home_id') == 328)['filename'][-1]\n",
    "path_file = Path(f\"../../Data/Parquet/room_and_appliance_sensors/sensordata/{df_joined.filter(pl.col('home_id') == 328)['filename'][-1]}\")\n",
    "path_file\n",
    "clean_microwave = fix_parquet_with_header_data(pl.read_parquet(path_file))\n",
    "daily_microwave = aggregate_data_daily(clean_microwave)\n",
    "daily_microwave"
   ]
  },
  {
   "cell_type": "code",
   "execution_count": 76,
   "id": "937d43ae",
   "metadata": {},
   "outputs": [
    {
     "data": {
      "text/html": [
       "<div><style>\n",
       ".dataframe > thead > tr,\n",
       ".dataframe > tbody > tr {\n",
       "  text-align: right;\n",
       "  white-space: pre-wrap;\n",
       "}\n",
       "</style>\n",
       "<small>shape: (30_275, 4)</small><table border=\"1\" class=\"dataframe\"><thead><tr><th>date</th><th>daily_sum</th><th>home_id</th><th>device</th></tr><tr><td>date</td><td>i64</td><td>i32</td><td>str</td></tr></thead><tbody><tr><td>2016-11-17</td><td>11763</td><td>61</td><td>&quot;kettle&quot;</td></tr><tr><td>2016-11-18</td><td>14256</td><td>61</td><td>&quot;kettle&quot;</td></tr><tr><td>2016-11-19</td><td>22827</td><td>61</td><td>&quot;kettle&quot;</td></tr><tr><td>2016-11-20</td><td>25511</td><td>61</td><td>&quot;kettle&quot;</td></tr><tr><td>2016-11-21</td><td>19826</td><td>61</td><td>&quot;kettle&quot;</td></tr><tr><td>&hellip;</td><td>&hellip;</td><td>&hellip;</td><td>&hellip;</td></tr><tr><td>2018-05-26</td><td>3776</td><td>328</td><td>&quot;microwave&quot;</td></tr><tr><td>2018-05-27</td><td>0</td><td>328</td><td>&quot;microwave&quot;</td></tr><tr><td>2018-05-28</td><td>2662</td><td>328</td><td>&quot;microwave&quot;</td></tr><tr><td>2018-05-29</td><td>2392</td><td>328</td><td>&quot;microwave&quot;</td></tr><tr><td>2018-05-30</td><td>0</td><td>328</td><td>&quot;microwave&quot;</td></tr></tbody></table></div>"
      ],
      "text/plain": [
       "shape: (30_275, 4)\n",
       "┌────────────┬───────────┬─────────┬───────────┐\n",
       "│ date       ┆ daily_sum ┆ home_id ┆ device    │\n",
       "│ ---        ┆ ---       ┆ ---     ┆ ---       │\n",
       "│ date       ┆ i64       ┆ i32     ┆ str       │\n",
       "╞════════════╪═══════════╪═════════╪═══════════╡\n",
       "│ 2016-11-17 ┆ 11763     ┆ 61      ┆ kettle    │\n",
       "│ 2016-11-18 ┆ 14256     ┆ 61      ┆ kettle    │\n",
       "│ 2016-11-19 ┆ 22827     ┆ 61      ┆ kettle    │\n",
       "│ 2016-11-20 ┆ 25511     ┆ 61      ┆ kettle    │\n",
       "│ 2016-11-21 ┆ 19826     ┆ 61      ┆ kettle    │\n",
       "│ …          ┆ …         ┆ …       ┆ …         │\n",
       "│ 2018-05-26 ┆ 3776      ┆ 328     ┆ microwave │\n",
       "│ 2018-05-27 ┆ 0         ┆ 328     ┆ microwave │\n",
       "│ 2018-05-28 ┆ 2662      ┆ 328     ┆ microwave │\n",
       "│ 2018-05-29 ┆ 2392      ┆ 328     ┆ microwave │\n",
       "│ 2018-05-30 ┆ 0         ┆ 328     ┆ microwave │\n",
       "└────────────┴───────────┴─────────┴───────────┘"
      ]
     },
     "execution_count": 76,
     "metadata": {},
     "output_type": "execute_result"
    }
   ],
   "source": [
    "df_all"
   ]
  },
  {
   "cell_type": "markdown",
   "id": "175c1f78",
   "metadata": {},
   "source": [
    "Wygląda na ok :)"
   ]
  },
  {
   "cell_type": "code",
   "execution_count": 86,
   "id": "1f0af7ce",
   "metadata": {},
   "outputs": [
    {
     "data": {
      "text/html": [
       "<div><style>\n",
       ".dataframe > thead > tr,\n",
       ".dataframe > tbody > tr {\n",
       "  text-align: right;\n",
       "  white-space: pre-wrap;\n",
       "}\n",
       "</style>\n",
       "<small>shape: (217, 15)</small><table border=\"1\" class=\"dataframe\"><thead><tr><th>home_id</th><th>electric</th><th>appliance_name</th><th>filename</th><th>num_males</th><th>num_females</th><th>num_residents</th><th>num_children</th><th>num_employed</th><th>num_with_higher_education</th><th>daily_standing_charge_pence</th><th>unit_charge_pence_per_kwh</th><th>n_rooms</th><th>smart_automation</th><th>hometype</th></tr><tr><td>i64</td><td>str</td><td>str</td><td>str</td><td>i64</td><td>i64</td><td>i64</td><td>i64</td><td>i64</td><td>i64</td><td>f64</td><td>f64</td><td>i64</td><td>str</td><td>str</td></tr></thead><tbody><tr><td>61</td><td>&quot;electric-appliance&quot;</td><td>&quot;kettle&quot;</td><td>&quot;home61_kitchen695_sensor1967_e…</td><td>1</td><td>1</td><td>2</td><td>0</td><td>2</td><td>0</td><td>0.33</td><td>0.12</td><td>9</td><td>&quot;Don&#x27;t own&quot;</td><td>&quot;house_or_bungalow&quot;</td></tr><tr><td>61</td><td>&quot;electric-appliance&quot;</td><td>&quot;dishwasher&quot;</td><td>&quot;home61_kitchen695_sensor1969_e…</td><td>1</td><td>1</td><td>2</td><td>0</td><td>2</td><td>0</td><td>0.33</td><td>0.12</td><td>9</td><td>&quot;Don&#x27;t own&quot;</td><td>&quot;house_or_bungalow&quot;</td></tr><tr><td>61</td><td>&quot;electric-appliance&quot;</td><td>&quot;microwave&quot;</td><td>&quot;home61_kitchen695_sensor1971_e…</td><td>1</td><td>1</td><td>2</td><td>0</td><td>2</td><td>0</td><td>0.33</td><td>0.12</td><td>9</td><td>&quot;Don&#x27;t own&quot;</td><td>&quot;house_or_bungalow&quot;</td></tr><tr><td>62</td><td>&quot;electric-appliance&quot;</td><td>&quot;fridgefreezer&quot;</td><td>&quot;home62_kitchen710_sensor1779_e…</td><td>1</td><td>1</td><td>2</td><td>0</td><td>2</td><td>2</td><td>36.0</td><td>16.16</td><td>7</td><td>&quot;Don&#x27;t own&quot;</td><td>&quot;flat&quot;</td></tr><tr><td>62</td><td>&quot;electric-appliance&quot;</td><td>&quot;kettle&quot;</td><td>&quot;home62_kitchen710_sensor1780_e…</td><td>1</td><td>1</td><td>2</td><td>0</td><td>2</td><td>2</td><td>36.0</td><td>16.16</td><td>7</td><td>&quot;Don&#x27;t own&quot;</td><td>&quot;flat&quot;</td></tr><tr><td>&hellip;</td><td>&hellip;</td><td>&hellip;</td><td>&hellip;</td><td>&hellip;</td><td>&hellip;</td><td>&hellip;</td><td>&hellip;</td><td>&hellip;</td><td>&hellip;</td><td>&hellip;</td><td>&hellip;</td><td>&hellip;</td><td>&hellip;</td><td>&hellip;</td></tr><tr><td>311</td><td>&quot;electric-appliance&quot;</td><td>&quot;vacuumcleaner&quot;</td><td>&quot;home311_kitchen2857_sensor3143…</td><td>1</td><td>1</td><td>2</td><td>0</td><td>2</td><td>0</td><td>null</td><td>null</td><td>8</td><td>&quot;Don&#x27;t own&quot;</td><td>&quot;flat&quot;</td></tr><tr><td>328</td><td>&quot;electric-appliance&quot;</td><td>&quot;kettle&quot;</td><td>&quot;home328_kitchen2980_sensor3100…</td><td>0</td><td>1</td><td>1</td><td>0</td><td>0</td><td>1</td><td>null</td><td>null</td><td>6</td><td>&quot;Don&#x27;t own&quot;</td><td>&quot;flat&quot;</td></tr><tr><td>328</td><td>&quot;electric-appliance&quot;</td><td>&quot;toaster&quot;</td><td>&quot;home328_kitchen2980_sensor3100…</td><td>0</td><td>1</td><td>1</td><td>0</td><td>0</td><td>1</td><td>null</td><td>null</td><td>6</td><td>&quot;Don&#x27;t own&quot;</td><td>&quot;flat&quot;</td></tr><tr><td>328</td><td>&quot;electric-appliance&quot;</td><td>&quot;fridgefreezer&quot;</td><td>&quot;home328_kitchen2980_sensor3100…</td><td>0</td><td>1</td><td>1</td><td>0</td><td>0</td><td>1</td><td>null</td><td>null</td><td>6</td><td>&quot;Don&#x27;t own&quot;</td><td>&quot;flat&quot;</td></tr><tr><td>328</td><td>&quot;electric-appliance&quot;</td><td>&quot;microwave&quot;</td><td>&quot;home328_kitchen2980_sensor3101…</td><td>0</td><td>1</td><td>1</td><td>0</td><td>0</td><td>1</td><td>null</td><td>null</td><td>6</td><td>&quot;Don&#x27;t own&quot;</td><td>&quot;flat&quot;</td></tr></tbody></table></div>"
      ],
      "text/plain": [
       "shape: (217, 15)\n",
       "┌─────────┬────────────┬────────────┬────────────┬───┬───────────┬─────────┬───────────┬───────────┐\n",
       "│ home_id ┆ electric   ┆ appliance_ ┆ filename   ┆ … ┆ unit_char ┆ n_rooms ┆ smart_aut ┆ hometype  │\n",
       "│ ---     ┆ ---        ┆ name       ┆ ---        ┆   ┆ ge_pence_ ┆ ---     ┆ omation   ┆ ---       │\n",
       "│ i64     ┆ str        ┆ ---        ┆ str        ┆   ┆ per_kwh   ┆ i64     ┆ ---       ┆ str       │\n",
       "│         ┆            ┆ str        ┆            ┆   ┆ ---       ┆         ┆ str       ┆           │\n",
       "│         ┆            ┆            ┆            ┆   ┆ f64       ┆         ┆           ┆           │\n",
       "╞═════════╪════════════╪════════════╪════════════╪═══╪═══════════╪═════════╪═══════════╪═══════════╡\n",
       "│ 61      ┆ electric-a ┆ kettle     ┆ home61_kit ┆ … ┆ 0.12      ┆ 9       ┆ Don't own ┆ house_or_ │\n",
       "│         ┆ ppliance   ┆            ┆ chen695_se ┆   ┆           ┆         ┆           ┆ bungalow  │\n",
       "│         ┆            ┆            ┆ nsor1967_e ┆   ┆           ┆         ┆           ┆           │\n",
       "│         ┆            ┆            ┆ …          ┆   ┆           ┆         ┆           ┆           │\n",
       "│ 61      ┆ electric-a ┆ dishwasher ┆ home61_kit ┆ … ┆ 0.12      ┆ 9       ┆ Don't own ┆ house_or_ │\n",
       "│         ┆ ppliance   ┆            ┆ chen695_se ┆   ┆           ┆         ┆           ┆ bungalow  │\n",
       "│         ┆            ┆            ┆ nsor1969_e ┆   ┆           ┆         ┆           ┆           │\n",
       "│         ┆            ┆            ┆ …          ┆   ┆           ┆         ┆           ┆           │\n",
       "│ 61      ┆ electric-a ┆ microwave  ┆ home61_kit ┆ … ┆ 0.12      ┆ 9       ┆ Don't own ┆ house_or_ │\n",
       "│         ┆ ppliance   ┆            ┆ chen695_se ┆   ┆           ┆         ┆           ┆ bungalow  │\n",
       "│         ┆            ┆            ┆ nsor1971_e ┆   ┆           ┆         ┆           ┆           │\n",
       "│         ┆            ┆            ┆ …          ┆   ┆           ┆         ┆           ┆           │\n",
       "│ 62      ┆ electric-a ┆ fridgefree ┆ home62_kit ┆ … ┆ 16.16     ┆ 7       ┆ Don't own ┆ flat      │\n",
       "│         ┆ ppliance   ┆ zer        ┆ chen710_se ┆   ┆           ┆         ┆           ┆           │\n",
       "│         ┆            ┆            ┆ nsor1779_e ┆   ┆           ┆         ┆           ┆           │\n",
       "│         ┆            ┆            ┆ …          ┆   ┆           ┆         ┆           ┆           │\n",
       "│ 62      ┆ electric-a ┆ kettle     ┆ home62_kit ┆ … ┆ 16.16     ┆ 7       ┆ Don't own ┆ flat      │\n",
       "│         ┆ ppliance   ┆            ┆ chen710_se ┆   ┆           ┆         ┆           ┆           │\n",
       "│         ┆            ┆            ┆ nsor1780_e ┆   ┆           ┆         ┆           ┆           │\n",
       "│         ┆            ┆            ┆ …          ┆   ┆           ┆         ┆           ┆           │\n",
       "│ …       ┆ …          ┆ …          ┆ …          ┆ … ┆ …         ┆ …       ┆ …         ┆ …         │\n",
       "│ 311     ┆ electric-a ┆ vacuumclea ┆ home311_ki ┆ … ┆ null      ┆ 8       ┆ Don't own ┆ flat      │\n",
       "│         ┆ ppliance   ┆ ner        ┆ tchen2857_ ┆   ┆           ┆         ┆           ┆           │\n",
       "│         ┆            ┆            ┆ sensor3143 ┆   ┆           ┆         ┆           ┆           │\n",
       "│         ┆            ┆            ┆ …          ┆   ┆           ┆         ┆           ┆           │\n",
       "│ 328     ┆ electric-a ┆ kettle     ┆ home328_ki ┆ … ┆ null      ┆ 6       ┆ Don't own ┆ flat      │\n",
       "│         ┆ ppliance   ┆            ┆ tchen2980_ ┆   ┆           ┆         ┆           ┆           │\n",
       "│         ┆            ┆            ┆ sensor3100 ┆   ┆           ┆         ┆           ┆           │\n",
       "│         ┆            ┆            ┆ …          ┆   ┆           ┆         ┆           ┆           │\n",
       "│ 328     ┆ electric-a ┆ toaster    ┆ home328_ki ┆ … ┆ null      ┆ 6       ┆ Don't own ┆ flat      │\n",
       "│         ┆ ppliance   ┆            ┆ tchen2980_ ┆   ┆           ┆         ┆           ┆           │\n",
       "│         ┆            ┆            ┆ sensor3100 ┆   ┆           ┆         ┆           ┆           │\n",
       "│         ┆            ┆            ┆ …          ┆   ┆           ┆         ┆           ┆           │\n",
       "│ 328     ┆ electric-a ┆ fridgefree ┆ home328_ki ┆ … ┆ null      ┆ 6       ┆ Don't own ┆ flat      │\n",
       "│         ┆ ppliance   ┆ zer        ┆ tchen2980_ ┆   ┆           ┆         ┆           ┆           │\n",
       "│         ┆            ┆            ┆ sensor3100 ┆   ┆           ┆         ┆           ┆           │\n",
       "│         ┆            ┆            ┆ …          ┆   ┆           ┆         ┆           ┆           │\n",
       "│ 328     ┆ electric-a ┆ microwave  ┆ home328_ki ┆ … ┆ null      ┆ 6       ┆ Don't own ┆ flat      │\n",
       "│         ┆ ppliance   ┆            ┆ tchen2980_ ┆   ┆           ┆         ┆           ┆           │\n",
       "│         ┆            ┆            ┆ sensor3101 ┆   ┆           ┆         ┆           ┆           │\n",
       "│         ┆            ┆            ┆ …          ┆   ┆           ┆         ┆           ┆           │\n",
       "└─────────┴────────────┴────────────┴────────────┴───┴───────────┴─────────┴───────────┴───────────┘"
      ]
     },
     "execution_count": 86,
     "metadata": {},
     "output_type": "execute_result"
    }
   ],
   "source": [
    "df_joined"
   ]
  },
  {
   "cell_type": "code",
   "execution_count": 89,
   "id": "904f15d1",
   "metadata": {},
   "outputs": [],
   "source": [
    "\n",
    "df_all = df_all.with_columns([\n",
    "    pl.col(\"device\").str.strip_chars().str.to_lowercase()\n",
    "])\n",
    "\n",
    "df_joined = df_joined.with_columns([\n",
    "    pl.col(\"appliance_name\").str.strip_chars().str.to_lowercase()\n",
    "])\n",
    "\n",
    "\n",
    "df_panel_long = df_all.join(\n",
    "    df_joined,\n",
    "    left_on=[\"home_id\", \"device\"],\n",
    "    right_on=[\"home_id\", \"appliance_name\"],\n",
    "    how=\"left\"\n",
    ")\n"
   ]
  },
  {
   "cell_type": "code",
   "execution_count": 95,
   "id": "2c9784d7",
   "metadata": {},
   "outputs": [
    {
     "data": {
      "text/html": [
       "<div><style>\n",
       ".dataframe > thead > tr,\n",
       ".dataframe > tbody > tr {\n",
       "  text-align: right;\n",
       "  white-space: pre-wrap;\n",
       "}\n",
       "</style>\n",
       "<small>shape: (31_502, 17)</small><table border=\"1\" class=\"dataframe\"><thead><tr><th>date</th><th>daily_sum</th><th>home_id</th><th>device</th><th>electric</th><th>filename</th><th>num_males</th><th>num_females</th><th>num_residents</th><th>num_children</th><th>num_employed</th><th>num_with_higher_education</th><th>daily_standing_charge_pence</th><th>unit_charge_pence_per_kwh</th><th>n_rooms</th><th>smart_automation</th><th>hometype</th></tr><tr><td>date</td><td>i64</td><td>i32</td><td>str</td><td>str</td><td>str</td><td>i64</td><td>i64</td><td>i64</td><td>i64</td><td>i64</td><td>i64</td><td>f64</td><td>f64</td><td>i64</td><td>str</td><td>str</td></tr></thead><tbody><tr><td>2016-11-17</td><td>11763</td><td>61</td><td>&quot;kettle&quot;</td><td>&quot;electric-appliance&quot;</td><td>&quot;home61_kitchen695_sensor1967_e…</td><td>1</td><td>1</td><td>2</td><td>0</td><td>2</td><td>0</td><td>0.33</td><td>0.12</td><td>9</td><td>&quot;Don&#x27;t own&quot;</td><td>&quot;house_or_bungalow&quot;</td></tr><tr><td>2016-11-18</td><td>14256</td><td>61</td><td>&quot;kettle&quot;</td><td>&quot;electric-appliance&quot;</td><td>&quot;home61_kitchen695_sensor1967_e…</td><td>1</td><td>1</td><td>2</td><td>0</td><td>2</td><td>0</td><td>0.33</td><td>0.12</td><td>9</td><td>&quot;Don&#x27;t own&quot;</td><td>&quot;house_or_bungalow&quot;</td></tr><tr><td>2016-11-19</td><td>22827</td><td>61</td><td>&quot;kettle&quot;</td><td>&quot;electric-appliance&quot;</td><td>&quot;home61_kitchen695_sensor1967_e…</td><td>1</td><td>1</td><td>2</td><td>0</td><td>2</td><td>0</td><td>0.33</td><td>0.12</td><td>9</td><td>&quot;Don&#x27;t own&quot;</td><td>&quot;house_or_bungalow&quot;</td></tr><tr><td>2016-11-20</td><td>25511</td><td>61</td><td>&quot;kettle&quot;</td><td>&quot;electric-appliance&quot;</td><td>&quot;home61_kitchen695_sensor1967_e…</td><td>1</td><td>1</td><td>2</td><td>0</td><td>2</td><td>0</td><td>0.33</td><td>0.12</td><td>9</td><td>&quot;Don&#x27;t own&quot;</td><td>&quot;house_or_bungalow&quot;</td></tr><tr><td>2016-11-21</td><td>19826</td><td>61</td><td>&quot;kettle&quot;</td><td>&quot;electric-appliance&quot;</td><td>&quot;home61_kitchen695_sensor1967_e…</td><td>1</td><td>1</td><td>2</td><td>0</td><td>2</td><td>0</td><td>0.33</td><td>0.12</td><td>9</td><td>&quot;Don&#x27;t own&quot;</td><td>&quot;house_or_bungalow&quot;</td></tr><tr><td>&hellip;</td><td>&hellip;</td><td>&hellip;</td><td>&hellip;</td><td>&hellip;</td><td>&hellip;</td><td>&hellip;</td><td>&hellip;</td><td>&hellip;</td><td>&hellip;</td><td>&hellip;</td><td>&hellip;</td><td>&hellip;</td><td>&hellip;</td><td>&hellip;</td><td>&hellip;</td><td>&hellip;</td></tr><tr><td>2018-05-26</td><td>3776</td><td>328</td><td>&quot;microwave&quot;</td><td>&quot;electric-appliance&quot;</td><td>&quot;home328_kitchen2980_sensor3101…</td><td>0</td><td>1</td><td>1</td><td>0</td><td>0</td><td>1</td><td>null</td><td>null</td><td>6</td><td>&quot;Don&#x27;t own&quot;</td><td>&quot;flat&quot;</td></tr><tr><td>2018-05-27</td><td>0</td><td>328</td><td>&quot;microwave&quot;</td><td>&quot;electric-appliance&quot;</td><td>&quot;home328_kitchen2980_sensor3101…</td><td>0</td><td>1</td><td>1</td><td>0</td><td>0</td><td>1</td><td>null</td><td>null</td><td>6</td><td>&quot;Don&#x27;t own&quot;</td><td>&quot;flat&quot;</td></tr><tr><td>2018-05-28</td><td>2662</td><td>328</td><td>&quot;microwave&quot;</td><td>&quot;electric-appliance&quot;</td><td>&quot;home328_kitchen2980_sensor3101…</td><td>0</td><td>1</td><td>1</td><td>0</td><td>0</td><td>1</td><td>null</td><td>null</td><td>6</td><td>&quot;Don&#x27;t own&quot;</td><td>&quot;flat&quot;</td></tr><tr><td>2018-05-29</td><td>2392</td><td>328</td><td>&quot;microwave&quot;</td><td>&quot;electric-appliance&quot;</td><td>&quot;home328_kitchen2980_sensor3101…</td><td>0</td><td>1</td><td>1</td><td>0</td><td>0</td><td>1</td><td>null</td><td>null</td><td>6</td><td>&quot;Don&#x27;t own&quot;</td><td>&quot;flat&quot;</td></tr><tr><td>2018-05-30</td><td>0</td><td>328</td><td>&quot;microwave&quot;</td><td>&quot;electric-appliance&quot;</td><td>&quot;home328_kitchen2980_sensor3101…</td><td>0</td><td>1</td><td>1</td><td>0</td><td>0</td><td>1</td><td>null</td><td>null</td><td>6</td><td>&quot;Don&#x27;t own&quot;</td><td>&quot;flat&quot;</td></tr></tbody></table></div>"
      ],
      "text/plain": [
       "shape: (31_502, 17)\n",
       "┌────────────┬───────────┬─────────┬───────────┬───┬────────────┬─────────┬────────────┬───────────┐\n",
       "│ date       ┆ daily_sum ┆ home_id ┆ device    ┆ … ┆ unit_charg ┆ n_rooms ┆ smart_auto ┆ hometype  │\n",
       "│ ---        ┆ ---       ┆ ---     ┆ ---       ┆   ┆ e_pence_pe ┆ ---     ┆ mation     ┆ ---       │\n",
       "│ date       ┆ i64       ┆ i32     ┆ str       ┆   ┆ r_kwh      ┆ i64     ┆ ---        ┆ str       │\n",
       "│            ┆           ┆         ┆           ┆   ┆ ---        ┆         ┆ str        ┆           │\n",
       "│            ┆           ┆         ┆           ┆   ┆ f64        ┆         ┆            ┆           │\n",
       "╞════════════╪═══════════╪═════════╪═══════════╪═══╪════════════╪═════════╪════════════╪═══════════╡\n",
       "│ 2016-11-17 ┆ 11763     ┆ 61      ┆ kettle    ┆ … ┆ 0.12       ┆ 9       ┆ Don't own  ┆ house_or_ │\n",
       "│            ┆           ┆         ┆           ┆   ┆            ┆         ┆            ┆ bungalow  │\n",
       "│ 2016-11-18 ┆ 14256     ┆ 61      ┆ kettle    ┆ … ┆ 0.12       ┆ 9       ┆ Don't own  ┆ house_or_ │\n",
       "│            ┆           ┆         ┆           ┆   ┆            ┆         ┆            ┆ bungalow  │\n",
       "│ 2016-11-19 ┆ 22827     ┆ 61      ┆ kettle    ┆ … ┆ 0.12       ┆ 9       ┆ Don't own  ┆ house_or_ │\n",
       "│            ┆           ┆         ┆           ┆   ┆            ┆         ┆            ┆ bungalow  │\n",
       "│ 2016-11-20 ┆ 25511     ┆ 61      ┆ kettle    ┆ … ┆ 0.12       ┆ 9       ┆ Don't own  ┆ house_or_ │\n",
       "│            ┆           ┆         ┆           ┆   ┆            ┆         ┆            ┆ bungalow  │\n",
       "│ 2016-11-21 ┆ 19826     ┆ 61      ┆ kettle    ┆ … ┆ 0.12       ┆ 9       ┆ Don't own  ┆ house_or_ │\n",
       "│            ┆           ┆         ┆           ┆   ┆            ┆         ┆            ┆ bungalow  │\n",
       "│ …          ┆ …         ┆ …       ┆ …         ┆ … ┆ …          ┆ …       ┆ …          ┆ …         │\n",
       "│ 2018-05-26 ┆ 3776      ┆ 328     ┆ microwave ┆ … ┆ null       ┆ 6       ┆ Don't own  ┆ flat      │\n",
       "│ 2018-05-27 ┆ 0         ┆ 328     ┆ microwave ┆ … ┆ null       ┆ 6       ┆ Don't own  ┆ flat      │\n",
       "│ 2018-05-28 ┆ 2662      ┆ 328     ┆ microwave ┆ … ┆ null       ┆ 6       ┆ Don't own  ┆ flat      │\n",
       "│ 2018-05-29 ┆ 2392      ┆ 328     ┆ microwave ┆ … ┆ null       ┆ 6       ┆ Don't own  ┆ flat      │\n",
       "│ 2018-05-30 ┆ 0         ┆ 328     ┆ microwave ┆ … ┆ null       ┆ 6       ┆ Don't own  ┆ flat      │\n",
       "└────────────┴───────────┴─────────┴───────────┴───┴────────────┴─────────┴────────────┴───────────┘"
      ]
     },
     "execution_count": 95,
     "metadata": {},
     "output_type": "execute_result"
    }
   ],
   "source": [
    "df_panel_long"
   ]
  },
  {
   "cell_type": "code",
   "execution_count": 91,
   "id": "29fcb93f",
   "metadata": {},
   "outputs": [
    {
     "name": "stderr",
     "output_type": "stream",
     "text": [
      "<>:1: SyntaxWarning: invalid escape sequence '\\.'\n",
      "<>:1: SyntaxWarning: invalid escape sequence '\\.'\n",
      "C:\\Users\\jansl\\AppData\\Local\\Temp\\ipykernel_14016\\4218702844.py:1: SyntaxWarning: invalid escape sequence '\\.'\n",
      "  df_panel_long.write_parquet(\"..\\..\\Data\\ML_DF\\data_frame_panel_long.parquet\")\n"
     ]
    }
   ],
   "source": [
    "df_panel_long.write_parquet(\"..\\..\\Data\\ML_DF\\data_frame_panel_long.parquet\")"
   ]
  },
  {
   "cell_type": "code",
   "execution_count": 107,
   "id": "0339c483",
   "metadata": {},
   "outputs": [
    {
     "name": "stderr",
     "output_type": "stream",
     "text": [
      "C:\\Users\\jansl\\AppData\\Local\\Temp\\ipykernel_14016\\2203284142.py:1: DeprecationWarning: the argument `columns` for `DataFrame.pivot` is deprecated. It was renamed to `on` in version 1.0.0.\n",
      "  pivot_df = df_panel_long.pivot(\n"
     ]
    }
   ],
   "source": [
    "pivot_df = df_panel_long.pivot(\n",
    "    values=\"daily_sum\",\n",
    "    index=[\"date\",'home_id'],\n",
    "    columns=\"device\",\n",
    "    aggregate_function='first'  # or \"sum\" if you expect multiple entries per date/device\n",
    ")"
   ]
  },
  {
   "cell_type": "code",
   "execution_count": 119,
   "id": "5b3b19c4",
   "metadata": {},
   "outputs": [
    {
     "data": {
      "text/html": [
       "<div><style>\n",
       ".dataframe > thead > tr,\n",
       ".dataframe > tbody > tr {\n",
       "  text-align: right;\n",
       "  white-space: pre-wrap;\n",
       "}\n",
       "</style>\n",
       "<small>shape: (31_502, 17)</small><table border=\"1\" class=\"dataframe\"><thead><tr><th>date</th><th>daily_sum</th><th>home_id</th><th>device</th><th>electric</th><th>filename</th><th>num_males</th><th>num_females</th><th>num_residents</th><th>num_children</th><th>num_employed</th><th>num_with_higher_education</th><th>daily_standing_charge_pence</th><th>unit_charge_pence_per_kwh</th><th>n_rooms</th><th>smart_automation</th><th>hometype</th></tr><tr><td>date</td><td>i64</td><td>i32</td><td>str</td><td>str</td><td>str</td><td>i64</td><td>i64</td><td>i64</td><td>i64</td><td>i64</td><td>i64</td><td>f64</td><td>f64</td><td>i64</td><td>str</td><td>str</td></tr></thead><tbody><tr><td>2016-11-17</td><td>11763</td><td>61</td><td>&quot;kettle&quot;</td><td>&quot;electric-appliance&quot;</td><td>&quot;home61_kitchen695_sensor1967_e…</td><td>1</td><td>1</td><td>2</td><td>0</td><td>2</td><td>0</td><td>0.33</td><td>0.12</td><td>9</td><td>&quot;Don&#x27;t own&quot;</td><td>&quot;house_or_bungalow&quot;</td></tr><tr><td>2016-11-18</td><td>14256</td><td>61</td><td>&quot;kettle&quot;</td><td>&quot;electric-appliance&quot;</td><td>&quot;home61_kitchen695_sensor1967_e…</td><td>1</td><td>1</td><td>2</td><td>0</td><td>2</td><td>0</td><td>0.33</td><td>0.12</td><td>9</td><td>&quot;Don&#x27;t own&quot;</td><td>&quot;house_or_bungalow&quot;</td></tr><tr><td>2016-11-19</td><td>22827</td><td>61</td><td>&quot;kettle&quot;</td><td>&quot;electric-appliance&quot;</td><td>&quot;home61_kitchen695_sensor1967_e…</td><td>1</td><td>1</td><td>2</td><td>0</td><td>2</td><td>0</td><td>0.33</td><td>0.12</td><td>9</td><td>&quot;Don&#x27;t own&quot;</td><td>&quot;house_or_bungalow&quot;</td></tr><tr><td>2016-11-20</td><td>25511</td><td>61</td><td>&quot;kettle&quot;</td><td>&quot;electric-appliance&quot;</td><td>&quot;home61_kitchen695_sensor1967_e…</td><td>1</td><td>1</td><td>2</td><td>0</td><td>2</td><td>0</td><td>0.33</td><td>0.12</td><td>9</td><td>&quot;Don&#x27;t own&quot;</td><td>&quot;house_or_bungalow&quot;</td></tr><tr><td>2016-11-21</td><td>19826</td><td>61</td><td>&quot;kettle&quot;</td><td>&quot;electric-appliance&quot;</td><td>&quot;home61_kitchen695_sensor1967_e…</td><td>1</td><td>1</td><td>2</td><td>0</td><td>2</td><td>0</td><td>0.33</td><td>0.12</td><td>9</td><td>&quot;Don&#x27;t own&quot;</td><td>&quot;house_or_bungalow&quot;</td></tr><tr><td>&hellip;</td><td>&hellip;</td><td>&hellip;</td><td>&hellip;</td><td>&hellip;</td><td>&hellip;</td><td>&hellip;</td><td>&hellip;</td><td>&hellip;</td><td>&hellip;</td><td>&hellip;</td><td>&hellip;</td><td>&hellip;</td><td>&hellip;</td><td>&hellip;</td><td>&hellip;</td><td>&hellip;</td></tr><tr><td>2018-05-26</td><td>3776</td><td>328</td><td>&quot;microwave&quot;</td><td>&quot;electric-appliance&quot;</td><td>&quot;home328_kitchen2980_sensor3101…</td><td>0</td><td>1</td><td>1</td><td>0</td><td>0</td><td>1</td><td>null</td><td>null</td><td>6</td><td>&quot;Don&#x27;t own&quot;</td><td>&quot;flat&quot;</td></tr><tr><td>2018-05-27</td><td>0</td><td>328</td><td>&quot;microwave&quot;</td><td>&quot;electric-appliance&quot;</td><td>&quot;home328_kitchen2980_sensor3101…</td><td>0</td><td>1</td><td>1</td><td>0</td><td>0</td><td>1</td><td>null</td><td>null</td><td>6</td><td>&quot;Don&#x27;t own&quot;</td><td>&quot;flat&quot;</td></tr><tr><td>2018-05-28</td><td>2662</td><td>328</td><td>&quot;microwave&quot;</td><td>&quot;electric-appliance&quot;</td><td>&quot;home328_kitchen2980_sensor3101…</td><td>0</td><td>1</td><td>1</td><td>0</td><td>0</td><td>1</td><td>null</td><td>null</td><td>6</td><td>&quot;Don&#x27;t own&quot;</td><td>&quot;flat&quot;</td></tr><tr><td>2018-05-29</td><td>2392</td><td>328</td><td>&quot;microwave&quot;</td><td>&quot;electric-appliance&quot;</td><td>&quot;home328_kitchen2980_sensor3101…</td><td>0</td><td>1</td><td>1</td><td>0</td><td>0</td><td>1</td><td>null</td><td>null</td><td>6</td><td>&quot;Don&#x27;t own&quot;</td><td>&quot;flat&quot;</td></tr><tr><td>2018-05-30</td><td>0</td><td>328</td><td>&quot;microwave&quot;</td><td>&quot;electric-appliance&quot;</td><td>&quot;home328_kitchen2980_sensor3101…</td><td>0</td><td>1</td><td>1</td><td>0</td><td>0</td><td>1</td><td>null</td><td>null</td><td>6</td><td>&quot;Don&#x27;t own&quot;</td><td>&quot;flat&quot;</td></tr></tbody></table></div>"
      ],
      "text/plain": [
       "shape: (31_502, 17)\n",
       "┌────────────┬───────────┬─────────┬───────────┬───┬────────────┬─────────┬────────────┬───────────┐\n",
       "│ date       ┆ daily_sum ┆ home_id ┆ device    ┆ … ┆ unit_charg ┆ n_rooms ┆ smart_auto ┆ hometype  │\n",
       "│ ---        ┆ ---       ┆ ---     ┆ ---       ┆   ┆ e_pence_pe ┆ ---     ┆ mation     ┆ ---       │\n",
       "│ date       ┆ i64       ┆ i32     ┆ str       ┆   ┆ r_kwh      ┆ i64     ┆ ---        ┆ str       │\n",
       "│            ┆           ┆         ┆           ┆   ┆ ---        ┆         ┆ str        ┆           │\n",
       "│            ┆           ┆         ┆           ┆   ┆ f64        ┆         ┆            ┆           │\n",
       "╞════════════╪═══════════╪═════════╪═══════════╪═══╪════════════╪═════════╪════════════╪═══════════╡\n",
       "│ 2016-11-17 ┆ 11763     ┆ 61      ┆ kettle    ┆ … ┆ 0.12       ┆ 9       ┆ Don't own  ┆ house_or_ │\n",
       "│            ┆           ┆         ┆           ┆   ┆            ┆         ┆            ┆ bungalow  │\n",
       "│ 2016-11-18 ┆ 14256     ┆ 61      ┆ kettle    ┆ … ┆ 0.12       ┆ 9       ┆ Don't own  ┆ house_or_ │\n",
       "│            ┆           ┆         ┆           ┆   ┆            ┆         ┆            ┆ bungalow  │\n",
       "│ 2016-11-19 ┆ 22827     ┆ 61      ┆ kettle    ┆ … ┆ 0.12       ┆ 9       ┆ Don't own  ┆ house_or_ │\n",
       "│            ┆           ┆         ┆           ┆   ┆            ┆         ┆            ┆ bungalow  │\n",
       "│ 2016-11-20 ┆ 25511     ┆ 61      ┆ kettle    ┆ … ┆ 0.12       ┆ 9       ┆ Don't own  ┆ house_or_ │\n",
       "│            ┆           ┆         ┆           ┆   ┆            ┆         ┆            ┆ bungalow  │\n",
       "│ 2016-11-21 ┆ 19826     ┆ 61      ┆ kettle    ┆ … ┆ 0.12       ┆ 9       ┆ Don't own  ┆ house_or_ │\n",
       "│            ┆           ┆         ┆           ┆   ┆            ┆         ┆            ┆ bungalow  │\n",
       "│ …          ┆ …         ┆ …       ┆ …         ┆ … ┆ …          ┆ …       ┆ …          ┆ …         │\n",
       "│ 2018-05-26 ┆ 3776      ┆ 328     ┆ microwave ┆ … ┆ null       ┆ 6       ┆ Don't own  ┆ flat      │\n",
       "│ 2018-05-27 ┆ 0         ┆ 328     ┆ microwave ┆ … ┆ null       ┆ 6       ┆ Don't own  ┆ flat      │\n",
       "│ 2018-05-28 ┆ 2662      ┆ 328     ┆ microwave ┆ … ┆ null       ┆ 6       ┆ Don't own  ┆ flat      │\n",
       "│ 2018-05-29 ┆ 2392      ┆ 328     ┆ microwave ┆ … ┆ null       ┆ 6       ┆ Don't own  ┆ flat      │\n",
       "│ 2018-05-30 ┆ 0         ┆ 328     ┆ microwave ┆ … ┆ null       ┆ 6       ┆ Don't own  ┆ flat      │\n",
       "└────────────┴───────────┴─────────┴───────────┴───┴────────────┴─────────┴────────────┴───────────┘"
      ]
     },
     "execution_count": 119,
     "metadata": {},
     "output_type": "execute_result"
    }
   ],
   "source": [
    "df_panel_long"
   ]
  },
  {
   "cell_type": "code",
   "execution_count": 120,
   "id": "65e8a0e9",
   "metadata": {},
   "outputs": [
    {
     "data": {
      "text/html": [
       "<div><style>\n",
       ".dataframe > thead > tr,\n",
       ".dataframe > tbody > tr {\n",
       "  text-align: right;\n",
       "  white-space: pre-wrap;\n",
       "}\n",
       "</style>\n",
       "<small>shape: (219, 12)</small><table border=\"1\" class=\"dataframe\"><thead><tr><th>homeid_1</th><th>num_males</th><th>num_females</th><th>num_residents</th><th>num_children</th><th>num_employed</th><th>num_with_higher_education</th><th>daily_standing_charge_pence</th><th>unit_charge_pence_per_kwh</th><th>n_rooms</th><th>smart_automation</th><th>hometype</th></tr><tr><td>i64</td><td>i64</td><td>i64</td><td>i64</td><td>i64</td><td>i64</td><td>i64</td><td>f64</td><td>f64</td><td>i64</td><td>str</td><td>str</td></tr></thead><tbody><tr><td>61</td><td>1</td><td>1</td><td>2</td><td>0</td><td>2</td><td>0</td><td>0.33</td><td>0.12</td><td>9</td><td>&quot;Don&#x27;t own&quot;</td><td>&quot;house_or_bungalow&quot;</td></tr><tr><td>61</td><td>1</td><td>1</td><td>2</td><td>0</td><td>2</td><td>0</td><td>0.33</td><td>0.12</td><td>9</td><td>&quot;Don&#x27;t own&quot;</td><td>&quot;house_or_bungalow&quot;</td></tr><tr><td>61</td><td>1</td><td>1</td><td>2</td><td>0</td><td>2</td><td>0</td><td>0.33</td><td>0.12</td><td>9</td><td>&quot;Don&#x27;t own&quot;</td><td>&quot;house_or_bungalow&quot;</td></tr><tr><td>62</td><td>1</td><td>1</td><td>2</td><td>0</td><td>2</td><td>2</td><td>36.0</td><td>16.16</td><td>7</td><td>&quot;Don&#x27;t own&quot;</td><td>&quot;flat&quot;</td></tr><tr><td>62</td><td>1</td><td>1</td><td>2</td><td>0</td><td>2</td><td>2</td><td>36.0</td><td>16.16</td><td>7</td><td>&quot;Don&#x27;t own&quot;</td><td>&quot;flat&quot;</td></tr><tr><td>&hellip;</td><td>&hellip;</td><td>&hellip;</td><td>&hellip;</td><td>&hellip;</td><td>&hellip;</td><td>&hellip;</td><td>&hellip;</td><td>&hellip;</td><td>&hellip;</td><td>&hellip;</td><td>&hellip;</td></tr><tr><td>328</td><td>0</td><td>1</td><td>1</td><td>0</td><td>0</td><td>1</td><td>null</td><td>null</td><td>6</td><td>&quot;Don&#x27;t own&quot;</td><td>&quot;flat&quot;</td></tr><tr><td>328</td><td>0</td><td>1</td><td>1</td><td>0</td><td>0</td><td>1</td><td>null</td><td>null</td><td>6</td><td>&quot;Don&#x27;t own&quot;</td><td>&quot;flat&quot;</td></tr><tr><td>328</td><td>0</td><td>1</td><td>1</td><td>0</td><td>0</td><td>1</td><td>null</td><td>null</td><td>6</td><td>&quot;Don&#x27;t own&quot;</td><td>&quot;flat&quot;</td></tr><tr><td>328</td><td>0</td><td>1</td><td>1</td><td>0</td><td>0</td><td>1</td><td>null</td><td>null</td><td>6</td><td>&quot;Don&#x27;t own&quot;</td><td>&quot;flat&quot;</td></tr><tr><td>328</td><td>0</td><td>1</td><td>1</td><td>0</td><td>0</td><td>1</td><td>null</td><td>null</td><td>6</td><td>&quot;Don&#x27;t own&quot;</td><td>&quot;flat&quot;</td></tr></tbody></table></div>"
      ],
      "text/plain": [
       "shape: (219, 12)\n",
       "┌──────────┬───────────┬────────────┬────────────┬───┬───────────┬─────────┬───────────┬───────────┐\n",
       "│ homeid_1 ┆ num_males ┆ num_female ┆ num_reside ┆ … ┆ unit_char ┆ n_rooms ┆ smart_aut ┆ hometype  │\n",
       "│ ---      ┆ ---       ┆ s          ┆ nts        ┆   ┆ ge_pence_ ┆ ---     ┆ omation   ┆ ---       │\n",
       "│ i64      ┆ i64       ┆ ---        ┆ ---        ┆   ┆ per_kwh   ┆ i64     ┆ ---       ┆ str       │\n",
       "│          ┆           ┆ i64        ┆ i64        ┆   ┆ ---       ┆         ┆ str       ┆           │\n",
       "│          ┆           ┆            ┆            ┆   ┆ f64       ┆         ┆           ┆           │\n",
       "╞══════════╪═══════════╪════════════╪════════════╪═══╪═══════════╪═════════╪═══════════╪═══════════╡\n",
       "│ 61       ┆ 1         ┆ 1          ┆ 2          ┆ … ┆ 0.12      ┆ 9       ┆ Don't own ┆ house_or_ │\n",
       "│          ┆           ┆            ┆            ┆   ┆           ┆         ┆           ┆ bungalow  │\n",
       "│ 61       ┆ 1         ┆ 1          ┆ 2          ┆ … ┆ 0.12      ┆ 9       ┆ Don't own ┆ house_or_ │\n",
       "│          ┆           ┆            ┆            ┆   ┆           ┆         ┆           ┆ bungalow  │\n",
       "│ 61       ┆ 1         ┆ 1          ┆ 2          ┆ … ┆ 0.12      ┆ 9       ┆ Don't own ┆ house_or_ │\n",
       "│          ┆           ┆            ┆            ┆   ┆           ┆         ┆           ┆ bungalow  │\n",
       "│ 62       ┆ 1         ┆ 1          ┆ 2          ┆ … ┆ 16.16     ┆ 7       ┆ Don't own ┆ flat      │\n",
       "│ 62       ┆ 1         ┆ 1          ┆ 2          ┆ … ┆ 16.16     ┆ 7       ┆ Don't own ┆ flat      │\n",
       "│ …        ┆ …         ┆ …          ┆ …          ┆ … ┆ …         ┆ …       ┆ …         ┆ …         │\n",
       "│ 328      ┆ 0         ┆ 1          ┆ 1          ┆ … ┆ null      ┆ 6       ┆ Don't own ┆ flat      │\n",
       "│ 328      ┆ 0         ┆ 1          ┆ 1          ┆ … ┆ null      ┆ 6       ┆ Don't own ┆ flat      │\n",
       "│ 328      ┆ 0         ┆ 1          ┆ 1          ┆ … ┆ null      ┆ 6       ┆ Don't own ┆ flat      │\n",
       "│ 328      ┆ 0         ┆ 1          ┆ 1          ┆ … ┆ null      ┆ 6       ┆ Don't own ┆ flat      │\n",
       "│ 328      ┆ 0         ┆ 1          ┆ 1          ┆ … ┆ null      ┆ 6       ┆ Don't own ┆ flat      │\n",
       "└──────────┴───────────┴────────────┴────────────┴───┴───────────┴─────────┴───────────┴───────────┘"
      ]
     },
     "execution_count": 120,
     "metadata": {},
     "output_type": "execute_result"
    }
   ],
   "source": [
    "df_home_id"
   ]
  },
  {
   "cell_type": "code",
   "execution_count": 121,
   "id": "5700eec9",
   "metadata": {},
   "outputs": [
    {
     "data": {
      "text/html": [
       "<div><style>\n",
       ".dataframe > thead > tr,\n",
       ".dataframe > tbody > tr {\n",
       "  text-align: right;\n",
       "  white-space: pre-wrap;\n",
       "}\n",
       "</style>\n",
       "<small>shape: (42_865, 30)</small><table border=\"1\" class=\"dataframe\"><thead><tr><th>homeid_1</th><th>num_males</th><th>num_females</th><th>num_residents</th><th>num_children</th><th>num_employed</th><th>num_with_higher_education</th><th>daily_standing_charge_pence</th><th>unit_charge_pence_per_kwh</th><th>n_rooms</th><th>smart_automation</th><th>hometype</th><th>date</th><th>kettle</th><th>dishwasher</th><th>microwave</th><th>fridgefreezer</th><th>washingmachine</th><th>vacuumcleaner</th><th>washingmachinetumbledrier</th><th>other</th><th>toaster</th><th>freezer</th><th>fridge</th><th>dehumidifier</th><th>electricheater</th><th>tumbledrier</th><th>grill</th><th>appliance</th><th>electricoven</th></tr><tr><td>i64</td><td>i64</td><td>i64</td><td>i64</td><td>i64</td><td>i64</td><td>i64</td><td>f64</td><td>f64</td><td>i64</td><td>str</td><td>str</td><td>date</td><td>i64</td><td>i64</td><td>i64</td><td>i64</td><td>i64</td><td>i64</td><td>i64</td><td>i64</td><td>i64</td><td>i64</td><td>i64</td><td>i64</td><td>i64</td><td>i64</td><td>i64</td><td>i64</td><td>i64</td></tr></thead><tbody><tr><td>61</td><td>1</td><td>1</td><td>2</td><td>0</td><td>2</td><td>0</td><td>0.33</td><td>0.12</td><td>9</td><td>&quot;Don&#x27;t own&quot;</td><td>&quot;house_or_bungalow&quot;</td><td>2016-11-17</td><td>11763</td><td>2969</td><td>342</td><td>null</td><td>null</td><td>null</td><td>null</td><td>null</td><td>null</td><td>null</td><td>null</td><td>null</td><td>null</td><td>null</td><td>null</td><td>null</td><td>null</td></tr><tr><td>61</td><td>1</td><td>1</td><td>2</td><td>0</td><td>2</td><td>0</td><td>0.33</td><td>0.12</td><td>9</td><td>&quot;Don&#x27;t own&quot;</td><td>&quot;house_or_bungalow&quot;</td><td>2016-11-18</td><td>14256</td><td>14482</td><td>9147</td><td>null</td><td>null</td><td>null</td><td>null</td><td>null</td><td>null</td><td>null</td><td>null</td><td>null</td><td>null</td><td>null</td><td>null</td><td>null</td><td>null</td></tr><tr><td>61</td><td>1</td><td>1</td><td>2</td><td>0</td><td>2</td><td>0</td><td>0.33</td><td>0.12</td><td>9</td><td>&quot;Don&#x27;t own&quot;</td><td>&quot;house_or_bungalow&quot;</td><td>2016-11-19</td><td>22827</td><td>7705</td><td>4858</td><td>null</td><td>null</td><td>null</td><td>null</td><td>null</td><td>null</td><td>null</td><td>null</td><td>null</td><td>null</td><td>null</td><td>null</td><td>null</td><td>null</td></tr><tr><td>61</td><td>1</td><td>1</td><td>2</td><td>0</td><td>2</td><td>0</td><td>0.33</td><td>0.12</td><td>9</td><td>&quot;Don&#x27;t own&quot;</td><td>&quot;house_or_bungalow&quot;</td><td>2016-11-20</td><td>25511</td><td>20033</td><td>3333</td><td>null</td><td>null</td><td>null</td><td>null</td><td>null</td><td>null</td><td>null</td><td>null</td><td>null</td><td>null</td><td>null</td><td>null</td><td>null</td><td>null</td></tr><tr><td>61</td><td>1</td><td>1</td><td>2</td><td>0</td><td>2</td><td>0</td><td>0.33</td><td>0.12</td><td>9</td><td>&quot;Don&#x27;t own&quot;</td><td>&quot;house_or_bungalow&quot;</td><td>2016-11-21</td><td>19826</td><td>133</td><td>4</td><td>null</td><td>null</td><td>null</td><td>null</td><td>null</td><td>null</td><td>null</td><td>null</td><td>null</td><td>null</td><td>null</td><td>null</td><td>null</td><td>null</td></tr><tr><td>&hellip;</td><td>&hellip;</td><td>&hellip;</td><td>&hellip;</td><td>&hellip;</td><td>&hellip;</td><td>&hellip;</td><td>&hellip;</td><td>&hellip;</td><td>&hellip;</td><td>&hellip;</td><td>&hellip;</td><td>&hellip;</td><td>&hellip;</td><td>&hellip;</td><td>&hellip;</td><td>&hellip;</td><td>&hellip;</td><td>&hellip;</td><td>&hellip;</td><td>&hellip;</td><td>&hellip;</td><td>&hellip;</td><td>&hellip;</td><td>&hellip;</td><td>&hellip;</td><td>&hellip;</td><td>&hellip;</td><td>&hellip;</td><td>&hellip;</td></tr><tr><td>328</td><td>0</td><td>1</td><td>1</td><td>0</td><td>0</td><td>1</td><td>null</td><td>null</td><td>6</td><td>&quot;Don&#x27;t own&quot;</td><td>&quot;flat&quot;</td><td>2018-05-26</td><td>8791</td><td>null</td><td>3776</td><td>20097</td><td>null</td><td>null</td><td>null</td><td>null</td><td>0</td><td>null</td><td>null</td><td>null</td><td>null</td><td>null</td><td>null</td><td>null</td><td>null</td></tr><tr><td>328</td><td>0</td><td>1</td><td>1</td><td>0</td><td>0</td><td>1</td><td>null</td><td>null</td><td>6</td><td>&quot;Don&#x27;t own&quot;</td><td>&quot;flat&quot;</td><td>2018-05-27</td><td>12940</td><td>null</td><td>0</td><td>16200</td><td>null</td><td>null</td><td>null</td><td>null</td><td>0</td><td>null</td><td>null</td><td>null</td><td>null</td><td>null</td><td>null</td><td>null</td><td>null</td></tr><tr><td>328</td><td>0</td><td>1</td><td>1</td><td>0</td><td>0</td><td>1</td><td>null</td><td>null</td><td>6</td><td>&quot;Don&#x27;t own&quot;</td><td>&quot;flat&quot;</td><td>2018-05-28</td><td>2934</td><td>null</td><td>2662</td><td>18679</td><td>null</td><td>null</td><td>null</td><td>null</td><td>0</td><td>null</td><td>null</td><td>null</td><td>null</td><td>null</td><td>null</td><td>null</td><td>null</td></tr><tr><td>328</td><td>0</td><td>1</td><td>1</td><td>0</td><td>0</td><td>1</td><td>null</td><td>null</td><td>6</td><td>&quot;Don&#x27;t own&quot;</td><td>&quot;flat&quot;</td><td>2018-05-29</td><td>9924</td><td>null</td><td>2392</td><td>18349</td><td>null</td><td>null</td><td>null</td><td>null</td><td>0</td><td>null</td><td>null</td><td>null</td><td>null</td><td>null</td><td>null</td><td>null</td><td>null</td></tr><tr><td>328</td><td>0</td><td>1</td><td>1</td><td>0</td><td>0</td><td>1</td><td>null</td><td>null</td><td>6</td><td>&quot;Don&#x27;t own&quot;</td><td>&quot;flat&quot;</td><td>2018-05-30</td><td>3856</td><td>null</td><td>0</td><td>19497</td><td>null</td><td>null</td><td>null</td><td>null</td><td>0</td><td>null</td><td>null</td><td>null</td><td>null</td><td>null</td><td>null</td><td>null</td><td>null</td></tr></tbody></table></div>"
      ],
      "text/plain": [
       "shape: (42_865, 30)\n",
       "┌──────────┬───────────┬────────────┬────────────┬───┬────────────┬───────┬───────────┬────────────┐\n",
       "│ homeid_1 ┆ num_males ┆ num_female ┆ num_reside ┆ … ┆ tumbledrie ┆ grill ┆ appliance ┆ electricov │\n",
       "│ ---      ┆ ---       ┆ s          ┆ nts        ┆   ┆ r          ┆ ---   ┆ ---       ┆ en         │\n",
       "│ i64      ┆ i64       ┆ ---        ┆ ---        ┆   ┆ ---        ┆ i64   ┆ i64       ┆ ---        │\n",
       "│          ┆           ┆ i64        ┆ i64        ┆   ┆ i64        ┆       ┆           ┆ i64        │\n",
       "╞══════════╪═══════════╪════════════╪════════════╪═══╪════════════╪═══════╪═══════════╪════════════╡\n",
       "│ 61       ┆ 1         ┆ 1          ┆ 2          ┆ … ┆ null       ┆ null  ┆ null      ┆ null       │\n",
       "│ 61       ┆ 1         ┆ 1          ┆ 2          ┆ … ┆ null       ┆ null  ┆ null      ┆ null       │\n",
       "│ 61       ┆ 1         ┆ 1          ┆ 2          ┆ … ┆ null       ┆ null  ┆ null      ┆ null       │\n",
       "│ 61       ┆ 1         ┆ 1          ┆ 2          ┆ … ┆ null       ┆ null  ┆ null      ┆ null       │\n",
       "│ 61       ┆ 1         ┆ 1          ┆ 2          ┆ … ┆ null       ┆ null  ┆ null      ┆ null       │\n",
       "│ …        ┆ …         ┆ …          ┆ …          ┆ … ┆ …          ┆ …     ┆ …         ┆ …          │\n",
       "│ 328      ┆ 0         ┆ 1          ┆ 1          ┆ … ┆ null       ┆ null  ┆ null      ┆ null       │\n",
       "│ 328      ┆ 0         ┆ 1          ┆ 1          ┆ … ┆ null       ┆ null  ┆ null      ┆ null       │\n",
       "│ 328      ┆ 0         ┆ 1          ┆ 1          ┆ … ┆ null       ┆ null  ┆ null      ┆ null       │\n",
       "│ 328      ┆ 0         ┆ 1          ┆ 1          ┆ … ┆ null       ┆ null  ┆ null      ┆ null       │\n",
       "│ 328      ┆ 0         ┆ 1          ┆ 1          ┆ … ┆ null       ┆ null  ┆ null      ┆ null       │\n",
       "└──────────┴───────────┴────────────┴────────────┴───┴────────────┴───────┴───────────┴────────────┘"
      ]
     },
     "execution_count": 121,
     "metadata": {},
     "output_type": "execute_result"
    }
   ],
   "source": [
    "df_home_id.join(\n",
    "    pivot_df,\n",
    "    left_on='homeid_1',\n",
    "    right_on='home_id',\n",
    "    how='left')"
   ]
  }
 ],
 "metadata": {
  "kernelspec": {
   "display_name": ".venv",
   "language": "python",
   "name": "python3"
  },
  "language_info": {
   "codemirror_mode": {
    "name": "ipython",
    "version": 3
   },
   "file_extension": ".py",
   "mimetype": "text/x-python",
   "name": "python",
   "nbconvert_exporter": "python",
   "pygments_lexer": "ipython3",
   "version": "3.12.9"
  }
 },
 "nbformat": 4,
 "nbformat_minor": 5
}
