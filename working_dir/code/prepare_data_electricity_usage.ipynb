{
 "cells": [
  {
   "cell_type": "code",
   "execution_count": 54,
   "id": "ef665eaf",
   "metadata": {},
   "outputs": [],
   "source": [
    "import pandas as pd\n",
    "import polars as pl\n",
    "import os\n",
    "from functions.fix_parquet_with_header_data import fix_parquet_with_header_data\n",
    "from functions.prepare_electric_filenames_from_household_sensors import prepare_electric_filenames_from_household_sensors\n",
    "from functions.aggregate_data_daily import aggregate_data_daily\n",
    "from functions.prepare_electric_filenames_from_appliance import prepare_electric_filenames_from_appliance\n",
    "import matplotlib.pyplot as plt\n",
    "from pathlib import Path"
   ]
  },
  {
   "cell_type": "markdown",
   "id": "572f5156",
   "metadata": {},
   "source": [
    "### Przygotowanie df-a z lokalizacjami plików do agregowania"
   ]
  },
  {
   "cell_type": "code",
   "execution_count": 2,
   "id": "c35b6d7e",
   "metadata": {},
   "outputs": [],
   "source": [
    "folder_path = \"../../Data/Parquet/household_sensors/sensordata\"\n",
    "household_sensors_data_to_process = prepare_electric_filenames_from_household_sensors(folder_path)"
   ]
  },
  {
   "cell_type": "code",
   "execution_count": 3,
   "id": "778958e9",
   "metadata": {},
   "outputs": [],
   "source": [
    "folder_path = \"../../Data/Parquet/room_and_appliance_sensors/sensordata\"\n",
    "appliance_data_to_process = prepare_electric_filenames_from_appliance(folder_path)"
   ]
  },
  {
   "cell_type": "code",
   "execution_count": 4,
   "id": "12a64546",
   "metadata": {},
   "outputs": [
    {
     "data": {
      "text/plain": [
       "254"
      ]
     },
     "execution_count": 4,
     "metadata": {},
     "output_type": "execute_result"
    }
   ],
   "source": [
    "len(household_sensors_data_to_process[\"home_id\"].unique())"
   ]
  },
  {
   "cell_type": "code",
   "execution_count": 5,
   "id": "5da1ddd3",
   "metadata": {},
   "outputs": [
    {
     "data": {
      "text/html": [
       "<div>\n",
       "<style scoped>\n",
       "    .dataframe tbody tr th:only-of-type {\n",
       "        vertical-align: middle;\n",
       "    }\n",
       "\n",
       "    .dataframe tbody tr th {\n",
       "        vertical-align: top;\n",
       "    }\n",
       "\n",
       "    .dataframe thead th {\n",
       "        text-align: right;\n",
       "    }\n",
       "</style>\n",
       "<table border=\"1\" class=\"dataframe\">\n",
       "  <thead>\n",
       "    <tr style=\"text-align: right;\">\n",
       "      <th></th>\n",
       "      <th>home_id</th>\n",
       "      <th>electric</th>\n",
       "      <th>appliance_name</th>\n",
       "      <th>filename</th>\n",
       "    </tr>\n",
       "  </thead>\n",
       "  <tbody>\n",
       "    <tr>\n",
       "      <th>0</th>\n",
       "      <td>61</td>\n",
       "      <td>electric-appliance</td>\n",
       "      <td>kettle</td>\n",
       "      <td>home61_kitchen695_sensor1967_electric-applianc...</td>\n",
       "    </tr>\n",
       "    <tr>\n",
       "      <th>1</th>\n",
       "      <td>61</td>\n",
       "      <td>electric-appliance</td>\n",
       "      <td>dishwasher</td>\n",
       "      <td>home61_kitchen695_sensor1969_electric-applianc...</td>\n",
       "    </tr>\n",
       "    <tr>\n",
       "      <th>2</th>\n",
       "      <td>61</td>\n",
       "      <td>electric-appliance</td>\n",
       "      <td>microwave</td>\n",
       "      <td>home61_kitchen695_sensor1971_electric-applianc...</td>\n",
       "    </tr>\n",
       "    <tr>\n",
       "      <th>3</th>\n",
       "      <td>62</td>\n",
       "      <td>electric-appliance</td>\n",
       "      <td>fridgefreezer</td>\n",
       "      <td>home62_kitchen710_sensor1779_electric-applianc...</td>\n",
       "    </tr>\n",
       "    <tr>\n",
       "      <th>4</th>\n",
       "      <td>62</td>\n",
       "      <td>electric-appliance</td>\n",
       "      <td>kettle</td>\n",
       "      <td>home62_kitchen710_sensor1780_electric-applianc...</td>\n",
       "    </tr>\n",
       "    <tr>\n",
       "      <th>...</th>\n",
       "      <td>...</td>\n",
       "      <td>...</td>\n",
       "      <td>...</td>\n",
       "      <td>...</td>\n",
       "    </tr>\n",
       "    <tr>\n",
       "      <th>212</th>\n",
       "      <td>311</td>\n",
       "      <td>electric-appliance</td>\n",
       "      <td>vacuumcleaner</td>\n",
       "      <td>home311_kitchen2857_sensor31438_electric-appli...</td>\n",
       "    </tr>\n",
       "    <tr>\n",
       "      <th>213</th>\n",
       "      <td>328</td>\n",
       "      <td>electric-appliance</td>\n",
       "      <td>kettle</td>\n",
       "      <td>home328_kitchen2980_sensor31003_electric-appli...</td>\n",
       "    </tr>\n",
       "    <tr>\n",
       "      <th>214</th>\n",
       "      <td>328</td>\n",
       "      <td>electric-appliance</td>\n",
       "      <td>toaster</td>\n",
       "      <td>home328_kitchen2980_sensor31004_electric-appli...</td>\n",
       "    </tr>\n",
       "    <tr>\n",
       "      <th>215</th>\n",
       "      <td>328</td>\n",
       "      <td>electric-appliance</td>\n",
       "      <td>fridgefreezer</td>\n",
       "      <td>home328_kitchen2980_sensor31005_electric-appli...</td>\n",
       "    </tr>\n",
       "    <tr>\n",
       "      <th>216</th>\n",
       "      <td>328</td>\n",
       "      <td>electric-appliance</td>\n",
       "      <td>microwave</td>\n",
       "      <td>home328_kitchen2980_sensor31014_electric-appli...</td>\n",
       "    </tr>\n",
       "  </tbody>\n",
       "</table>\n",
       "<p>217 rows × 4 columns</p>\n",
       "</div>"
      ],
      "text/plain": [
       "     home_id            electric appliance_name  \\\n",
       "0         61  electric-appliance         kettle   \n",
       "1         61  electric-appliance     dishwasher   \n",
       "2         61  electric-appliance      microwave   \n",
       "3         62  electric-appliance  fridgefreezer   \n",
       "4         62  electric-appliance         kettle   \n",
       "..       ...                 ...            ...   \n",
       "212      311  electric-appliance  vacuumcleaner   \n",
       "213      328  electric-appliance         kettle   \n",
       "214      328  electric-appliance        toaster   \n",
       "215      328  electric-appliance  fridgefreezer   \n",
       "216      328  electric-appliance      microwave   \n",
       "\n",
       "                                              filename  \n",
       "0    home61_kitchen695_sensor1967_electric-applianc...  \n",
       "1    home61_kitchen695_sensor1969_electric-applianc...  \n",
       "2    home61_kitchen695_sensor1971_electric-applianc...  \n",
       "3    home62_kitchen710_sensor1779_electric-applianc...  \n",
       "4    home62_kitchen710_sensor1780_electric-applianc...  \n",
       "..                                                 ...  \n",
       "212  home311_kitchen2857_sensor31438_electric-appli...  \n",
       "213  home328_kitchen2980_sensor31003_electric-appli...  \n",
       "214  home328_kitchen2980_sensor31004_electric-appli...  \n",
       "215  home328_kitchen2980_sensor31005_electric-appli...  \n",
       "216  home328_kitchen2980_sensor31014_electric-appli...  \n",
       "\n",
       "[217 rows x 4 columns]"
      ]
     },
     "execution_count": 5,
     "metadata": {},
     "output_type": "execute_result"
    }
   ],
   "source": [
    "appliance_data_to_process"
   ]
  },
  {
   "cell_type": "code",
   "execution_count": 6,
   "id": "f6819984",
   "metadata": {},
   "outputs": [
    {
     "data": {
      "text/html": [
       "<div>\n",
       "<style scoped>\n",
       "    .dataframe tbody tr th:only-of-type {\n",
       "        vertical-align: middle;\n",
       "    }\n",
       "\n",
       "    .dataframe tbody tr th {\n",
       "        vertical-align: top;\n",
       "    }\n",
       "\n",
       "    .dataframe thead th {\n",
       "        text-align: right;\n",
       "    }\n",
       "</style>\n",
       "<table border=\"1\" class=\"dataframe\">\n",
       "  <thead>\n",
       "    <tr style=\"text-align: right;\">\n",
       "      <th></th>\n",
       "      <th>home_id</th>\n",
       "      <th>electric</th>\n",
       "      <th>subcircuit</th>\n",
       "      <th>filename</th>\n",
       "    </tr>\n",
       "  </thead>\n",
       "  <tbody>\n",
       "    <tr>\n",
       "      <th>0</th>\n",
       "      <td>47</td>\n",
       "      <td>electric-mains_electric-combined</td>\n",
       "      <td>None</td>\n",
       "      <td>home47_hall654_sensor1216c1220_electric-mains_...</td>\n",
       "    </tr>\n",
       "    <tr>\n",
       "      <th>1</th>\n",
       "      <td>59</td>\n",
       "      <td>electric-mains_electric-combined</td>\n",
       "      <td>None</td>\n",
       "      <td>home59_hall687_sensor1506c1508_electric-mains_...</td>\n",
       "    </tr>\n",
       "    <tr>\n",
       "      <th>2</th>\n",
       "      <td>61</td>\n",
       "      <td>electric-mains_electric-combined</td>\n",
       "      <td>None</td>\n",
       "      <td>home61_hall693_sensor1563c1569_electric-mains_...</td>\n",
       "    </tr>\n",
       "    <tr>\n",
       "      <th>3</th>\n",
       "      <td>61</td>\n",
       "      <td>electric-subcircuit</td>\n",
       "      <td>mains</td>\n",
       "      <td>home61_utility1109_sensor5071_electric-subcirc...</td>\n",
       "    </tr>\n",
       "    <tr>\n",
       "      <th>4</th>\n",
       "      <td>62</td>\n",
       "      <td>electric-mains_electric-combined</td>\n",
       "      <td>None</td>\n",
       "      <td>home62_hall705_sensor1662c1666_electric-mains_...</td>\n",
       "    </tr>\n",
       "    <tr>\n",
       "      <th>...</th>\n",
       "      <td>...</td>\n",
       "      <td>...</td>\n",
       "      <td>...</td>\n",
       "      <td>...</td>\n",
       "    </tr>\n",
       "    <tr>\n",
       "      <th>329</th>\n",
       "      <td>331</td>\n",
       "      <td>electric-mains_electric-combined</td>\n",
       "      <td>None</td>\n",
       "      <td>home331_hall2999_sensor21563c21567_electric-ma...</td>\n",
       "    </tr>\n",
       "    <tr>\n",
       "      <th>330</th>\n",
       "      <td>332</td>\n",
       "      <td>electric-mains_electric-combined</td>\n",
       "      <td>None</td>\n",
       "      <td>home332_hall3027_sensor21901c21903_electric-ma...</td>\n",
       "    </tr>\n",
       "    <tr>\n",
       "      <th>331</th>\n",
       "      <td>333</td>\n",
       "      <td>electric-mains_electric-combined</td>\n",
       "      <td>None</td>\n",
       "      <td>home333_hall3015_sensor21748c21765_electric-ma...</td>\n",
       "    </tr>\n",
       "    <tr>\n",
       "      <th>332</th>\n",
       "      <td>334</td>\n",
       "      <td>electric-mains_electric-combined</td>\n",
       "      <td>None</td>\n",
       "      <td>home334_hall3013_sensor21787c21791_electric-ma...</td>\n",
       "    </tr>\n",
       "    <tr>\n",
       "      <th>333</th>\n",
       "      <td>335</td>\n",
       "      <td>electric-mains_electric-combined</td>\n",
       "      <td>None</td>\n",
       "      <td>home335_hall3034_sensor21969c21974_electric-ma...</td>\n",
       "    </tr>\n",
       "  </tbody>\n",
       "</table>\n",
       "<p>334 rows × 4 columns</p>\n",
       "</div>"
      ],
      "text/plain": [
       "     home_id                          electric subcircuit  \\\n",
       "0         47  electric-mains_electric-combined       None   \n",
       "1         59  electric-mains_electric-combined       None   \n",
       "2         61  electric-mains_electric-combined       None   \n",
       "3         61               electric-subcircuit      mains   \n",
       "4         62  electric-mains_electric-combined       None   \n",
       "..       ...                               ...        ...   \n",
       "329      331  electric-mains_electric-combined       None   \n",
       "330      332  electric-mains_electric-combined       None   \n",
       "331      333  electric-mains_electric-combined       None   \n",
       "332      334  electric-mains_electric-combined       None   \n",
       "333      335  electric-mains_electric-combined       None   \n",
       "\n",
       "                                              filename  \n",
       "0    home47_hall654_sensor1216c1220_electric-mains_...  \n",
       "1    home59_hall687_sensor1506c1508_electric-mains_...  \n",
       "2    home61_hall693_sensor1563c1569_electric-mains_...  \n",
       "3    home61_utility1109_sensor5071_electric-subcirc...  \n",
       "4    home62_hall705_sensor1662c1666_electric-mains_...  \n",
       "..                                                 ...  \n",
       "329  home331_hall2999_sensor21563c21567_electric-ma...  \n",
       "330  home332_hall3027_sensor21901c21903_electric-ma...  \n",
       "331  home333_hall3015_sensor21748c21765_electric-ma...  \n",
       "332  home334_hall3013_sensor21787c21791_electric-ma...  \n",
       "333  home335_hall3034_sensor21969c21974_electric-ma...  \n",
       "\n",
       "[334 rows x 4 columns]"
      ]
     },
     "execution_count": 6,
     "metadata": {},
     "output_type": "execute_result"
    }
   ],
   "source": [
    "household_sensors_data_to_process"
   ]
  },
  {
   "cell_type": "markdown",
   "id": "38b08221",
   "metadata": {},
   "source": [
    "### Poprawienie pierwszej kolumny i agregacja dancyh do dziennych - przykład"
   ]
  },
  {
   "cell_type": "code",
   "execution_count": 7,
   "id": "718707ec",
   "metadata": {},
   "outputs": [],
   "source": [
    "df = pl.read_parquet(\"../../Data/Parquet/room_and_appliance_sensors/sensordata/home61_kitchen695_sensor1967_electric-appliance_kettle.parquet\")\n",
    "df_clean = fix_parquet_with_header_data(df)\n",
    "daily_kettle = aggregate_data_daily(df_clean)"
   ]
  },
  {
   "cell_type": "code",
   "execution_count": 8,
   "id": "78853a5e",
   "metadata": {},
   "outputs": [
    {
     "data": {
      "text/html": [
       "<div><style>\n",
       ".dataframe > thead > tr,\n",
       ".dataframe > tbody > tr {\n",
       "  text-align: right;\n",
       "  white-space: pre-wrap;\n",
       "}\n",
       "</style>\n",
       "<small>shape: (219, 12)</small><table border=\"1\" class=\"dataframe\"><thead><tr><th>homeid_1</th><th>num_males</th><th>num_females</th><th>num_residents</th><th>num_children</th><th>num_employed</th><th>num_with_higher_education</th><th>daily_standing_charge_pence</th><th>unit_charge_pence_per_kwh</th><th>n_rooms</th><th>smart_automation</th><th>hometype</th></tr><tr><td>i64</td><td>i64</td><td>i64</td><td>i64</td><td>i64</td><td>i64</td><td>i64</td><td>f64</td><td>f64</td><td>i64</td><td>str</td><td>str</td></tr></thead><tbody><tr><td>61</td><td>1</td><td>1</td><td>2</td><td>0</td><td>2</td><td>0</td><td>0.33</td><td>0.12</td><td>9</td><td>&quot;Don&#x27;t own&quot;</td><td>&quot;house_or_bungalow&quot;</td></tr><tr><td>61</td><td>1</td><td>1</td><td>2</td><td>0</td><td>2</td><td>0</td><td>0.33</td><td>0.12</td><td>9</td><td>&quot;Don&#x27;t own&quot;</td><td>&quot;house_or_bungalow&quot;</td></tr><tr><td>61</td><td>1</td><td>1</td><td>2</td><td>0</td><td>2</td><td>0</td><td>0.33</td><td>0.12</td><td>9</td><td>&quot;Don&#x27;t own&quot;</td><td>&quot;house_or_bungalow&quot;</td></tr><tr><td>62</td><td>1</td><td>1</td><td>2</td><td>0</td><td>2</td><td>2</td><td>36.0</td><td>16.16</td><td>7</td><td>&quot;Don&#x27;t own&quot;</td><td>&quot;flat&quot;</td></tr><tr><td>62</td><td>1</td><td>1</td><td>2</td><td>0</td><td>2</td><td>2</td><td>36.0</td><td>16.16</td><td>7</td><td>&quot;Don&#x27;t own&quot;</td><td>&quot;flat&quot;</td></tr><tr><td>&hellip;</td><td>&hellip;</td><td>&hellip;</td><td>&hellip;</td><td>&hellip;</td><td>&hellip;</td><td>&hellip;</td><td>&hellip;</td><td>&hellip;</td><td>&hellip;</td><td>&hellip;</td><td>&hellip;</td></tr><tr><td>328</td><td>0</td><td>1</td><td>1</td><td>0</td><td>0</td><td>1</td><td>null</td><td>null</td><td>6</td><td>&quot;Don&#x27;t own&quot;</td><td>&quot;flat&quot;</td></tr><tr><td>328</td><td>0</td><td>1</td><td>1</td><td>0</td><td>0</td><td>1</td><td>null</td><td>null</td><td>6</td><td>&quot;Don&#x27;t own&quot;</td><td>&quot;flat&quot;</td></tr><tr><td>328</td><td>0</td><td>1</td><td>1</td><td>0</td><td>0</td><td>1</td><td>null</td><td>null</td><td>6</td><td>&quot;Don&#x27;t own&quot;</td><td>&quot;flat&quot;</td></tr><tr><td>328</td><td>0</td><td>1</td><td>1</td><td>0</td><td>0</td><td>1</td><td>null</td><td>null</td><td>6</td><td>&quot;Don&#x27;t own&quot;</td><td>&quot;flat&quot;</td></tr><tr><td>328</td><td>0</td><td>1</td><td>1</td><td>0</td><td>0</td><td>1</td><td>null</td><td>null</td><td>6</td><td>&quot;Don&#x27;t own&quot;</td><td>&quot;flat&quot;</td></tr></tbody></table></div>"
      ],
      "text/plain": [
       "shape: (219, 12)\n",
       "┌──────────┬───────────┬────────────┬────────────┬───┬───────────┬─────────┬───────────┬───────────┐\n",
       "│ homeid_1 ┆ num_males ┆ num_female ┆ num_reside ┆ … ┆ unit_char ┆ n_rooms ┆ smart_aut ┆ hometype  │\n",
       "│ ---      ┆ ---       ┆ s          ┆ nts        ┆   ┆ ge_pence_ ┆ ---     ┆ omation   ┆ ---       │\n",
       "│ i64      ┆ i64       ┆ ---        ┆ ---        ┆   ┆ per_kwh   ┆ i64     ┆ ---       ┆ str       │\n",
       "│          ┆           ┆ i64        ┆ i64        ┆   ┆ ---       ┆         ┆ str       ┆           │\n",
       "│          ┆           ┆            ┆            ┆   ┆ f64       ┆         ┆           ┆           │\n",
       "╞══════════╪═══════════╪════════════╪════════════╪═══╪═══════════╪═════════╪═══════════╪═══════════╡\n",
       "│ 61       ┆ 1         ┆ 1          ┆ 2          ┆ … ┆ 0.12      ┆ 9       ┆ Don't own ┆ house_or_ │\n",
       "│          ┆           ┆            ┆            ┆   ┆           ┆         ┆           ┆ bungalow  │\n",
       "│ 61       ┆ 1         ┆ 1          ┆ 2          ┆ … ┆ 0.12      ┆ 9       ┆ Don't own ┆ house_or_ │\n",
       "│          ┆           ┆            ┆            ┆   ┆           ┆         ┆           ┆ bungalow  │\n",
       "│ 61       ┆ 1         ┆ 1          ┆ 2          ┆ … ┆ 0.12      ┆ 9       ┆ Don't own ┆ house_or_ │\n",
       "│          ┆           ┆            ┆            ┆   ┆           ┆         ┆           ┆ bungalow  │\n",
       "│ 62       ┆ 1         ┆ 1          ┆ 2          ┆ … ┆ 16.16     ┆ 7       ┆ Don't own ┆ flat      │\n",
       "│ 62       ┆ 1         ┆ 1          ┆ 2          ┆ … ┆ 16.16     ┆ 7       ┆ Don't own ┆ flat      │\n",
       "│ …        ┆ …         ┆ …          ┆ …          ┆ … ┆ …         ┆ …       ┆ …         ┆ …         │\n",
       "│ 328      ┆ 0         ┆ 1          ┆ 1          ┆ … ┆ null      ┆ 6       ┆ Don't own ┆ flat      │\n",
       "│ 328      ┆ 0         ┆ 1          ┆ 1          ┆ … ┆ null      ┆ 6       ┆ Don't own ┆ flat      │\n",
       "│ 328      ┆ 0         ┆ 1          ┆ 1          ┆ … ┆ null      ┆ 6       ┆ Don't own ┆ flat      │\n",
       "│ 328      ┆ 0         ┆ 1          ┆ 1          ┆ … ┆ null      ┆ 6       ┆ Don't own ┆ flat      │\n",
       "│ 328      ┆ 0         ┆ 1          ┆ 1          ┆ … ┆ null      ┆ 6       ┆ Don't own ┆ flat      │\n",
       "└──────────┴───────────┴────────────┴────────────┴───┴───────────┴─────────┴───────────┴───────────┘"
      ]
     },
     "execution_count": 8,
     "metadata": {},
     "output_type": "execute_result"
    }
   ],
   "source": [
    "# zaczytanie danych o domu\n",
    "df_home_id=pl.read_csv('../../Data/NAV/Features_HomeID.csv')\n",
    "df_home_id"
   ]
  },
  {
   "cell_type": "markdown",
   "id": "4055bd29",
   "metadata": {},
   "source": [
    "### appliance_data_to_process"
   ]
  },
  {
   "cell_type": "code",
   "execution_count": 9,
   "id": "effdfac7",
   "metadata": {},
   "outputs": [
    {
     "data": {
      "text/html": [
       "<div><style>\n",
       ".dataframe > thead > tr,\n",
       ".dataframe > tbody > tr {\n",
       "  text-align: right;\n",
       "  white-space: pre-wrap;\n",
       "}\n",
       "</style>\n",
       "<small>shape: (217, 4)</small><table border=\"1\" class=\"dataframe\"><thead><tr><th>home_id</th><th>electric</th><th>appliance_name</th><th>filename</th></tr><tr><td>i64</td><td>str</td><td>str</td><td>str</td></tr></thead><tbody><tr><td>61</td><td>&quot;electric-appliance&quot;</td><td>&quot;kettle&quot;</td><td>&quot;home61_kitchen695_sensor1967_e…</td></tr><tr><td>61</td><td>&quot;electric-appliance&quot;</td><td>&quot;dishwasher&quot;</td><td>&quot;home61_kitchen695_sensor1969_e…</td></tr><tr><td>61</td><td>&quot;electric-appliance&quot;</td><td>&quot;microwave&quot;</td><td>&quot;home61_kitchen695_sensor1971_e…</td></tr><tr><td>62</td><td>&quot;electric-appliance&quot;</td><td>&quot;fridgefreezer&quot;</td><td>&quot;home62_kitchen710_sensor1779_e…</td></tr><tr><td>62</td><td>&quot;electric-appliance&quot;</td><td>&quot;kettle&quot;</td><td>&quot;home62_kitchen710_sensor1780_e…</td></tr><tr><td>&hellip;</td><td>&hellip;</td><td>&hellip;</td><td>&hellip;</td></tr><tr><td>311</td><td>&quot;electric-appliance&quot;</td><td>&quot;vacuumcleaner&quot;</td><td>&quot;home311_kitchen2857_sensor3143…</td></tr><tr><td>328</td><td>&quot;electric-appliance&quot;</td><td>&quot;kettle&quot;</td><td>&quot;home328_kitchen2980_sensor3100…</td></tr><tr><td>328</td><td>&quot;electric-appliance&quot;</td><td>&quot;toaster&quot;</td><td>&quot;home328_kitchen2980_sensor3100…</td></tr><tr><td>328</td><td>&quot;electric-appliance&quot;</td><td>&quot;fridgefreezer&quot;</td><td>&quot;home328_kitchen2980_sensor3100…</td></tr><tr><td>328</td><td>&quot;electric-appliance&quot;</td><td>&quot;microwave&quot;</td><td>&quot;home328_kitchen2980_sensor3101…</td></tr></tbody></table></div>"
      ],
      "text/plain": [
       "shape: (217, 4)\n",
       "┌─────────┬────────────────────┬────────────────┬─────────────────────────────────┐\n",
       "│ home_id ┆ electric           ┆ appliance_name ┆ filename                        │\n",
       "│ ---     ┆ ---                ┆ ---            ┆ ---                             │\n",
       "│ i64     ┆ str                ┆ str            ┆ str                             │\n",
       "╞═════════╪════════════════════╪════════════════╪═════════════════════════════════╡\n",
       "│ 61      ┆ electric-appliance ┆ kettle         ┆ home61_kitchen695_sensor1967_e… │\n",
       "│ 61      ┆ electric-appliance ┆ dishwasher     ┆ home61_kitchen695_sensor1969_e… │\n",
       "│ 61      ┆ electric-appliance ┆ microwave      ┆ home61_kitchen695_sensor1971_e… │\n",
       "│ 62      ┆ electric-appliance ┆ fridgefreezer  ┆ home62_kitchen710_sensor1779_e… │\n",
       "│ 62      ┆ electric-appliance ┆ kettle         ┆ home62_kitchen710_sensor1780_e… │\n",
       "│ …       ┆ …                  ┆ …              ┆ …                               │\n",
       "│ 311     ┆ electric-appliance ┆ vacuumcleaner  ┆ home311_kitchen2857_sensor3143… │\n",
       "│ 328     ┆ electric-appliance ┆ kettle         ┆ home328_kitchen2980_sensor3100… │\n",
       "│ 328     ┆ electric-appliance ┆ toaster        ┆ home328_kitchen2980_sensor3100… │\n",
       "│ 328     ┆ electric-appliance ┆ fridgefreezer  ┆ home328_kitchen2980_sensor3100… │\n",
       "│ 328     ┆ electric-appliance ┆ microwave      ┆ home328_kitchen2980_sensor3101… │\n",
       "└─────────┴────────────────────┴────────────────┴─────────────────────────────────┘"
      ]
     },
     "execution_count": 9,
     "metadata": {},
     "output_type": "execute_result"
    }
   ],
   "source": [
    "# Zmiana appliance_data_to_process na DataFrame Polars\n",
    "appliance_data_to_process_pl = pl.DataFrame(appliance_data_to_process)\n",
    "appliance_data_to_process_pl"
   ]
  },
  {
   "cell_type": "code",
   "execution_count": 10,
   "id": "102096ec",
   "metadata": {},
   "outputs": [
    {
     "data": {
      "text/html": [
       "<div><style>\n",
       ".dataframe > thead > tr,\n",
       ".dataframe > tbody > tr {\n",
       "  text-align: right;\n",
       "  white-space: pre-wrap;\n",
       "}\n",
       "</style>\n",
       "<small>shape: (217, 15)</small><table border=\"1\" class=\"dataframe\"><thead><tr><th>home_id</th><th>electric</th><th>appliance_name</th><th>filename</th><th>num_males</th><th>num_females</th><th>num_residents</th><th>num_children</th><th>num_employed</th><th>num_with_higher_education</th><th>daily_standing_charge_pence</th><th>unit_charge_pence_per_kwh</th><th>n_rooms</th><th>smart_automation</th><th>hometype</th></tr><tr><td>i64</td><td>str</td><td>str</td><td>str</td><td>i64</td><td>i64</td><td>i64</td><td>i64</td><td>i64</td><td>i64</td><td>f64</td><td>f64</td><td>i64</td><td>str</td><td>str</td></tr></thead><tbody><tr><td>61</td><td>&quot;electric-appliance&quot;</td><td>&quot;kettle&quot;</td><td>&quot;home61_kitchen695_sensor1967_e…</td><td>1</td><td>1</td><td>2</td><td>0</td><td>2</td><td>0</td><td>0.33</td><td>0.12</td><td>9</td><td>&quot;Don&#x27;t own&quot;</td><td>&quot;house_or_bungalow&quot;</td></tr><tr><td>61</td><td>&quot;electric-appliance&quot;</td><td>&quot;dishwasher&quot;</td><td>&quot;home61_kitchen695_sensor1969_e…</td><td>1</td><td>1</td><td>2</td><td>0</td><td>2</td><td>0</td><td>0.33</td><td>0.12</td><td>9</td><td>&quot;Don&#x27;t own&quot;</td><td>&quot;house_or_bungalow&quot;</td></tr><tr><td>61</td><td>&quot;electric-appliance&quot;</td><td>&quot;microwave&quot;</td><td>&quot;home61_kitchen695_sensor1971_e…</td><td>1</td><td>1</td><td>2</td><td>0</td><td>2</td><td>0</td><td>0.33</td><td>0.12</td><td>9</td><td>&quot;Don&#x27;t own&quot;</td><td>&quot;house_or_bungalow&quot;</td></tr><tr><td>62</td><td>&quot;electric-appliance&quot;</td><td>&quot;fridgefreezer&quot;</td><td>&quot;home62_kitchen710_sensor1779_e…</td><td>1</td><td>1</td><td>2</td><td>0</td><td>2</td><td>2</td><td>36.0</td><td>16.16</td><td>7</td><td>&quot;Don&#x27;t own&quot;</td><td>&quot;flat&quot;</td></tr><tr><td>62</td><td>&quot;electric-appliance&quot;</td><td>&quot;kettle&quot;</td><td>&quot;home62_kitchen710_sensor1780_e…</td><td>1</td><td>1</td><td>2</td><td>0</td><td>2</td><td>2</td><td>36.0</td><td>16.16</td><td>7</td><td>&quot;Don&#x27;t own&quot;</td><td>&quot;flat&quot;</td></tr><tr><td>&hellip;</td><td>&hellip;</td><td>&hellip;</td><td>&hellip;</td><td>&hellip;</td><td>&hellip;</td><td>&hellip;</td><td>&hellip;</td><td>&hellip;</td><td>&hellip;</td><td>&hellip;</td><td>&hellip;</td><td>&hellip;</td><td>&hellip;</td><td>&hellip;</td></tr><tr><td>311</td><td>&quot;electric-appliance&quot;</td><td>&quot;vacuumcleaner&quot;</td><td>&quot;home311_kitchen2857_sensor3143…</td><td>1</td><td>1</td><td>2</td><td>0</td><td>2</td><td>0</td><td>null</td><td>null</td><td>8</td><td>&quot;Don&#x27;t own&quot;</td><td>&quot;flat&quot;</td></tr><tr><td>328</td><td>&quot;electric-appliance&quot;</td><td>&quot;kettle&quot;</td><td>&quot;home328_kitchen2980_sensor3100…</td><td>0</td><td>1</td><td>1</td><td>0</td><td>0</td><td>1</td><td>null</td><td>null</td><td>6</td><td>&quot;Don&#x27;t own&quot;</td><td>&quot;flat&quot;</td></tr><tr><td>328</td><td>&quot;electric-appliance&quot;</td><td>&quot;toaster&quot;</td><td>&quot;home328_kitchen2980_sensor3100…</td><td>0</td><td>1</td><td>1</td><td>0</td><td>0</td><td>1</td><td>null</td><td>null</td><td>6</td><td>&quot;Don&#x27;t own&quot;</td><td>&quot;flat&quot;</td></tr><tr><td>328</td><td>&quot;electric-appliance&quot;</td><td>&quot;fridgefreezer&quot;</td><td>&quot;home328_kitchen2980_sensor3100…</td><td>0</td><td>1</td><td>1</td><td>0</td><td>0</td><td>1</td><td>null</td><td>null</td><td>6</td><td>&quot;Don&#x27;t own&quot;</td><td>&quot;flat&quot;</td></tr><tr><td>328</td><td>&quot;electric-appliance&quot;</td><td>&quot;microwave&quot;</td><td>&quot;home328_kitchen2980_sensor3101…</td><td>0</td><td>1</td><td>1</td><td>0</td><td>0</td><td>1</td><td>null</td><td>null</td><td>6</td><td>&quot;Don&#x27;t own&quot;</td><td>&quot;flat&quot;</td></tr></tbody></table></div>"
      ],
      "text/plain": [
       "shape: (217, 15)\n",
       "┌─────────┬────────────┬────────────┬────────────┬───┬───────────┬─────────┬───────────┬───────────┐\n",
       "│ home_id ┆ electric   ┆ appliance_ ┆ filename   ┆ … ┆ unit_char ┆ n_rooms ┆ smart_aut ┆ hometype  │\n",
       "│ ---     ┆ ---        ┆ name       ┆ ---        ┆   ┆ ge_pence_ ┆ ---     ┆ omation   ┆ ---       │\n",
       "│ i64     ┆ str        ┆ ---        ┆ str        ┆   ┆ per_kwh   ┆ i64     ┆ ---       ┆ str       │\n",
       "│         ┆            ┆ str        ┆            ┆   ┆ ---       ┆         ┆ str       ┆           │\n",
       "│         ┆            ┆            ┆            ┆   ┆ f64       ┆         ┆           ┆           │\n",
       "╞═════════╪════════════╪════════════╪════════════╪═══╪═══════════╪═════════╪═══════════╪═══════════╡\n",
       "│ 61      ┆ electric-a ┆ kettle     ┆ home61_kit ┆ … ┆ 0.12      ┆ 9       ┆ Don't own ┆ house_or_ │\n",
       "│         ┆ ppliance   ┆            ┆ chen695_se ┆   ┆           ┆         ┆           ┆ bungalow  │\n",
       "│         ┆            ┆            ┆ nsor1967_e ┆   ┆           ┆         ┆           ┆           │\n",
       "│         ┆            ┆            ┆ …          ┆   ┆           ┆         ┆           ┆           │\n",
       "│ 61      ┆ electric-a ┆ dishwasher ┆ home61_kit ┆ … ┆ 0.12      ┆ 9       ┆ Don't own ┆ house_or_ │\n",
       "│         ┆ ppliance   ┆            ┆ chen695_se ┆   ┆           ┆         ┆           ┆ bungalow  │\n",
       "│         ┆            ┆            ┆ nsor1969_e ┆   ┆           ┆         ┆           ┆           │\n",
       "│         ┆            ┆            ┆ …          ┆   ┆           ┆         ┆           ┆           │\n",
       "│ 61      ┆ electric-a ┆ microwave  ┆ home61_kit ┆ … ┆ 0.12      ┆ 9       ┆ Don't own ┆ house_or_ │\n",
       "│         ┆ ppliance   ┆            ┆ chen695_se ┆   ┆           ┆         ┆           ┆ bungalow  │\n",
       "│         ┆            ┆            ┆ nsor1971_e ┆   ┆           ┆         ┆           ┆           │\n",
       "│         ┆            ┆            ┆ …          ┆   ┆           ┆         ┆           ┆           │\n",
       "│ 62      ┆ electric-a ┆ fridgefree ┆ home62_kit ┆ … ┆ 16.16     ┆ 7       ┆ Don't own ┆ flat      │\n",
       "│         ┆ ppliance   ┆ zer        ┆ chen710_se ┆   ┆           ┆         ┆           ┆           │\n",
       "│         ┆            ┆            ┆ nsor1779_e ┆   ┆           ┆         ┆           ┆           │\n",
       "│         ┆            ┆            ┆ …          ┆   ┆           ┆         ┆           ┆           │\n",
       "│ 62      ┆ electric-a ┆ kettle     ┆ home62_kit ┆ … ┆ 16.16     ┆ 7       ┆ Don't own ┆ flat      │\n",
       "│         ┆ ppliance   ┆            ┆ chen710_se ┆   ┆           ┆         ┆           ┆           │\n",
       "│         ┆            ┆            ┆ nsor1780_e ┆   ┆           ┆         ┆           ┆           │\n",
       "│         ┆            ┆            ┆ …          ┆   ┆           ┆         ┆           ┆           │\n",
       "│ …       ┆ …          ┆ …          ┆ …          ┆ … ┆ …         ┆ …       ┆ …         ┆ …         │\n",
       "│ 311     ┆ electric-a ┆ vacuumclea ┆ home311_ki ┆ … ┆ null      ┆ 8       ┆ Don't own ┆ flat      │\n",
       "│         ┆ ppliance   ┆ ner        ┆ tchen2857_ ┆   ┆           ┆         ┆           ┆           │\n",
       "│         ┆            ┆            ┆ sensor3143 ┆   ┆           ┆         ┆           ┆           │\n",
       "│         ┆            ┆            ┆ …          ┆   ┆           ┆         ┆           ┆           │\n",
       "│ 328     ┆ electric-a ┆ kettle     ┆ home328_ki ┆ … ┆ null      ┆ 6       ┆ Don't own ┆ flat      │\n",
       "│         ┆ ppliance   ┆            ┆ tchen2980_ ┆   ┆           ┆         ┆           ┆           │\n",
       "│         ┆            ┆            ┆ sensor3100 ┆   ┆           ┆         ┆           ┆           │\n",
       "│         ┆            ┆            ┆ …          ┆   ┆           ┆         ┆           ┆           │\n",
       "│ 328     ┆ electric-a ┆ toaster    ┆ home328_ki ┆ … ┆ null      ┆ 6       ┆ Don't own ┆ flat      │\n",
       "│         ┆ ppliance   ┆            ┆ tchen2980_ ┆   ┆           ┆         ┆           ┆           │\n",
       "│         ┆            ┆            ┆ sensor3100 ┆   ┆           ┆         ┆           ┆           │\n",
       "│         ┆            ┆            ┆ …          ┆   ┆           ┆         ┆           ┆           │\n",
       "│ 328     ┆ electric-a ┆ fridgefree ┆ home328_ki ┆ … ┆ null      ┆ 6       ┆ Don't own ┆ flat      │\n",
       "│         ┆ ppliance   ┆ zer        ┆ tchen2980_ ┆   ┆           ┆         ┆           ┆           │\n",
       "│         ┆            ┆            ┆ sensor3100 ┆   ┆           ┆         ┆           ┆           │\n",
       "│         ┆            ┆            ┆ …          ┆   ┆           ┆         ┆           ┆           │\n",
       "│ 328     ┆ electric-a ┆ microwave  ┆ home328_ki ┆ … ┆ null      ┆ 6       ┆ Don't own ┆ flat      │\n",
       "│         ┆ ppliance   ┆            ┆ tchen2980_ ┆   ┆           ┆         ┆           ┆           │\n",
       "│         ┆            ┆            ┆ sensor3101 ┆   ┆           ┆         ┆           ┆           │\n",
       "│         ┆            ┆            ┆ …          ┆   ┆           ┆         ┆           ┆           │\n",
       "└─────────┴────────────┴────────────┴────────────┴───┴───────────┴─────────┴───────────┴───────────┘"
      ]
     },
     "execution_count": 10,
     "metadata": {},
     "output_type": "execute_result"
    }
   ],
   "source": [
    "df_joined = appliance_data_to_process_pl.join(\n",
    "    df_home_id.unique(subset=[\"homeid_1\"]),\n",
    "    left_on='home_id',\n",
    "    right_on='homeid_1',\n",
    "    how='left'\n",
    ")\n",
    "df_joined"
   ]
  },
  {
   "cell_type": "code",
   "execution_count": 11,
   "id": "bd9d90b4",
   "metadata": {},
   "outputs": [],
   "source": [
    "df_all = []\n",
    "\n",
    "# Iterujemy po unikalnych wierszach z potrzebnymi informacjami\n",
    "for row in df_joined.iter_rows(named=True):\n",
    "    home_id = row[\"home_id\"]\n",
    "    filename = row[\"filename\"]\n",
    "    device = row[\"appliance_name\"]\n",
    "\n",
    "    path_file = Path(f\"../../Data/Parquet/room_and_appliance_sensors/sensordata/{filename}\")\n",
    "    # print(path_file)\n",
    "\n",
    "    try:\n",
    "        df = pl.read_parquet(path_file)\n",
    "    \n",
    "        if df.is_empty():\n",
    "            print(f\"POMINIĘTO pusty plik: {path_file}\")\n",
    "            continue\n",
    "\n",
    "        df_clean = fix_parquet_with_header_data(df)\n",
    "        daily_data = aggregate_data_daily(df_clean)\n",
    "\n",
    "        df_tmp = daily_data.with_columns([\n",
    "            pl.lit(home_id).alias(\"home_id\"),\n",
    "            pl.lit(device).alias(\"device\")\n",
    "        ])\n",
    "\n",
    "        df_all.append(df_tmp)\n",
    "\n",
    "    except Exception as e:        \n",
    "        print(f\"Błąd przy pliku {path_file}: {e}\")\n",
    "        continue\n",
    "\n",
    "# Łączenie wszystkich przetworzonych ramek\n",
    "df_all = pl.concat(df_all)"
   ]
  },
  {
   "cell_type": "code",
   "execution_count": 12,
   "id": "f0d82510",
   "metadata": {},
   "outputs": [
    {
     "data": {
      "text/html": [
       "<div><style>\n",
       ".dataframe > thead > tr,\n",
       ".dataframe > tbody > tr {\n",
       "  text-align: right;\n",
       "  white-space: pre-wrap;\n",
       "}\n",
       "</style>\n",
       "<small>shape: (30_275, 4)</small><table border=\"1\" class=\"dataframe\"><thead><tr><th>date</th><th>daily_sum</th><th>home_id</th><th>device</th></tr><tr><td>date</td><td>i64</td><td>i32</td><td>str</td></tr></thead><tbody><tr><td>2016-11-17</td><td>11763</td><td>61</td><td>&quot;kettle&quot;</td></tr><tr><td>2016-11-18</td><td>14256</td><td>61</td><td>&quot;kettle&quot;</td></tr><tr><td>2016-11-19</td><td>22827</td><td>61</td><td>&quot;kettle&quot;</td></tr><tr><td>2016-11-20</td><td>25511</td><td>61</td><td>&quot;kettle&quot;</td></tr><tr><td>2016-11-21</td><td>19826</td><td>61</td><td>&quot;kettle&quot;</td></tr><tr><td>&hellip;</td><td>&hellip;</td><td>&hellip;</td><td>&hellip;</td></tr><tr><td>2018-05-26</td><td>3776</td><td>328</td><td>&quot;microwave&quot;</td></tr><tr><td>2018-05-27</td><td>0</td><td>328</td><td>&quot;microwave&quot;</td></tr><tr><td>2018-05-28</td><td>2662</td><td>328</td><td>&quot;microwave&quot;</td></tr><tr><td>2018-05-29</td><td>2392</td><td>328</td><td>&quot;microwave&quot;</td></tr><tr><td>2018-05-30</td><td>0</td><td>328</td><td>&quot;microwave&quot;</td></tr></tbody></table></div>"
      ],
      "text/plain": [
       "shape: (30_275, 4)\n",
       "┌────────────┬───────────┬─────────┬───────────┐\n",
       "│ date       ┆ daily_sum ┆ home_id ┆ device    │\n",
       "│ ---        ┆ ---       ┆ ---     ┆ ---       │\n",
       "│ date       ┆ i64       ┆ i32     ┆ str       │\n",
       "╞════════════╪═══════════╪═════════╪═══════════╡\n",
       "│ 2016-11-17 ┆ 11763     ┆ 61      ┆ kettle    │\n",
       "│ 2016-11-18 ┆ 14256     ┆ 61      ┆ kettle    │\n",
       "│ 2016-11-19 ┆ 22827     ┆ 61      ┆ kettle    │\n",
       "│ 2016-11-20 ┆ 25511     ┆ 61      ┆ kettle    │\n",
       "│ 2016-11-21 ┆ 19826     ┆ 61      ┆ kettle    │\n",
       "│ …          ┆ …         ┆ …       ┆ …         │\n",
       "│ 2018-05-26 ┆ 3776      ┆ 328     ┆ microwave │\n",
       "│ 2018-05-27 ┆ 0         ┆ 328     ┆ microwave │\n",
       "│ 2018-05-28 ┆ 2662      ┆ 328     ┆ microwave │\n",
       "│ 2018-05-29 ┆ 2392      ┆ 328     ┆ microwave │\n",
       "│ 2018-05-30 ┆ 0         ┆ 328     ┆ microwave │\n",
       "└────────────┴───────────┴─────────┴───────────┘"
      ]
     },
     "execution_count": 12,
     "metadata": {},
     "output_type": "execute_result"
    }
   ],
   "source": [
    "df_all"
   ]
  },
  {
   "cell_type": "code",
   "execution_count": 13,
   "id": "e9320197",
   "metadata": {},
   "outputs": [],
   "source": [
    "# df_joined.filter(pl.col('home_id') == 328)['filename'][-1]\n",
    "# path_file = Path(f\"../../Data/Parquet/room_and_appliance_sensors/sensordata/{df_joined.filter(pl.col('home_id') == 328)['filename'][-1]}\")\n",
    "# path_file\n",
    "# clean_microwave = fix_parquet_with_header_data(pl.read_parquet(path_file))\n",
    "# daily_microwave = aggregate_data_daily(clean_microwave)\n",
    "# daily_microwave"
   ]
  },
  {
   "cell_type": "markdown",
   "id": "31faeb29",
   "metadata": {},
   "source": [
    "### Dojoinowanie danych o elekryczności z appliance do danych o domu"
   ]
  },
  {
   "cell_type": "code",
   "execution_count": 14,
   "id": "60f50d3c",
   "metadata": {},
   "outputs": [
    {
     "data": {
      "text/html": [
       "<div><style>\n",
       ".dataframe > thead > tr,\n",
       ".dataframe > tbody > tr {\n",
       "  text-align: right;\n",
       "  white-space: pre-wrap;\n",
       "}\n",
       "</style>\n",
       "<small>shape: (30_275, 4)</small><table border=\"1\" class=\"dataframe\"><thead><tr><th>date</th><th>daily_sum</th><th>home_id</th><th>device</th></tr><tr><td>date</td><td>i64</td><td>i32</td><td>str</td></tr></thead><tbody><tr><td>2016-11-17</td><td>11763</td><td>61</td><td>&quot;kettle&quot;</td></tr><tr><td>2016-11-18</td><td>14256</td><td>61</td><td>&quot;kettle&quot;</td></tr><tr><td>2016-11-19</td><td>22827</td><td>61</td><td>&quot;kettle&quot;</td></tr><tr><td>2016-11-20</td><td>25511</td><td>61</td><td>&quot;kettle&quot;</td></tr><tr><td>2016-11-21</td><td>19826</td><td>61</td><td>&quot;kettle&quot;</td></tr><tr><td>&hellip;</td><td>&hellip;</td><td>&hellip;</td><td>&hellip;</td></tr><tr><td>2018-05-26</td><td>3776</td><td>328</td><td>&quot;microwave&quot;</td></tr><tr><td>2018-05-27</td><td>0</td><td>328</td><td>&quot;microwave&quot;</td></tr><tr><td>2018-05-28</td><td>2662</td><td>328</td><td>&quot;microwave&quot;</td></tr><tr><td>2018-05-29</td><td>2392</td><td>328</td><td>&quot;microwave&quot;</td></tr><tr><td>2018-05-30</td><td>0</td><td>328</td><td>&quot;microwave&quot;</td></tr></tbody></table></div>"
      ],
      "text/plain": [
       "shape: (30_275, 4)\n",
       "┌────────────┬───────────┬─────────┬───────────┐\n",
       "│ date       ┆ daily_sum ┆ home_id ┆ device    │\n",
       "│ ---        ┆ ---       ┆ ---     ┆ ---       │\n",
       "│ date       ┆ i64       ┆ i32     ┆ str       │\n",
       "╞════════════╪═══════════╪═════════╪═══════════╡\n",
       "│ 2016-11-17 ┆ 11763     ┆ 61      ┆ kettle    │\n",
       "│ 2016-11-18 ┆ 14256     ┆ 61      ┆ kettle    │\n",
       "│ 2016-11-19 ┆ 22827     ┆ 61      ┆ kettle    │\n",
       "│ 2016-11-20 ┆ 25511     ┆ 61      ┆ kettle    │\n",
       "│ 2016-11-21 ┆ 19826     ┆ 61      ┆ kettle    │\n",
       "│ …          ┆ …         ┆ …       ┆ …         │\n",
       "│ 2018-05-26 ┆ 3776      ┆ 328     ┆ microwave │\n",
       "│ 2018-05-27 ┆ 0         ┆ 328     ┆ microwave │\n",
       "│ 2018-05-28 ┆ 2662      ┆ 328     ┆ microwave │\n",
       "│ 2018-05-29 ┆ 2392      ┆ 328     ┆ microwave │\n",
       "│ 2018-05-30 ┆ 0         ┆ 328     ┆ microwave │\n",
       "└────────────┴───────────┴─────────┴───────────┘"
      ]
     },
     "execution_count": 14,
     "metadata": {},
     "output_type": "execute_result"
    }
   ],
   "source": [
    "df_all"
   ]
  },
  {
   "cell_type": "code",
   "execution_count": 15,
   "id": "904f15d1",
   "metadata": {},
   "outputs": [],
   "source": [
    "df_all = df_all.with_columns([\n",
    "    pl.col(\"device\").str.strip_chars().str.to_lowercase()\n",
    "])\n",
    "\n",
    "df_joined = df_joined.with_columns([\n",
    "    pl.col(\"appliance_name\").str.strip_chars().str.to_lowercase()\n",
    "])\n",
    "\n",
    "df_panel_long = df_all.join(\n",
    "    df_joined,\n",
    "    left_on=[\"home_id\", \"device\"],\n",
    "    right_on=[\"home_id\", \"appliance_name\"],\n",
    "    how=\"left\"\n",
    ")"
   ]
  },
  {
   "cell_type": "code",
   "execution_count": 16,
   "id": "2c9784d7",
   "metadata": {},
   "outputs": [
    {
     "data": {
      "text/html": [
       "<div><style>\n",
       ".dataframe > thead > tr,\n",
       ".dataframe > tbody > tr {\n",
       "  text-align: right;\n",
       "  white-space: pre-wrap;\n",
       "}\n",
       "</style>\n",
       "<small>shape: (31_502, 17)</small><table border=\"1\" class=\"dataframe\"><thead><tr><th>date</th><th>daily_sum</th><th>home_id</th><th>device</th><th>electric</th><th>filename</th><th>num_males</th><th>num_females</th><th>num_residents</th><th>num_children</th><th>num_employed</th><th>num_with_higher_education</th><th>daily_standing_charge_pence</th><th>unit_charge_pence_per_kwh</th><th>n_rooms</th><th>smart_automation</th><th>hometype</th></tr><tr><td>date</td><td>i64</td><td>i32</td><td>str</td><td>str</td><td>str</td><td>i64</td><td>i64</td><td>i64</td><td>i64</td><td>i64</td><td>i64</td><td>f64</td><td>f64</td><td>i64</td><td>str</td><td>str</td></tr></thead><tbody><tr><td>2016-11-17</td><td>11763</td><td>61</td><td>&quot;kettle&quot;</td><td>&quot;electric-appliance&quot;</td><td>&quot;home61_kitchen695_sensor1967_e…</td><td>1</td><td>1</td><td>2</td><td>0</td><td>2</td><td>0</td><td>0.33</td><td>0.12</td><td>9</td><td>&quot;Don&#x27;t own&quot;</td><td>&quot;house_or_bungalow&quot;</td></tr><tr><td>2016-11-18</td><td>14256</td><td>61</td><td>&quot;kettle&quot;</td><td>&quot;electric-appliance&quot;</td><td>&quot;home61_kitchen695_sensor1967_e…</td><td>1</td><td>1</td><td>2</td><td>0</td><td>2</td><td>0</td><td>0.33</td><td>0.12</td><td>9</td><td>&quot;Don&#x27;t own&quot;</td><td>&quot;house_or_bungalow&quot;</td></tr><tr><td>2016-11-19</td><td>22827</td><td>61</td><td>&quot;kettle&quot;</td><td>&quot;electric-appliance&quot;</td><td>&quot;home61_kitchen695_sensor1967_e…</td><td>1</td><td>1</td><td>2</td><td>0</td><td>2</td><td>0</td><td>0.33</td><td>0.12</td><td>9</td><td>&quot;Don&#x27;t own&quot;</td><td>&quot;house_or_bungalow&quot;</td></tr><tr><td>2016-11-20</td><td>25511</td><td>61</td><td>&quot;kettle&quot;</td><td>&quot;electric-appliance&quot;</td><td>&quot;home61_kitchen695_sensor1967_e…</td><td>1</td><td>1</td><td>2</td><td>0</td><td>2</td><td>0</td><td>0.33</td><td>0.12</td><td>9</td><td>&quot;Don&#x27;t own&quot;</td><td>&quot;house_or_bungalow&quot;</td></tr><tr><td>2016-11-21</td><td>19826</td><td>61</td><td>&quot;kettle&quot;</td><td>&quot;electric-appliance&quot;</td><td>&quot;home61_kitchen695_sensor1967_e…</td><td>1</td><td>1</td><td>2</td><td>0</td><td>2</td><td>0</td><td>0.33</td><td>0.12</td><td>9</td><td>&quot;Don&#x27;t own&quot;</td><td>&quot;house_or_bungalow&quot;</td></tr><tr><td>&hellip;</td><td>&hellip;</td><td>&hellip;</td><td>&hellip;</td><td>&hellip;</td><td>&hellip;</td><td>&hellip;</td><td>&hellip;</td><td>&hellip;</td><td>&hellip;</td><td>&hellip;</td><td>&hellip;</td><td>&hellip;</td><td>&hellip;</td><td>&hellip;</td><td>&hellip;</td><td>&hellip;</td></tr><tr><td>2018-05-26</td><td>3776</td><td>328</td><td>&quot;microwave&quot;</td><td>&quot;electric-appliance&quot;</td><td>&quot;home328_kitchen2980_sensor3101…</td><td>0</td><td>1</td><td>1</td><td>0</td><td>0</td><td>1</td><td>null</td><td>null</td><td>6</td><td>&quot;Don&#x27;t own&quot;</td><td>&quot;flat&quot;</td></tr><tr><td>2018-05-27</td><td>0</td><td>328</td><td>&quot;microwave&quot;</td><td>&quot;electric-appliance&quot;</td><td>&quot;home328_kitchen2980_sensor3101…</td><td>0</td><td>1</td><td>1</td><td>0</td><td>0</td><td>1</td><td>null</td><td>null</td><td>6</td><td>&quot;Don&#x27;t own&quot;</td><td>&quot;flat&quot;</td></tr><tr><td>2018-05-28</td><td>2662</td><td>328</td><td>&quot;microwave&quot;</td><td>&quot;electric-appliance&quot;</td><td>&quot;home328_kitchen2980_sensor3101…</td><td>0</td><td>1</td><td>1</td><td>0</td><td>0</td><td>1</td><td>null</td><td>null</td><td>6</td><td>&quot;Don&#x27;t own&quot;</td><td>&quot;flat&quot;</td></tr><tr><td>2018-05-29</td><td>2392</td><td>328</td><td>&quot;microwave&quot;</td><td>&quot;electric-appliance&quot;</td><td>&quot;home328_kitchen2980_sensor3101…</td><td>0</td><td>1</td><td>1</td><td>0</td><td>0</td><td>1</td><td>null</td><td>null</td><td>6</td><td>&quot;Don&#x27;t own&quot;</td><td>&quot;flat&quot;</td></tr><tr><td>2018-05-30</td><td>0</td><td>328</td><td>&quot;microwave&quot;</td><td>&quot;electric-appliance&quot;</td><td>&quot;home328_kitchen2980_sensor3101…</td><td>0</td><td>1</td><td>1</td><td>0</td><td>0</td><td>1</td><td>null</td><td>null</td><td>6</td><td>&quot;Don&#x27;t own&quot;</td><td>&quot;flat&quot;</td></tr></tbody></table></div>"
      ],
      "text/plain": [
       "shape: (31_502, 17)\n",
       "┌────────────┬───────────┬─────────┬───────────┬───┬────────────┬─────────┬────────────┬───────────┐\n",
       "│ date       ┆ daily_sum ┆ home_id ┆ device    ┆ … ┆ unit_charg ┆ n_rooms ┆ smart_auto ┆ hometype  │\n",
       "│ ---        ┆ ---       ┆ ---     ┆ ---       ┆   ┆ e_pence_pe ┆ ---     ┆ mation     ┆ ---       │\n",
       "│ date       ┆ i64       ┆ i32     ┆ str       ┆   ┆ r_kwh      ┆ i64     ┆ ---        ┆ str       │\n",
       "│            ┆           ┆         ┆           ┆   ┆ ---        ┆         ┆ str        ┆           │\n",
       "│            ┆           ┆         ┆           ┆   ┆ f64        ┆         ┆            ┆           │\n",
       "╞════════════╪═══════════╪═════════╪═══════════╪═══╪════════════╪═════════╪════════════╪═══════════╡\n",
       "│ 2016-11-17 ┆ 11763     ┆ 61      ┆ kettle    ┆ … ┆ 0.12       ┆ 9       ┆ Don't own  ┆ house_or_ │\n",
       "│            ┆           ┆         ┆           ┆   ┆            ┆         ┆            ┆ bungalow  │\n",
       "│ 2016-11-18 ┆ 14256     ┆ 61      ┆ kettle    ┆ … ┆ 0.12       ┆ 9       ┆ Don't own  ┆ house_or_ │\n",
       "│            ┆           ┆         ┆           ┆   ┆            ┆         ┆            ┆ bungalow  │\n",
       "│ 2016-11-19 ┆ 22827     ┆ 61      ┆ kettle    ┆ … ┆ 0.12       ┆ 9       ┆ Don't own  ┆ house_or_ │\n",
       "│            ┆           ┆         ┆           ┆   ┆            ┆         ┆            ┆ bungalow  │\n",
       "│ 2016-11-20 ┆ 25511     ┆ 61      ┆ kettle    ┆ … ┆ 0.12       ┆ 9       ┆ Don't own  ┆ house_or_ │\n",
       "│            ┆           ┆         ┆           ┆   ┆            ┆         ┆            ┆ bungalow  │\n",
       "│ 2016-11-21 ┆ 19826     ┆ 61      ┆ kettle    ┆ … ┆ 0.12       ┆ 9       ┆ Don't own  ┆ house_or_ │\n",
       "│            ┆           ┆         ┆           ┆   ┆            ┆         ┆            ┆ bungalow  │\n",
       "│ …          ┆ …         ┆ …       ┆ …         ┆ … ┆ …          ┆ …       ┆ …          ┆ …         │\n",
       "│ 2018-05-26 ┆ 3776      ┆ 328     ┆ microwave ┆ … ┆ null       ┆ 6       ┆ Don't own  ┆ flat      │\n",
       "│ 2018-05-27 ┆ 0         ┆ 328     ┆ microwave ┆ … ┆ null       ┆ 6       ┆ Don't own  ┆ flat      │\n",
       "│ 2018-05-28 ┆ 2662      ┆ 328     ┆ microwave ┆ … ┆ null       ┆ 6       ┆ Don't own  ┆ flat      │\n",
       "│ 2018-05-29 ┆ 2392      ┆ 328     ┆ microwave ┆ … ┆ null       ┆ 6       ┆ Don't own  ┆ flat      │\n",
       "│ 2018-05-30 ┆ 0         ┆ 328     ┆ microwave ┆ … ┆ null       ┆ 6       ┆ Don't own  ┆ flat      │\n",
       "└────────────┴───────────┴─────────┴───────────┴───┴────────────┴─────────┴────────────┴───────────┘"
      ]
     },
     "execution_count": 16,
     "metadata": {},
     "output_type": "execute_result"
    }
   ],
   "source": [
    "df_panel_long"
   ]
  },
  {
   "cell_type": "code",
   "execution_count": 92,
   "id": "29fcb93f",
   "metadata": {},
   "outputs": [],
   "source": [
    "df_panel_long.write_parquet(\"../../Data/ML_DF/data_frame_panel_long.parquet\")"
   ]
  },
  {
   "cell_type": "code",
   "execution_count": 93,
   "id": "0339c483",
   "metadata": {},
   "outputs": [
    {
     "name": "stderr",
     "output_type": "stream",
     "text": [
      "C:\\Users\\jansl\\AppData\\Local\\Temp\\ipykernel_19544\\2203284142.py:1: DeprecationWarning: the argument `columns` for `DataFrame.pivot` is deprecated. It was renamed to `on` in version 1.0.0.\n",
      "  pivot_df = df_panel_long.pivot(\n"
     ]
    }
   ],
   "source": [
    "pivot_df = df_panel_long.pivot(\n",
    "    values=\"daily_sum\",\n",
    "    index=[\"date\",'home_id'],\n",
    "    columns=\"device\",\n",
    "    aggregate_function='first'  # or \"sum\" if you expect multiple entries per date/device\n",
    ")"
   ]
  },
  {
   "cell_type": "code",
   "execution_count": 94,
   "id": "5700eec9",
   "metadata": {},
   "outputs": [],
   "source": [
    "df_X=df_home_id.join(\n",
    "    pivot_df,\n",
    "    left_on='homeid_1',\n",
    "    right_on='home_id',\n",
    "    how='left')\n",
    "df_X.write_parquet(\"../../Data/ML_DF/data_frame_X.parquet\")"
   ]
  },
  {
   "cell_type": "code",
   "execution_count": 95,
   "id": "1c2a5fc7",
   "metadata": {},
   "outputs": [],
   "source": [
    "\n",
    "df_X = df_X.with_columns([\n",
    "    (pl.col(\"smart_automation\") != \"Don't own\").cast(pl.Int8).alias(\"smart_automation_binary\")\n",
    "])\n",
    "df_X=df_X.drop(\"smart_automation\")\n",
    "df_X = df_X.to_dummies(columns=[\"hometype\"])\n",
    "df_X=df_X.drop('hometype_house_or_bungalow')"
   ]
  },
  {
   "cell_type": "code",
   "execution_count": 96,
   "id": "e2702be7",
   "metadata": {},
   "outputs": [
    {
     "data": {
      "text/html": [
       "<div><style>\n",
       ".dataframe > thead > tr,\n",
       ".dataframe > tbody > tr {\n",
       "  text-align: right;\n",
       "  white-space: pre-wrap;\n",
       "}\n",
       "</style>\n",
       "<small>shape: (5, 30)</small><table border=\"1\" class=\"dataframe\"><thead><tr><th>homeid_1</th><th>num_males</th><th>num_females</th><th>num_residents</th><th>num_children</th><th>num_employed</th><th>num_with_higher_education</th><th>daily_standing_charge_pence</th><th>unit_charge_pence_per_kwh</th><th>n_rooms</th><th>hometype_flat</th><th>date</th><th>kettle</th><th>dishwasher</th><th>microwave</th><th>fridgefreezer</th><th>washingmachine</th><th>vacuumcleaner</th><th>washingmachinetumbledrier</th><th>other</th><th>toaster</th><th>freezer</th><th>fridge</th><th>dehumidifier</th><th>electricheater</th><th>tumbledrier</th><th>grill</th><th>appliance</th><th>electricoven</th><th>smart_automation_binary</th></tr><tr><td>i64</td><td>i64</td><td>i64</td><td>i64</td><td>i64</td><td>i64</td><td>i64</td><td>f64</td><td>f64</td><td>i64</td><td>u8</td><td>date</td><td>i64</td><td>i64</td><td>i64</td><td>i64</td><td>i64</td><td>i64</td><td>i64</td><td>i64</td><td>i64</td><td>i64</td><td>i64</td><td>i64</td><td>i64</td><td>i64</td><td>i64</td><td>i64</td><td>i64</td><td>i8</td></tr></thead><tbody><tr><td>61</td><td>1</td><td>1</td><td>2</td><td>0</td><td>2</td><td>0</td><td>0.33</td><td>0.12</td><td>9</td><td>0</td><td>2016-11-17</td><td>11763</td><td>2969</td><td>342</td><td>null</td><td>null</td><td>null</td><td>null</td><td>null</td><td>null</td><td>null</td><td>null</td><td>null</td><td>null</td><td>null</td><td>null</td><td>null</td><td>null</td><td>0</td></tr><tr><td>61</td><td>1</td><td>1</td><td>2</td><td>0</td><td>2</td><td>0</td><td>0.33</td><td>0.12</td><td>9</td><td>0</td><td>2016-11-18</td><td>14256</td><td>14482</td><td>9147</td><td>null</td><td>null</td><td>null</td><td>null</td><td>null</td><td>null</td><td>null</td><td>null</td><td>null</td><td>null</td><td>null</td><td>null</td><td>null</td><td>null</td><td>0</td></tr><tr><td>61</td><td>1</td><td>1</td><td>2</td><td>0</td><td>2</td><td>0</td><td>0.33</td><td>0.12</td><td>9</td><td>0</td><td>2016-11-19</td><td>22827</td><td>7705</td><td>4858</td><td>null</td><td>null</td><td>null</td><td>null</td><td>null</td><td>null</td><td>null</td><td>null</td><td>null</td><td>null</td><td>null</td><td>null</td><td>null</td><td>null</td><td>0</td></tr><tr><td>61</td><td>1</td><td>1</td><td>2</td><td>0</td><td>2</td><td>0</td><td>0.33</td><td>0.12</td><td>9</td><td>0</td><td>2016-11-20</td><td>25511</td><td>20033</td><td>3333</td><td>null</td><td>null</td><td>null</td><td>null</td><td>null</td><td>null</td><td>null</td><td>null</td><td>null</td><td>null</td><td>null</td><td>null</td><td>null</td><td>null</td><td>0</td></tr><tr><td>61</td><td>1</td><td>1</td><td>2</td><td>0</td><td>2</td><td>0</td><td>0.33</td><td>0.12</td><td>9</td><td>0</td><td>2016-11-21</td><td>19826</td><td>133</td><td>4</td><td>null</td><td>null</td><td>null</td><td>null</td><td>null</td><td>null</td><td>null</td><td>null</td><td>null</td><td>null</td><td>null</td><td>null</td><td>null</td><td>null</td><td>0</td></tr></tbody></table></div>"
      ],
      "text/plain": [
       "shape: (5, 30)\n",
       "┌──────────┬───────────┬────────────┬────────────┬───┬───────┬───────────┬────────────┬────────────┐\n",
       "│ homeid_1 ┆ num_males ┆ num_female ┆ num_reside ┆ … ┆ grill ┆ appliance ┆ electricov ┆ smart_auto │\n",
       "│ ---      ┆ ---       ┆ s          ┆ nts        ┆   ┆ ---   ┆ ---       ┆ en         ┆ mation_bin │\n",
       "│ i64      ┆ i64       ┆ ---        ┆ ---        ┆   ┆ i64   ┆ i64       ┆ ---        ┆ ary        │\n",
       "│          ┆           ┆ i64        ┆ i64        ┆   ┆       ┆           ┆ i64        ┆ ---        │\n",
       "│          ┆           ┆            ┆            ┆   ┆       ┆           ┆            ┆ i8         │\n",
       "╞══════════╪═══════════╪════════════╪════════════╪═══╪═══════╪═══════════╪════════════╪════════════╡\n",
       "│ 61       ┆ 1         ┆ 1          ┆ 2          ┆ … ┆ null  ┆ null      ┆ null       ┆ 0          │\n",
       "│ 61       ┆ 1         ┆ 1          ┆ 2          ┆ … ┆ null  ┆ null      ┆ null       ┆ 0          │\n",
       "│ 61       ┆ 1         ┆ 1          ┆ 2          ┆ … ┆ null  ┆ null      ┆ null       ┆ 0          │\n",
       "│ 61       ┆ 1         ┆ 1          ┆ 2          ┆ … ┆ null  ┆ null      ┆ null       ┆ 0          │\n",
       "│ 61       ┆ 1         ┆ 1          ┆ 2          ┆ … ┆ null  ┆ null      ┆ null       ┆ 0          │\n",
       "└──────────┴───────────┴────────────┴────────────┴───┴───────┴───────────┴────────────┴────────────┘"
      ]
     },
     "execution_count": 96,
     "metadata": {},
     "output_type": "execute_result"
    }
   ],
   "source": [
    "df_X.head()"
   ]
  },
  {
   "cell_type": "code",
   "execution_count": 97,
   "id": "e0f2f318",
   "metadata": {},
   "outputs": [
    {
     "data": {
      "text/html": [
       "<div><style>\n",
       ".dataframe > thead > tr,\n",
       ".dataframe > tbody > tr {\n",
       "  text-align: right;\n",
       "  white-space: pre-wrap;\n",
       "}\n",
       "</style>\n",
       "<small>shape: (1, 30)</small><table border=\"1\" class=\"dataframe\"><thead><tr><th>homeid_1</th><th>num_males</th><th>num_females</th><th>num_residents</th><th>num_children</th><th>num_employed</th><th>num_with_higher_education</th><th>daily_standing_charge_pence</th><th>unit_charge_pence_per_kwh</th><th>n_rooms</th><th>hometype_flat</th><th>date</th><th>kettle</th><th>dishwasher</th><th>microwave</th><th>fridgefreezer</th><th>washingmachine</th><th>vacuumcleaner</th><th>washingmachinetumbledrier</th><th>other</th><th>toaster</th><th>freezer</th><th>fridge</th><th>dehumidifier</th><th>electricheater</th><th>tumbledrier</th><th>grill</th><th>appliance</th><th>electricoven</th><th>smart_automation_binary</th></tr><tr><td>u32</td><td>u32</td><td>u32</td><td>u32</td><td>u32</td><td>u32</td><td>u32</td><td>u32</td><td>u32</td><td>u32</td><td>u32</td><td>u32</td><td>u32</td><td>u32</td><td>u32</td><td>u32</td><td>u32</td><td>u32</td><td>u32</td><td>u32</td><td>u32</td><td>u32</td><td>u32</td><td>u32</td><td>u32</td><td>u32</td><td>u32</td><td>u32</td><td>u32</td><td>u32</td></tr></thead><tbody><tr><td>0</td><td>0</td><td>0</td><td>0</td><td>0</td><td>0</td><td>0</td><td>5226</td><td>5226</td><td>0</td><td>0</td><td>0</td><td>18091</td><td>19137</td><td>19765</td><td>17593</td><td>18356</td><td>35016</td><td>35460</td><td>39299</td><td>31453</td><td>37647</td><td>37351</td><td>37972</td><td>39913</td><td>40339</td><td>42154</td><td>42054</td><td>42295</td><td>164</td></tr></tbody></table></div>"
      ],
      "text/plain": [
       "shape: (1, 30)\n",
       "┌──────────┬───────────┬────────────┬────────────┬───┬───────┬───────────┬────────────┬────────────┐\n",
       "│ homeid_1 ┆ num_males ┆ num_female ┆ num_reside ┆ … ┆ grill ┆ appliance ┆ electricov ┆ smart_auto │\n",
       "│ ---      ┆ ---       ┆ s          ┆ nts        ┆   ┆ ---   ┆ ---       ┆ en         ┆ mation_bin │\n",
       "│ u32      ┆ u32       ┆ ---        ┆ ---        ┆   ┆ u32   ┆ u32       ┆ ---        ┆ ary        │\n",
       "│          ┆           ┆ u32        ┆ u32        ┆   ┆       ┆           ┆ u32        ┆ ---        │\n",
       "│          ┆           ┆            ┆            ┆   ┆       ┆           ┆            ┆ u32        │\n",
       "╞══════════╪═══════════╪════════════╪════════════╪═══╪═══════╪═══════════╪════════════╪════════════╡\n",
       "│ 0        ┆ 0         ┆ 0          ┆ 0          ┆ … ┆ 42154 ┆ 42054     ┆ 42295      ┆ 164        │\n",
       "└──────────┴───────────┴────────────┴────────────┴───┴───────┴───────────┴────────────┴────────────┘"
      ]
     },
     "execution_count": 97,
     "metadata": {},
     "output_type": "execute_result"
    }
   ],
   "source": [
    "df_X.select([\n",
    "    pl.col(col).is_null().sum().alias(col)\n",
    "    for col in df_X.columns\n",
    "])\n"
   ]
  },
  {
   "cell_type": "code",
   "execution_count": 107,
   "id": "f34dd29f",
   "metadata": {},
   "outputs": [],
   "source": [
    "df_without_clmns=df_X.drop(['grill','appliance','tumbledrier','electricheater','dehumidifier','other','fridge','freezer','washingmachinetumbledrier','electricoven','toaster','vacuumcleaner','fridgefreezer']) # electricoven\t bylo usuniete"
   ]
  },
  {
   "cell_type": "code",
   "execution_count": 104,
   "id": "0578a390",
   "metadata": {},
   "outputs": [
    {
     "data": {
      "text/html": [
       "<div><style>\n",
       ".dataframe > thead > tr,\n",
       ".dataframe > tbody > tr {\n",
       "  text-align: right;\n",
       "  white-space: pre-wrap;\n",
       "}\n",
       "</style>\n",
       "<small>shape: (1, 18)</small><table border=\"1\" class=\"dataframe\"><thead><tr><th>homeid_1</th><th>num_males</th><th>num_females</th><th>num_residents</th><th>num_children</th><th>num_employed</th><th>num_with_higher_education</th><th>daily_standing_charge_pence</th><th>unit_charge_pence_per_kwh</th><th>n_rooms</th><th>hometype_flat</th><th>date</th><th>kettle</th><th>dishwasher</th><th>microwave</th><th>fridgefreezer</th><th>washingmachine</th><th>smart_automation_binary</th></tr><tr><td>u32</td><td>u32</td><td>u32</td><td>u32</td><td>u32</td><td>u32</td><td>u32</td><td>u32</td><td>u32</td><td>u32</td><td>u32</td><td>u32</td><td>u32</td><td>u32</td><td>u32</td><td>u32</td><td>u32</td><td>u32</td></tr></thead><tbody><tr><td>0</td><td>0</td><td>0</td><td>0</td><td>0</td><td>0</td><td>0</td><td>5226</td><td>5226</td><td>0</td><td>0</td><td>0</td><td>18091</td><td>19137</td><td>19765</td><td>17593</td><td>18356</td><td>164</td></tr></tbody></table></div>"
      ],
      "text/plain": [
       "shape: (1, 18)\n",
       "┌──────────┬───────────┬───────────┬───────────┬───┬───────────┬───────────┬───────────┬───────────┐\n",
       "│ homeid_1 ┆ num_males ┆ num_femal ┆ num_resid ┆ … ┆ microwave ┆ fridgefre ┆ washingma ┆ smart_aut │\n",
       "│ ---      ┆ ---       ┆ es        ┆ ents      ┆   ┆ ---       ┆ ezer      ┆ chine     ┆ omation_b │\n",
       "│ u32      ┆ u32       ┆ ---       ┆ ---       ┆   ┆ u32       ┆ ---       ┆ ---       ┆ inary     │\n",
       "│          ┆           ┆ u32       ┆ u32       ┆   ┆           ┆ u32       ┆ u32       ┆ ---       │\n",
       "│          ┆           ┆           ┆           ┆   ┆           ┆           ┆           ┆ u32       │\n",
       "╞══════════╪═══════════╪═══════════╪═══════════╪═══╪═══════════╪═══════════╪═══════════╪═══════════╡\n",
       "│ 0        ┆ 0         ┆ 0         ┆ 0         ┆ … ┆ 19765     ┆ 17593     ┆ 18356     ┆ 164       │\n",
       "└──────────┴───────────┴───────────┴───────────┴───┴───────────┴───────────┴───────────┴───────────┘"
      ]
     },
     "execution_count": 104,
     "metadata": {},
     "output_type": "execute_result"
    }
   ],
   "source": [
    "df_without_clmns.select([\n",
    "    pl.col(col).is_null().sum().alias(col)\n",
    "    for col in df_without_clmns.columns\n",
    "])"
   ]
  },
  {
   "cell_type": "code",
   "execution_count": 106,
   "id": "3dc883d2",
   "metadata": {},
   "outputs": [
    {
     "data": {
      "text/html": [
       "<div><style>\n",
       ".dataframe > thead > tr,\n",
       ".dataframe > tbody > tr {\n",
       "  text-align: right;\n",
       "  white-space: pre-wrap;\n",
       "}\n",
       "</style>\n",
       "<small>shape: (42_865, 18)</small><table border=\"1\" class=\"dataframe\"><thead><tr><th>homeid_1</th><th>num_males</th><th>num_females</th><th>num_residents</th><th>num_children</th><th>num_employed</th><th>num_with_higher_education</th><th>daily_standing_charge_pence</th><th>unit_charge_pence_per_kwh</th><th>n_rooms</th><th>hometype_flat</th><th>date</th><th>kettle</th><th>dishwasher</th><th>microwave</th><th>fridgefreezer</th><th>washingmachine</th><th>smart_automation_binary</th></tr><tr><td>i64</td><td>i64</td><td>i64</td><td>i64</td><td>i64</td><td>i64</td><td>i64</td><td>f64</td><td>f64</td><td>i64</td><td>u8</td><td>date</td><td>i64</td><td>i64</td><td>i64</td><td>i64</td><td>i64</td><td>i8</td></tr></thead><tbody><tr><td>61</td><td>1</td><td>1</td><td>2</td><td>0</td><td>2</td><td>0</td><td>0.33</td><td>0.12</td><td>9</td><td>0</td><td>2016-11-17</td><td>11763</td><td>2969</td><td>342</td><td>null</td><td>null</td><td>0</td></tr><tr><td>61</td><td>1</td><td>1</td><td>2</td><td>0</td><td>2</td><td>0</td><td>0.33</td><td>0.12</td><td>9</td><td>0</td><td>2016-11-18</td><td>14256</td><td>14482</td><td>9147</td><td>null</td><td>null</td><td>0</td></tr><tr><td>61</td><td>1</td><td>1</td><td>2</td><td>0</td><td>2</td><td>0</td><td>0.33</td><td>0.12</td><td>9</td><td>0</td><td>2016-11-19</td><td>22827</td><td>7705</td><td>4858</td><td>null</td><td>null</td><td>0</td></tr><tr><td>61</td><td>1</td><td>1</td><td>2</td><td>0</td><td>2</td><td>0</td><td>0.33</td><td>0.12</td><td>9</td><td>0</td><td>2016-11-20</td><td>25511</td><td>20033</td><td>3333</td><td>null</td><td>null</td><td>0</td></tr><tr><td>61</td><td>1</td><td>1</td><td>2</td><td>0</td><td>2</td><td>0</td><td>0.33</td><td>0.12</td><td>9</td><td>0</td><td>2016-11-21</td><td>19826</td><td>133</td><td>4</td><td>null</td><td>null</td><td>0</td></tr><tr><td>&hellip;</td><td>&hellip;</td><td>&hellip;</td><td>&hellip;</td><td>&hellip;</td><td>&hellip;</td><td>&hellip;</td><td>&hellip;</td><td>&hellip;</td><td>&hellip;</td><td>&hellip;</td><td>&hellip;</td><td>&hellip;</td><td>&hellip;</td><td>&hellip;</td><td>&hellip;</td><td>&hellip;</td><td>&hellip;</td></tr><tr><td>328</td><td>0</td><td>1</td><td>1</td><td>0</td><td>0</td><td>1</td><td>null</td><td>null</td><td>6</td><td>1</td><td>2018-05-26</td><td>8791</td><td>null</td><td>3776</td><td>20097</td><td>null</td><td>0</td></tr><tr><td>328</td><td>0</td><td>1</td><td>1</td><td>0</td><td>0</td><td>1</td><td>null</td><td>null</td><td>6</td><td>1</td><td>2018-05-27</td><td>12940</td><td>null</td><td>0</td><td>16200</td><td>null</td><td>0</td></tr><tr><td>328</td><td>0</td><td>1</td><td>1</td><td>0</td><td>0</td><td>1</td><td>null</td><td>null</td><td>6</td><td>1</td><td>2018-05-28</td><td>2934</td><td>null</td><td>2662</td><td>18679</td><td>null</td><td>0</td></tr><tr><td>328</td><td>0</td><td>1</td><td>1</td><td>0</td><td>0</td><td>1</td><td>null</td><td>null</td><td>6</td><td>1</td><td>2018-05-29</td><td>9924</td><td>null</td><td>2392</td><td>18349</td><td>null</td><td>0</td></tr><tr><td>328</td><td>0</td><td>1</td><td>1</td><td>0</td><td>0</td><td>1</td><td>null</td><td>null</td><td>6</td><td>1</td><td>2018-05-30</td><td>3856</td><td>null</td><td>0</td><td>19497</td><td>null</td><td>0</td></tr></tbody></table></div>"
      ],
      "text/plain": [
       "shape: (42_865, 18)\n",
       "┌──────────┬───────────┬───────────┬───────────┬───┬───────────┬───────────┬───────────┬───────────┐\n",
       "│ homeid_1 ┆ num_males ┆ num_femal ┆ num_resid ┆ … ┆ microwave ┆ fridgefre ┆ washingma ┆ smart_aut │\n",
       "│ ---      ┆ ---       ┆ es        ┆ ents      ┆   ┆ ---       ┆ ezer      ┆ chine     ┆ omation_b │\n",
       "│ i64      ┆ i64       ┆ ---       ┆ ---       ┆   ┆ i64       ┆ ---       ┆ ---       ┆ inary     │\n",
       "│          ┆           ┆ i64       ┆ i64       ┆   ┆           ┆ i64       ┆ i64       ┆ ---       │\n",
       "│          ┆           ┆           ┆           ┆   ┆           ┆           ┆           ┆ i8        │\n",
       "╞══════════╪═══════════╪═══════════╪═══════════╪═══╪═══════════╪═══════════╪═══════════╪═══════════╡\n",
       "│ 61       ┆ 1         ┆ 1         ┆ 2         ┆ … ┆ 342       ┆ null      ┆ null      ┆ 0         │\n",
       "│ 61       ┆ 1         ┆ 1         ┆ 2         ┆ … ┆ 9147      ┆ null      ┆ null      ┆ 0         │\n",
       "│ 61       ┆ 1         ┆ 1         ┆ 2         ┆ … ┆ 4858      ┆ null      ┆ null      ┆ 0         │\n",
       "│ 61       ┆ 1         ┆ 1         ┆ 2         ┆ … ┆ 3333      ┆ null      ┆ null      ┆ 0         │\n",
       "│ 61       ┆ 1         ┆ 1         ┆ 2         ┆ … ┆ 4         ┆ null      ┆ null      ┆ 0         │\n",
       "│ …        ┆ …         ┆ …         ┆ …         ┆ … ┆ …         ┆ …         ┆ …         ┆ …         │\n",
       "│ 328      ┆ 0         ┆ 1         ┆ 1         ┆ … ┆ 3776      ┆ 20097     ┆ null      ┆ 0         │\n",
       "│ 328      ┆ 0         ┆ 1         ┆ 1         ┆ … ┆ 0         ┆ 16200     ┆ null      ┆ 0         │\n",
       "│ 328      ┆ 0         ┆ 1         ┆ 1         ┆ … ┆ 2662      ┆ 18679     ┆ null      ┆ 0         │\n",
       "│ 328      ┆ 0         ┆ 1         ┆ 1         ┆ … ┆ 2392      ┆ 18349     ┆ null      ┆ 0         │\n",
       "│ 328      ┆ 0         ┆ 1         ┆ 1         ┆ … ┆ 0         ┆ 19497     ┆ null      ┆ 0         │\n",
       "└──────────┴───────────┴───────────┴───────────┴───┴───────────┴───────────┴───────────┴───────────┘"
      ]
     },
     "execution_count": 106,
     "metadata": {},
     "output_type": "execute_result"
    }
   ],
   "source": [
    "df_without_clmns"
   ]
  },
  {
   "cell_type": "code",
   "execution_count": 110,
   "id": "b33d30d1",
   "metadata": {},
   "outputs": [],
   "source": [
    "df_appl_without_null=df_without_clmns.drop_nulls()"
   ]
  },
  {
   "cell_type": "code",
   "execution_count": 112,
   "id": "7ab5ebed",
   "metadata": {},
   "outputs": [],
   "source": [
    "df_appl_without_null.write_parquet('../../Data/ML_DF/df_appl_without_null.parquet')"
   ]
  },
  {
   "cell_type": "markdown",
   "id": "01cba4a1",
   "metadata": {},
   "source": [
    "### household_sensors_data_to_process"
   ]
  },
  {
   "cell_type": "code",
   "execution_count": 20,
   "id": "237fe11e",
   "metadata": {},
   "outputs": [
    {
     "data": {
      "text/html": [
       "<div><style>\n",
       ".dataframe > thead > tr,\n",
       ".dataframe > tbody > tr {\n",
       "  text-align: right;\n",
       "  white-space: pre-wrap;\n",
       "}\n",
       "</style>\n",
       "<small>shape: (334, 4)</small><table border=\"1\" class=\"dataframe\"><thead><tr><th>home_id</th><th>electric</th><th>subcircuit</th><th>filename</th></tr><tr><td>i64</td><td>str</td><td>str</td><td>str</td></tr></thead><tbody><tr><td>47</td><td>&quot;electric-mains_electric-combin…</td><td>null</td><td>&quot;home47_hall654_sensor1216c1220…</td></tr><tr><td>59</td><td>&quot;electric-mains_electric-combin…</td><td>null</td><td>&quot;home59_hall687_sensor1506c1508…</td></tr><tr><td>61</td><td>&quot;electric-mains_electric-combin…</td><td>null</td><td>&quot;home61_hall693_sensor1563c1569…</td></tr><tr><td>61</td><td>&quot;electric-subcircuit&quot;</td><td>&quot;mains&quot;</td><td>&quot;home61_utility1109_sensor5071_…</td></tr><tr><td>62</td><td>&quot;electric-mains_electric-combin…</td><td>null</td><td>&quot;home62_hall705_sensor1662c1666…</td></tr><tr><td>&hellip;</td><td>&hellip;</td><td>&hellip;</td><td>&hellip;</td></tr><tr><td>331</td><td>&quot;electric-mains_electric-combin…</td><td>null</td><td>&quot;home331_hall2999_sensor21563c2…</td></tr><tr><td>332</td><td>&quot;electric-mains_electric-combin…</td><td>null</td><td>&quot;home332_hall3027_sensor21901c2…</td></tr><tr><td>333</td><td>&quot;electric-mains_electric-combin…</td><td>null</td><td>&quot;home333_hall3015_sensor21748c2…</td></tr><tr><td>334</td><td>&quot;electric-mains_electric-combin…</td><td>null</td><td>&quot;home334_hall3013_sensor21787c2…</td></tr><tr><td>335</td><td>&quot;electric-mains_electric-combin…</td><td>null</td><td>&quot;home335_hall3034_sensor21969c2…</td></tr></tbody></table></div>"
      ],
      "text/plain": [
       "shape: (334, 4)\n",
       "┌─────────┬─────────────────────────────────┬────────────┬─────────────────────────────────┐\n",
       "│ home_id ┆ electric                        ┆ subcircuit ┆ filename                        │\n",
       "│ ---     ┆ ---                             ┆ ---        ┆ ---                             │\n",
       "│ i64     ┆ str                             ┆ str        ┆ str                             │\n",
       "╞═════════╪═════════════════════════════════╪════════════╪═════════════════════════════════╡\n",
       "│ 47      ┆ electric-mains_electric-combin… ┆ null       ┆ home47_hall654_sensor1216c1220… │\n",
       "│ 59      ┆ electric-mains_electric-combin… ┆ null       ┆ home59_hall687_sensor1506c1508… │\n",
       "│ 61      ┆ electric-mains_electric-combin… ┆ null       ┆ home61_hall693_sensor1563c1569… │\n",
       "│ 61      ┆ electric-subcircuit             ┆ mains      ┆ home61_utility1109_sensor5071_… │\n",
       "│ 62      ┆ electric-mains_electric-combin… ┆ null       ┆ home62_hall705_sensor1662c1666… │\n",
       "│ …       ┆ …                               ┆ …          ┆ …                               │\n",
       "│ 331     ┆ electric-mains_electric-combin… ┆ null       ┆ home331_hall2999_sensor21563c2… │\n",
       "│ 332     ┆ electric-mains_electric-combin… ┆ null       ┆ home332_hall3027_sensor21901c2… │\n",
       "│ 333     ┆ electric-mains_electric-combin… ┆ null       ┆ home333_hall3015_sensor21748c2… │\n",
       "│ 334     ┆ electric-mains_electric-combin… ┆ null       ┆ home334_hall3013_sensor21787c2… │\n",
       "│ 335     ┆ electric-mains_electric-combin… ┆ null       ┆ home335_hall3034_sensor21969c2… │\n",
       "└─────────┴─────────────────────────────────┴────────────┴─────────────────────────────────┘"
      ]
     },
     "execution_count": 20,
     "metadata": {},
     "output_type": "execute_result"
    }
   ],
   "source": [
    "# Zmiana appliance_data_to_process na DataFrame Polars\n",
    "household_sensors_data_to_process = pl.DataFrame(household_sensors_data_to_process)\n",
    "household_sensors_data_to_process"
   ]
  },
  {
   "cell_type": "code",
   "execution_count": 21,
   "id": "ed49c4ad",
   "metadata": {},
   "outputs": [
    {
     "ename": "KeyboardInterrupt",
     "evalue": "",
     "output_type": "error",
     "traceback": [
      "\u001b[31m---------------------------------------------------------------------------\u001b[39m",
      "\u001b[31mKeyboardInterrupt\u001b[39m                         Traceback (most recent call last)",
      "\u001b[36mCell\u001b[39m\u001b[36m \u001b[39m\u001b[32mIn[21]\u001b[39m\u001b[32m, line 19\u001b[39m\n\u001b[32m     16\u001b[39m     \u001b[38;5;28mprint\u001b[39m(\u001b[33mf\u001b[39m\u001b[33m\"\u001b[39m\u001b[33mPOMINIĘTO pusty plik: \u001b[39m\u001b[38;5;132;01m{\u001b[39;00mpath_file\u001b[38;5;132;01m}\u001b[39;00m\u001b[33m\"\u001b[39m)\n\u001b[32m     17\u001b[39m     \u001b[38;5;28;01mcontinue\u001b[39;00m\n\u001b[32m---> \u001b[39m\u001b[32m19\u001b[39m df_clean = \u001b[43mfix_parquet_with_header_data\u001b[49m\u001b[43m(\u001b[49m\u001b[43mdf\u001b[49m\u001b[43m)\u001b[49m\n\u001b[32m     20\u001b[39m daily_data = aggregate_data_daily(df_clean)\n\u001b[32m     22\u001b[39m df_tmp = daily_data.with_columns([\n\u001b[32m     23\u001b[39m     pl.lit(home_id).alias(\u001b[33m\"\u001b[39m\u001b[33mhome_id\u001b[39m\u001b[33m\"\u001b[39m),\n\u001b[32m     24\u001b[39m     pl.lit(subcircuit).alias(\u001b[33m\"\u001b[39m\u001b[33msubcircuit\u001b[39m\u001b[33m\"\u001b[39m)\n\u001b[32m     25\u001b[39m ])\n",
      "\u001b[36mFile \u001b[39m\u001b[32mc:\\Users\\jansl\\OneDrive - uek.krakow.pl\\Pulpit\\ISSI\\Projekt dyplomowy\\working_dir\\code\\functions\\fix_parquet_with_header_data.py:40\u001b[39m, in \u001b[36mfix_parquet_with_header_data\u001b[39m\u001b[34m(df)\u001b[39m\n\u001b[32m     37\u001b[39m \u001b[38;5;66;03m# Rename to final desired column names\u001b[39;00m\n\u001b[32m     38\u001b[39m df_fixed.columns = [\u001b[33m\"\u001b[39m\u001b[33mtimestamp\u001b[39m\u001b[33m\"\u001b[39m, \u001b[33m\"\u001b[39m\u001b[33mvalue\u001b[39m\u001b[33m\"\u001b[39m]\n\u001b[32m---> \u001b[39m\u001b[32m40\u001b[39m df_fixed = \u001b[43mdf_fixed\u001b[49m\u001b[43m.\u001b[49m\u001b[43mwith_columns\u001b[49m\u001b[43m(\u001b[49m\n\u001b[32m     41\u001b[39m \u001b[43m    \u001b[49m\u001b[43mpl\u001b[49m\u001b[43m.\u001b[49m\u001b[43mcol\u001b[49m\u001b[43m(\u001b[49m\u001b[33;43m\"\u001b[39;49m\u001b[33;43mtimestamp\u001b[39;49m\u001b[33;43m\"\u001b[39;49m\u001b[43m)\u001b[49m\u001b[43m.\u001b[49m\u001b[43mstr\u001b[49m\u001b[43m.\u001b[49m\u001b[43mstrptime\u001b[49m\u001b[43m(\u001b[49m\u001b[43mpl\u001b[49m\u001b[43m.\u001b[49m\u001b[43mDatetime\u001b[49m\u001b[43m,\u001b[49m\u001b[43m \u001b[49m\u001b[38;5;28;43mformat\u001b[39;49m\u001b[43m=\u001b[49m\u001b[33;43m\"\u001b[39;49m\u001b[33;43m%\u001b[39;49m\u001b[33;43mY-\u001b[39;49m\u001b[33;43m%\u001b[39;49m\u001b[33;43mm-\u001b[39;49m\u001b[38;5;132;43;01m%d\u001b[39;49;00m\u001b[33;43m \u001b[39;49m\u001b[33;43m%\u001b[39;49m\u001b[33;43mH:\u001b[39;49m\u001b[33;43m%\u001b[39;49m\u001b[33;43mM:\u001b[39;49m\u001b[33;43m%\u001b[39;49m\u001b[33;43mS\u001b[39;49m\u001b[33;43m\"\u001b[39;49m\u001b[43m)\u001b[49m\n\u001b[32m     42\u001b[39m \u001b[43m\u001b[49m\u001b[43m)\u001b[49m\n\u001b[32m     44\u001b[39m \u001b[38;5;28;01mreturn\u001b[39;00m df_fixed\n",
      "\u001b[36mFile \u001b[39m\u001b[32mc:\\Users\\jansl\\OneDrive - uek.krakow.pl\\Pulpit\\ISSI\\Projekt dyplomowy\\.venv\\Lib\\site-packages\\polars\\dataframe\\frame.py:9938\u001b[39m, in \u001b[36mDataFrame.with_columns\u001b[39m\u001b[34m(self, *exprs, **named_exprs)\u001b[39m\n\u001b[32m   9792\u001b[39m \u001b[38;5;250m\u001b[39m\u001b[33;03m\"\"\"\u001b[39;00m\n\u001b[32m   9793\u001b[39m \u001b[33;03mAdd columns to this DataFrame.\u001b[39;00m\n\u001b[32m   9794\u001b[39m \n\u001b[32m   (...)\u001b[39m\u001b[32m   9931\u001b[39m \u001b[33;03m└─────┴──────┴─────────────┘\u001b[39;00m\n\u001b[32m   9932\u001b[39m \u001b[33;03m\"\"\"\u001b[39;00m\n\u001b[32m   9933\u001b[39m \u001b[38;5;28;01mfrom\u001b[39;00m\u001b[38;5;250m \u001b[39m\u001b[34;01mpolars\u001b[39;00m\u001b[34;01m.\u001b[39;00m\u001b[34;01mlazyframe\u001b[39;00m\u001b[34;01m.\u001b[39;00m\u001b[34;01mopt_flags\u001b[39;00m\u001b[38;5;250m \u001b[39m\u001b[38;5;28;01mimport\u001b[39;00m QueryOptFlags\n\u001b[32m   9935\u001b[39m \u001b[38;5;28;01mreturn\u001b[39;00m (\n\u001b[32m   9936\u001b[39m     \u001b[38;5;28;43mself\u001b[39;49m\u001b[43m.\u001b[49m\u001b[43mlazy\u001b[49m\u001b[43m(\u001b[49m\u001b[43m)\u001b[49m\n\u001b[32m   9937\u001b[39m \u001b[43m    \u001b[49m\u001b[43m.\u001b[49m\u001b[43mwith_columns\u001b[49m\u001b[43m(\u001b[49m\u001b[43m*\u001b[49m\u001b[43mexprs\u001b[49m\u001b[43m,\u001b[49m\u001b[43m \u001b[49m\u001b[43m*\u001b[49m\u001b[43m*\u001b[49m\u001b[43mnamed_exprs\u001b[49m\u001b[43m)\u001b[49m\n\u001b[32m-> \u001b[39m\u001b[32m9938\u001b[39m \u001b[43m    \u001b[49m\u001b[43m.\u001b[49m\u001b[43mcollect\u001b[49m\u001b[43m(\u001b[49m\u001b[43moptimizations\u001b[49m\u001b[43m=\u001b[49m\u001b[43mQueryOptFlags\u001b[49m\u001b[43m.\u001b[49m\u001b[43m_eager\u001b[49m\u001b[43m(\u001b[49m\u001b[43m)\u001b[49m\u001b[43m)\u001b[49m\n\u001b[32m   9939\u001b[39m )\n",
      "\u001b[36mFile \u001b[39m\u001b[32mc:\\Users\\jansl\\OneDrive - uek.krakow.pl\\Pulpit\\ISSI\\Projekt dyplomowy\\.venv\\Lib\\site-packages\\polars\\_utils\\deprecation.py:97\u001b[39m, in \u001b[36mdeprecate_streaming_parameter.<locals>.decorate.<locals>.wrapper\u001b[39m\u001b[34m(*args, **kwargs)\u001b[39m\n\u001b[32m     93\u001b[39m         kwargs[\u001b[33m\"\u001b[39m\u001b[33mengine\u001b[39m\u001b[33m\"\u001b[39m] = \u001b[33m\"\u001b[39m\u001b[33min-memory\u001b[39m\u001b[33m\"\u001b[39m\n\u001b[32m     95\u001b[39m     \u001b[38;5;28;01mdel\u001b[39;00m kwargs[\u001b[33m\"\u001b[39m\u001b[33mstreaming\u001b[39m\u001b[33m\"\u001b[39m]\n\u001b[32m---> \u001b[39m\u001b[32m97\u001b[39m \u001b[38;5;28;01mreturn\u001b[39;00m \u001b[43mfunction\u001b[49m\u001b[43m(\u001b[49m\u001b[43m*\u001b[49m\u001b[43margs\u001b[49m\u001b[43m,\u001b[49m\u001b[43m \u001b[49m\u001b[43m*\u001b[49m\u001b[43m*\u001b[49m\u001b[43mkwargs\u001b[49m\u001b[43m)\u001b[49m\n",
      "\u001b[36mFile \u001b[39m\u001b[32mc:\\Users\\jansl\\OneDrive - uek.krakow.pl\\Pulpit\\ISSI\\Projekt dyplomowy\\.venv\\Lib\\site-packages\\polars\\lazyframe\\opt_flags.py:331\u001b[39m, in \u001b[36mforward_old_opt_flags.<locals>.decorate.<locals>.wrapper\u001b[39m\u001b[34m(*args, **kwargs)\u001b[39m\n\u001b[32m    328\u001b[39m         optflags = cb(optflags, kwargs.pop(key))  \u001b[38;5;66;03m# type: ignore[no-untyped-call,unused-ignore]\u001b[39;00m\n\u001b[32m    330\u001b[39m kwargs[\u001b[33m\"\u001b[39m\u001b[33moptimizations\u001b[39m\u001b[33m\"\u001b[39m] = optflags\n\u001b[32m--> \u001b[39m\u001b[32m331\u001b[39m \u001b[38;5;28;01mreturn\u001b[39;00m \u001b[43mfunction\u001b[49m\u001b[43m(\u001b[49m\u001b[43m*\u001b[49m\u001b[43margs\u001b[49m\u001b[43m,\u001b[49m\u001b[43m \u001b[49m\u001b[43m*\u001b[49m\u001b[43m*\u001b[49m\u001b[43mkwargs\u001b[49m\u001b[43m)\u001b[49m\n",
      "\u001b[36mFile \u001b[39m\u001b[32mc:\\Users\\jansl\\OneDrive - uek.krakow.pl\\Pulpit\\ISSI\\Projekt dyplomowy\\.venv\\Lib\\site-packages\\polars\\lazyframe\\frame.py:2300\u001b[39m, in \u001b[36mLazyFrame.collect\u001b[39m\u001b[34m(self, type_coercion, predicate_pushdown, projection_pushdown, simplify_expression, slice_pushdown, comm_subplan_elim, comm_subexpr_elim, cluster_with_columns, collapse_joins, no_optimization, engine, background, optimizations, **_kwargs)\u001b[39m\n\u001b[32m   2298\u001b[39m \u001b[38;5;66;03m# Only for testing purposes\u001b[39;00m\n\u001b[32m   2299\u001b[39m callback = _kwargs.get(\u001b[33m\"\u001b[39m\u001b[33mpost_opt_callback\u001b[39m\u001b[33m\"\u001b[39m, callback)\n\u001b[32m-> \u001b[39m\u001b[32m2300\u001b[39m \u001b[38;5;28;01mreturn\u001b[39;00m wrap_df(\u001b[43mldf\u001b[49m\u001b[43m.\u001b[49m\u001b[43mcollect\u001b[49m\u001b[43m(\u001b[49m\u001b[43mengine\u001b[49m\u001b[43m,\u001b[49m\u001b[43m \u001b[49m\u001b[43mcallback\u001b[49m\u001b[43m)\u001b[49m)\n",
      "\u001b[31mKeyboardInterrupt\u001b[39m: "
     ]
    }
   ],
   "source": [
    "df_all_sensors = []\n",
    "\n",
    "# Iterujemy po unikalnych wierszach z potrzebnymi informacjami\n",
    "for row in household_sensors_data_to_process.iter_rows(named=True):\n",
    "    home_id = row[\"home_id\"]\n",
    "    filename = row[\"filename\"]\n",
    "    subcircuit = row[\"subcircuit\"]\n",
    "\n",
    "    path_file = Path(f\"../../Data/Parquet/household_sensors/sensordata/{filename}\")\n",
    "    # print(path_file)\n",
    "\n",
    "    try:\n",
    "        df = pl.read_parquet(path_file)\n",
    "    \n",
    "        if df.is_empty():\n",
    "            print(f\"POMINIĘTO pusty plik: {path_file}\")\n",
    "            continue\n",
    "\n",
    "        df_clean = fix_parquet_with_header_data(df)\n",
    "        daily_data = aggregate_data_daily(df_clean)\n",
    "\n",
    "        df_tmp = daily_data.with_columns([\n",
    "            pl.lit(home_id).alias(\"home_id\"),\n",
    "            pl.lit(subcircuit).alias(\"subcircuit\")\n",
    "        ])\n",
    "\n",
    "        if not df_tmp.is_empty():\n",
    "            df_all_sensors.append(df_tmp)\n",
    "        else:\n",
    "            print(f\"⚠️ Pusty wynik po agregacji dla: {path_file}\")\n",
    "            \n",
    "        df_all_sensors.append(df_tmp)\n",
    "\n",
    "    except Exception as e:      \n",
    "        print(f\"Błąd przy pliku {path_file}: {e}\")\n",
    "        continue"
   ]
  },
  {
   "cell_type": "code",
   "execution_count": 59,
   "id": "1610d8ee",
   "metadata": {},
   "outputs": [],
   "source": [
    "for i in range(len(df_all_sensors)):\n",
    "    if \"subcircuit\" not in df_all_sensors[i].columns:\n",
    "        df_all_sensors[i] = df_all_sensors[i].with_columns(pl.lit(\"\").alias(\"subcircuit\"))\n",
    "    else:\n",
    "        df_all_sensors[i] = df_all_sensors[i].with_columns(df_all_sensors[i][\"subcircuit\"].cast(pl.Utf8))\n",
    "\n",
    "df_all_sensors = pl.concat(df_all_sensors)"
   ]
  },
  {
   "cell_type": "code",
   "execution_count": null,
   "id": "fff8742a",
   "metadata": {},
   "outputs": [],
   "source": [
    "#df_all_sensors.write_parquet(\"../../Data/ML_DF/df_all_sensors.parquet\")"
   ]
  },
  {
   "cell_type": "code",
   "execution_count": 63,
   "id": "8eea3a1c",
   "metadata": {},
   "outputs": [
    {
     "data": {
      "text/html": [
       "<div><style>\n",
       ".dataframe > thead > tr,\n",
       ".dataframe > tbody > tr {\n",
       "  text-align: right;\n",
       "  white-space: pre-wrap;\n",
       "}\n",
       "</style>\n",
       "<small>shape: (334, 4)</small><table border=\"1\" class=\"dataframe\"><thead><tr><th>home_id</th><th>electric</th><th>subcircuit</th><th>filename</th></tr><tr><td>i64</td><td>str</td><td>str</td><td>str</td></tr></thead><tbody><tr><td>47</td><td>&quot;electric-mains_electric-combin…</td><td>null</td><td>&quot;home47_hall654_sensor1216c1220…</td></tr><tr><td>59</td><td>&quot;electric-mains_electric-combin…</td><td>null</td><td>&quot;home59_hall687_sensor1506c1508…</td></tr><tr><td>61</td><td>&quot;electric-mains_electric-combin…</td><td>null</td><td>&quot;home61_hall693_sensor1563c1569…</td></tr><tr><td>61</td><td>&quot;electric-subcircuit&quot;</td><td>&quot;mains&quot;</td><td>&quot;home61_utility1109_sensor5071_…</td></tr><tr><td>62</td><td>&quot;electric-mains_electric-combin…</td><td>null</td><td>&quot;home62_hall705_sensor1662c1666…</td></tr><tr><td>&hellip;</td><td>&hellip;</td><td>&hellip;</td><td>&hellip;</td></tr><tr><td>331</td><td>&quot;electric-mains_electric-combin…</td><td>null</td><td>&quot;home331_hall2999_sensor21563c2…</td></tr><tr><td>332</td><td>&quot;electric-mains_electric-combin…</td><td>null</td><td>&quot;home332_hall3027_sensor21901c2…</td></tr><tr><td>333</td><td>&quot;electric-mains_electric-combin…</td><td>null</td><td>&quot;home333_hall3015_sensor21748c2…</td></tr><tr><td>334</td><td>&quot;electric-mains_electric-combin…</td><td>null</td><td>&quot;home334_hall3013_sensor21787c2…</td></tr><tr><td>335</td><td>&quot;electric-mains_electric-combin…</td><td>null</td><td>&quot;home335_hall3034_sensor21969c2…</td></tr></tbody></table></div>"
      ],
      "text/plain": [
       "shape: (334, 4)\n",
       "┌─────────┬─────────────────────────────────┬────────────┬─────────────────────────────────┐\n",
       "│ home_id ┆ electric                        ┆ subcircuit ┆ filename                        │\n",
       "│ ---     ┆ ---                             ┆ ---        ┆ ---                             │\n",
       "│ i64     ┆ str                             ┆ str        ┆ str                             │\n",
       "╞═════════╪═════════════════════════════════╪════════════╪═════════════════════════════════╡\n",
       "│ 47      ┆ electric-mains_electric-combin… ┆ null       ┆ home47_hall654_sensor1216c1220… │\n",
       "│ 59      ┆ electric-mains_electric-combin… ┆ null       ┆ home59_hall687_sensor1506c1508… │\n",
       "│ 61      ┆ electric-mains_electric-combin… ┆ null       ┆ home61_hall693_sensor1563c1569… │\n",
       "│ 61      ┆ electric-subcircuit             ┆ mains      ┆ home61_utility1109_sensor5071_… │\n",
       "│ 62      ┆ electric-mains_electric-combin… ┆ null       ┆ home62_hall705_sensor1662c1666… │\n",
       "│ …       ┆ …                               ┆ …          ┆ …                               │\n",
       "│ 331     ┆ electric-mains_electric-combin… ┆ null       ┆ home331_hall2999_sensor21563c2… │\n",
       "│ 332     ┆ electric-mains_electric-combin… ┆ null       ┆ home332_hall3027_sensor21901c2… │\n",
       "│ 333     ┆ electric-mains_electric-combin… ┆ null       ┆ home333_hall3015_sensor21748c2… │\n",
       "│ 334     ┆ electric-mains_electric-combin… ┆ null       ┆ home334_hall3013_sensor21787c2… │\n",
       "│ 335     ┆ electric-mains_electric-combin… ┆ null       ┆ home335_hall3034_sensor21969c2… │\n",
       "└─────────┴─────────────────────────────────┴────────────┴─────────────────────────────────┘"
      ]
     },
     "execution_count": 63,
     "metadata": {},
     "output_type": "execute_result"
    }
   ],
   "source": [
    "household_sensors_data_to_process"
   ]
  },
  {
   "cell_type": "code",
   "execution_count": 76,
   "id": "1c6be4e9",
   "metadata": {},
   "outputs": [],
   "source": [
    "# # Unikalne wartości dla electric subcircuitów\n",
    "\n",
    "# unique_subcircuits = (\n",
    "#     household_sensors_data_to_process\n",
    "#     .filter(pl.col(\"electric\") == \"electric-subcircuit\")\n",
    "#     .select(\"subcircuit\")\n",
    "#     .unique()\n",
    "# )\n",
    "\n",
    "# print(unique_subcircuits)"
   ]
  },
  {
   "cell_type": "code",
   "execution_count": null,
   "id": "93c338a5",
   "metadata": {},
   "outputs": [
    {
     "name": "stderr",
     "output_type": "stream",
     "text": [
      "/var/folders/rh/w6cl6rd95vj2g4s03scz_4fc0000gn/T/ipykernel_68391/2697917958.py:6: DeprecationWarning: `pl.count()` is deprecated. Please use `pl.len()` instead.\n",
      "(Deprecated in version 0.20.5)\n",
      "  .agg(pl.count().alias(\"count_combined\"))\n"
     ]
    },
    {
     "data": {
      "text/html": [
       "<div><style>\n",
       ".dataframe > thead > tr,\n",
       ".dataframe > tbody > tr {\n",
       "  text-align: right;\n",
       "  white-space: pre-wrap;\n",
       "}\n",
       "</style>\n",
       "<small>shape: (0, 2)</small><table border=\"1\" class=\"dataframe\"><thead><tr><th>home_id</th><th>count_combined</th></tr><tr><td>i64</td><td>u32</td></tr></thead><tbody></tbody></table></div>"
      ],
      "text/plain": [
       "shape: (0, 2)\n",
       "┌─────────┬────────────────┐\n",
       "│ home_id ┆ count_combined │\n",
       "│ ---     ┆ ---            │\n",
       "│ i64     ┆ u32            │\n",
       "╞═════════╪════════════════╡\n",
       "└─────────┴────────────────┘"
      ]
     },
     "execution_count": 68,
     "metadata": {},
     "output_type": "execute_result"
    }
   ],
   "source": [
    "# SPrawdzenie czy dla jednego home_id jest więcej niż jeden subcircuit dla electric-subcircuit - nie ma\n",
    "(\n",
    "    household_sensors_data_to_process\n",
    "    .filter(pl.col(\"electric\") == \"electric-mains_electric-combined\")\n",
    "    .group_by(\"home_id\")\n",
    "    .agg(pl.count().alias(\"count_combined\"))\n",
    "    .filter(pl.col(\"count_combined\") > 1)\n",
    ")"
   ]
  },
  {
   "cell_type": "code",
   "execution_count": 74,
   "id": "302f0472",
   "metadata": {},
   "outputs": [],
   "source": [
    "# zamiana nulli w kolumnie subcircuit na \"total_power_consumption\"\n",
    "df_all_sensors = df_all_sensors.with_columns(\n",
    "    pl.when(pl.col(\"subcircuit\").is_null())\n",
    "    .then(pl.lit(\"total_power_consumption\"))\n",
    "    .otherwise(pl.col(\"subcircuit\"))\n",
    "    .alias(\"subcircuit\")\n",
    ")"
   ]
  },
  {
   "cell_type": "code",
   "execution_count": 78,
   "id": "f9486a0a",
   "metadata": {},
   "outputs": [
    {
     "name": "stderr",
     "output_type": "stream",
     "text": [
      "/var/folders/rh/w6cl6rd95vj2g4s03scz_4fc0000gn/T/ipykernel_68391/200684759.py:1: DeprecationWarning: the argument `columns` for `DataFrame.pivot` is deprecated. It was renamed to `on` in version 1.0.0.\n",
      "  pivot_sensors = df_all_sensors.pivot(\n"
     ]
    }
   ],
   "source": [
    "pivot_sensors = df_all_sensors.pivot(\n",
    "    values=\"daily_sum\",\n",
    "    index=[\"date\",'home_id'],\n",
    "    columns=\"subcircuit\",\n",
    "    aggregate_function='first'  # or \"sum\" if you expect multiple entries per date/device\n",
    ")"
   ]
  },
  {
   "cell_type": "code",
   "execution_count": 82,
   "id": "ab2b23ea",
   "metadata": {},
   "outputs": [],
   "source": [
    "df_energy_home = df_home_appliances.join(\n",
    "    pivot_sensors,\n",
    "    left_on=['homeid_1', 'date'],\n",
    "    right_on=['home_id', 'date'],\n",
    "    how='left'\n",
    ")"
   ]
  },
  {
   "cell_type": "code",
   "execution_count": 84,
   "id": "da6d47dc",
   "metadata": {},
   "outputs": [],
   "source": [
    "df_energy_home.write_parquet(\"../../Data/ML_DF/df_energy_home.parquet\")"
   ]
  }
 ],
 "metadata": {
  "kernelspec": {
   "display_name": "Python 3",
   "language": "python",
   "name": "python3"
  },
  "language_info": {
   "codemirror_mode": {
    "name": "ipython",
    "version": 3
   },
   "file_extension": ".py",
   "mimetype": "text/x-python",
   "name": "python",
   "nbconvert_exporter": "python",
   "pygments_lexer": "ipython3",
   "version": "3.9.5"
  }
 },
 "nbformat": 4,
 "nbformat_minor": 5
}
