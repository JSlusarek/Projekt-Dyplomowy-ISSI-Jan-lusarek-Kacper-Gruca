{
 "cells": [
  {
   "cell_type": "code",
   "execution_count": 5,
   "id": "5e929ef4",
   "metadata": {},
   "outputs": [],
   "source": [
    "from simulator_appliances_class import Appliance,Kettle,InductionHob,GasHob,Kitchen\n",
    "from simulator_appliances_class import Microwave,GasOven,AirFryer,ElectricOven,find_optimal_device\n",
    "from simulator_appliances_class import ElectricMokaPot,CoffeeMachine\n",
    "from simulator_appliances_class import ThermomixTM6,BoschCookit\n",
    "import pandas as pd\n",
    "import itertools\n",
    "import numpy as np\n",
    "from joblib import Parallel, delayed\n",
    "import sys\n",
    "import os\n",
    "sys.path.append(os.path.abspath(os.path.join(\"../../\")))\n",
    "from src.comparisons.grid import (\n",
    "    generate_weight_combinations,\n",
    "    evaluate_combination,\n",
    "    compute_all_combinations_parallel\n",
    ")\n",
    "from pathlib import Path\n",
    "import polars as pl \n",
    "import duckdb"
   ]
  },
  {
   "cell_type": "markdown",
   "id": "0bc2d88d",
   "metadata": {},
   "source": [
    "# Kitchen"
   ]
  },
  {
   "cell_type": "markdown",
   "id": "26280a73",
   "metadata": {},
   "source": [
    "### Cooking"
   ]
  },
  {
   "cell_type": "code",
   "execution_count": null,
   "id": "dfa811e3",
   "metadata": {},
   "outputs": [],
   "source": [
    "df_cooking = Kitchen.compare_cooking_devices(time_minutes=30)\n",
    "weights = {\n",
    "    \"cost_pln\": \n",
    "    \"time_min\": \n",
    "    \"normalized_comfort\": \n",
    "    \"normalized_failure_rate\": \n",
    "    \"co2_emission_kg\": \n",
    "    \"device_cost\":\n",
    "    \"energy_kwh\"\n",
    "\n",
    "}\n",
    "find_optimal_device(df_cooking, weights)\n",
    "\n",
    "\n",
    "df_heating = Kitchen.compare_heating_devices(time_minutes=30)\n",
    "\n",
    "weights = {\n",
    "    \"cost_pln\": \n",
    "    \"time_min\": \n",
    "    \"normalized_comfort\": \n",
    "    \"normalized_failure_rate\": \n",
    "    \"heating_quality\":\n",
    "    \"co2_emission_kg\":\n",
    "    \"device_cost\":\n",
    "    \"energy_kwh\"\n",
    "}\n",
    "\n",
    "df_coffee = Kitchen.compare_coffee_devices(cups=1)\n",
    "\n",
    "weights = {\n",
    "    \"cost_pln\": \n",
    "    \"time_min\": \n",
    "    \"normalized_comfort\": \n",
    "    \"normalized_failure_rate\"\n",
    "    \"co2_emission_kg\":\n",
    "    \"device_cost\":\n",
    "    \"energy_kwh\"\n",
    "}\n",
    "\n",
    "find_optimal_device(df_coffee, weights)\n",
    "\n",
    "df_robots = Kitchen.compare_multicookers(recipe_complexity=1.5)\n",
    "\n",
    "weights = {\n",
    "    \"cooking_quality\": \n",
    "    \"cost_pln\": \n",
    "    \"time_min\": ,\n",
    "    \"normalized_comfort\":\n",
    "    \"normalized_failure_rate\":\n",
    "    \"co2_emission_kg\":\n",
    "    \"device_cost\":\n",
    "    \"energy_kwh\"\n",
    "}\n",
    "\n",
    "\n",
    "df_heaters = Bathroom.compare_water_heaters(liters=50)\n",
    "weights = \n",
    "    \"cost_pln\": \n",
    "    \"time_min\": -\n",
    "    \"co2_per_kwh_heat\": \n",
    "    \"normalized_comfort\": \n",
    "    \"normalized_failure_rate\": \n",
    "    \"cost_per_kwh_heat\": \n",
    "      \"co2_emission_kg\":\n",
    "    \"device_cost\":\n",
    "    \"energy_kwh\"\n",
    "}\n",
    "\n",
    "find_optimal_device(df_heaters, weights)\n",
    "\n",
    "df_bath = Bathroom.compare_bathing_options()\n",
    "\n",
    "\n",
    "weights = {\n",
    "    \"normalized_comfort\":\n",
    "    \"normalized_failure_rate\":    \n",
    "    \"cost_pln\": \n",
    "    \"time_min\": \n",
    "    \"co2_emission_kg\": \n",
    "    \"device_cost\":\n",
    "    \"energy_kwh\"\n",
    "\n",
    "}\n",
    "\n",
    "find_optimal_device(df_bath, weights)\n",
    "\n",
    "df_air_heating = Bathroom.compare_bathroom_heating()\n",
    "weights = {\n",
    "    \"cost_pln\": \n",
    "    \"time_min\": \n",
    "    \"co2_emission_kg\": \n",
    "    \"normalized_comfort\": \n",
    "    \"normalized_failure_rate\": \n",
    "    \"heating_quality\": \n",
    "    \"device_cost\":\n",
    "    \"energy_kwh\"\n",
    "}\n",
    "\n",
    "find_optimal_device(df_air_heating, weights)\n",
    "\n",
    "df_work = Room.compare_workstations()\n",
    "\n",
    "weights = {\n",
    "    \"cost_pln\": \n",
    "    \"time_min\": -\n",
    "    \"co2_emission_kg\": -\n",
    "    \"normalized_comfort\": -\n",
    "    \"normalized_failure_rate\": \n",
    "    \"computing_quality\": \n",
    "    \"device_cost\":\n",
    "    \"energy_kwh\"\n",
    "}\n",
    "\n",
    "find_optimal_device(df_work, weights)\n",
    "\n",
    "df_cooling = Room.compare_cooling_devices(duration_min=60)\n",
    "weights = {\n",
    "    \"cost_pln\": \n",
    "    \"co2_emission_kg\": \n",
    "    \"normalized_comfort\": \n",
    "    \"normalized_failure_rate\":\n",
    "    \"device_cost\":\n",
    "    \"cooling_quality\": \n",
    "    \n",
    "}\n",
    "\n",
    "find_optimal_device(df_cooling, weights)\n",
    "\n",
    "\n"
   ]
  },
  {
   "cell_type": "code",
   "execution_count": null,
   "id": "85762826",
   "metadata": {},
   "outputs": [
    {
     "data": {
      "application/vnd.microsoft.datawrangler.viewer.v0+json": {
       "columns": [
        {
         "name": "index",
         "rawType": "int64",
         "type": "integer"
        },
        {
         "name": "name",
         "rawType": "object",
         "type": "string"
        },
        {
         "name": "energy_kwh",
         "rawType": "float64",
         "type": "float"
        },
        {
         "name": "cost_pln",
         "rawType": "float64",
         "type": "float"
        },
        {
         "name": "time_min",
         "rawType": "float64",
         "type": "float"
        },
        {
         "name": "co2_emission_kg",
         "rawType": "float64",
         "type": "float"
        },
        {
         "name": "device_cost",
         "rawType": "int64",
         "type": "integer"
        },
        {
         "name": "normalized_comfort",
         "rawType": "float64",
         "type": "float"
        },
        {
         "name": "normalized_failure_rate",
         "rawType": "float64",
         "type": "float"
        },
        {
         "name": "score",
         "rawType": "float64",
         "type": "float"
        }
       ],
       "ref": "378819c7-0b3d-44c7-812d-25caf167d291",
       "rows": [
        [
         "0",
         "GasHob",
         "1.667",
         "0.49",
         "30.0",
         "0.667",
         "1500",
         "0.75",
         "0.455",
         "-0.2"
        ],
        [
         "1",
         "InductionHob",
         "0.9",
         "0.56",
         "30.0",
         "0.36",
         "2100",
         "0.25",
         "0.545",
         "-0.5"
        ]
       ],
       "shape": {
        "columns": 9,
        "rows": 2
       }
      },
      "text/html": [
       "<div>\n",
       "<style scoped>\n",
       "    .dataframe tbody tr th:only-of-type {\n",
       "        vertical-align: middle;\n",
       "    }\n",
       "\n",
       "    .dataframe tbody tr th {\n",
       "        vertical-align: top;\n",
       "    }\n",
       "\n",
       "    .dataframe thead th {\n",
       "        text-align: right;\n",
       "    }\n",
       "</style>\n",
       "<table border=\"1\" class=\"dataframe\">\n",
       "  <thead>\n",
       "    <tr style=\"text-align: right;\">\n",
       "      <th></th>\n",
       "      <th>name</th>\n",
       "      <th>energy_kwh</th>\n",
       "      <th>cost_pln</th>\n",
       "      <th>time_min</th>\n",
       "      <th>co2_emission_kg</th>\n",
       "      <th>device_cost</th>\n",
       "      <th>normalized_comfort</th>\n",
       "      <th>normalized_failure_rate</th>\n",
       "      <th>score</th>\n",
       "    </tr>\n",
       "  </thead>\n",
       "  <tbody>\n",
       "    <tr>\n",
       "      <th>0</th>\n",
       "      <td>GasHob</td>\n",
       "      <td>1.667</td>\n",
       "      <td>0.49</td>\n",
       "      <td>30.0</td>\n",
       "      <td>0.667</td>\n",
       "      <td>1500</td>\n",
       "      <td>0.75</td>\n",
       "      <td>0.455</td>\n",
       "      <td>-0.2</td>\n",
       "    </tr>\n",
       "    <tr>\n",
       "      <th>1</th>\n",
       "      <td>InductionHob</td>\n",
       "      <td>0.900</td>\n",
       "      <td>0.56</td>\n",
       "      <td>30.0</td>\n",
       "      <td>0.360</td>\n",
       "      <td>2100</td>\n",
       "      <td>0.25</td>\n",
       "      <td>0.545</td>\n",
       "      <td>-0.5</td>\n",
       "    </tr>\n",
       "  </tbody>\n",
       "</table>\n",
       "</div>"
      ],
      "text/plain": [
       "           name  energy_kwh  cost_pln  time_min  co2_emission_kg  device_cost  \\\n",
       "0        GasHob       1.667      0.49      30.0            0.667         1500   \n",
       "1  InductionHob       0.900      0.56      30.0            0.360         2100   \n",
       "\n",
       "   normalized_comfort  normalized_failure_rate  score  \n",
       "0                0.75                    0.455   -0.2  \n",
       "1                0.25                    0.545   -0.5  "
      ]
     },
     "execution_count": 3,
     "metadata": {},
     "output_type": "execute_result"
    }
   ],
   "source": [
    "df_cooking = Kitchen.compare_cooking_devices(time_minutes=30)\n",
    "weights = {\n",
    "    \"cost_pln\": -0.4,\n",
    "    \"time_min\": -0.3,\n",
    "    \"normalized_comfort\": -0.2,\n",
    "    \"normalized_failure_rate\": -0.1\n",
    "}\n",
    "find_optimal_device(df_cooking, weights)\n",
    "\n"
   ]
  },
  {
   "cell_type": "markdown",
   "id": "58518210",
   "metadata": {},
   "source": [
    "### Heating"
   ]
  },
  {
   "cell_type": "code",
   "execution_count": 4,
   "id": "a786470f",
   "metadata": {},
   "outputs": [
    {
     "data": {
      "application/vnd.microsoft.datawrangler.viewer.v0+json": {
       "columns": [
        {
         "name": "index",
         "rawType": "int64",
         "type": "integer"
        },
        {
         "name": "name",
         "rawType": "object",
         "type": "string"
        },
        {
         "name": "energy_kwh",
         "rawType": "float64",
         "type": "float"
        },
        {
         "name": "cost_pln",
         "rawType": "float64",
         "type": "float"
        },
        {
         "name": "time_min",
         "rawType": "int64",
         "type": "integer"
        },
        {
         "name": "co2_emission_kg",
         "rawType": "float64",
         "type": "float"
        },
        {
         "name": "device_cost",
         "rawType": "int64",
         "type": "integer"
        },
        {
         "name": "heating_quality",
         "rawType": "float64",
         "type": "float"
        },
        {
         "name": "normalized_comfort",
         "rawType": "float64",
         "type": "float"
        },
        {
         "name": "normalized_failure_rate",
         "rawType": "float64",
         "type": "float"
        },
        {
         "name": "score",
         "rawType": "float64",
         "type": "float"
        }
       ],
       "ref": "95724a7f-bf88-481b-a60a-a15d686e4779",
       "rows": [
        [
         "0",
         "Microwave",
         "0.45",
         "0.28",
         "30",
         "0.18",
         "500",
         "0.4",
         "0.1",
         "0.2",
         "0.0"
        ],
        [
         "1",
         "AirFryer",
         "0.75",
         "0.46",
         "30",
         "0.3",
         "800",
         "0.7",
         "0.2",
         "0.25",
         "-0.09266666666666669"
        ],
        [
         "2",
         "GasOven",
         "2.217",
         "0.65",
         "40",
         "0.887",
         "1800",
         "0.9",
         "0.4",
         "0.25",
         "-0.3473333333333333"
        ],
        [
         "3",
         "ElectricOven",
         "1.667",
         "1.03",
         "40",
         "0.667",
         "2000",
         "0.7",
         "0.3",
         "0.3",
         "-0.6133333333333333"
        ]
       ],
       "shape": {
        "columns": 10,
        "rows": 4
       }
      },
      "text/html": [
       "<div>\n",
       "<style scoped>\n",
       "    .dataframe tbody tr th:only-of-type {\n",
       "        vertical-align: middle;\n",
       "    }\n",
       "\n",
       "    .dataframe tbody tr th {\n",
       "        vertical-align: top;\n",
       "    }\n",
       "\n",
       "    .dataframe thead th {\n",
       "        text-align: right;\n",
       "    }\n",
       "</style>\n",
       "<table border=\"1\" class=\"dataframe\">\n",
       "  <thead>\n",
       "    <tr style=\"text-align: right;\">\n",
       "      <th></th>\n",
       "      <th>name</th>\n",
       "      <th>energy_kwh</th>\n",
       "      <th>cost_pln</th>\n",
       "      <th>time_min</th>\n",
       "      <th>co2_emission_kg</th>\n",
       "      <th>device_cost</th>\n",
       "      <th>heating_quality</th>\n",
       "      <th>normalized_comfort</th>\n",
       "      <th>normalized_failure_rate</th>\n",
       "      <th>score</th>\n",
       "    </tr>\n",
       "  </thead>\n",
       "  <tbody>\n",
       "    <tr>\n",
       "      <th>0</th>\n",
       "      <td>Microwave</td>\n",
       "      <td>0.450</td>\n",
       "      <td>0.28</td>\n",
       "      <td>30</td>\n",
       "      <td>0.180</td>\n",
       "      <td>500</td>\n",
       "      <td>0.4</td>\n",
       "      <td>0.1</td>\n",
       "      <td>0.20</td>\n",
       "      <td>0.000000</td>\n",
       "    </tr>\n",
       "    <tr>\n",
       "      <th>1</th>\n",
       "      <td>AirFryer</td>\n",
       "      <td>0.750</td>\n",
       "      <td>0.46</td>\n",
       "      <td>30</td>\n",
       "      <td>0.300</td>\n",
       "      <td>800</td>\n",
       "      <td>0.7</td>\n",
       "      <td>0.2</td>\n",
       "      <td>0.25</td>\n",
       "      <td>-0.092667</td>\n",
       "    </tr>\n",
       "    <tr>\n",
       "      <th>2</th>\n",
       "      <td>GasOven</td>\n",
       "      <td>2.217</td>\n",
       "      <td>0.65</td>\n",
       "      <td>40</td>\n",
       "      <td>0.887</td>\n",
       "      <td>1800</td>\n",
       "      <td>0.9</td>\n",
       "      <td>0.4</td>\n",
       "      <td>0.25</td>\n",
       "      <td>-0.347333</td>\n",
       "    </tr>\n",
       "    <tr>\n",
       "      <th>3</th>\n",
       "      <td>ElectricOven</td>\n",
       "      <td>1.667</td>\n",
       "      <td>1.03</td>\n",
       "      <td>40</td>\n",
       "      <td>0.667</td>\n",
       "      <td>2000</td>\n",
       "      <td>0.7</td>\n",
       "      <td>0.3</td>\n",
       "      <td>0.30</td>\n",
       "      <td>-0.613333</td>\n",
       "    </tr>\n",
       "  </tbody>\n",
       "</table>\n",
       "</div>"
      ],
      "text/plain": [
       "           name  energy_kwh  cost_pln  time_min  co2_emission_kg  device_cost  \\\n",
       "0     Microwave       0.450      0.28        30            0.180          500   \n",
       "1      AirFryer       0.750      0.46        30            0.300          800   \n",
       "2       GasOven       2.217      0.65        40            0.887         1800   \n",
       "3  ElectricOven       1.667      1.03        40            0.667         2000   \n",
       "\n",
       "   heating_quality  normalized_comfort  normalized_failure_rate     score  \n",
       "0              0.4                 0.1                     0.20  0.000000  \n",
       "1              0.7                 0.2                     0.25 -0.092667  \n",
       "2              0.9                 0.4                     0.25 -0.347333  \n",
       "3              0.7                 0.3                     0.30 -0.613333  "
      ]
     },
     "execution_count": 4,
     "metadata": {},
     "output_type": "execute_result"
    }
   ],
   "source": [
    "df_heating = Kitchen.compare_heating_devices(time_minutes=30)\n",
    "\n",
    "weights = {\n",
    "    \"cost_pln\": -0.4,\n",
    "    \"time_min\": -0.1,\n",
    "    \"normalized_comfort\": -0.2,\n",
    "    \"normalized_failure_rate\": -0.1,\n",
    "    \"heating_quality\": 0.2\n",
    "}\n",
    "\n",
    "result = find_optimal_device(df_heating, weights)\n",
    "result\n"
   ]
  },
  {
   "cell_type": "markdown",
   "id": "754c74ef",
   "metadata": {},
   "source": [
    "### Coffee"
   ]
  },
  {
   "cell_type": "code",
   "execution_count": 5,
   "id": "f31047e9",
   "metadata": {},
   "outputs": [
    {
     "data": {
      "application/vnd.microsoft.datawrangler.viewer.v0+json": {
       "columns": [
        {
         "name": "index",
         "rawType": "int64",
         "type": "integer"
        },
        {
         "name": "name",
         "rawType": "object",
         "type": "string"
        },
        {
         "name": "energy_kwh",
         "rawType": "float64",
         "type": "float"
        },
        {
         "name": "cost_pln",
         "rawType": "float64",
         "type": "float"
        },
        {
         "name": "time_min",
         "rawType": "float64",
         "type": "float"
        },
        {
         "name": "co2_emission_kg",
         "rawType": "float64",
         "type": "float"
        },
        {
         "name": "device_cost",
         "rawType": "int64",
         "type": "integer"
        },
        {
         "name": "coffee_taste",
         "rawType": "float64",
         "type": "float"
        },
        {
         "name": "normalized_comfort",
         "rawType": "float64",
         "type": "float"
        },
        {
         "name": "normalized_failure_rate",
         "rawType": "float64",
         "type": "float"
        },
        {
         "name": "score",
         "rawType": "float64",
         "type": "float"
        }
       ],
       "ref": "8ef2fd6b-54ac-4901-a1ff-427743c4f2f8",
       "rows": [
        [
         "0",
         "CoffeeMachine",
         "0.08",
         "0.05",
         "1.5",
         "0.032",
         "2000",
         "0.9",
         "0.333",
         "0.385",
         "0.3"
        ],
        [
         "1",
         "ElectricMokaPot",
         "0.045",
         "0.03",
         "3.0",
         "0.018",
         "300",
         "0.78",
         "0.667",
         "0.615",
         "-0.30000000000000004"
        ]
       ],
       "shape": {
        "columns": 10,
        "rows": 2
       }
      },
      "text/html": [
       "<div>\n",
       "<style scoped>\n",
       "    .dataframe tbody tr th:only-of-type {\n",
       "        vertical-align: middle;\n",
       "    }\n",
       "\n",
       "    .dataframe tbody tr th {\n",
       "        vertical-align: top;\n",
       "    }\n",
       "\n",
       "    .dataframe thead th {\n",
       "        text-align: right;\n",
       "    }\n",
       "</style>\n",
       "<table border=\"1\" class=\"dataframe\">\n",
       "  <thead>\n",
       "    <tr style=\"text-align: right;\">\n",
       "      <th></th>\n",
       "      <th>name</th>\n",
       "      <th>energy_kwh</th>\n",
       "      <th>cost_pln</th>\n",
       "      <th>time_min</th>\n",
       "      <th>co2_emission_kg</th>\n",
       "      <th>device_cost</th>\n",
       "      <th>coffee_taste</th>\n",
       "      <th>normalized_comfort</th>\n",
       "      <th>normalized_failure_rate</th>\n",
       "      <th>score</th>\n",
       "    </tr>\n",
       "  </thead>\n",
       "  <tbody>\n",
       "    <tr>\n",
       "      <th>0</th>\n",
       "      <td>CoffeeMachine</td>\n",
       "      <td>0.080</td>\n",
       "      <td>0.05</td>\n",
       "      <td>1.5</td>\n",
       "      <td>0.032</td>\n",
       "      <td>2000</td>\n",
       "      <td>0.90</td>\n",
       "      <td>0.333</td>\n",
       "      <td>0.385</td>\n",
       "      <td>0.3</td>\n",
       "    </tr>\n",
       "    <tr>\n",
       "      <th>1</th>\n",
       "      <td>ElectricMokaPot</td>\n",
       "      <td>0.045</td>\n",
       "      <td>0.03</td>\n",
       "      <td>3.0</td>\n",
       "      <td>0.018</td>\n",
       "      <td>300</td>\n",
       "      <td>0.78</td>\n",
       "      <td>0.667</td>\n",
       "      <td>0.615</td>\n",
       "      <td>-0.3</td>\n",
       "    </tr>\n",
       "  </tbody>\n",
       "</table>\n",
       "</div>"
      ],
      "text/plain": [
       "              name  energy_kwh  cost_pln  time_min  co2_emission_kg  \\\n",
       "0    CoffeeMachine       0.080      0.05       1.5            0.032   \n",
       "1  ElectricMokaPot       0.045      0.03       3.0            0.018   \n",
       "\n",
       "   device_cost  coffee_taste  normalized_comfort  normalized_failure_rate  \\\n",
       "0         2000          0.90               0.333                    0.385   \n",
       "1          300          0.78               0.667                    0.615   \n",
       "\n",
       "   score  \n",
       "0    0.3  \n",
       "1   -0.3  "
      ]
     },
     "execution_count": 5,
     "metadata": {},
     "output_type": "execute_result"
    }
   ],
   "source": [
    "df_coffee = Kitchen.compare_coffee_devices(cups=1)\n",
    "\n",
    "weights = {\n",
    "    \"coffee_taste\": 0.5,\n",
    "    \"cost_pln\": -0.2,\n",
    "    \"time_min\": -0.1,\n",
    "    \"normalized_comfort\": -0.1,\n",
    "    \"normalized_failure_rate\": -0.1\n",
    "}\n",
    "\n",
    "find_optimal_device(df_coffee, weights)\n"
   ]
  },
  {
   "cell_type": "markdown",
   "id": "d09ee8a9",
   "metadata": {},
   "source": [
    "### Robots"
   ]
  },
  {
   "cell_type": "code",
   "execution_count": 6,
   "id": "5357c73b",
   "metadata": {},
   "outputs": [
    {
     "data": {
      "application/vnd.microsoft.datawrangler.viewer.v0+json": {
       "columns": [
        {
         "name": "index",
         "rawType": "int64",
         "type": "integer"
        },
        {
         "name": "name",
         "rawType": "object",
         "type": "string"
        },
        {
         "name": "energy_kwh",
         "rawType": "float64",
         "type": "float"
        },
        {
         "name": "cost_pln",
         "rawType": "float64",
         "type": "float"
        },
        {
         "name": "time_min",
         "rawType": "float64",
         "type": "float"
        },
        {
         "name": "co2_emission_kg",
         "rawType": "float64",
         "type": "float"
        },
        {
         "name": "device_cost",
         "rawType": "int64",
         "type": "integer"
        },
        {
         "name": "cooking_quality",
         "rawType": "float64",
         "type": "float"
        },
        {
         "name": "normalized_comfort",
         "rawType": "float64",
         "type": "float"
        },
        {
         "name": "normalized_failure_rate",
         "rawType": "float64",
         "type": "float"
        },
        {
         "name": "score",
         "rawType": "float64",
         "type": "float"
        }
       ],
       "ref": "fe5e4888-d589-4622-9a63-fede11cd8a01",
       "rows": [
        [
         "0",
         "ThermomixTM6",
         "1.125",
         "0.7",
         "30.0",
         "0.45",
         "5995",
         "0.88",
         "0.417",
         "0.444",
         "0.0"
        ],
        [
         "1",
         "BoschCookit",
         "1.35",
         "0.84",
         "33.0",
         "0.54",
         "6399",
         "0.91",
         "0.583",
         "0.556",
         "-2.7755575615628914e-17"
        ]
       ],
       "shape": {
        "columns": 10,
        "rows": 2
       }
      },
      "text/html": [
       "<div>\n",
       "<style scoped>\n",
       "    .dataframe tbody tr th:only-of-type {\n",
       "        vertical-align: middle;\n",
       "    }\n",
       "\n",
       "    .dataframe tbody tr th {\n",
       "        vertical-align: top;\n",
       "    }\n",
       "\n",
       "    .dataframe thead th {\n",
       "        text-align: right;\n",
       "    }\n",
       "</style>\n",
       "<table border=\"1\" class=\"dataframe\">\n",
       "  <thead>\n",
       "    <tr style=\"text-align: right;\">\n",
       "      <th></th>\n",
       "      <th>name</th>\n",
       "      <th>energy_kwh</th>\n",
       "      <th>cost_pln</th>\n",
       "      <th>time_min</th>\n",
       "      <th>co2_emission_kg</th>\n",
       "      <th>device_cost</th>\n",
       "      <th>cooking_quality</th>\n",
       "      <th>normalized_comfort</th>\n",
       "      <th>normalized_failure_rate</th>\n",
       "      <th>score</th>\n",
       "    </tr>\n",
       "  </thead>\n",
       "  <tbody>\n",
       "    <tr>\n",
       "      <th>0</th>\n",
       "      <td>ThermomixTM6</td>\n",
       "      <td>1.125</td>\n",
       "      <td>0.70</td>\n",
       "      <td>30.0</td>\n",
       "      <td>0.45</td>\n",
       "      <td>5995</td>\n",
       "      <td>0.88</td>\n",
       "      <td>0.417</td>\n",
       "      <td>0.444</td>\n",
       "      <td>0.000000e+00</td>\n",
       "    </tr>\n",
       "    <tr>\n",
       "      <th>1</th>\n",
       "      <td>BoschCookit</td>\n",
       "      <td>1.350</td>\n",
       "      <td>0.84</td>\n",
       "      <td>33.0</td>\n",
       "      <td>0.54</td>\n",
       "      <td>6399</td>\n",
       "      <td>0.91</td>\n",
       "      <td>0.583</td>\n",
       "      <td>0.556</td>\n",
       "      <td>-2.775558e-17</td>\n",
       "    </tr>\n",
       "  </tbody>\n",
       "</table>\n",
       "</div>"
      ],
      "text/plain": [
       "           name  energy_kwh  cost_pln  time_min  co2_emission_kg  device_cost  \\\n",
       "0  ThermomixTM6       1.125      0.70      30.0             0.45         5995   \n",
       "1   BoschCookit       1.350      0.84      33.0             0.54         6399   \n",
       "\n",
       "   cooking_quality  normalized_comfort  normalized_failure_rate         score  \n",
       "0             0.88               0.417                    0.444  0.000000e+00  \n",
       "1             0.91               0.583                    0.556 -2.775558e-17  "
      ]
     },
     "execution_count": 6,
     "metadata": {},
     "output_type": "execute_result"
    }
   ],
   "source": [
    "df_robots = Kitchen.compare_multicookers(recipe_complexity=1.5)\n",
    "\n",
    "weights = {\n",
    "    \"cooking_quality\": 0.5,\n",
    "    \"cost_pln\": -0.2,\n",
    "    \"time_min\": -0.1,\n",
    "    \"normalized_comfort\": -0.1,\n",
    "    \"normalized_failure_rate\": -0.1\n",
    "}\n",
    "\n",
    "find_optimal_device(df_robots, weights)\n"
   ]
  },
  {
   "cell_type": "markdown",
   "id": "5e518e65",
   "metadata": {},
   "source": [
    "# Bathroom\n"
   ]
  },
  {
   "cell_type": "code",
   "execution_count": 7,
   "id": "a6b78ef3",
   "metadata": {},
   "outputs": [],
   "source": [
    "from simulator_appliances_class import Appliance, ElectricHeater, GasHeater, HeatPump, FlowHeater,Bathroom\n",
    "from simulator_appliances_class import Bathtub, Shower\n",
    "from simulator_appliances_class import LadderHeater,FloorHeating"
   ]
  },
  {
   "cell_type": "markdown",
   "id": "7dbd7121",
   "metadata": {},
   "source": [
    "### Water Heating"
   ]
  },
  {
   "cell_type": "code",
   "execution_count": 8,
   "id": "74c122fd",
   "metadata": {},
   "outputs": [
    {
     "data": {
      "application/vnd.microsoft.datawrangler.viewer.v0+json": {
       "columns": [
        {
         "name": "index",
         "rawType": "int64",
         "type": "integer"
        },
        {
         "name": "name",
         "rawType": "object",
         "type": "string"
        },
        {
         "name": "energy_kwh",
         "rawType": "float64",
         "type": "float"
        },
        {
         "name": "cost_pln",
         "rawType": "float64",
         "type": "float"
        },
        {
         "name": "time_min",
         "rawType": "float64",
         "type": "float"
        },
        {
         "name": "co2_emission_kg",
         "rawType": "float64",
         "type": "float"
        },
        {
         "name": "device_cost",
         "rawType": "int64",
         "type": "integer"
        },
        {
         "name": "co2_per_kwh_heat",
         "rawType": "float64",
         "type": "float"
        },
        {
         "name": "cost_per_kwh_heat",
         "rawType": "float64",
         "type": "float"
        },
        {
         "name": "normalized_comfort",
         "rawType": "float64",
         "type": "float"
        },
        {
         "name": "normalized_failure_rate",
         "rawType": "float64",
         "type": "float"
        },
        {
         "name": "score",
         "rawType": "float64",
         "type": "float"
        }
       ],
       "ref": "2972176e-661c-401a-b9b9-05c0c6bd28b8",
       "rows": [
        [
         "0",
         "HeatPump",
         "0.775",
         "0.48",
         "38.75925925925925",
         "0.31",
         "4500",
         "0.133",
         "0.3333333333333333",
         "0.15",
         "0.273",
         "-0.1719826506073697"
        ],
        [
         "1",
         "FlowHeater",
         "2.326",
         "1.44",
         "19.93333333333333",
         "0.93",
         "1000",
         "0.4",
         "1.0",
         "0.2",
         "0.182",
         "-0.46814574659528585"
        ],
        [
         "2",
         "GasHeater",
         "10.556",
         "3.11",
         "8.0",
         "2.006",
         "1400",
         "0.19",
         "0.29473684210526313",
         "0.4",
         "0.318",
         "-0.5426966292134832"
        ],
        [
         "3",
         "ElectricHeater",
         "2.326",
         "1.44",
         "69.76666666666667",
         "0.93",
         "1200",
         "0.4",
         "0.65",
         "0.25",
         "0.227",
         "-0.6329670730445291"
        ]
       ],
       "shape": {
        "columns": 11,
        "rows": 4
       }
      },
      "text/html": [
       "<div>\n",
       "<style scoped>\n",
       "    .dataframe tbody tr th:only-of-type {\n",
       "        vertical-align: middle;\n",
       "    }\n",
       "\n",
       "    .dataframe tbody tr th {\n",
       "        vertical-align: top;\n",
       "    }\n",
       "\n",
       "    .dataframe thead th {\n",
       "        text-align: right;\n",
       "    }\n",
       "</style>\n",
       "<table border=\"1\" class=\"dataframe\">\n",
       "  <thead>\n",
       "    <tr style=\"text-align: right;\">\n",
       "      <th></th>\n",
       "      <th>name</th>\n",
       "      <th>energy_kwh</th>\n",
       "      <th>cost_pln</th>\n",
       "      <th>time_min</th>\n",
       "      <th>co2_emission_kg</th>\n",
       "      <th>device_cost</th>\n",
       "      <th>co2_per_kwh_heat</th>\n",
       "      <th>cost_per_kwh_heat</th>\n",
       "      <th>normalized_comfort</th>\n",
       "      <th>normalized_failure_rate</th>\n",
       "      <th>score</th>\n",
       "    </tr>\n",
       "  </thead>\n",
       "  <tbody>\n",
       "    <tr>\n",
       "      <th>0</th>\n",
       "      <td>HeatPump</td>\n",
       "      <td>0.775</td>\n",
       "      <td>0.48</td>\n",
       "      <td>38.759259</td>\n",
       "      <td>0.310</td>\n",
       "      <td>4500</td>\n",
       "      <td>0.133</td>\n",
       "      <td>0.333333</td>\n",
       "      <td>0.15</td>\n",
       "      <td>0.273</td>\n",
       "      <td>-0.171983</td>\n",
       "    </tr>\n",
       "    <tr>\n",
       "      <th>1</th>\n",
       "      <td>FlowHeater</td>\n",
       "      <td>2.326</td>\n",
       "      <td>1.44</td>\n",
       "      <td>19.933333</td>\n",
       "      <td>0.930</td>\n",
       "      <td>1000</td>\n",
       "      <td>0.400</td>\n",
       "      <td>1.000000</td>\n",
       "      <td>0.20</td>\n",
       "      <td>0.182</td>\n",
       "      <td>-0.468146</td>\n",
       "    </tr>\n",
       "    <tr>\n",
       "      <th>2</th>\n",
       "      <td>GasHeater</td>\n",
       "      <td>10.556</td>\n",
       "      <td>3.11</td>\n",
       "      <td>8.000000</td>\n",
       "      <td>2.006</td>\n",
       "      <td>1400</td>\n",
       "      <td>0.190</td>\n",
       "      <td>0.294737</td>\n",
       "      <td>0.40</td>\n",
       "      <td>0.318</td>\n",
       "      <td>-0.542697</td>\n",
       "    </tr>\n",
       "    <tr>\n",
       "      <th>3</th>\n",
       "      <td>ElectricHeater</td>\n",
       "      <td>2.326</td>\n",
       "      <td>1.44</td>\n",
       "      <td>69.766667</td>\n",
       "      <td>0.930</td>\n",
       "      <td>1200</td>\n",
       "      <td>0.400</td>\n",
       "      <td>0.650000</td>\n",
       "      <td>0.25</td>\n",
       "      <td>0.227</td>\n",
       "      <td>-0.632967</td>\n",
       "    </tr>\n",
       "  </tbody>\n",
       "</table>\n",
       "</div>"
      ],
      "text/plain": [
       "             name  energy_kwh  cost_pln   time_min  co2_emission_kg  \\\n",
       "0        HeatPump       0.775      0.48  38.759259            0.310   \n",
       "1      FlowHeater       2.326      1.44  19.933333            0.930   \n",
       "2       GasHeater      10.556      3.11   8.000000            2.006   \n",
       "3  ElectricHeater       2.326      1.44  69.766667            0.930   \n",
       "\n",
       "   device_cost  co2_per_kwh_heat  cost_per_kwh_heat  normalized_comfort  \\\n",
       "0         4500             0.133           0.333333                0.15   \n",
       "1         1000             0.400           1.000000                0.20   \n",
       "2         1400             0.190           0.294737                0.40   \n",
       "3         1200             0.400           0.650000                0.25   \n",
       "\n",
       "   normalized_failure_rate     score  \n",
       "0                    0.273 -0.171983  \n",
       "1                    0.182 -0.468146  \n",
       "2                    0.318 -0.542697  \n",
       "3                    0.227 -0.632967  "
      ]
     },
     "execution_count": 8,
     "metadata": {},
     "output_type": "execute_result"
    }
   ],
   "source": [
    "df_heaters = Bathroom.compare_water_heaters(liters=50)\n",
    "weights = {\n",
    "    \"cost_pln\": -0.3,\n",
    "    \"time_min\": -0.2,\n",
    "    \"co2_per_kwh_heat\": -0.2,\n",
    "    \"normalized_comfort\": -0.1,\n",
    "    \"normalized_failure_rate\": -0.1,\n",
    "    \"cost_per_kwh_heat\": -0.1\n",
    "}\n",
    "\n",
    "find_optimal_device(df_heaters, weights)\n",
    "\n"
   ]
  },
  {
   "cell_type": "markdown",
   "id": "9e1b8e73",
   "metadata": {},
   "source": [
    "### Bath"
   ]
  },
  {
   "cell_type": "code",
   "execution_count": 9,
   "id": "e0d7ab81",
   "metadata": {},
   "outputs": [
    {
     "data": {
      "application/vnd.microsoft.datawrangler.viewer.v0+json": {
       "columns": [
        {
         "name": "index",
         "rawType": "int64",
         "type": "integer"
        },
        {
         "name": "name",
         "rawType": "object",
         "type": "string"
        },
        {
         "name": "energy_kwh",
         "rawType": "float64",
         "type": "float"
        },
        {
         "name": "cost_pln",
         "rawType": "float64",
         "type": "float"
        },
        {
         "name": "time_min",
         "rawType": "float64",
         "type": "float"
        },
        {
         "name": "co2_emission_kg",
         "rawType": "float64",
         "type": "float"
        },
        {
         "name": "device_cost",
         "rawType": "int64",
         "type": "integer"
        },
        {
         "name": "normalized_comfort",
         "rawType": "float64",
         "type": "float"
        },
        {
         "name": "normalized_failure_rate",
         "rawType": "float64",
         "type": "float"
        },
        {
         "name": "score",
         "rawType": "float64",
         "type": "float"
        }
       ],
       "ref": "0ed435a8-9fd9-4102-b4f4-361e51d3b733",
       "rows": [
        [
         "0",
         "Bathtub",
         "6.105",
         "3.78",
         "15.0",
         "2.442",
         "2500",
         "0.2",
         "0.6",
         "-0.4"
        ],
        [
         "1",
         "Shower",
         "2.93",
         "1.82",
         "8.0",
         "1.172",
         "2000",
         "0.8",
         "0.4",
         "-0.6"
        ]
       ],
       "shape": {
        "columns": 9,
        "rows": 2
       }
      },
      "text/html": [
       "<div>\n",
       "<style scoped>\n",
       "    .dataframe tbody tr th:only-of-type {\n",
       "        vertical-align: middle;\n",
       "    }\n",
       "\n",
       "    .dataframe tbody tr th {\n",
       "        vertical-align: top;\n",
       "    }\n",
       "\n",
       "    .dataframe thead th {\n",
       "        text-align: right;\n",
       "    }\n",
       "</style>\n",
       "<table border=\"1\" class=\"dataframe\">\n",
       "  <thead>\n",
       "    <tr style=\"text-align: right;\">\n",
       "      <th></th>\n",
       "      <th>name</th>\n",
       "      <th>energy_kwh</th>\n",
       "      <th>cost_pln</th>\n",
       "      <th>time_min</th>\n",
       "      <th>co2_emission_kg</th>\n",
       "      <th>device_cost</th>\n",
       "      <th>normalized_comfort</th>\n",
       "      <th>normalized_failure_rate</th>\n",
       "      <th>score</th>\n",
       "    </tr>\n",
       "  </thead>\n",
       "  <tbody>\n",
       "    <tr>\n",
       "      <th>0</th>\n",
       "      <td>Bathtub</td>\n",
       "      <td>6.105</td>\n",
       "      <td>3.78</td>\n",
       "      <td>15.0</td>\n",
       "      <td>2.442</td>\n",
       "      <td>2500</td>\n",
       "      <td>0.2</td>\n",
       "      <td>0.6</td>\n",
       "      <td>-0.4</td>\n",
       "    </tr>\n",
       "    <tr>\n",
       "      <th>1</th>\n",
       "      <td>Shower</td>\n",
       "      <td>2.930</td>\n",
       "      <td>1.82</td>\n",
       "      <td>8.0</td>\n",
       "      <td>1.172</td>\n",
       "      <td>2000</td>\n",
       "      <td>0.8</td>\n",
       "      <td>0.4</td>\n",
       "      <td>-0.6</td>\n",
       "    </tr>\n",
       "  </tbody>\n",
       "</table>\n",
       "</div>"
      ],
      "text/plain": [
       "      name  energy_kwh  cost_pln  time_min  co2_emission_kg  device_cost  \\\n",
       "0  Bathtub       6.105      3.78      15.0            2.442         2500   \n",
       "1   Shower       2.930      1.82       8.0            1.172         2000   \n",
       "\n",
       "   normalized_comfort  normalized_failure_rate  score  \n",
       "0                 0.2                      0.6   -0.4  \n",
       "1                 0.8                      0.4   -0.6  "
      ]
     },
     "execution_count": 9,
     "metadata": {},
     "output_type": "execute_result"
    }
   ],
   "source": [
    "df_bath = Bathroom.compare_bathing_options()\n",
    "\n",
    "\n",
    "weights = {\n",
    "    \"comfort_penalty\": -0.6,          \n",
    "    \"cost_pln\": -0.2,\n",
    "    \"time_min\": -0.1,\n",
    "    \"co2_emission_kg\": -0.1\n",
    "\n",
    "}\n",
    "\n",
    "find_optimal_device(df_bath, weights)\n"
   ]
  },
  {
   "cell_type": "markdown",
   "id": "6b7fba8d",
   "metadata": {},
   "source": [
    "### Air Heating"
   ]
  },
  {
   "cell_type": "code",
   "execution_count": 10,
   "id": "055611ce",
   "metadata": {},
   "outputs": [
    {
     "data": {
      "application/vnd.microsoft.datawrangler.viewer.v0+json": {
       "columns": [
        {
         "name": "index",
         "rawType": "int64",
         "type": "integer"
        },
        {
         "name": "name",
         "rawType": "object",
         "type": "string"
        },
        {
         "name": "energy_kwh",
         "rawType": "float64",
         "type": "float"
        },
        {
         "name": "cost_pln",
         "rawType": "float64",
         "type": "float"
        },
        {
         "name": "time_min",
         "rawType": "float64",
         "type": "float"
        },
        {
         "name": "co2_emission_kg",
         "rawType": "float64",
         "type": "float"
        },
        {
         "name": "device_cost",
         "rawType": "int64",
         "type": "integer"
        },
        {
         "name": "heating_quality",
         "rawType": "float64",
         "type": "float"
        },
        {
         "name": "normalized_comfort",
         "rawType": "float64",
         "type": "float"
        },
        {
         "name": "normalized_failure_rate",
         "rawType": "float64",
         "type": "float"
        },
        {
         "name": "score",
         "rawType": "float64",
         "type": "float"
        }
       ],
       "ref": "b6153359-1d14-42c9-8385-6bdf47592729",
       "rows": [
        [
         "0",
         "LadderHeater",
         "2.0",
         "1.3",
         "120.0",
         "0.8",
         "900",
         "0.75",
         "0.75",
         "0.667",
         "-0.2"
        ],
        [
         "1",
         "FloorHeating",
         "2.4",
         "1.56",
         "300.0",
         "0.96",
         "2000",
         "0.95",
         "0.25",
         "0.333",
         "-0.6"
        ]
       ],
       "shape": {
        "columns": 10,
        "rows": 2
       }
      },
      "text/html": [
       "<div>\n",
       "<style scoped>\n",
       "    .dataframe tbody tr th:only-of-type {\n",
       "        vertical-align: middle;\n",
       "    }\n",
       "\n",
       "    .dataframe tbody tr th {\n",
       "        vertical-align: top;\n",
       "    }\n",
       "\n",
       "    .dataframe thead th {\n",
       "        text-align: right;\n",
       "    }\n",
       "</style>\n",
       "<table border=\"1\" class=\"dataframe\">\n",
       "  <thead>\n",
       "    <tr style=\"text-align: right;\">\n",
       "      <th></th>\n",
       "      <th>name</th>\n",
       "      <th>energy_kwh</th>\n",
       "      <th>cost_pln</th>\n",
       "      <th>time_min</th>\n",
       "      <th>co2_emission_kg</th>\n",
       "      <th>device_cost</th>\n",
       "      <th>heating_quality</th>\n",
       "      <th>normalized_comfort</th>\n",
       "      <th>normalized_failure_rate</th>\n",
       "      <th>score</th>\n",
       "    </tr>\n",
       "  </thead>\n",
       "  <tbody>\n",
       "    <tr>\n",
       "      <th>0</th>\n",
       "      <td>LadderHeater</td>\n",
       "      <td>2.0</td>\n",
       "      <td>1.30</td>\n",
       "      <td>120.0</td>\n",
       "      <td>0.80</td>\n",
       "      <td>900</td>\n",
       "      <td>0.75</td>\n",
       "      <td>0.75</td>\n",
       "      <td>0.667</td>\n",
       "      <td>-0.2</td>\n",
       "    </tr>\n",
       "    <tr>\n",
       "      <th>1</th>\n",
       "      <td>FloorHeating</td>\n",
       "      <td>2.4</td>\n",
       "      <td>1.56</td>\n",
       "      <td>300.0</td>\n",
       "      <td>0.96</td>\n",
       "      <td>2000</td>\n",
       "      <td>0.95</td>\n",
       "      <td>0.25</td>\n",
       "      <td>0.333</td>\n",
       "      <td>-0.6</td>\n",
       "    </tr>\n",
       "  </tbody>\n",
       "</table>\n",
       "</div>"
      ],
      "text/plain": [
       "           name  energy_kwh  cost_pln  time_min  co2_emission_kg  device_cost  \\\n",
       "0  LadderHeater         2.0      1.30     120.0             0.80          900   \n",
       "1  FloorHeating         2.4      1.56     300.0             0.96         2000   \n",
       "\n",
       "   heating_quality  normalized_comfort  normalized_failure_rate  score  \n",
       "0             0.75                0.75                    0.667   -0.2  \n",
       "1             0.95                0.25                    0.333   -0.6  "
      ]
     },
     "execution_count": 10,
     "metadata": {},
     "output_type": "execute_result"
    }
   ],
   "source": [
    "df_air_heating = Bathroom.compare_bathroom_heating()\n",
    "weights = {\n",
    "    \"cost_pln\": -0.3,\n",
    "    \"time_min\": -0.2,\n",
    "    \"co2_emission_kg\": -0.2,\n",
    "    \"normalized_comfort\": -0.1,\n",
    "    \"normalized_failure_rate\": -0.1,\n",
    "    \"heating_quality\": 0.1\n",
    "}\n",
    "\n",
    "find_optimal_device(df_air_heating, weights)\n"
   ]
  },
  {
   "cell_type": "markdown",
   "id": "a0fd1c34",
   "metadata": {},
   "source": [
    "# Room "
   ]
  },
  {
   "cell_type": "markdown",
   "id": "4874a647",
   "metadata": {},
   "source": [
    "### Desktop vs Laptop"
   ]
  },
  {
   "cell_type": "code",
   "execution_count": 11,
   "id": "7178f910",
   "metadata": {},
   "outputs": [],
   "source": [
    "from simulator_appliances_class import LaptopWithMonitor,DesktopComputer,Room, Fan, AirConditioner"
   ]
  },
  {
   "cell_type": "code",
   "execution_count": 12,
   "id": "efbc9be8",
   "metadata": {},
   "outputs": [
    {
     "data": {
      "application/vnd.microsoft.datawrangler.viewer.v0+json": {
       "columns": [
        {
         "name": "index",
         "rawType": "int64",
         "type": "integer"
        },
        {
         "name": "name",
         "rawType": "object",
         "type": "string"
        },
        {
         "name": "energy_kwh",
         "rawType": "float64",
         "type": "float"
        },
        {
         "name": "cost_pln",
         "rawType": "float64",
         "type": "float"
        },
        {
         "name": "time_min",
         "rawType": "int64",
         "type": "integer"
        },
        {
         "name": "co2_emission_kg",
         "rawType": "float64",
         "type": "float"
        },
        {
         "name": "device_cost",
         "rawType": "int64",
         "type": "integer"
        },
        {
         "name": "computing_quality",
         "rawType": "float64",
         "type": "float"
        },
        {
         "name": "normalized_comfort",
         "rawType": "float64",
         "type": "float"
        },
        {
         "name": "normalized_failure_rate",
         "rawType": "float64",
         "type": "float"
        },
        {
         "name": "score",
         "rawType": "float64",
         "type": "float"
        }
       ],
       "ref": "bfa64f87-4609-4019-90ae-ad002e36bdcc",
       "rows": [
        [
         "0",
         "DesktopComputer",
         "0.9",
         "0.58",
         "360",
         "0.36",
         "4000",
         "0.95",
         "0.667",
         "0.375",
         "-0.10000000000000003"
        ],
        [
         "1",
         "LaptopWithMonitor",
         "0.42",
         "0.27",
         "360",
         "0.168",
         "5000",
         "0.85",
         "0.333",
         "0.625",
         "-0.2"
        ]
       ],
       "shape": {
        "columns": 10,
        "rows": 2
       }
      },
      "text/html": [
       "<div>\n",
       "<style scoped>\n",
       "    .dataframe tbody tr th:only-of-type {\n",
       "        vertical-align: middle;\n",
       "    }\n",
       "\n",
       "    .dataframe tbody tr th {\n",
       "        vertical-align: top;\n",
       "    }\n",
       "\n",
       "    .dataframe thead th {\n",
       "        text-align: right;\n",
       "    }\n",
       "</style>\n",
       "<table border=\"1\" class=\"dataframe\">\n",
       "  <thead>\n",
       "    <tr style=\"text-align: right;\">\n",
       "      <th></th>\n",
       "      <th>name</th>\n",
       "      <th>energy_kwh</th>\n",
       "      <th>cost_pln</th>\n",
       "      <th>time_min</th>\n",
       "      <th>co2_emission_kg</th>\n",
       "      <th>device_cost</th>\n",
       "      <th>computing_quality</th>\n",
       "      <th>normalized_comfort</th>\n",
       "      <th>normalized_failure_rate</th>\n",
       "      <th>score</th>\n",
       "    </tr>\n",
       "  </thead>\n",
       "  <tbody>\n",
       "    <tr>\n",
       "      <th>0</th>\n",
       "      <td>DesktopComputer</td>\n",
       "      <td>0.90</td>\n",
       "      <td>0.58</td>\n",
       "      <td>360</td>\n",
       "      <td>0.360</td>\n",
       "      <td>4000</td>\n",
       "      <td>0.95</td>\n",
       "      <td>0.667</td>\n",
       "      <td>0.375</td>\n",
       "      <td>-0.1</td>\n",
       "    </tr>\n",
       "    <tr>\n",
       "      <th>1</th>\n",
       "      <td>LaptopWithMonitor</td>\n",
       "      <td>0.42</td>\n",
       "      <td>0.27</td>\n",
       "      <td>360</td>\n",
       "      <td>0.168</td>\n",
       "      <td>5000</td>\n",
       "      <td>0.85</td>\n",
       "      <td>0.333</td>\n",
       "      <td>0.625</td>\n",
       "      <td>-0.2</td>\n",
       "    </tr>\n",
       "  </tbody>\n",
       "</table>\n",
       "</div>"
      ],
      "text/plain": [
       "                name  energy_kwh  cost_pln  time_min  co2_emission_kg  \\\n",
       "0    DesktopComputer        0.90      0.58       360            0.360   \n",
       "1  LaptopWithMonitor        0.42      0.27       360            0.168   \n",
       "\n",
       "   device_cost  computing_quality  normalized_comfort  \\\n",
       "0         4000               0.95               0.667   \n",
       "1         5000               0.85               0.333   \n",
       "\n",
       "   normalized_failure_rate  score  \n",
       "0                    0.375   -0.1  \n",
       "1                    0.625   -0.2  "
      ]
     },
     "execution_count": 12,
     "metadata": {},
     "output_type": "execute_result"
    }
   ],
   "source": [
    "df_work = Room.compare_workstations()\n",
    "\n",
    "weights = {\n",
    "    \"cost_pln\": -0.2,\n",
    "    \"time_min\": -0.1,\n",
    "    \"co2_emission_kg\": -0.1,\n",
    "    \"normalized_comfort\": -0.1,\n",
    "    \"normalized_failure_rate\": -0.2,\n",
    "    \"computing_quality\": 0.3\n",
    "}\n",
    "\n",
    "find_optimal_device(df_work, weights)\n"
   ]
  },
  {
   "cell_type": "markdown",
   "id": "60fb3b40",
   "metadata": {},
   "source": [
    "### Colling"
   ]
  },
  {
   "cell_type": "code",
   "execution_count": 13,
   "id": "a92fa82b",
   "metadata": {},
   "outputs": [
    {
     "data": {
      "application/vnd.microsoft.datawrangler.viewer.v0+json": {
       "columns": [
        {
         "name": "index",
         "rawType": "int64",
         "type": "integer"
        },
        {
         "name": "name",
         "rawType": "object",
         "type": "string"
        },
        {
         "name": "energy_kwh",
         "rawType": "float64",
         "type": "float"
        },
        {
         "name": "cost_pln",
         "rawType": "float64",
         "type": "float"
        },
        {
         "name": "time_min",
         "rawType": "int64",
         "type": "integer"
        },
        {
         "name": "co2_emission_kg",
         "rawType": "float64",
         "type": "float"
        },
        {
         "name": "device_cost",
         "rawType": "int64",
         "type": "integer"
        },
        {
         "name": "cooling_quality",
         "rawType": "float64",
         "type": "float"
        },
        {
         "name": "normalized_comfort",
         "rawType": "float64",
         "type": "float"
        },
        {
         "name": "normalized_failure_rate",
         "rawType": "float64",
         "type": "float"
        },
        {
         "name": "score",
         "rawType": "float64",
         "type": "float"
        }
       ],
       "ref": "96f84401-398c-47d2-aa11-ee781da51fa8",
       "rows": [
        [
         "0",
         "Fan",
         "0.07",
         "0.04",
         "60",
         "0.028",
         "250",
         "0.4",
         "0.889",
         "0.231",
         "-0.1"
        ],
        [
         "1",
         "AirConditioner",
         "1.5",
         "0.93",
         "60",
         "0.6",
         "3000",
         "0.9",
         "0.111",
         "0.769",
         "-0.49999999999999994"
        ]
       ],
       "shape": {
        "columns": 10,
        "rows": 2
       }
      },
      "text/html": [
       "<div>\n",
       "<style scoped>\n",
       "    .dataframe tbody tr th:only-of-type {\n",
       "        vertical-align: middle;\n",
       "    }\n",
       "\n",
       "    .dataframe tbody tr th {\n",
       "        vertical-align: top;\n",
       "    }\n",
       "\n",
       "    .dataframe thead th {\n",
       "        text-align: right;\n",
       "    }\n",
       "</style>\n",
       "<table border=\"1\" class=\"dataframe\">\n",
       "  <thead>\n",
       "    <tr style=\"text-align: right;\">\n",
       "      <th></th>\n",
       "      <th>name</th>\n",
       "      <th>energy_kwh</th>\n",
       "      <th>cost_pln</th>\n",
       "      <th>time_min</th>\n",
       "      <th>co2_emission_kg</th>\n",
       "      <th>device_cost</th>\n",
       "      <th>cooling_quality</th>\n",
       "      <th>normalized_comfort</th>\n",
       "      <th>normalized_failure_rate</th>\n",
       "      <th>score</th>\n",
       "    </tr>\n",
       "  </thead>\n",
       "  <tbody>\n",
       "    <tr>\n",
       "      <th>0</th>\n",
       "      <td>Fan</td>\n",
       "      <td>0.07</td>\n",
       "      <td>0.04</td>\n",
       "      <td>60</td>\n",
       "      <td>0.028</td>\n",
       "      <td>250</td>\n",
       "      <td>0.4</td>\n",
       "      <td>0.889</td>\n",
       "      <td>0.231</td>\n",
       "      <td>-0.1</td>\n",
       "    </tr>\n",
       "    <tr>\n",
       "      <th>1</th>\n",
       "      <td>AirConditioner</td>\n",
       "      <td>1.50</td>\n",
       "      <td>0.93</td>\n",
       "      <td>60</td>\n",
       "      <td>0.600</td>\n",
       "      <td>3000</td>\n",
       "      <td>0.9</td>\n",
       "      <td>0.111</td>\n",
       "      <td>0.769</td>\n",
       "      <td>-0.5</td>\n",
       "    </tr>\n",
       "  </tbody>\n",
       "</table>\n",
       "</div>"
      ],
      "text/plain": [
       "             name  energy_kwh  cost_pln  time_min  co2_emission_kg  \\\n",
       "0             Fan        0.07      0.04        60            0.028   \n",
       "1  AirConditioner        1.50      0.93        60            0.600   \n",
       "\n",
       "   device_cost  cooling_quality  normalized_comfort  normalized_failure_rate  \\\n",
       "0          250              0.4               0.889                    0.231   \n",
       "1         3000              0.9               0.111                    0.769   \n",
       "\n",
       "   score  \n",
       "0   -0.1  \n",
       "1   -0.5  "
      ]
     },
     "execution_count": 13,
     "metadata": {},
     "output_type": "execute_result"
    }
   ],
   "source": [
    "df_cooling = Room.compare_cooling_devices(duration_min=60)\n",
    "weights = {\n",
    "    \"cost_pln\": -0.3,\n",
    "    \"co2_emission_kg\": -0.2,\n",
    "    \"normalized_comfort\": -0.1,\n",
    "    \"normalized_failure_rate\": -0.1,\n",
    "    \"device_cost\": -0.1,\n",
    "    \"cooling_quality\": 0.2\n",
    "}\n",
    "\n",
    "find_optimal_device(df_cooling, weights)\n"
   ]
  },
  {
   "cell_type": "markdown",
   "id": "45a077a3",
   "metadata": {},
   "source": [
    "# Grid"
   ]
  },
  {
   "cell_type": "code",
   "execution_count": 15,
   "id": "fef9af4b",
   "metadata": {},
   "outputs": [
    {
     "data": {
      "application/vnd.microsoft.datawrangler.viewer.v0+json": {
       "columns": [
        {
         "name": "index",
         "rawType": "int64",
         "type": "integer"
        },
        {
         "name": "name",
         "rawType": "object",
         "type": "string"
        },
        {
         "name": "energy_kwh",
         "rawType": "float64",
         "type": "float"
        },
        {
         "name": "cost_pln",
         "rawType": "float64",
         "type": "float"
        },
        {
         "name": "time_min",
         "rawType": "float64",
         "type": "float"
        },
        {
         "name": "comfort_penalty",
         "rawType": "float64",
         "type": "float"
        },
        {
         "name": "co2_emission_kg",
         "rawType": "float64",
         "type": "float"
        },
        {
         "name": "device_cost",
         "rawType": "int64",
         "type": "integer"
        },
        {
         "name": "failure_rate",
         "rawType": "float64",
         "type": "float"
        },
        {
         "name": "normalized_comfort",
         "rawType": "float64",
         "type": "float"
        },
        {
         "name": "normalized_failure_rate",
         "rawType": "float64",
         "type": "float"
        }
       ],
       "ref": "f06c0e88-7d11-4b96-a24b-ce5c6d7e21c2",
       "rows": [
        [
         "0",
         "InductionHob",
         "0.9",
         "0.56",
         "30.0",
         "0.05",
         "0.36",
         "2100",
         "0.12",
         "0.25",
         "0.545"
        ],
        [
         "1",
         "GasHob",
         "1.667",
         "0.49",
         "30.0",
         "0.15",
         "0.667",
         "1500",
         "0.1",
         "0.75",
         "0.455"
        ]
       ],
       "shape": {
        "columns": 10,
        "rows": 2
       }
      },
      "text/html": [
       "<div>\n",
       "<style scoped>\n",
       "    .dataframe tbody tr th:only-of-type {\n",
       "        vertical-align: middle;\n",
       "    }\n",
       "\n",
       "    .dataframe tbody tr th {\n",
       "        vertical-align: top;\n",
       "    }\n",
       "\n",
       "    .dataframe thead th {\n",
       "        text-align: right;\n",
       "    }\n",
       "</style>\n",
       "<table border=\"1\" class=\"dataframe\">\n",
       "  <thead>\n",
       "    <tr style=\"text-align: right;\">\n",
       "      <th></th>\n",
       "      <th>name</th>\n",
       "      <th>energy_kwh</th>\n",
       "      <th>cost_pln</th>\n",
       "      <th>time_min</th>\n",
       "      <th>comfort_penalty</th>\n",
       "      <th>co2_emission_kg</th>\n",
       "      <th>device_cost</th>\n",
       "      <th>failure_rate</th>\n",
       "      <th>normalized_comfort</th>\n",
       "      <th>normalized_failure_rate</th>\n",
       "    </tr>\n",
       "  </thead>\n",
       "  <tbody>\n",
       "    <tr>\n",
       "      <th>0</th>\n",
       "      <td>InductionHob</td>\n",
       "      <td>0.900</td>\n",
       "      <td>0.56</td>\n",
       "      <td>30.0</td>\n",
       "      <td>0.05</td>\n",
       "      <td>0.360</td>\n",
       "      <td>2100</td>\n",
       "      <td>0.12</td>\n",
       "      <td>0.25</td>\n",
       "      <td>0.545</td>\n",
       "    </tr>\n",
       "    <tr>\n",
       "      <th>1</th>\n",
       "      <td>GasHob</td>\n",
       "      <td>1.667</td>\n",
       "      <td>0.49</td>\n",
       "      <td>30.0</td>\n",
       "      <td>0.15</td>\n",
       "      <td>0.667</td>\n",
       "      <td>1500</td>\n",
       "      <td>0.10</td>\n",
       "      <td>0.75</td>\n",
       "      <td>0.455</td>\n",
       "    </tr>\n",
       "  </tbody>\n",
       "</table>\n",
       "</div>"
      ],
      "text/plain": [
       "           name  energy_kwh  cost_pln  time_min  comfort_penalty  \\\n",
       "0  InductionHob       0.900      0.56      30.0             0.05   \n",
       "1        GasHob       1.667      0.49      30.0             0.15   \n",
       "\n",
       "   co2_emission_kg  device_cost  failure_rate  normalized_comfort  \\\n",
       "0            0.360         2100          0.12                0.25   \n",
       "1            0.667         1500          0.10                0.75   \n",
       "\n",
       "   normalized_failure_rate  \n",
       "0                    0.545  \n",
       "1                    0.455  "
      ]
     },
     "execution_count": 15,
     "metadata": {},
     "output_type": "execute_result"
    }
   ],
   "source": [
    "df_cooking"
   ]
  },
  {
   "cell_type": "code",
   "execution_count": 27,
   "id": "1f03ee38",
   "metadata": {},
   "outputs": [],
   "source": [
    "features = [\n",
    "    \"cost_pln\",\n",
    "    \"co2_emission_kg\",\n",
    "]\n",
    "\n",
    "\n",
    "results=compute_all_combinations_parallel(df_cooking, features, step=0.1, n_jobs=-1)"
   ]
  },
  {
   "cell_type": "code",
   "execution_count": 28,
   "id": "3d19ed9b",
   "metadata": {},
   "outputs": [
    {
     "data": {
      "application/vnd.microsoft.datawrangler.viewer.v0+json": {
       "columns": [
        {
         "name": "index",
         "rawType": "int64",
         "type": "integer"
        },
        {
         "name": "cost_pln",
         "rawType": "float64",
         "type": "float"
        },
        {
         "name": "co2_emission_kg",
         "rawType": "float64",
         "type": "float"
        },
        {
         "name": "optimal_device",
         "rawType": "object",
         "type": "string"
        },
        {
         "name": "optimal_score",
         "rawType": "float64",
         "type": "float"
        }
       ],
       "ref": "53d2a368-c4d0-49e3-8702-21d35119f7a5",
       "rows": [
        [
         "0",
         "-1.0",
         "-2.220446049250313e-16",
         "GasHob",
         "-2.220446049250313e-16"
        ],
        [
         "1",
         "-0.9",
         "-0.1000000000000002",
         "GasHob",
         "-0.1000000000000002"
        ],
        [
         "2",
         "-0.9",
         "0.09999999999999964",
         "GasHob",
         "0.09999999999999964"
        ],
        [
         "3",
         "-0.8",
         "-0.20000000000000018",
         "GasHob",
         "-0.20000000000000018"
        ],
        [
         "4",
         "-0.8",
         "0.19999999999999973",
         "GasHob",
         "0.19999999999999973"
        ],
        [
         "5",
         "-0.7000000000000001",
         "-0.30000000000000016",
         "GasHob",
         "-0.30000000000000016"
        ],
        [
         "6",
         "-0.7000000000000001",
         "0.2999999999999998",
         "GasHob",
         "0.2999999999999998"
        ],
        [
         "7",
         "-0.6000000000000001",
         "-0.40000000000000013",
         "GasHob",
         "-0.40000000000000013"
        ],
        [
         "8",
         "-0.6000000000000001",
         "0.3999999999999997",
         "GasHob",
         "0.3999999999999997"
        ],
        [
         "9",
         "-0.5000000000000001",
         "-0.5000000000000001",
         "InductionHob",
         "-0.5000000000000001"
        ],
        [
         "10",
         "-0.5000000000000001",
         "0.49999999999999956",
         "GasHob",
         "0.49999999999999956"
        ],
        [
         "11",
         "-0.40000000000000013",
         "-0.6000000000000001",
         "InductionHob",
         "-0.40000000000000013"
        ],
        [
         "12",
         "-0.40000000000000013",
         "0.5999999999999996",
         "GasHob",
         "0.5999999999999996"
        ],
        [
         "13",
         "-0.30000000000000016",
         "-0.7000000000000001",
         "InductionHob",
         "-0.30000000000000016"
        ],
        [
         "14",
         "-0.30000000000000016",
         "0.6999999999999997",
         "GasHob",
         "0.6999999999999997"
        ],
        [
         "15",
         "-0.20000000000000018",
         "-0.8",
         "InductionHob",
         "-0.20000000000000018"
        ],
        [
         "16",
         "-0.20000000000000018",
         "0.7999999999999996",
         "GasHob",
         "0.7999999999999996"
        ],
        [
         "17",
         "-0.1000000000000002",
         "-0.9",
         "InductionHob",
         "-0.1000000000000002"
        ],
        [
         "18",
         "-0.1000000000000002",
         "0.8999999999999995",
         "GasHob",
         "0.8999999999999995"
        ],
        [
         "19",
         "-2.220446049250313e-16",
         "-1.0",
         "InductionHob",
         "-2.220446049250313e-16"
        ],
        [
         "20",
         "-2.220446049250313e-16",
         "0.9999999999999996",
         "GasHob",
         "0.9999999999999996"
        ],
        [
         "21",
         "0.09999999999999964",
         "-0.9",
         "InductionHob",
         "0.09999999999999964"
        ],
        [
         "22",
         "0.09999999999999964",
         "0.8999999999999995",
         "GasHob",
         "0.8999999999999995"
        ],
        [
         "23",
         "0.19999999999999973",
         "-0.8",
         "InductionHob",
         "0.19999999999999973"
        ],
        [
         "24",
         "0.19999999999999973",
         "0.7999999999999996",
         "GasHob",
         "0.7999999999999996"
        ],
        [
         "25",
         "0.2999999999999998",
         "-0.7000000000000001",
         "InductionHob",
         "0.2999999999999998"
        ],
        [
         "26",
         "0.2999999999999998",
         "0.6999999999999997",
         "GasHob",
         "0.6999999999999997"
        ],
        [
         "27",
         "0.3999999999999997",
         "-0.6000000000000001",
         "InductionHob",
         "0.3999999999999997"
        ],
        [
         "28",
         "0.3999999999999997",
         "0.5999999999999996",
         "GasHob",
         "0.5999999999999996"
        ],
        [
         "29",
         "0.49999999999999956",
         "-0.5000000000000001",
         "InductionHob",
         "0.49999999999999956"
        ],
        [
         "30",
         "0.49999999999999956",
         "0.49999999999999956",
         "InductionHob",
         "0.49999999999999956"
        ],
        [
         "31",
         "0.5999999999999996",
         "-0.40000000000000013",
         "InductionHob",
         "0.5999999999999996"
        ],
        [
         "32",
         "0.5999999999999996",
         "0.3999999999999997",
         "InductionHob",
         "0.5999999999999996"
        ],
        [
         "33",
         "0.6999999999999997",
         "-0.30000000000000016",
         "InductionHob",
         "0.6999999999999997"
        ],
        [
         "34",
         "0.6999999999999997",
         "0.2999999999999998",
         "InductionHob",
         "0.6999999999999997"
        ],
        [
         "35",
         "0.7999999999999996",
         "-0.20000000000000018",
         "InductionHob",
         "0.7999999999999996"
        ],
        [
         "36",
         "0.7999999999999996",
         "0.19999999999999973",
         "InductionHob",
         "0.7999999999999996"
        ],
        [
         "37",
         "0.8999999999999995",
         "-0.1000000000000002",
         "InductionHob",
         "0.8999999999999995"
        ],
        [
         "38",
         "0.8999999999999995",
         "0.09999999999999964",
         "InductionHob",
         "0.8999999999999995"
        ],
        [
         "39",
         "0.9999999999999996",
         "-2.220446049250313e-16",
         "InductionHob",
         "0.9999999999999996"
        ]
       ],
       "shape": {
        "columns": 4,
        "rows": 40
       }
      },
      "text/html": [
       "<div>\n",
       "<style scoped>\n",
       "    .dataframe tbody tr th:only-of-type {\n",
       "        vertical-align: middle;\n",
       "    }\n",
       "\n",
       "    .dataframe tbody tr th {\n",
       "        vertical-align: top;\n",
       "    }\n",
       "\n",
       "    .dataframe thead th {\n",
       "        text-align: right;\n",
       "    }\n",
       "</style>\n",
       "<table border=\"1\" class=\"dataframe\">\n",
       "  <thead>\n",
       "    <tr style=\"text-align: right;\">\n",
       "      <th></th>\n",
       "      <th>cost_pln</th>\n",
       "      <th>co2_emission_kg</th>\n",
       "      <th>optimal_device</th>\n",
       "      <th>optimal_score</th>\n",
       "    </tr>\n",
       "  </thead>\n",
       "  <tbody>\n",
       "    <tr>\n",
       "      <th>0</th>\n",
       "      <td>-1.000000e+00</td>\n",
       "      <td>-2.220446e-16</td>\n",
       "      <td>GasHob</td>\n",
       "      <td>-2.220446e-16</td>\n",
       "    </tr>\n",
       "    <tr>\n",
       "      <th>1</th>\n",
       "      <td>-9.000000e-01</td>\n",
       "      <td>-1.000000e-01</td>\n",
       "      <td>GasHob</td>\n",
       "      <td>-1.000000e-01</td>\n",
       "    </tr>\n",
       "    <tr>\n",
       "      <th>2</th>\n",
       "      <td>-9.000000e-01</td>\n",
       "      <td>1.000000e-01</td>\n",
       "      <td>GasHob</td>\n",
       "      <td>1.000000e-01</td>\n",
       "    </tr>\n",
       "    <tr>\n",
       "      <th>3</th>\n",
       "      <td>-8.000000e-01</td>\n",
       "      <td>-2.000000e-01</td>\n",
       "      <td>GasHob</td>\n",
       "      <td>-2.000000e-01</td>\n",
       "    </tr>\n",
       "    <tr>\n",
       "      <th>4</th>\n",
       "      <td>-8.000000e-01</td>\n",
       "      <td>2.000000e-01</td>\n",
       "      <td>GasHob</td>\n",
       "      <td>2.000000e-01</td>\n",
       "    </tr>\n",
       "    <tr>\n",
       "      <th>5</th>\n",
       "      <td>-7.000000e-01</td>\n",
       "      <td>-3.000000e-01</td>\n",
       "      <td>GasHob</td>\n",
       "      <td>-3.000000e-01</td>\n",
       "    </tr>\n",
       "    <tr>\n",
       "      <th>6</th>\n",
       "      <td>-7.000000e-01</td>\n",
       "      <td>3.000000e-01</td>\n",
       "      <td>GasHob</td>\n",
       "      <td>3.000000e-01</td>\n",
       "    </tr>\n",
       "    <tr>\n",
       "      <th>7</th>\n",
       "      <td>-6.000000e-01</td>\n",
       "      <td>-4.000000e-01</td>\n",
       "      <td>GasHob</td>\n",
       "      <td>-4.000000e-01</td>\n",
       "    </tr>\n",
       "    <tr>\n",
       "      <th>8</th>\n",
       "      <td>-6.000000e-01</td>\n",
       "      <td>4.000000e-01</td>\n",
       "      <td>GasHob</td>\n",
       "      <td>4.000000e-01</td>\n",
       "    </tr>\n",
       "    <tr>\n",
       "      <th>9</th>\n",
       "      <td>-5.000000e-01</td>\n",
       "      <td>-5.000000e-01</td>\n",
       "      <td>InductionHob</td>\n",
       "      <td>-5.000000e-01</td>\n",
       "    </tr>\n",
       "    <tr>\n",
       "      <th>10</th>\n",
       "      <td>-5.000000e-01</td>\n",
       "      <td>5.000000e-01</td>\n",
       "      <td>GasHob</td>\n",
       "      <td>5.000000e-01</td>\n",
       "    </tr>\n",
       "    <tr>\n",
       "      <th>11</th>\n",
       "      <td>-4.000000e-01</td>\n",
       "      <td>-6.000000e-01</td>\n",
       "      <td>InductionHob</td>\n",
       "      <td>-4.000000e-01</td>\n",
       "    </tr>\n",
       "    <tr>\n",
       "      <th>12</th>\n",
       "      <td>-4.000000e-01</td>\n",
       "      <td>6.000000e-01</td>\n",
       "      <td>GasHob</td>\n",
       "      <td>6.000000e-01</td>\n",
       "    </tr>\n",
       "    <tr>\n",
       "      <th>13</th>\n",
       "      <td>-3.000000e-01</td>\n",
       "      <td>-7.000000e-01</td>\n",
       "      <td>InductionHob</td>\n",
       "      <td>-3.000000e-01</td>\n",
       "    </tr>\n",
       "    <tr>\n",
       "      <th>14</th>\n",
       "      <td>-3.000000e-01</td>\n",
       "      <td>7.000000e-01</td>\n",
       "      <td>GasHob</td>\n",
       "      <td>7.000000e-01</td>\n",
       "    </tr>\n",
       "    <tr>\n",
       "      <th>15</th>\n",
       "      <td>-2.000000e-01</td>\n",
       "      <td>-8.000000e-01</td>\n",
       "      <td>InductionHob</td>\n",
       "      <td>-2.000000e-01</td>\n",
       "    </tr>\n",
       "    <tr>\n",
       "      <th>16</th>\n",
       "      <td>-2.000000e-01</td>\n",
       "      <td>8.000000e-01</td>\n",
       "      <td>GasHob</td>\n",
       "      <td>8.000000e-01</td>\n",
       "    </tr>\n",
       "    <tr>\n",
       "      <th>17</th>\n",
       "      <td>-1.000000e-01</td>\n",
       "      <td>-9.000000e-01</td>\n",
       "      <td>InductionHob</td>\n",
       "      <td>-1.000000e-01</td>\n",
       "    </tr>\n",
       "    <tr>\n",
       "      <th>18</th>\n",
       "      <td>-1.000000e-01</td>\n",
       "      <td>9.000000e-01</td>\n",
       "      <td>GasHob</td>\n",
       "      <td>9.000000e-01</td>\n",
       "    </tr>\n",
       "    <tr>\n",
       "      <th>19</th>\n",
       "      <td>-2.220446e-16</td>\n",
       "      <td>-1.000000e+00</td>\n",
       "      <td>InductionHob</td>\n",
       "      <td>-2.220446e-16</td>\n",
       "    </tr>\n",
       "    <tr>\n",
       "      <th>20</th>\n",
       "      <td>-2.220446e-16</td>\n",
       "      <td>1.000000e+00</td>\n",
       "      <td>GasHob</td>\n",
       "      <td>1.000000e+00</td>\n",
       "    </tr>\n",
       "    <tr>\n",
       "      <th>21</th>\n",
       "      <td>1.000000e-01</td>\n",
       "      <td>-9.000000e-01</td>\n",
       "      <td>InductionHob</td>\n",
       "      <td>1.000000e-01</td>\n",
       "    </tr>\n",
       "    <tr>\n",
       "      <th>22</th>\n",
       "      <td>1.000000e-01</td>\n",
       "      <td>9.000000e-01</td>\n",
       "      <td>GasHob</td>\n",
       "      <td>9.000000e-01</td>\n",
       "    </tr>\n",
       "    <tr>\n",
       "      <th>23</th>\n",
       "      <td>2.000000e-01</td>\n",
       "      <td>-8.000000e-01</td>\n",
       "      <td>InductionHob</td>\n",
       "      <td>2.000000e-01</td>\n",
       "    </tr>\n",
       "    <tr>\n",
       "      <th>24</th>\n",
       "      <td>2.000000e-01</td>\n",
       "      <td>8.000000e-01</td>\n",
       "      <td>GasHob</td>\n",
       "      <td>8.000000e-01</td>\n",
       "    </tr>\n",
       "    <tr>\n",
       "      <th>25</th>\n",
       "      <td>3.000000e-01</td>\n",
       "      <td>-7.000000e-01</td>\n",
       "      <td>InductionHob</td>\n",
       "      <td>3.000000e-01</td>\n",
       "    </tr>\n",
       "    <tr>\n",
       "      <th>26</th>\n",
       "      <td>3.000000e-01</td>\n",
       "      <td>7.000000e-01</td>\n",
       "      <td>GasHob</td>\n",
       "      <td>7.000000e-01</td>\n",
       "    </tr>\n",
       "    <tr>\n",
       "      <th>27</th>\n",
       "      <td>4.000000e-01</td>\n",
       "      <td>-6.000000e-01</td>\n",
       "      <td>InductionHob</td>\n",
       "      <td>4.000000e-01</td>\n",
       "    </tr>\n",
       "    <tr>\n",
       "      <th>28</th>\n",
       "      <td>4.000000e-01</td>\n",
       "      <td>6.000000e-01</td>\n",
       "      <td>GasHob</td>\n",
       "      <td>6.000000e-01</td>\n",
       "    </tr>\n",
       "    <tr>\n",
       "      <th>29</th>\n",
       "      <td>5.000000e-01</td>\n",
       "      <td>-5.000000e-01</td>\n",
       "      <td>InductionHob</td>\n",
       "      <td>5.000000e-01</td>\n",
       "    </tr>\n",
       "    <tr>\n",
       "      <th>30</th>\n",
       "      <td>5.000000e-01</td>\n",
       "      <td>5.000000e-01</td>\n",
       "      <td>InductionHob</td>\n",
       "      <td>5.000000e-01</td>\n",
       "    </tr>\n",
       "    <tr>\n",
       "      <th>31</th>\n",
       "      <td>6.000000e-01</td>\n",
       "      <td>-4.000000e-01</td>\n",
       "      <td>InductionHob</td>\n",
       "      <td>6.000000e-01</td>\n",
       "    </tr>\n",
       "    <tr>\n",
       "      <th>32</th>\n",
       "      <td>6.000000e-01</td>\n",
       "      <td>4.000000e-01</td>\n",
       "      <td>InductionHob</td>\n",
       "      <td>6.000000e-01</td>\n",
       "    </tr>\n",
       "    <tr>\n",
       "      <th>33</th>\n",
       "      <td>7.000000e-01</td>\n",
       "      <td>-3.000000e-01</td>\n",
       "      <td>InductionHob</td>\n",
       "      <td>7.000000e-01</td>\n",
       "    </tr>\n",
       "    <tr>\n",
       "      <th>34</th>\n",
       "      <td>7.000000e-01</td>\n",
       "      <td>3.000000e-01</td>\n",
       "      <td>InductionHob</td>\n",
       "      <td>7.000000e-01</td>\n",
       "    </tr>\n",
       "    <tr>\n",
       "      <th>35</th>\n",
       "      <td>8.000000e-01</td>\n",
       "      <td>-2.000000e-01</td>\n",
       "      <td>InductionHob</td>\n",
       "      <td>8.000000e-01</td>\n",
       "    </tr>\n",
       "    <tr>\n",
       "      <th>36</th>\n",
       "      <td>8.000000e-01</td>\n",
       "      <td>2.000000e-01</td>\n",
       "      <td>InductionHob</td>\n",
       "      <td>8.000000e-01</td>\n",
       "    </tr>\n",
       "    <tr>\n",
       "      <th>37</th>\n",
       "      <td>9.000000e-01</td>\n",
       "      <td>-1.000000e-01</td>\n",
       "      <td>InductionHob</td>\n",
       "      <td>9.000000e-01</td>\n",
       "    </tr>\n",
       "    <tr>\n",
       "      <th>38</th>\n",
       "      <td>9.000000e-01</td>\n",
       "      <td>1.000000e-01</td>\n",
       "      <td>InductionHob</td>\n",
       "      <td>9.000000e-01</td>\n",
       "    </tr>\n",
       "    <tr>\n",
       "      <th>39</th>\n",
       "      <td>1.000000e+00</td>\n",
       "      <td>-2.220446e-16</td>\n",
       "      <td>InductionHob</td>\n",
       "      <td>1.000000e+00</td>\n",
       "    </tr>\n",
       "  </tbody>\n",
       "</table>\n",
       "</div>"
      ],
      "text/plain": [
       "        cost_pln  co2_emission_kg optimal_device  optimal_score\n",
       "0  -1.000000e+00    -2.220446e-16         GasHob  -2.220446e-16\n",
       "1  -9.000000e-01    -1.000000e-01         GasHob  -1.000000e-01\n",
       "2  -9.000000e-01     1.000000e-01         GasHob   1.000000e-01\n",
       "3  -8.000000e-01    -2.000000e-01         GasHob  -2.000000e-01\n",
       "4  -8.000000e-01     2.000000e-01         GasHob   2.000000e-01\n",
       "5  -7.000000e-01    -3.000000e-01         GasHob  -3.000000e-01\n",
       "6  -7.000000e-01     3.000000e-01         GasHob   3.000000e-01\n",
       "7  -6.000000e-01    -4.000000e-01         GasHob  -4.000000e-01\n",
       "8  -6.000000e-01     4.000000e-01         GasHob   4.000000e-01\n",
       "9  -5.000000e-01    -5.000000e-01   InductionHob  -5.000000e-01\n",
       "10 -5.000000e-01     5.000000e-01         GasHob   5.000000e-01\n",
       "11 -4.000000e-01    -6.000000e-01   InductionHob  -4.000000e-01\n",
       "12 -4.000000e-01     6.000000e-01         GasHob   6.000000e-01\n",
       "13 -3.000000e-01    -7.000000e-01   InductionHob  -3.000000e-01\n",
       "14 -3.000000e-01     7.000000e-01         GasHob   7.000000e-01\n",
       "15 -2.000000e-01    -8.000000e-01   InductionHob  -2.000000e-01\n",
       "16 -2.000000e-01     8.000000e-01         GasHob   8.000000e-01\n",
       "17 -1.000000e-01    -9.000000e-01   InductionHob  -1.000000e-01\n",
       "18 -1.000000e-01     9.000000e-01         GasHob   9.000000e-01\n",
       "19 -2.220446e-16    -1.000000e+00   InductionHob  -2.220446e-16\n",
       "20 -2.220446e-16     1.000000e+00         GasHob   1.000000e+00\n",
       "21  1.000000e-01    -9.000000e-01   InductionHob   1.000000e-01\n",
       "22  1.000000e-01     9.000000e-01         GasHob   9.000000e-01\n",
       "23  2.000000e-01    -8.000000e-01   InductionHob   2.000000e-01\n",
       "24  2.000000e-01     8.000000e-01         GasHob   8.000000e-01\n",
       "25  3.000000e-01    -7.000000e-01   InductionHob   3.000000e-01\n",
       "26  3.000000e-01     7.000000e-01         GasHob   7.000000e-01\n",
       "27  4.000000e-01    -6.000000e-01   InductionHob   4.000000e-01\n",
       "28  4.000000e-01     6.000000e-01         GasHob   6.000000e-01\n",
       "29  5.000000e-01    -5.000000e-01   InductionHob   5.000000e-01\n",
       "30  5.000000e-01     5.000000e-01   InductionHob   5.000000e-01\n",
       "31  6.000000e-01    -4.000000e-01   InductionHob   6.000000e-01\n",
       "32  6.000000e-01     4.000000e-01   InductionHob   6.000000e-01\n",
       "33  7.000000e-01    -3.000000e-01   InductionHob   7.000000e-01\n",
       "34  7.000000e-01     3.000000e-01   InductionHob   7.000000e-01\n",
       "35  8.000000e-01    -2.000000e-01   InductionHob   8.000000e-01\n",
       "36  8.000000e-01     2.000000e-01   InductionHob   8.000000e-01\n",
       "37  9.000000e-01    -1.000000e-01   InductionHob   9.000000e-01\n",
       "38  9.000000e-01     1.000000e-01   InductionHob   9.000000e-01\n",
       "39  1.000000e+00    -2.220446e-16   InductionHob   1.000000e+00"
      ]
     },
     "execution_count": 28,
     "metadata": {},
     "output_type": "execute_result"
    }
   ],
   "source": [
    "results"
   ]
  },
  {
   "cell_type": "code",
   "execution_count": 25,
   "id": "3668e867",
   "metadata": {},
   "outputs": [
    {
     "name": "stdout",
     "output_type": "stream",
     "text": [
      "              precision    recall  f1-score   support\n",
      "\n",
      "      GasHob       0.98      0.98      0.98      8536\n",
      "InductionHob       0.98      0.98      0.98      9083\n",
      "\n",
      "    accuracy                           0.98     17619\n",
      "   macro avg       0.98      0.98      0.98     17619\n",
      "weighted avg       0.98      0.98      0.98     17619\n",
      "\n"
     ]
    }
   ],
   "source": [
    "from sklearn.model_selection import train_test_split\n",
    "from sklearn.ensemble import RandomForestClassifier\n",
    "from sklearn.metrics import classification_report\n",
    "from sklearn.metrics import confusion_matrix, ConfusionMatrixDisplay\n",
    "import matplotlib.pyplot as plt\n",
    "\n",
    "\n",
    "# Przygotowanie danych\n",
    "X = results[[\"cost_pln\", \"co2_emission_kg\", \"energy_kwh\",\n",
    "             \"device_cost\", \"normalized_comfort\",\n",
    "             \"normalized_failure_rate\"]]\n",
    "y = results[\"optimal_device\"]\n",
    "\n",
    "# Podział na zbiór treningowy i testowy\n",
    "X_train, X_test, y_train, y_test = train_test_split(X, y, test_size=0.3, random_state=42)\n",
    "\n",
    "# Trenowanie klasyfikatora\n",
    "clf = RandomForestClassifier(random_state=42)\n",
    "clf.fit(X_train, y_train)\n",
    "\n",
    "# Ocena klasyfikatora\n",
    "y_pred = clf.predict(X_test)\n",
    "print(classification_report(y_test, y_pred))\n"
   ]
  },
  {
   "cell_type": "code",
   "execution_count": 26,
   "id": "e131e8a6",
   "metadata": {},
   "outputs": [
    {
     "data": {
      "image/png": "[encoded data removed]",
      "text/plain": [
       "<Figure size 640x480 with 2 Axes>"
      ]
     },
     "metadata": {},
     "output_type": "display_data"
    },
    {
     "name": "stdout",
     "output_type": "stream",
     "text": [
      "True Negative (GasHob poprawnie przewidziany): 8373\n",
      "False Positive (GasHob błędnie jako InductionHob): 163\n",
      "False Negative (InductionHob błędnie jako GasHob): 157\n",
      "True Positive (InductionHob poprawnie przewidziany): 8926\n"
     ]
    }
   ],
   "source": [
    "cm = confusion_matrix(y_test, y_pred)\n",
    "\n",
    "# Wyświetlanie\n",
    "disp = ConfusionMatrixDisplay(cm, display_labels=[\"GasHob\", \"InductionHob\"])\n",
    "disp.plot(cmap='Blues')\n",
    "plt.title(\"Confusion Matrix\")\n",
    "plt.show()\n",
    "\n",
    "# Wyświetlanie szczegółowych informacji\n",
    "tn, fp, fn, tp = cm.ravel()\n",
    "print(f\"True Negative (GasHob poprawnie przewidziany): {tn}\")\n",
    "print(f\"False Positive (GasHob błędnie jako InductionHob): {fp}\")\n",
    "print(f\"False Negative (InductionHob błędnie jako GasHob): {fn}\")\n",
    "print(f\"True Positive (InductionHob poprawnie przewidziany): {tp}\")"
   ]
  },
  {
   "cell_type": "code",
   "execution_count": 49,
   "id": "b298a758",
   "metadata": {},
   "outputs": [
    {
     "ename": "KeyboardInterrupt",
     "evalue": "",
     "output_type": "error",
     "traceback": [
      "\u001b[31m---------------------------------------------------------------------------\u001b[39m",
      "\u001b[31mKeyboardInterrupt\u001b[39m                         Traceback (most recent call last)",
      "\u001b[36mCell\u001b[39m\u001b[36m \u001b[39m\u001b[32mIn[49]\u001b[39m\u001b[32m, line 59\u001b[39m\n\u001b[32m     57\u001b[39m \u001b[38;5;28;01mtry\u001b[39;00m:\n\u001b[32m     58\u001b[39m     df = \u001b[38;5;28mglobals\u001b[39m()[df_varname]\n\u001b[32m---> \u001b[39m\u001b[32m59\u001b[39m     results = \u001b[43mcompute_all_combinations_parallel\u001b[49m\u001b[43m(\u001b[49m\u001b[43mdf\u001b[49m\u001b[43m,\u001b[49m\u001b[43m \u001b[49m\u001b[43mfeatures\u001b[49m\u001b[43m,\u001b[49m\u001b[43m \u001b[49m\u001b[43mstep\u001b[49m\u001b[43m=\u001b[49m\u001b[32;43m0.1\u001b[39;49m\u001b[43m,\u001b[49m\u001b[43m \u001b[49m\u001b[43mn_jobs\u001b[49m\u001b[43m=\u001b[49m\u001b[43m-\u001b[49m\u001b[32;43m1\u001b[39;49m\u001b[43m)\u001b[49m\n\u001b[32m     60\u001b[39m     \u001b[38;5;28mprint\u001b[39m(results.head())\n\u001b[32m     61\u001b[39m     results.to_parquet(output_dir / \u001b[33mf\u001b[39m\u001b[33m\"\u001b[39m\u001b[38;5;132;01m{\u001b[39;00mname\u001b[38;5;132;01m}\u001b[39;00m\u001b[33m_grid.parquet\u001b[39m\u001b[33m\"\u001b[39m, index=\u001b[38;5;28;01mFalse\u001b[39;00m)\n",
      "\u001b[36mFile \u001b[39m\u001b[32mc:\\Users\\jansl\\OneDrive - uek.krakow.pl\\Pulpit\\ISSI\\Projekt_dyplomowy\\src\\comparisons\\grid.py:99\u001b[39m, in \u001b[36mcompute_all_combinations_parallel\u001b[39m\u001b[34m(df, features, step, n_jobs)\u001b[39m\n\u001b[32m     73\u001b[39m \u001b[38;5;28;01mdef\u001b[39;00m\u001b[38;5;250m \u001b[39m\u001b[34mcompute_all_combinations_parallel\u001b[39m(df, features, step=\u001b[32m0.5\u001b[39m, n_jobs=-\u001b[32m1\u001b[39m):\n\u001b[32m     74\u001b[39m \u001b[38;5;250m    \u001b[39m\u001b[33;03m\"\"\"\u001b[39;00m\n\u001b[32m     75\u001b[39m \u001b[33;03m    Compute the optimal device for all valid combinations of feature weights in parallel.\u001b[39;00m\n\u001b[32m     76\u001b[39m \n\u001b[32m   (...)\u001b[39m\u001b[32m     96\u001b[39m \u001b[33;03m        the selected optimal device, and its score.\u001b[39;00m\n\u001b[32m     97\u001b[39m \u001b[33;03m    \"\"\"\u001b[39;00m\n\u001b[32m---> \u001b[39m\u001b[32m99\u001b[39m     weight_combinations = \u001b[43mgenerate_weight_combinations\u001b[49m\u001b[43m(\u001b[49m\u001b[43mfeatures\u001b[49m\u001b[43m,\u001b[49m\u001b[43m \u001b[49m\u001b[43mstep\u001b[49m\u001b[43m)\u001b[49m\n\u001b[32m    100\u001b[39m     results = Parallel(n_jobs=n_jobs)(\n\u001b[32m    101\u001b[39m         delayed(evaluate_combination)(df, features, weights_tuple) \n\u001b[32m    102\u001b[39m         \u001b[38;5;28;01mfor\u001b[39;00m weights_tuple \u001b[38;5;129;01min\u001b[39;00m weight_combinations\n\u001b[32m    103\u001b[39m     )\n\u001b[32m    104\u001b[39m     \u001b[38;5;28;01mreturn\u001b[39;00m pd.DataFrame(results)\n",
      "\u001b[36mFile \u001b[39m\u001b[32mc:\\Users\\jansl\\OneDrive - uek.krakow.pl\\Pulpit\\ISSI\\Projekt_dyplomowy\\src\\comparisons\\grid.py:35\u001b[39m, in \u001b[36mgenerate_weight_combinations\u001b[39m\u001b[34m(features, step)\u001b[39m\n\u001b[32m     32\u001b[39m possible_weights = np.arange(-\u001b[32m1\u001b[39m, \u001b[32m1\u001b[39m + step, step)\n\u001b[32m     33\u001b[39m combinations = itertools.product(possible_weights, repeat=\u001b[38;5;28mlen\u001b[39m(features))\n\u001b[32m     34\u001b[39m valid_combinations = [\n\u001b[32m---> \u001b[39m\u001b[32m35\u001b[39m     comb \u001b[38;5;28;01mfor\u001b[39;00m comb \u001b[38;5;129;01min\u001b[39;00m combinations \u001b[38;5;28;01mif\u001b[39;00m \u001b[43mnp\u001b[49m\u001b[43m.\u001b[49m\u001b[43misclose\u001b[49m\u001b[43m(\u001b[49m\u001b[38;5;28;43msum\u001b[39;49m\u001b[43m(\u001b[49m\u001b[38;5;28;43mabs\u001b[39;49m\u001b[43m(\u001b[49m\u001b[43mw\u001b[49m\u001b[43m)\u001b[49m\u001b[43m \u001b[49m\u001b[38;5;28;43;01mfor\u001b[39;49;00m\u001b[43m \u001b[49m\u001b[43mw\u001b[49m\u001b[43m \u001b[49m\u001b[38;5;129;43;01min\u001b[39;49;00m\u001b[43m \u001b[49m\u001b[43mcomb\u001b[49m\u001b[43m)\u001b[49m\u001b[43m,\u001b[49m\u001b[43m \u001b[49m\u001b[32;43m1.0\u001b[39;49m\u001b[43m)\u001b[49m\n\u001b[32m     36\u001b[39m ]\n\u001b[32m     37\u001b[39m \u001b[38;5;28;01mreturn\u001b[39;00m valid_combinations\n",
      "\u001b[36mFile \u001b[39m\u001b[32mc:\\Users\\jansl\\OneDrive - uek.krakow.pl\\Pulpit\\ISSI\\Projekt_dyplomowy\\.venv\\Lib\\site-packages\\numpy\\_core\\numeric.py:2448\u001b[39m, in \u001b[36misclose\u001b[39m\u001b[34m(a, b, rtol, atol, equal_nan)\u001b[39m\n\u001b[32m   2444\u001b[39m     y = \u001b[38;5;28mfloat\u001b[39m(y)\n\u001b[32m   2446\u001b[39m \u001b[38;5;28;01mwith\u001b[39;00m errstate(invalid=\u001b[33m'\u001b[39m\u001b[33mignore\u001b[39m\u001b[33m'\u001b[39m):\n\u001b[32m   2447\u001b[39m     result = (less_equal(\u001b[38;5;28mabs\u001b[39m(x-y), atol + rtol * \u001b[38;5;28mabs\u001b[39m(y))\n\u001b[32m-> \u001b[39m\u001b[32m2448\u001b[39m               & \u001b[43misfinite\u001b[49m\u001b[43m(\u001b[49m\u001b[43my\u001b[49m\u001b[43m)\u001b[49m\n\u001b[32m   2449\u001b[39m               | (x == y))\n\u001b[32m   2450\u001b[39m     \u001b[38;5;28;01mif\u001b[39;00m equal_nan:\n\u001b[32m   2451\u001b[39m         result |= isnan(x) & isnan(y)\n",
      "\u001b[31mKeyboardInterrupt\u001b[39m: "
     ]
    }
   ],
   "source": [
    "output_dir = output_dir = Path(\"../../Data/GRID\")\n",
    "output_dir.mkdir(parents=True, exist_ok=True)\n",
    "\n",
    "df_cooking = Kitchen.compare_cooking_devices(time_minutes=30)\n",
    "df_heating = Kitchen.compare_heating_devices(time_minutes=30)\n",
    "df_coffee = Kitchen.compare_coffee_devices(cups=1)\n",
    "df_robots = Kitchen.compare_multicookers(recipe_complexity=1.5)\n",
    "df_heaters = Bathroom.compare_water_heaters(liters=50)\n",
    "df_bath = Bathroom.compare_bathing_options()\n",
    "df_air_heating = Bathroom.compare_bathroom_heating()\n",
    "df_work = Room.compare_workstations()\n",
    "df_cooling = Room.compare_cooling_devices(duration_min=60)\n",
    "\n",
    "\n",
    "datasets = [\n",
    "    (\"cooking\", \"df_cooking\", [\n",
    "        \"cost_pln\", \"time_min\", \"normalized_comfort\", \"normalized_failure_rate\"\n",
    "        \"co2_emission_kg\", \"device_cost\", \"energy_kwh\"\n",
    "    ]),\n",
    "    (\"heating\", \"df_heating\", [\n",
    "        \"cost_pln\", \"time_min\", \"normalized_comfort\", \"normalized_failure_rate\",\n",
    "        \"heating_quality\", \"co2_emission_kg\", \"device_cost\", \"energy_kwh\"\n",
    "    ]),\n",
    "    (\"coffee\", \"df_coffee\", [\n",
    "        \"cost_pln\", \"time_min\", \"normalized_comfort\", \"normalized_failure_rate\",\n",
    "        \"co2_emission_kg\", \"device_cost\", \"energy_kwh\"\n",
    "    ]),\n",
    "    (\"robots\", \"df_robots\", [\n",
    "        \"cooking_quality\", \"cost_pln\", \"time_min\", \"normalized_comfort\",\n",
    "        \"normalized_failure_rate\", \"co2_emission_kg\", \"device_cost\", \"energy_kwh\"\n",
    "    ]),\n",
    "    (\"heaters\", \"df_heaters\", [\n",
    "        \"cost_pln\", \"time_min\", \"co2_per_kwh_heat\", \"normalized_comfort\",\n",
    "        \"normalized_failure_rate\", \"cost_per_kwh_heat\", \"co2_emission_kg\",\n",
    "        \"device_cost\", \"energy_kwh\"\n",
    "    ]),\n",
    "    (\"bath\", \"df_bath\", [\n",
    "        \"normalized_comfort\", \"normalized_failure_rate\", \"cost_pln\",\n",
    "        \"time_min\", \"co2_emission_kg\", \"device_cost\", \"energy_kwh\"\n",
    "    ]),\n",
    "    (\"air_heating\", \"df_air_heating\", [\n",
    "        \"cost_pln\", \"time_min\", \"co2_emission_kg\", \"normalized_comfort\",\n",
    "        \"normalized_failure_rate\", \"heating_quality\", \"device_cost\", \"energy_kwh\"\n",
    "    ]),\n",
    "    (\"work\", \"df_work\", [\n",
    "        \"cost_pln\", \"time_min\", \"co2_emission_kg\", \"normalized_comfort\",\n",
    "        \"normalized_failure_rate\", \"computing_quality\", \"device_cost\", \"energy_kwh\"\n",
    "    ]),\n",
    "    (\"cooling\", \"df_cooling\", [\n",
    "        \"cost_pln\", \"co2_emission_kg\", \"normalized_comfort\",\n",
    "        \"normalized_failure_rate\", \"device_cost\", \"cooling_quality\"\n",
    "    ]),\n",
    "]\n",
    "\n",
    "\n",
    "for name, df_varname, features in datasets:\n",
    "    try:\n",
    "        df = globals()[df_varname]\n",
    "        results = compute_all_combinations_parallel(df, features, step=0.1, n_jobs=-1)\n",
    "        print(results.head())\n",
    "        results.to_parquet(output_dir / f\"{name}_grid.parquet\", index=False)\n",
    "        print(f\"Zapisano wyniki dla {name} do {output_dir / f'{name}_grid.parquet'}\")\n",
    "    except KeyError:\n",
    "        print(f\"{df_varname} nie istnieje w przestrzeni nazw. Pomiń.\")\n",
    "    except Exception as e:\n",
    "        print(f\"Błąd podczas przetwarzania {name}: {e}\")\n",
    "\n"
   ]
  },
  {
   "cell_type": "code",
   "execution_count": 32,
   "id": "c624e8c0",
   "metadata": {},
   "outputs": [
    {
     "data": {
      "application/vnd.microsoft.datawrangler.viewer.v0+json": {
       "columns": [
        {
         "name": "index",
         "rawType": "int64",
         "type": "integer"
        },
        {
         "name": "cost_pln",
         "rawType": "float64",
         "type": "float"
        },
        {
         "name": "co2_emission_kg",
         "rawType": "float64",
         "type": "float"
        },
        {
         "name": "optimal_device",
         "rawType": "object",
         "type": "string"
        },
        {
         "name": "optimal_score",
         "rawType": "float64",
         "type": "float"
        }
       ],
       "ref": "44e4831a-9cff-4578-a8c9-ed4e2aa89c6e",
       "rows": [
        [
         "0",
         "-1.0",
         "-2.220446049250313e-16",
         "GasHob",
         "-2.220446049250313e-16"
        ],
        [
         "1",
         "-0.9",
         "-0.1000000000000002",
         "GasHob",
         "-0.1000000000000002"
        ],
        [
         "2",
         "-0.9",
         "0.09999999999999964",
         "GasHob",
         "0.09999999999999964"
        ],
        [
         "3",
         "-0.8",
         "-0.20000000000000018",
         "GasHob",
         "-0.20000000000000018"
        ],
        [
         "4",
         "-0.8",
         "0.19999999999999973",
         "GasHob",
         "0.19999999999999973"
        ],
        [
         "5",
         "-0.7000000000000001",
         "-0.30000000000000016",
         "GasHob",
         "-0.30000000000000016"
        ],
        [
         "6",
         "-0.7000000000000001",
         "0.2999999999999998",
         "GasHob",
         "0.2999999999999998"
        ],
        [
         "7",
         "-0.6000000000000001",
         "-0.40000000000000013",
         "GasHob",
         "-0.40000000000000013"
        ],
        [
         "8",
         "-0.6000000000000001",
         "0.3999999999999997",
         "GasHob",
         "0.3999999999999997"
        ],
        [
         "9",
         "-0.5000000000000001",
         "-0.5000000000000001",
         "InductionHob",
         "-0.5000000000000001"
        ],
        [
         "10",
         "-0.5000000000000001",
         "0.49999999999999956",
         "GasHob",
         "0.49999999999999956"
        ],
        [
         "11",
         "-0.40000000000000013",
         "-0.6000000000000001",
         "InductionHob",
         "-0.40000000000000013"
        ],
        [
         "12",
         "-0.40000000000000013",
         "0.5999999999999996",
         "GasHob",
         "0.5999999999999996"
        ],
        [
         "13",
         "-0.30000000000000016",
         "-0.7000000000000001",
         "InductionHob",
         "-0.30000000000000016"
        ],
        [
         "14",
         "-0.30000000000000016",
         "0.6999999999999997",
         "GasHob",
         "0.6999999999999997"
        ],
        [
         "15",
         "-0.20000000000000018",
         "-0.8",
         "InductionHob",
         "-0.20000000000000018"
        ],
        [
         "16",
         "-0.20000000000000018",
         "0.7999999999999996",
         "GasHob",
         "0.7999999999999996"
        ],
        [
         "17",
         "-0.1000000000000002",
         "-0.9",
         "InductionHob",
         "-0.1000000000000002"
        ],
        [
         "18",
         "-0.1000000000000002",
         "0.8999999999999995",
         "GasHob",
         "0.8999999999999995"
        ],
        [
         "19",
         "-2.220446049250313e-16",
         "-1.0",
         "InductionHob",
         "-2.220446049250313e-16"
        ],
        [
         "20",
         "-2.220446049250313e-16",
         "0.9999999999999996",
         "GasHob",
         "0.9999999999999996"
        ],
        [
         "21",
         "0.09999999999999964",
         "-0.9",
         "InductionHob",
         "0.09999999999999964"
        ],
        [
         "22",
         "0.09999999999999964",
         "0.8999999999999995",
         "GasHob",
         "0.8999999999999995"
        ],
        [
         "23",
         "0.19999999999999973",
         "-0.8",
         "InductionHob",
         "0.19999999999999973"
        ],
        [
         "24",
         "0.19999999999999973",
         "0.7999999999999996",
         "GasHob",
         "0.7999999999999996"
        ],
        [
         "25",
         "0.2999999999999998",
         "-0.7000000000000001",
         "InductionHob",
         "0.2999999999999998"
        ],
        [
         "26",
         "0.2999999999999998",
         "0.6999999999999997",
         "GasHob",
         "0.6999999999999997"
        ],
        [
         "27",
         "0.3999999999999997",
         "-0.6000000000000001",
         "InductionHob",
         "0.3999999999999997"
        ],
        [
         "28",
         "0.3999999999999997",
         "0.5999999999999996",
         "GasHob",
         "0.5999999999999996"
        ],
        [
         "29",
         "0.49999999999999956",
         "-0.5000000000000001",
         "InductionHob",
         "0.49999999999999956"
        ],
        [
         "30",
         "0.49999999999999956",
         "0.49999999999999956",
         "InductionHob",
         "0.49999999999999956"
        ],
        [
         "31",
         "0.5999999999999996",
         "-0.40000000000000013",
         "InductionHob",
         "0.5999999999999996"
        ],
        [
         "32",
         "0.5999999999999996",
         "0.3999999999999997",
         "InductionHob",
         "0.5999999999999996"
        ],
        [
         "33",
         "0.6999999999999997",
         "-0.30000000000000016",
         "InductionHob",
         "0.6999999999999997"
        ],
        [
         "34",
         "0.6999999999999997",
         "0.2999999999999998",
         "InductionHob",
         "0.6999999999999997"
        ],
        [
         "35",
         "0.7999999999999996",
         "-0.20000000000000018",
         "InductionHob",
         "0.7999999999999996"
        ],
        [
         "36",
         "0.7999999999999996",
         "0.19999999999999973",
         "InductionHob",
         "0.7999999999999996"
        ],
        [
         "37",
         "0.8999999999999995",
         "-0.1000000000000002",
         "InductionHob",
         "0.8999999999999995"
        ],
        [
         "38",
         "0.8999999999999995",
         "0.09999999999999964",
         "InductionHob",
         "0.8999999999999995"
        ],
        [
         "39",
         "0.9999999999999996",
         "-2.220446049250313e-16",
         "InductionHob",
         "0.9999999999999996"
        ]
       ],
       "shape": {
        "columns": 4,
        "rows": 40
       }
      },
      "text/html": [
       "<div>\n",
       "<style scoped>\n",
       "    .dataframe tbody tr th:only-of-type {\n",
       "        vertical-align: middle;\n",
       "    }\n",
       "\n",
       "    .dataframe tbody tr th {\n",
       "        vertical-align: top;\n",
       "    }\n",
       "\n",
       "    .dataframe thead th {\n",
       "        text-align: right;\n",
       "    }\n",
       "</style>\n",
       "<table border=\"1\" class=\"dataframe\">\n",
       "  <thead>\n",
       "    <tr style=\"text-align: right;\">\n",
       "      <th></th>\n",
       "      <th>cost_pln</th>\n",
       "      <th>co2_emission_kg</th>\n",
       "      <th>optimal_device</th>\n",
       "      <th>optimal_score</th>\n",
       "    </tr>\n",
       "  </thead>\n",
       "  <tbody>\n",
       "    <tr>\n",
       "      <th>0</th>\n",
       "      <td>-1.000000e+00</td>\n",
       "      <td>-2.220446e-16</td>\n",
       "      <td>GasHob</td>\n",
       "      <td>-2.220446e-16</td>\n",
       "    </tr>\n",
       "    <tr>\n",
       "      <th>1</th>\n",
       "      <td>-9.000000e-01</td>\n",
       "      <td>-1.000000e-01</td>\n",
       "      <td>GasHob</td>\n",
       "      <td>-1.000000e-01</td>\n",
       "    </tr>\n",
       "    <tr>\n",
       "      <th>2</th>\n",
       "      <td>-9.000000e-01</td>\n",
       "      <td>1.000000e-01</td>\n",
       "      <td>GasHob</td>\n",
       "      <td>1.000000e-01</td>\n",
       "    </tr>\n",
       "    <tr>\n",
       "      <th>3</th>\n",
       "      <td>-8.000000e-01</td>\n",
       "      <td>-2.000000e-01</td>\n",
       "      <td>GasHob</td>\n",
       "      <td>-2.000000e-01</td>\n",
       "    </tr>\n",
       "    <tr>\n",
       "      <th>4</th>\n",
       "      <td>-8.000000e-01</td>\n",
       "      <td>2.000000e-01</td>\n",
       "      <td>GasHob</td>\n",
       "      <td>2.000000e-01</td>\n",
       "    </tr>\n",
       "    <tr>\n",
       "      <th>5</th>\n",
       "      <td>-7.000000e-01</td>\n",
       "      <td>-3.000000e-01</td>\n",
       "      <td>GasHob</td>\n",
       "      <td>-3.000000e-01</td>\n",
       "    </tr>\n",
       "    <tr>\n",
       "      <th>6</th>\n",
       "      <td>-7.000000e-01</td>\n",
       "      <td>3.000000e-01</td>\n",
       "      <td>GasHob</td>\n",
       "      <td>3.000000e-01</td>\n",
       "    </tr>\n",
       "    <tr>\n",
       "      <th>7</th>\n",
       "      <td>-6.000000e-01</td>\n",
       "      <td>-4.000000e-01</td>\n",
       "      <td>GasHob</td>\n",
       "      <td>-4.000000e-01</td>\n",
       "    </tr>\n",
       "    <tr>\n",
       "      <th>8</th>\n",
       "      <td>-6.000000e-01</td>\n",
       "      <td>4.000000e-01</td>\n",
       "      <td>GasHob</td>\n",
       "      <td>4.000000e-01</td>\n",
       "    </tr>\n",
       "    <tr>\n",
       "      <th>9</th>\n",
       "      <td>-5.000000e-01</td>\n",
       "      <td>-5.000000e-01</td>\n",
       "      <td>InductionHob</td>\n",
       "      <td>-5.000000e-01</td>\n",
       "    </tr>\n",
       "    <tr>\n",
       "      <th>10</th>\n",
       "      <td>-5.000000e-01</td>\n",
       "      <td>5.000000e-01</td>\n",
       "      <td>GasHob</td>\n",
       "      <td>5.000000e-01</td>\n",
       "    </tr>\n",
       "    <tr>\n",
       "      <th>11</th>\n",
       "      <td>-4.000000e-01</td>\n",
       "      <td>-6.000000e-01</td>\n",
       "      <td>InductionHob</td>\n",
       "      <td>-4.000000e-01</td>\n",
       "    </tr>\n",
       "    <tr>\n",
       "      <th>12</th>\n",
       "      <td>-4.000000e-01</td>\n",
       "      <td>6.000000e-01</td>\n",
       "      <td>GasHob</td>\n",
       "      <td>6.000000e-01</td>\n",
       "    </tr>\n",
       "    <tr>\n",
       "      <th>13</th>\n",
       "      <td>-3.000000e-01</td>\n",
       "      <td>-7.000000e-01</td>\n",
       "      <td>InductionHob</td>\n",
       "      <td>-3.000000e-01</td>\n",
       "    </tr>\n",
       "    <tr>\n",
       "      <th>14</th>\n",
       "      <td>-3.000000e-01</td>\n",
       "      <td>7.000000e-01</td>\n",
       "      <td>GasHob</td>\n",
       "      <td>7.000000e-01</td>\n",
       "    </tr>\n",
       "    <tr>\n",
       "      <th>15</th>\n",
       "      <td>-2.000000e-01</td>\n",
       "      <td>-8.000000e-01</td>\n",
       "      <td>InductionHob</td>\n",
       "      <td>-2.000000e-01</td>\n",
       "    </tr>\n",
       "    <tr>\n",
       "      <th>16</th>\n",
       "      <td>-2.000000e-01</td>\n",
       "      <td>8.000000e-01</td>\n",
       "      <td>GasHob</td>\n",
       "      <td>8.000000e-01</td>\n",
       "    </tr>\n",
       "    <tr>\n",
       "      <th>17</th>\n",
       "      <td>-1.000000e-01</td>\n",
       "      <td>-9.000000e-01</td>\n",
       "      <td>InductionHob</td>\n",
       "      <td>-1.000000e-01</td>\n",
       "    </tr>\n",
       "    <tr>\n",
       "      <th>18</th>\n",
       "      <td>-1.000000e-01</td>\n",
       "      <td>9.000000e-01</td>\n",
       "      <td>GasHob</td>\n",
       "      <td>9.000000e-01</td>\n",
       "    </tr>\n",
       "    <tr>\n",
       "      <th>19</th>\n",
       "      <td>-2.220446e-16</td>\n",
       "      <td>-1.000000e+00</td>\n",
       "      <td>InductionHob</td>\n",
       "      <td>-2.220446e-16</td>\n",
       "    </tr>\n",
       "    <tr>\n",
       "      <th>20</th>\n",
       "      <td>-2.220446e-16</td>\n",
       "      <td>1.000000e+00</td>\n",
       "      <td>GasHob</td>\n",
       "      <td>1.000000e+00</td>\n",
       "    </tr>\n",
       "    <tr>\n",
       "      <th>21</th>\n",
       "      <td>1.000000e-01</td>\n",
       "      <td>-9.000000e-01</td>\n",
       "      <td>InductionHob</td>\n",
       "      <td>1.000000e-01</td>\n",
       "    </tr>\n",
       "    <tr>\n",
       "      <th>22</th>\n",
       "      <td>1.000000e-01</td>\n",
       "      <td>9.000000e-01</td>\n",
       "      <td>GasHob</td>\n",
       "      <td>9.000000e-01</td>\n",
       "    </tr>\n",
       "    <tr>\n",
       "      <th>23</th>\n",
       "      <td>2.000000e-01</td>\n",
       "      <td>-8.000000e-01</td>\n",
       "      <td>InductionHob</td>\n",
       "      <td>2.000000e-01</td>\n",
       "    </tr>\n",
       "    <tr>\n",
       "      <th>24</th>\n",
       "      <td>2.000000e-01</td>\n",
       "      <td>8.000000e-01</td>\n",
       "      <td>GasHob</td>\n",
       "      <td>8.000000e-01</td>\n",
       "    </tr>\n",
       "    <tr>\n",
       "      <th>25</th>\n",
       "      <td>3.000000e-01</td>\n",
       "      <td>-7.000000e-01</td>\n",
       "      <td>InductionHob</td>\n",
       "      <td>3.000000e-01</td>\n",
       "    </tr>\n",
       "    <tr>\n",
       "      <th>26</th>\n",
       "      <td>3.000000e-01</td>\n",
       "      <td>7.000000e-01</td>\n",
       "      <td>GasHob</td>\n",
       "      <td>7.000000e-01</td>\n",
       "    </tr>\n",
       "    <tr>\n",
       "      <th>27</th>\n",
       "      <td>4.000000e-01</td>\n",
       "      <td>-6.000000e-01</td>\n",
       "      <td>InductionHob</td>\n",
       "      <td>4.000000e-01</td>\n",
       "    </tr>\n",
       "    <tr>\n",
       "      <th>28</th>\n",
       "      <td>4.000000e-01</td>\n",
       "      <td>6.000000e-01</td>\n",
       "      <td>GasHob</td>\n",
       "      <td>6.000000e-01</td>\n",
       "    </tr>\n",
       "    <tr>\n",
       "      <th>29</th>\n",
       "      <td>5.000000e-01</td>\n",
       "      <td>-5.000000e-01</td>\n",
       "      <td>InductionHob</td>\n",
       "      <td>5.000000e-01</td>\n",
       "    </tr>\n",
       "    <tr>\n",
       "      <th>30</th>\n",
       "      <td>5.000000e-01</td>\n",
       "      <td>5.000000e-01</td>\n",
       "      <td>InductionHob</td>\n",
       "      <td>5.000000e-01</td>\n",
       "    </tr>\n",
       "    <tr>\n",
       "      <th>31</th>\n",
       "      <td>6.000000e-01</td>\n",
       "      <td>-4.000000e-01</td>\n",
       "      <td>InductionHob</td>\n",
       "      <td>6.000000e-01</td>\n",
       "    </tr>\n",
       "    <tr>\n",
       "      <th>32</th>\n",
       "      <td>6.000000e-01</td>\n",
       "      <td>4.000000e-01</td>\n",
       "      <td>InductionHob</td>\n",
       "      <td>6.000000e-01</td>\n",
       "    </tr>\n",
       "    <tr>\n",
       "      <th>33</th>\n",
       "      <td>7.000000e-01</td>\n",
       "      <td>-3.000000e-01</td>\n",
       "      <td>InductionHob</td>\n",
       "      <td>7.000000e-01</td>\n",
       "    </tr>\n",
       "    <tr>\n",
       "      <th>34</th>\n",
       "      <td>7.000000e-01</td>\n",
       "      <td>3.000000e-01</td>\n",
       "      <td>InductionHob</td>\n",
       "      <td>7.000000e-01</td>\n",
       "    </tr>\n",
       "    <tr>\n",
       "      <th>35</th>\n",
       "      <td>8.000000e-01</td>\n",
       "      <td>-2.000000e-01</td>\n",
       "      <td>InductionHob</td>\n",
       "      <td>8.000000e-01</td>\n",
       "    </tr>\n",
       "    <tr>\n",
       "      <th>36</th>\n",
       "      <td>8.000000e-01</td>\n",
       "      <td>2.000000e-01</td>\n",
       "      <td>InductionHob</td>\n",
       "      <td>8.000000e-01</td>\n",
       "    </tr>\n",
       "    <tr>\n",
       "      <th>37</th>\n",
       "      <td>9.000000e-01</td>\n",
       "      <td>-1.000000e-01</td>\n",
       "      <td>InductionHob</td>\n",
       "      <td>9.000000e-01</td>\n",
       "    </tr>\n",
       "    <tr>\n",
       "      <th>38</th>\n",
       "      <td>9.000000e-01</td>\n",
       "      <td>1.000000e-01</td>\n",
       "      <td>InductionHob</td>\n",
       "      <td>9.000000e-01</td>\n",
       "    </tr>\n",
       "    <tr>\n",
       "      <th>39</th>\n",
       "      <td>1.000000e+00</td>\n",
       "      <td>-2.220446e-16</td>\n",
       "      <td>InductionHob</td>\n",
       "      <td>1.000000e+00</td>\n",
       "    </tr>\n",
       "  </tbody>\n",
       "</table>\n",
       "</div>"
      ],
      "text/plain": [
       "        cost_pln  co2_emission_kg optimal_device  optimal_score\n",
       "0  -1.000000e+00    -2.220446e-16         GasHob  -2.220446e-16\n",
       "1  -9.000000e-01    -1.000000e-01         GasHob  -1.000000e-01\n",
       "2  -9.000000e-01     1.000000e-01         GasHob   1.000000e-01\n",
       "3  -8.000000e-01    -2.000000e-01         GasHob  -2.000000e-01\n",
       "4  -8.000000e-01     2.000000e-01         GasHob   2.000000e-01\n",
       "5  -7.000000e-01    -3.000000e-01         GasHob  -3.000000e-01\n",
       "6  -7.000000e-01     3.000000e-01         GasHob   3.000000e-01\n",
       "7  -6.000000e-01    -4.000000e-01         GasHob  -4.000000e-01\n",
       "8  -6.000000e-01     4.000000e-01         GasHob   4.000000e-01\n",
       "9  -5.000000e-01    -5.000000e-01   InductionHob  -5.000000e-01\n",
       "10 -5.000000e-01     5.000000e-01         GasHob   5.000000e-01\n",
       "11 -4.000000e-01    -6.000000e-01   InductionHob  -4.000000e-01\n",
       "12 -4.000000e-01     6.000000e-01         GasHob   6.000000e-01\n",
       "13 -3.000000e-01    -7.000000e-01   InductionHob  -3.000000e-01\n",
       "14 -3.000000e-01     7.000000e-01         GasHob   7.000000e-01\n",
       "15 -2.000000e-01    -8.000000e-01   InductionHob  -2.000000e-01\n",
       "16 -2.000000e-01     8.000000e-01         GasHob   8.000000e-01\n",
       "17 -1.000000e-01    -9.000000e-01   InductionHob  -1.000000e-01\n",
       "18 -1.000000e-01     9.000000e-01         GasHob   9.000000e-01\n",
       "19 -2.220446e-16    -1.000000e+00   InductionHob  -2.220446e-16\n",
       "20 -2.220446e-16     1.000000e+00         GasHob   1.000000e+00\n",
       "21  1.000000e-01    -9.000000e-01   InductionHob   1.000000e-01\n",
       "22  1.000000e-01     9.000000e-01         GasHob   9.000000e-01\n",
       "23  2.000000e-01    -8.000000e-01   InductionHob   2.000000e-01\n",
       "24  2.000000e-01     8.000000e-01         GasHob   8.000000e-01\n",
       "25  3.000000e-01    -7.000000e-01   InductionHob   3.000000e-01\n",
       "26  3.000000e-01     7.000000e-01         GasHob   7.000000e-01\n",
       "27  4.000000e-01    -6.000000e-01   InductionHob   4.000000e-01\n",
       "28  4.000000e-01     6.000000e-01         GasHob   6.000000e-01\n",
       "29  5.000000e-01    -5.000000e-01   InductionHob   5.000000e-01\n",
       "30  5.000000e-01     5.000000e-01   InductionHob   5.000000e-01\n",
       "31  6.000000e-01    -4.000000e-01   InductionHob   6.000000e-01\n",
       "32  6.000000e-01     4.000000e-01   InductionHob   6.000000e-01\n",
       "33  7.000000e-01    -3.000000e-01   InductionHob   7.000000e-01\n",
       "34  7.000000e-01     3.000000e-01   InductionHob   7.000000e-01\n",
       "35  8.000000e-01    -2.000000e-01   InductionHob   8.000000e-01\n",
       "36  8.000000e-01     2.000000e-01   InductionHob   8.000000e-01\n",
       "37  9.000000e-01    -1.000000e-01   InductionHob   9.000000e-01\n",
       "38  9.000000e-01     1.000000e-01   InductionHob   9.000000e-01\n",
       "39  1.000000e+00    -2.220446e-16   InductionHob   1.000000e+00"
      ]
     },
     "execution_count": 32,
     "metadata": {},
     "output_type": "execute_result"
    }
   ],
   "source": [
    "results"
   ]
  },
  {
   "cell_type": "markdown",
   "id": "a52b3ad5",
   "metadata": {},
   "source": [
    "### Merging all parquet"
   ]
  },
  {
   "cell_type": "code",
   "execution_count": 64,
   "id": "d2fbbe52",
   "metadata": {},
   "outputs": [
    {
     "data": {
      "text/plain": [
       "<duckdb.duckdb.DuckDBPyConnection at 0x16b2a8d6c30>"
      ]
     },
     "execution_count": 64,
     "metadata": {},
     "output_type": "execute_result"
    }
   ],
   "source": [
    "\n",
    "\n",
    "folder = Path(\"~/OneDrive - uek.krakow.pl/Pulpit/ISSI/Projekt_dyplomowy/DATA/GRID\").expanduser()\n",
    "con = duckdb.connect()\n",
    "\n",
    "query = f\"\"\"\n",
    "COPY (\n",
    "    SELECT * FROM read_parquet('{str(folder)}/*.parquet', union_by_name=True)\n",
    ") TO '{str(folder / \"merged_grid.parquet\")}' (FORMAT PARQUET);\n",
    "\"\"\"\n",
    "\n",
    "con.execute(query)"
   ]
  },
  {
   "cell_type": "code",
   "execution_count": 192,
   "id": "635210f3",
   "metadata": {},
   "outputs": [],
   "source": [
    "df_merged = pl.read_parquet(folder / \"merged_grid.parquet\")"
   ]
  },
  {
   "cell_type": "code",
   "execution_count": 193,
   "id": "4bd7a35f",
   "metadata": {},
   "outputs": [
    {
     "data": {
      "text/html": [
       "<div><style>\n",
       ".dataframe > thead > tr,\n",
       ".dataframe > tbody > tr {\n",
       "  text-align: right;\n",
       "  white-space: pre-wrap;\n",
       "}\n",
       "</style>\n",
       "<small>shape: (349_648, 11)</small><table border=\"1\" class=\"dataframe\"><thead><tr><th>cost_pln</th><th>co2_emission_kg</th><th>normalized_comfort</th><th>normalized_failure_rate</th><th>device_cost</th><th>heating_quality</th><th>optimal_device</th><th>optimal_score</th><th>cooling_quality</th><th>cooking_quality</th><th>computing_quality</th></tr><tr><td>f64</td><td>f64</td><td>f64</td><td>f64</td><td>f64</td><td>f64</td><td>str</td><td>f64</td><td>f64</td><td>f64</td><td>f64</td></tr></thead><tbody><tr><td>-1.0</td><td>0.0</td><td>0.0</td><td>0.0</td><td>0.0</td><td>0.0</td><td>&quot;LadderHeater&quot;</td><td>0.0</td><td>null</td><td>null</td><td>null</td></tr><tr><td>-0.9</td><td>-0.1</td><td>0.0</td><td>0.0</td><td>0.0</td><td>0.0</td><td>&quot;LadderHeater&quot;</td><td>0.0</td><td>null</td><td>null</td><td>null</td></tr><tr><td>-0.9</td><td>0.0</td><td>-0.1</td><td>0.0</td><td>0.0</td><td>0.0</td><td>&quot;LadderHeater&quot;</td><td>-0.1</td><td>null</td><td>null</td><td>null</td></tr><tr><td>-0.9</td><td>0.0</td><td>0.0</td><td>-0.1</td><td>0.0</td><td>0.0</td><td>&quot;LadderHeater&quot;</td><td>-0.1</td><td>null</td><td>null</td><td>null</td></tr><tr><td>-0.9</td><td>0.0</td><td>0.0</td><td>0.0</td><td>-0.1</td><td>0.0</td><td>&quot;LadderHeater&quot;</td><td>0.0</td><td>null</td><td>null</td><td>null</td></tr><tr><td>&hellip;</td><td>&hellip;</td><td>&hellip;</td><td>&hellip;</td><td>&hellip;</td><td>&hellip;</td><td>&hellip;</td><td>&hellip;</td><td>&hellip;</td><td>&hellip;</td><td>&hellip;</td></tr><tr><td>0.9</td><td>0.0</td><td>0.0</td><td>0.0</td><td>0.1</td><td>null</td><td>&quot;DesktopComputer&quot;</td><td>0.9</td><td>null</td><td>null</td><td>0.0</td></tr><tr><td>0.9</td><td>0.0</td><td>0.0</td><td>0.1</td><td>0.0</td><td>null</td><td>&quot;DesktopComputer&quot;</td><td>0.9</td><td>null</td><td>null</td><td>0.0</td></tr><tr><td>0.9</td><td>0.0</td><td>0.1</td><td>0.0</td><td>0.0</td><td>null</td><td>&quot;DesktopComputer&quot;</td><td>1.0</td><td>null</td><td>null</td><td>0.0</td></tr><tr><td>0.9</td><td>0.1</td><td>0.0</td><td>0.0</td><td>0.0</td><td>null</td><td>&quot;DesktopComputer&quot;</td><td>1.0</td><td>null</td><td>null</td><td>0.0</td></tr><tr><td>1.0</td><td>0.0</td><td>0.0</td><td>0.0</td><td>0.0</td><td>null</td><td>&quot;DesktopComputer&quot;</td><td>1.0</td><td>null</td><td>null</td><td>0.0</td></tr></tbody></table></div>"
      ],
      "text/plain": [
       "shape: (349_648, 11)\n",
       "┌──────────┬───────────┬───────────┬───────────┬───┬───────────┬───────────┬───────────┬───────────┐\n",
       "│ cost_pln ┆ co2_emiss ┆ normalize ┆ normalize ┆ … ┆ optimal_s ┆ cooling_q ┆ cooking_q ┆ computing │\n",
       "│ ---      ┆ ion_kg    ┆ d_comfort ┆ d_failure ┆   ┆ core      ┆ uality    ┆ uality    ┆ _quality  │\n",
       "│ f64      ┆ ---       ┆ ---       ┆ _rate     ┆   ┆ ---       ┆ ---       ┆ ---       ┆ ---       │\n",
       "│          ┆ f64       ┆ f64       ┆ ---       ┆   ┆ f64       ┆ f64       ┆ f64       ┆ f64       │\n",
       "│          ┆           ┆           ┆ f64       ┆   ┆           ┆           ┆           ┆           │\n",
       "╞══════════╪═══════════╪═══════════╪═══════════╪═══╪═══════════╪═══════════╪═══════════╪═══════════╡\n",
       "│ -1.0     ┆ 0.0       ┆ 0.0       ┆ 0.0       ┆ … ┆ 0.0       ┆ null      ┆ null      ┆ null      │\n",
       "│ -0.9     ┆ -0.1      ┆ 0.0       ┆ 0.0       ┆ … ┆ 0.0       ┆ null      ┆ null      ┆ null      │\n",
       "│ -0.9     ┆ 0.0       ┆ -0.1      ┆ 0.0       ┆ … ┆ -0.1      ┆ null      ┆ null      ┆ null      │\n",
       "│ -0.9     ┆ 0.0       ┆ 0.0       ┆ -0.1      ┆ … ┆ -0.1      ┆ null      ┆ null      ┆ null      │\n",
       "│ -0.9     ┆ 0.0       ┆ 0.0       ┆ 0.0       ┆ … ┆ 0.0       ┆ null      ┆ null      ┆ null      │\n",
       "│ …        ┆ …         ┆ …         ┆ …         ┆ … ┆ …         ┆ …         ┆ …         ┆ …         │\n",
       "│ 0.9      ┆ 0.0       ┆ 0.0       ┆ 0.0       ┆ … ┆ 0.9       ┆ null      ┆ null      ┆ 0.0       │\n",
       "│ 0.9      ┆ 0.0       ┆ 0.0       ┆ 0.1       ┆ … ┆ 0.9       ┆ null      ┆ null      ┆ 0.0       │\n",
       "│ 0.9      ┆ 0.0       ┆ 0.1       ┆ 0.0       ┆ … ┆ 1.0       ┆ null      ┆ null      ┆ 0.0       │\n",
       "│ 0.9      ┆ 0.1       ┆ 0.0       ┆ 0.0       ┆ … ┆ 1.0       ┆ null      ┆ null      ┆ 0.0       │\n",
       "│ 1.0      ┆ 0.0       ┆ 0.0       ┆ 0.0       ┆ … ┆ 1.0       ┆ null      ┆ null      ┆ 0.0       │\n",
       "└──────────┴───────────┴───────────┴───────────┴───┴───────────┴───────────┴───────────┴───────────┘"
      ]
     },
     "execution_count": 193,
     "metadata": {},
     "output_type": "execute_result"
    }
   ],
   "source": [
    "df_merged"
   ]
  },
  {
   "cell_type": "markdown",
   "id": "554c6820",
   "metadata": {},
   "source": [
    "dobra czyli mapowanie w polarsie wyglada tak jesli maksymalna wartosc jest w zadanej kolumnie to wtedy stworz nowa kolumne i przypisz do segmentu df nazywa sie df_merged i wyglada tak unique_oparameter moze sie rownac= ['heating_quality','cooling_quality','cooking_quality','computing_quality'] rozumiesz co chce teraz zrobic? "
   ]
  },
  {
   "cell_type": "code",
   "execution_count": 196,
   "id": "1fc8155c",
   "metadata": {},
   "outputs": [],
   "source": [
    "# Lista kolumn destymulant\n",
    "destymulanty = [\"co2_emission_kg\", \"normalized_comfort\", \"normalized_failure_rate\",\"cost_pln\"]\n",
    "\n",
    "# Filtr: usuń wiersze z dodatnimi wartościami destymulant\n",
    "mask_destymulanty = pl.any_horizontal([pl.col(c) > 0 for c in destymulanty])\n",
    "\n",
    "# Filtr: usuń wiersze, gdzie unique_parameter (jeśli ustalony) ma wartość < 0\n",
    "# Sprawdzamy dla heating/cooling/... czy są unikalne i < 0\n",
    "quality_cols = [\"heating_quality\", \"cooling_quality\", \"cooking_quality\", \"computing_quality\"]\n",
    "\n",
    "# Maska: jeśli dana jakość jest jedyną nie-null i < 0, to usuń\n",
    "negative_stymulant_mask = pl.any_horizontal([\n",
    "    (pl.col(q).is_not_null() & (pl.col(q) < 0)) for q in quality_cols\n",
    "])\n",
    "\n",
    "# Zastosuj oba filtry\n",
    "df_filtered = df_merged.filter(~mask_destymulanty & ~negative_stymulant_mask)\n"
   ]
  },
  {
   "cell_type": "code",
   "execution_count": 197,
   "id": "68483e93",
   "metadata": {},
   "outputs": [
    {
     "data": {
      "text/html": [
       "<div><style>\n",
       ".dataframe > thead > tr,\n",
       ".dataframe > tbody > tr {\n",
       "  text-align: right;\n",
       "  white-space: pre-wrap;\n",
       "}\n",
       "</style>\n",
       "<small>shape: (31_889, 11)</small><table border=\"1\" class=\"dataframe\"><thead><tr><th>cost_pln</th><th>co2_emission_kg</th><th>normalized_comfort</th><th>normalized_failure_rate</th><th>device_cost</th><th>heating_quality</th><th>optimal_device</th><th>optimal_score</th><th>cooling_quality</th><th>cooking_quality</th><th>computing_quality</th></tr><tr><td>f64</td><td>f64</td><td>f64</td><td>f64</td><td>f64</td><td>f64</td><td>str</td><td>f64</td><td>f64</td><td>f64</td><td>f64</td></tr></thead><tbody><tr><td>-1.0</td><td>0.0</td><td>0.0</td><td>0.0</td><td>0.0</td><td>0.0</td><td>&quot;LadderHeater&quot;</td><td>0.0</td><td>null</td><td>null</td><td>null</td></tr><tr><td>-0.9</td><td>-0.1</td><td>0.0</td><td>0.0</td><td>0.0</td><td>0.0</td><td>&quot;LadderHeater&quot;</td><td>0.0</td><td>null</td><td>null</td><td>null</td></tr><tr><td>-0.9</td><td>0.0</td><td>-0.1</td><td>0.0</td><td>0.0</td><td>0.0</td><td>&quot;LadderHeater&quot;</td><td>-0.1</td><td>null</td><td>null</td><td>null</td></tr><tr><td>-0.9</td><td>0.0</td><td>0.0</td><td>-0.1</td><td>0.0</td><td>0.0</td><td>&quot;LadderHeater&quot;</td><td>-0.1</td><td>null</td><td>null</td><td>null</td></tr><tr><td>-0.9</td><td>0.0</td><td>0.0</td><td>0.0</td><td>-0.1</td><td>0.0</td><td>&quot;LadderHeater&quot;</td><td>0.0</td><td>null</td><td>null</td><td>null</td></tr><tr><td>&hellip;</td><td>&hellip;</td><td>&hellip;</td><td>&hellip;</td><td>&hellip;</td><td>&hellip;</td><td>&hellip;</td><td>&hellip;</td><td>&hellip;</td><td>&hellip;</td><td>&hellip;</td></tr><tr><td>0.0</td><td>0.0</td><td>0.0</td><td>0.0</td><td>0.6</td><td>null</td><td>&quot;LaptopWithMonitor&quot;</td><td>0.6</td><td>null</td><td>null</td><td>0.4</td></tr><tr><td>0.0</td><td>0.0</td><td>0.0</td><td>0.0</td><td>0.7</td><td>null</td><td>&quot;LaptopWithMonitor&quot;</td><td>0.7</td><td>null</td><td>null</td><td>0.3</td></tr><tr><td>0.0</td><td>0.0</td><td>0.0</td><td>0.0</td><td>0.8</td><td>null</td><td>&quot;LaptopWithMonitor&quot;</td><td>0.8</td><td>null</td><td>null</td><td>0.2</td></tr><tr><td>0.0</td><td>0.0</td><td>0.0</td><td>0.0</td><td>0.9</td><td>null</td><td>&quot;LaptopWithMonitor&quot;</td><td>0.9</td><td>null</td><td>null</td><td>0.1</td></tr><tr><td>0.0</td><td>0.0</td><td>0.0</td><td>0.0</td><td>1.0</td><td>null</td><td>&quot;LaptopWithMonitor&quot;</td><td>1.0</td><td>null</td><td>null</td><td>0.0</td></tr></tbody></table></div>"
      ],
      "text/plain": [
       "shape: (31_889, 11)\n",
       "┌──────────┬───────────┬───────────┬───────────┬───┬───────────┬───────────┬───────────┬───────────┐\n",
       "│ cost_pln ┆ co2_emiss ┆ normalize ┆ normalize ┆ … ┆ optimal_s ┆ cooling_q ┆ cooking_q ┆ computing │\n",
       "│ ---      ┆ ion_kg    ┆ d_comfort ┆ d_failure ┆   ┆ core      ┆ uality    ┆ uality    ┆ _quality  │\n",
       "│ f64      ┆ ---       ┆ ---       ┆ _rate     ┆   ┆ ---       ┆ ---       ┆ ---       ┆ ---       │\n",
       "│          ┆ f64       ┆ f64       ┆ ---       ┆   ┆ f64       ┆ f64       ┆ f64       ┆ f64       │\n",
       "│          ┆           ┆           ┆ f64       ┆   ┆           ┆           ┆           ┆           │\n",
       "╞══════════╪═══════════╪═══════════╪═══════════╪═══╪═══════════╪═══════════╪═══════════╪═══════════╡\n",
       "│ -1.0     ┆ 0.0       ┆ 0.0       ┆ 0.0       ┆ … ┆ 0.0       ┆ null      ┆ null      ┆ null      │\n",
       "│ -0.9     ┆ -0.1      ┆ 0.0       ┆ 0.0       ┆ … ┆ 0.0       ┆ null      ┆ null      ┆ null      │\n",
       "│ -0.9     ┆ 0.0       ┆ -0.1      ┆ 0.0       ┆ … ┆ -0.1      ┆ null      ┆ null      ┆ null      │\n",
       "│ -0.9     ┆ 0.0       ┆ 0.0       ┆ -0.1      ┆ … ┆ -0.1      ┆ null      ┆ null      ┆ null      │\n",
       "│ -0.9     ┆ 0.0       ┆ 0.0       ┆ 0.0       ┆ … ┆ 0.0       ┆ null      ┆ null      ┆ null      │\n",
       "│ …        ┆ …         ┆ …         ┆ …         ┆ … ┆ …         ┆ …         ┆ …         ┆ …         │\n",
       "│ 0.0      ┆ 0.0       ┆ 0.0       ┆ 0.0       ┆ … ┆ 0.6       ┆ null      ┆ null      ┆ 0.4       │\n",
       "│ 0.0      ┆ 0.0       ┆ 0.0       ┆ 0.0       ┆ … ┆ 0.7       ┆ null      ┆ null      ┆ 0.3       │\n",
       "│ 0.0      ┆ 0.0       ┆ 0.0       ┆ 0.0       ┆ … ┆ 0.8       ┆ null      ┆ null      ┆ 0.2       │\n",
       "│ 0.0      ┆ 0.0       ┆ 0.0       ┆ 0.0       ┆ … ┆ 0.9       ┆ null      ┆ null      ┆ 0.1       │\n",
       "│ 0.0      ┆ 0.0       ┆ 0.0       ┆ 0.0       ┆ … ┆ 1.0       ┆ null      ┆ null      ┆ 0.0       │\n",
       "└──────────┴───────────┴───────────┴───────────┴───┴───────────┴───────────┴───────────┴───────────┘"
      ]
     },
     "execution_count": 197,
     "metadata": {},
     "output_type": "execute_result"
    }
   ],
   "source": [
    "df_filtered"
   ]
  },
  {
   "cell_type": "code",
   "execution_count": 198,
   "id": "6a35a4ae",
   "metadata": {},
   "outputs": [],
   "source": [
    "# --- NEGACJA ZNAKÓW TYLKO W df_filtered, BEZ RUSZANIA ZER ---\n",
    "exclude_cols = set(quality_cols + [\"device_cost\"])\n",
    "numeric_cols = [col for col in df_filtered.columns if df_filtered.schema[col] in [pl.Float64, pl.Float32, pl.Int64, pl.Int32]]\n",
    "cols_to_negate = [col for col in numeric_cols if col not in exclude_cols]\n",
    "\n",
    "df_filtered = df_filtered.with_columns([\n",
    "    pl.when(pl.col(col) != 0).then(-pl.col(col)).otherwise(pl.col(col)).alias(col)\n",
    "    for col in cols_to_negate\n",
    "])\n"
   ]
  },
  {
   "cell_type": "code",
   "execution_count": 199,
   "id": "14102cb0",
   "metadata": {},
   "outputs": [
    {
     "data": {
      "text/html": [
       "<div><style>\n",
       ".dataframe > thead > tr,\n",
       ".dataframe > tbody > tr {\n",
       "  text-align: right;\n",
       "  white-space: pre-wrap;\n",
       "}\n",
       "</style>\n",
       "<small>shape: (31_889, 11)</small><table border=\"1\" class=\"dataframe\"><thead><tr><th>cost_pln</th><th>co2_emission_kg</th><th>normalized_comfort</th><th>normalized_failure_rate</th><th>device_cost</th><th>heating_quality</th><th>optimal_device</th><th>optimal_score</th><th>cooling_quality</th><th>cooking_quality</th><th>computing_quality</th></tr><tr><td>f64</td><td>f64</td><td>f64</td><td>f64</td><td>f64</td><td>f64</td><td>str</td><td>f64</td><td>f64</td><td>f64</td><td>f64</td></tr></thead><tbody><tr><td>1.0</td><td>0.0</td><td>0.0</td><td>0.0</td><td>0.0</td><td>0.0</td><td>&quot;LadderHeater&quot;</td><td>0.0</td><td>null</td><td>null</td><td>null</td></tr><tr><td>0.9</td><td>0.1</td><td>0.0</td><td>0.0</td><td>0.0</td><td>0.0</td><td>&quot;LadderHeater&quot;</td><td>0.0</td><td>null</td><td>null</td><td>null</td></tr><tr><td>0.9</td><td>0.0</td><td>0.1</td><td>0.0</td><td>0.0</td><td>0.0</td><td>&quot;LadderHeater&quot;</td><td>0.1</td><td>null</td><td>null</td><td>null</td></tr><tr><td>0.9</td><td>0.0</td><td>0.0</td><td>0.1</td><td>0.0</td><td>0.0</td><td>&quot;LadderHeater&quot;</td><td>0.1</td><td>null</td><td>null</td><td>null</td></tr><tr><td>0.9</td><td>0.0</td><td>0.0</td><td>0.0</td><td>-0.1</td><td>0.0</td><td>&quot;LadderHeater&quot;</td><td>0.0</td><td>null</td><td>null</td><td>null</td></tr><tr><td>&hellip;</td><td>&hellip;</td><td>&hellip;</td><td>&hellip;</td><td>&hellip;</td><td>&hellip;</td><td>&hellip;</td><td>&hellip;</td><td>&hellip;</td><td>&hellip;</td><td>&hellip;</td></tr><tr><td>0.0</td><td>0.0</td><td>0.0</td><td>0.0</td><td>0.6</td><td>null</td><td>&quot;LaptopWithMonitor&quot;</td><td>-0.6</td><td>null</td><td>null</td><td>0.4</td></tr><tr><td>0.0</td><td>0.0</td><td>0.0</td><td>0.0</td><td>0.7</td><td>null</td><td>&quot;LaptopWithMonitor&quot;</td><td>-0.7</td><td>null</td><td>null</td><td>0.3</td></tr><tr><td>0.0</td><td>0.0</td><td>0.0</td><td>0.0</td><td>0.8</td><td>null</td><td>&quot;LaptopWithMonitor&quot;</td><td>-0.8</td><td>null</td><td>null</td><td>0.2</td></tr><tr><td>0.0</td><td>0.0</td><td>0.0</td><td>0.0</td><td>0.9</td><td>null</td><td>&quot;LaptopWithMonitor&quot;</td><td>-0.9</td><td>null</td><td>null</td><td>0.1</td></tr><tr><td>0.0</td><td>0.0</td><td>0.0</td><td>0.0</td><td>1.0</td><td>null</td><td>&quot;LaptopWithMonitor&quot;</td><td>-1.0</td><td>null</td><td>null</td><td>0.0</td></tr></tbody></table></div>"
      ],
      "text/plain": [
       "shape: (31_889, 11)\n",
       "┌──────────┬───────────┬───────────┬───────────┬───┬───────────┬───────────┬───────────┬───────────┐\n",
       "│ cost_pln ┆ co2_emiss ┆ normalize ┆ normalize ┆ … ┆ optimal_s ┆ cooling_q ┆ cooking_q ┆ computing │\n",
       "│ ---      ┆ ion_kg    ┆ d_comfort ┆ d_failure ┆   ┆ core      ┆ uality    ┆ uality    ┆ _quality  │\n",
       "│ f64      ┆ ---       ┆ ---       ┆ _rate     ┆   ┆ ---       ┆ ---       ┆ ---       ┆ ---       │\n",
       "│          ┆ f64       ┆ f64       ┆ ---       ┆   ┆ f64       ┆ f64       ┆ f64       ┆ f64       │\n",
       "│          ┆           ┆           ┆ f64       ┆   ┆           ┆           ┆           ┆           │\n",
       "╞══════════╪═══════════╪═══════════╪═══════════╪═══╪═══════════╪═══════════╪═══════════╪═══════════╡\n",
       "│ 1.0      ┆ 0.0       ┆ 0.0       ┆ 0.0       ┆ … ┆ 0.0       ┆ null      ┆ null      ┆ null      │\n",
       "│ 0.9      ┆ 0.1       ┆ 0.0       ┆ 0.0       ┆ … ┆ 0.0       ┆ null      ┆ null      ┆ null      │\n",
       "│ 0.9      ┆ 0.0       ┆ 0.1       ┆ 0.0       ┆ … ┆ 0.1       ┆ null      ┆ null      ┆ null      │\n",
       "│ 0.9      ┆ 0.0       ┆ 0.0       ┆ 0.1       ┆ … ┆ 0.1       ┆ null      ┆ null      ┆ null      │\n",
       "│ 0.9      ┆ 0.0       ┆ 0.0       ┆ 0.0       ┆ … ┆ 0.0       ┆ null      ┆ null      ┆ null      │\n",
       "│ …        ┆ …         ┆ …         ┆ …         ┆ … ┆ …         ┆ …         ┆ …         ┆ …         │\n",
       "│ 0.0      ┆ 0.0       ┆ 0.0       ┆ 0.0       ┆ … ┆ -0.6      ┆ null      ┆ null      ┆ 0.4       │\n",
       "│ 0.0      ┆ 0.0       ┆ 0.0       ┆ 0.0       ┆ … ┆ -0.7      ┆ null      ┆ null      ┆ 0.3       │\n",
       "│ 0.0      ┆ 0.0       ┆ 0.0       ┆ 0.0       ┆ … ┆ -0.8      ┆ null      ┆ null      ┆ 0.2       │\n",
       "│ 0.0      ┆ 0.0       ┆ 0.0       ┆ 0.0       ┆ … ┆ -0.9      ┆ null      ┆ null      ┆ 0.1       │\n",
       "│ 0.0      ┆ 0.0       ┆ 0.0       ┆ 0.0       ┆ … ┆ -1.0      ┆ null      ┆ null      ┆ 0.0       │\n",
       "└──────────┴───────────┴───────────┴───────────┴───┴───────────┴───────────┴───────────┴───────────┘"
      ]
     },
     "execution_count": 199,
     "metadata": {},
     "output_type": "execute_result"
    }
   ],
   "source": [
    "df_filtered"
   ]
  },
  {
   "cell_type": "code",
   "execution_count": 246,
   "id": "0266ffe3",
   "metadata": {},
   "outputs": [],
   "source": [
    "import polars as pl\n",
    "import numpy as np\n",
    "\n",
    "# --- DEFINICJE ---\n",
    "# Kolumny destymulant\n",
    "dest_cols = [\n",
    "    \"co2_emission_kg\",\n",
    "    \"cost_pln\",\n",
    "    \"normalized_comfort\",\n",
    "    \"normalized_failure_rate\",\n",
    "    \"device_cost\"\n",
    "]\n",
    "\n",
    "# Kolumny jakościowe (stymulanty)\n",
    "quality_cols = [\"heating_quality\", \"cooling_quality\", \"cooking_quality\", \"computing_quality\"]\n",
    "\n",
    "all_weight_cols = dest_cols + quality_cols\n",
    "\n",
    "# --- FILTROWANIE ---\n",
    "# Usuń wiersze, gdzie destymulanty mają dodatnie wagi\n",
    "mask_wrong_dest = pl.any_horizontal([\n",
    "    pl.col(c) > 0 for c in [\"co2_emission_kg\", \"normalized_comfort\", \"normalized_failure_rate\", \"cost_pln\"]\n",
    "])\n",
    "\n",
    "# Usuń wiersze, gdzie stymulanta (jakość) ma ujemną wagę\n",
    "mask_wrong_stymulant = pl.any_horizontal([\n",
    "    pl.col(c).is_not_null() & (pl.col(c) < 0) for c in quality_cols\n",
    "])\n",
    "\n",
    "df_filtered = df_merged.filter(~mask_wrong_dest & ~mask_wrong_stymulant)\n",
    "\n",
    "# --- NEGACJA ZNAKÓW (bez ruszania device_cost i quality_cols) ---\n",
    "exclude_cols = set(quality_cols + [\"device_cost\"])\n",
    "numeric_cols = [col for col in df_filtered.columns if df_filtered.schema[col] in [pl.Float64, pl.Float32, pl.Int64, pl.Int32]]\n",
    "cols_to_negate = [col for col in numeric_cols if col not in exclude_cols]\n",
    "\n",
    "df_filtered = df_filtered.with_columns([\n",
    "    pl.when(pl.col(col) != 0).then(-pl.col(col)).otherwise(pl.col(col)).alias(col)\n",
    "    for col in cols_to_negate\n",
    "])\n",
    "\n",
    "# --- ZLICZANIE NIE-NULL DLA QUALITY ---\n",
    "not_null_counts = pl.sum_horizontal([\n",
    "    pl.col(c).is_not_null().cast(pl.Int8) for c in quality_cols\n",
    "])\n",
    "\n",
    "# --- FUNKCJA DO UNIKALNEJ JAKOŚCI ---\n",
    "def unique_param_expr():\n",
    "    return (\n",
    "        pl.when(not_null_counts == 1)\n",
    "        .then(\n",
    "            pl.when(pl.col(\"heating_quality\").is_not_null()).then(pl.lit(\"heating_quality\"))\n",
    "            .when(pl.col(\"cooling_quality\").is_not_null()).then(pl.lit(\"cooling_quality\"))\n",
    "            .when(pl.col(\"cooking_quality\").is_not_null()).then(pl.lit(\"cooking_quality\"))\n",
    "            .when(pl.col(\"computing_quality\").is_not_null()).then(pl.lit(\"computing_quality\"))\n",
    "        )\n",
    "    )\n",
    "\n",
    "# --- LISTA ABS WAG (bez null) ---\n",
    "df_temp = df_filtered.with_columns([\n",
    "    pl.concat_list([\n",
    "        pl.when(pl.col(c).is_not_null()).then(pl.col(c).abs()) for c in all_weight_cols\n",
    "    ]).alias(\"abs_weights_list_clean\")\n",
    "])\n",
    "\n",
    "# --- SPRAWDZENIE BALANSU PRZEZ NUMPY ---\n",
    "vectors = df_temp[\"abs_weights_list_clean\"].to_list()\n",
    "vectors = [[v for v in vec if v is not None] for vec in vectors]\n",
    "is_balanced = np.array([\n",
    "    np.all(np.array(vec) == vec[0]) if len(vec) > 0 else False for vec in vectors\n",
    "])\n",
    "\n",
    "df_temp_with_flag = df_temp.with_columns([\n",
    "    pl.Series(name=\"is_balanced\", values=is_balanced)\n",
    "])\n",
    "\n",
    "# --- MINIMUM DESTYMULANT ---\n",
    "min_expr = pl.min_horizontal([pl.col(c) for c in dest_cols])\n",
    "max_quality_expr = pl.max_horizontal([pl.col(c) for c in quality_cols])\n",
    "max_abs_expr = pl.max_horizontal([pl.col(c).abs() for c in all_weight_cols])\n",
    "\n",
    "# --- DODAJ max_quality_value, abs_device_cost, max_abs_weight ---\n",
    "df_temp_with_max = df_temp_with_flag.with_columns([\n",
    "    unique_param_expr().alias(\"unique_parameter\"),\n",
    "    max_quality_expr.alias(\"max_quality_value\"),\n",
    "    pl.col(\"device_cost\").abs().alias(\"abs_device_cost\"),\n",
    "    max_abs_expr.alias(\"max_abs_weight\")\n",
    "])\n",
    "\n",
    "# --- PRZYPISANIE PROFILU ---\n",
    "df_final = df_temp_with_max.with_columns([\n",
    "    # Balanced — wszystkie wagi identyczne\n",
    "    pl.when(pl.col(\"is_balanced\"))\n",
    "        .then(pl.lit(\"Balanced\"))\n",
    "\n",
    "    # QualitySeeker — największy wpływ ma jedna z quality_cols\n",
    "    .when(\n",
    "        (pl.col(\"is_balanced\") == False) &\n",
    "        (pl.col(\"max_quality_value\") == pl.col(\"max_abs_weight\")) &\n",
    "        (pl.col(\"max_quality_value\") > 0)\n",
    "    ).then(pl.lit(\"QualitySeeker\"))\n",
    "\n",
    "    # Bourgeois — największy wpływ ma dodatni device_cost\n",
    "    .when(\n",
    "        (pl.col(\"is_balanced\") == False) &\n",
    "        (pl.col(\"device_cost\") > 0) &\n",
    "        (pl.col(\"abs_device_cost\") == pl.col(\"max_abs_weight\"))\n",
    "    ).then(pl.lit(\"Bourgeois\"))\n",
    "\n",
    "    # Budget — największy wpływ ma ujemny device_cost\n",
    "    .when(\n",
    "        (pl.col(\"is_balanced\") == False) &\n",
    "        (pl.col(\"device_cost\") < 0) &\n",
    "        (pl.col(\"abs_device_cost\") == pl.col(\"max_abs_weight\"))\n",
    "    ).then(pl.lit(\"Budget\"))\n",
    "\n",
    "    # EcoFriendly — co2_emission_kg ma największy wpływ\n",
    "    .when(\n",
    "        (pl.col(\"is_balanced\") == False) &\n",
    "        (pl.col(\"co2_emission_kg\").abs() == pl.col(\"max_abs_weight\"))\n",
    "    ).then(pl.lit(\"EcoFriendly\"))\n",
    "\n",
    "    # Saver — cost_pln ma największy wpływ\n",
    "    .when(\n",
    "        (pl.col(\"is_balanced\") == False) &\n",
    "        (pl.col(\"cost_pln\").abs() == pl.col(\"max_abs_weight\"))\n",
    "    ).then(pl.lit(\"Saver\"))\n",
    "\n",
    "    # ComfortSeeker — normalized_comfort ma największy wpływ\n",
    "    .when(\n",
    "        (pl.col(\"is_balanced\") == False) &\n",
    "        (pl.col(\"normalized_comfort\").abs() == pl.col(\"max_abs_weight\"))\n",
    "    ).then(pl.lit(\"ComfortSeeker\"))\n",
    "\n",
    "    # RiskAware — normalized_failure_rate ma największy wpływ\n",
    "    .when(\n",
    "        (pl.col(\"is_balanced\") == False) &\n",
    "        (pl.col(\"normalized_failure_rate\").abs() == pl.col(\"max_abs_weight\"))\n",
    "    ).then(pl.lit(\"RiskAware\"))\n",
    "\n",
    "    # Fallback\n",
    "    .otherwise(pl.lit(\"Unknown\"))\n",
    "    .alias(\"profile\")\n",
    "])\n",
    "\n",
    "\n",
    "# --- CZYSZCZENIE ---\n",
    "df_final = df_final.drop([\n",
    "    \"abs_weights_list_clean\", \"is_balanced\", \"max_quality_value\", \"abs_device_cost\", \"max_abs_weight\"\n",
    "])\n"
   ]
  },
  {
   "cell_type": "code",
   "execution_count": 235,
   "id": "bdcccd19",
   "metadata": {},
   "outputs": [
    {
     "data": {
      "text/html": [
       "<div><style>\n",
       ".dataframe > thead > tr,\n",
       ".dataframe > tbody > tr {\n",
       "  text-align: right;\n",
       "  white-space: pre-wrap;\n",
       "}\n",
       "</style>\n",
       "<small>shape: (4, 13)</small><table border=\"1\" class=\"dataframe\"><thead><tr><th>cost_pln</th><th>co2_emission_kg</th><th>normalized_comfort</th><th>normalized_failure_rate</th><th>device_cost</th><th>heating_quality</th><th>optimal_device</th><th>optimal_score</th><th>cooling_quality</th><th>cooking_quality</th><th>computing_quality</th><th>abs_weights_list_clean</th><th>is_balanced</th></tr><tr><td>f64</td><td>f64</td><td>f64</td><td>f64</td><td>f64</td><td>f64</td><td>str</td><td>f64</td><td>f64</td><td>f64</td><td>f64</td><td>list[f64]</td><td>bool</td></tr></thead><tbody><tr><td>0.2</td><td>0.2</td><td>0.2</td><td>0.2</td><td>-0.2</td><td>null</td><td>&quot;Shower&quot;</td><td>0.2</td><td>null</td><td>null</td><td>null</td><td>[0.2, 0.2, … null]</td><td>true</td></tr><tr><td>0.2</td><td>0.2</td><td>0.2</td><td>0.2</td><td>-0.2</td><td>null</td><td>&quot;ElectricMokaPot&quot;</td><td>0.4</td><td>null</td><td>null</td><td>null</td><td>[0.2, 0.2, … null]</td><td>true</td></tr><tr><td>0.2</td><td>0.2</td><td>0.2</td><td>0.2</td><td>-0.2</td><td>null</td><td>&quot;GasHob&quot;</td><td>0.4</td><td>null</td><td>null</td><td>null</td><td>[0.2, 0.2, … null]</td><td>true</td></tr><tr><td>0.2</td><td>0.2</td><td>0.2</td><td>0.2</td><td>-0.2</td><td>null</td><td>&quot;FlowHeater&quot;</td><td>0.186117</td><td>null</td><td>null</td><td>null</td><td>[0.2, 0.2, … null]</td><td>true</td></tr></tbody></table></div>"
      ],
      "text/plain": [
       "shape: (4, 13)\n",
       "┌──────────┬───────────┬───────────┬───────────┬───┬───────────┬───────────┬───────────┬───────────┐\n",
       "│ cost_pln ┆ co2_emiss ┆ normalize ┆ normalize ┆ … ┆ cooking_q ┆ computing ┆ abs_weigh ┆ is_balanc │\n",
       "│ ---      ┆ ion_kg    ┆ d_comfort ┆ d_failure ┆   ┆ uality    ┆ _quality  ┆ ts_list_c ┆ ed        │\n",
       "│ f64      ┆ ---       ┆ ---       ┆ _rate     ┆   ┆ ---       ┆ ---       ┆ lean      ┆ ---       │\n",
       "│          ┆ f64       ┆ f64       ┆ ---       ┆   ┆ f64       ┆ f64       ┆ ---       ┆ bool      │\n",
       "│          ┆           ┆           ┆ f64       ┆   ┆           ┆           ┆ list[f64] ┆           │\n",
       "╞══════════╪═══════════╪═══════════╪═══════════╪═══╪═══════════╪═══════════╪═══════════╪═══════════╡\n",
       "│ 0.2      ┆ 0.2       ┆ 0.2       ┆ 0.2       ┆ … ┆ null      ┆ null      ┆ [0.2,     ┆ true      │\n",
       "│          ┆           ┆           ┆           ┆   ┆           ┆           ┆ 0.2, …    ┆           │\n",
       "│          ┆           ┆           ┆           ┆   ┆           ┆           ┆ null]     ┆           │\n",
       "│ 0.2      ┆ 0.2       ┆ 0.2       ┆ 0.2       ┆ … ┆ null      ┆ null      ┆ [0.2,     ┆ true      │\n",
       "│          ┆           ┆           ┆           ┆   ┆           ┆           ┆ 0.2, …    ┆           │\n",
       "│          ┆           ┆           ┆           ┆   ┆           ┆           ┆ null]     ┆           │\n",
       "│ 0.2      ┆ 0.2       ┆ 0.2       ┆ 0.2       ┆ … ┆ null      ┆ null      ┆ [0.2,     ┆ true      │\n",
       "│          ┆           ┆           ┆           ┆   ┆           ┆           ┆ 0.2, …    ┆           │\n",
       "│          ┆           ┆           ┆           ┆   ┆           ┆           ┆ null]     ┆           │\n",
       "│ 0.2      ┆ 0.2       ┆ 0.2       ┆ 0.2       ┆ … ┆ null      ┆ null      ┆ [0.2,     ┆ true      │\n",
       "│          ┆           ┆           ┆           ┆   ┆           ┆           ┆ 0.2, …    ┆           │\n",
       "│          ┆           ┆           ┆           ┆   ┆           ┆           ┆ null]     ┆           │\n",
       "└──────────┴───────────┴───────────┴───────────┴───┴───────────┴───────────┴───────────┴───────────┘"
      ]
     },
     "execution_count": 235,
     "metadata": {},
     "output_type": "execute_result"
    }
   ],
   "source": [
    "df_temp_with_flag.filter(pl.col(\"is_balanced\") == True)"
   ]
  },
  {
   "cell_type": "code",
   "execution_count": 240,
   "id": "7d422bd1",
   "metadata": {},
   "outputs": [
    {
     "data": {
      "text/html": [
       "<div><style>\n",
       ".dataframe > thead > tr,\n",
       ".dataframe > tbody > tr {\n",
       "  text-align: right;\n",
       "  white-space: pre-wrap;\n",
       "}\n",
       "</style>\n",
       "<small>shape: (0, 13)</small><table border=\"1\" class=\"dataframe\"><thead><tr><th>cost_pln</th><th>co2_emission_kg</th><th>normalized_comfort</th><th>normalized_failure_rate</th><th>device_cost</th><th>heating_quality</th><th>optimal_device</th><th>optimal_score</th><th>cooling_quality</th><th>cooking_quality</th><th>computing_quality</th><th>unique_parameter</th><th>inferred_profile</th></tr><tr><td>f64</td><td>f64</td><td>f64</td><td>f64</td><td>f64</td><td>f64</td><td>str</td><td>f64</td><td>f64</td><td>f64</td><td>f64</td><td>str</td><td>str</td></tr></thead><tbody></tbody></table></div>"
      ],
      "text/plain": [
       "shape: (0, 13)\n",
       "┌──────────┬───────────┬───────────┬───────────┬───┬───────────┬───────────┬───────────┬───────────┐\n",
       "│ cost_pln ┆ co2_emiss ┆ normalize ┆ normalize ┆ … ┆ cooking_q ┆ computing ┆ unique_pa ┆ inferred_ │\n",
       "│ ---      ┆ ion_kg    ┆ d_comfort ┆ d_failure ┆   ┆ uality    ┆ _quality  ┆ rameter   ┆ profile   │\n",
       "│ f64      ┆ ---       ┆ ---       ┆ _rate     ┆   ┆ ---       ┆ ---       ┆ ---       ┆ ---       │\n",
       "│          ┆ f64       ┆ f64       ┆ ---       ┆   ┆ f64       ┆ f64       ┆ str       ┆ str       │\n",
       "│          ┆           ┆           ┆ f64       ┆   ┆           ┆           ┆           ┆           │\n",
       "╞══════════╪═══════════╪═══════════╪═══════════╪═══╪═══════════╪═══════════╪═══════════╪═══════════╡\n",
       "└──────────┴───────────┴───────────┴───────────┴───┴───────────┴───────────┴───────────┴───────────┘"
      ]
     },
     "execution_count": 240,
     "metadata": {},
     "output_type": "execute_result"
    }
   ],
   "source": [
    "df_final.filter(pl.col(\"inferred_profile\").is_null())"
   ]
  },
  {
   "cell_type": "code",
   "execution_count": 244,
   "id": "babd54f2",
   "metadata": {},
   "outputs": [
    {
     "data": {
      "text/html": [
       "<div><style>\n",
       ".dataframe > thead > tr,\n",
       ".dataframe > tbody > tr {\n",
       "  text-align: right;\n",
       "  white-space: pre-wrap;\n",
       "}\n",
       "</style>\n",
       "<small>shape: (2, 2)</small><table border=\"1\" class=\"dataframe\"><thead><tr><th>optimal_device</th><th>count</th></tr><tr><td>str</td><td>u32</td></tr></thead><tbody><tr><td>&quot;GasHob&quot;</td><td>265</td></tr><tr><td>&quot;InductionHob&quot;</td><td>57</td></tr></tbody></table></div>"
      ],
      "text/plain": [
       "shape: (2, 2)\n",
       "┌────────────────┬───────┐\n",
       "│ optimal_device ┆ count │\n",
       "│ ---            ┆ ---   │\n",
       "│ str            ┆ u32   │\n",
       "╞════════════════╪═══════╡\n",
       "│ GasHob         ┆ 265   │\n",
       "│ InductionHob   ┆ 57    │\n",
       "└────────────────┴───────┘"
      ]
     },
     "execution_count": 244,
     "metadata": {},
     "output_type": "execute_result"
    }
   ],
   "source": [
    "df_final.filter((pl.col(\"inferred_profile\")== \"Saver\") & (pl.col(\"optimal_device\").is_in([\"GasHob\", \"InductionHob\"])))['optimal_device'].value_counts()"
   ]
  },
  {
   "cell_type": "code",
   "execution_count": null,
   "id": "d8322f33",
   "metadata": {},
   "outputs": [
    {
     "data": {
      "text/html": [
       "<div><style>\n",
       ".dataframe > thead > tr,\n",
       ".dataframe > tbody > tr {\n",
       "  text-align: right;\n",
       "  white-space: pre-wrap;\n",
       "}\n",
       "</style>\n",
       "<small>shape: (31_889, 13)</small><table border=\"1\" class=\"dataframe\"><thead><tr><th>cost_pln</th><th>co2_emission_kg</th><th>normalized_comfort</th><th>normalized_failure_rate</th><th>device_cost</th><th>heating_quality</th><th>optimal_device</th><th>optimal_score</th><th>cooling_quality</th><th>cooking_quality</th><th>computing_quality</th><th>unique_parameter</th><th>inferred_profile</th></tr><tr><td>f64</td><td>f64</td><td>f64</td><td>f64</td><td>f64</td><td>f64</td><td>str</td><td>f64</td><td>f64</td><td>f64</td><td>f64</td><td>str</td><td>str</td></tr></thead><tbody><tr><td>1.0</td><td>0.0</td><td>0.0</td><td>0.0</td><td>0.0</td><td>0.0</td><td>&quot;LadderHeater&quot;</td><td>0.0</td><td>null</td><td>null</td><td>null</td><td>&quot;heating_quality&quot;</td><td>&quot;Saver&quot;</td></tr><tr><td>0.9</td><td>0.1</td><td>0.0</td><td>0.0</td><td>0.0</td><td>0.0</td><td>&quot;LadderHeater&quot;</td><td>0.0</td><td>null</td><td>null</td><td>null</td><td>&quot;heating_quality&quot;</td><td>&quot;Saver&quot;</td></tr><tr><td>0.9</td><td>0.0</td><td>0.1</td><td>0.0</td><td>0.0</td><td>0.0</td><td>&quot;LadderHeater&quot;</td><td>0.1</td><td>null</td><td>null</td><td>null</td><td>&quot;heating_quality&quot;</td><td>&quot;Saver&quot;</td></tr><tr><td>0.9</td><td>0.0</td><td>0.0</td><td>0.1</td><td>0.0</td><td>0.0</td><td>&quot;LadderHeater&quot;</td><td>0.1</td><td>null</td><td>null</td><td>null</td><td>&quot;heating_quality&quot;</td><td>&quot;Saver&quot;</td></tr><tr><td>0.9</td><td>0.0</td><td>0.0</td><td>0.0</td><td>-0.1</td><td>0.0</td><td>&quot;LadderHeater&quot;</td><td>0.0</td><td>null</td><td>null</td><td>null</td><td>&quot;heating_quality&quot;</td><td>&quot;Saver&quot;</td></tr><tr><td>&hellip;</td><td>&hellip;</td><td>&hellip;</td><td>&hellip;</td><td>&hellip;</td><td>&hellip;</td><td>&hellip;</td><td>&hellip;</td><td>&hellip;</td><td>&hellip;</td><td>&hellip;</td><td>&hellip;</td><td>&hellip;</td></tr><tr><td>0.0</td><td>0.0</td><td>0.0</td><td>0.0</td><td>0.6</td><td>null</td><td>&quot;LaptopWithMonitor&quot;</td><td>-0.6</td><td>null</td><td>null</td><td>0.4</td><td>&quot;computing_quality&quot;</td><td>&quot;Bourgeois&quot;</td></tr><tr><td>0.0</td><td>0.0</td><td>0.0</td><td>0.0</td><td>0.7</td><td>null</td><td>&quot;LaptopWithMonitor&quot;</td><td>-0.7</td><td>null</td><td>null</td><td>0.3</td><td>&quot;computing_quality&quot;</td><td>&quot;Bourgeois&quot;</td></tr><tr><td>0.0</td><td>0.0</td><td>0.0</td><td>0.0</td><td>0.8</td><td>null</td><td>&quot;LaptopWithMonitor&quot;</td><td>-0.8</td><td>null</td><td>null</td><td>0.2</td><td>&quot;computing_quality&quot;</td><td>&quot;Bourgeois&quot;</td></tr><tr><td>0.0</td><td>0.0</td><td>0.0</td><td>0.0</td><td>0.9</td><td>null</td><td>&quot;LaptopWithMonitor&quot;</td><td>-0.9</td><td>null</td><td>null</td><td>0.1</td><td>&quot;computing_quality&quot;</td><td>&quot;Bourgeois&quot;</td></tr><tr><td>0.0</td><td>0.0</td><td>0.0</td><td>0.0</td><td>1.0</td><td>null</td><td>&quot;LaptopWithMonitor&quot;</td><td>-1.0</td><td>null</td><td>null</td><td>0.0</td><td>&quot;computing_quality&quot;</td><td>&quot;Bourgeois&quot;</td></tr></tbody></table></div>"
      ],
      "text/plain": [
       "shape: (31_889, 13)\n",
       "┌──────────┬───────────┬───────────┬───────────┬───┬───────────┬───────────┬───────────┬───────────┐\n",
       "│ cost_pln ┆ co2_emiss ┆ normalize ┆ normalize ┆ … ┆ cooking_q ┆ computing ┆ unique_pa ┆ inferred_ │\n",
       "│ ---      ┆ ion_kg    ┆ d_comfort ┆ d_failure ┆   ┆ uality    ┆ _quality  ┆ rameter   ┆ profile   │\n",
       "│ f64      ┆ ---       ┆ ---       ┆ _rate     ┆   ┆ ---       ┆ ---       ┆ ---       ┆ ---       │\n",
       "│          ┆ f64       ┆ f64       ┆ ---       ┆   ┆ f64       ┆ f64       ┆ str       ┆ str       │\n",
       "│          ┆           ┆           ┆ f64       ┆   ┆           ┆           ┆           ┆           │\n",
       "╞══════════╪═══════════╪═══════════╪═══════════╪═══╪═══════════╪═══════════╪═══════════╪═══════════╡\n",
       "│ 1.0      ┆ 0.0       ┆ 0.0       ┆ 0.0       ┆ … ┆ null      ┆ null      ┆ heating_q ┆ Saver     │\n",
       "│          ┆           ┆           ┆           ┆   ┆           ┆           ┆ uality    ┆           │\n",
       "│ 0.9      ┆ 0.1       ┆ 0.0       ┆ 0.0       ┆ … ┆ null      ┆ null      ┆ heating_q ┆ Saver     │\n",
       "│          ┆           ┆           ┆           ┆   ┆           ┆           ┆ uality    ┆           │\n",
       "│ 0.9      ┆ 0.0       ┆ 0.1       ┆ 0.0       ┆ … ┆ null      ┆ null      ┆ heating_q ┆ Saver     │\n",
       "│          ┆           ┆           ┆           ┆   ┆           ┆           ┆ uality    ┆           │\n",
       "│ 0.9      ┆ 0.0       ┆ 0.0       ┆ 0.1       ┆ … ┆ null      ┆ null      ┆ heating_q ┆ Saver     │\n",
       "│          ┆           ┆           ┆           ┆   ┆           ┆           ┆ uality    ┆           │\n",
       "│ 0.9      ┆ 0.0       ┆ 0.0       ┆ 0.0       ┆ … ┆ null      ┆ null      ┆ heating_q ┆ Saver     │\n",
       "│          ┆           ┆           ┆           ┆   ┆           ┆           ┆ uality    ┆           │\n",
       "│ …        ┆ …         ┆ …         ┆ …         ┆ … ┆ …         ┆ …         ┆ …         ┆ …         │\n",
       "│ 0.0      ┆ 0.0       ┆ 0.0       ┆ 0.0       ┆ … ┆ null      ┆ 0.4       ┆ computing ┆ Bourgeois │\n",
       "│          ┆           ┆           ┆           ┆   ┆           ┆           ┆ _quality  ┆           │\n",
       "│ 0.0      ┆ 0.0       ┆ 0.0       ┆ 0.0       ┆ … ┆ null      ┆ 0.3       ┆ computing ┆ Bourgeois │\n",
       "│          ┆           ┆           ┆           ┆   ┆           ┆           ┆ _quality  ┆           │\n",
       "│ 0.0      ┆ 0.0       ┆ 0.0       ┆ 0.0       ┆ … ┆ null      ┆ 0.2       ┆ computing ┆ Bourgeois │\n",
       "│          ┆           ┆           ┆           ┆   ┆           ┆           ┆ _quality  ┆           │\n",
       "│ 0.0      ┆ 0.0       ┆ 0.0       ┆ 0.0       ┆ … ┆ null      ┆ 0.1       ┆ computing ┆ Bourgeois │\n",
       "│          ┆           ┆           ┆           ┆   ┆           ┆           ┆ _quality  ┆           │\n",
       "│ 0.0      ┆ 0.0       ┆ 0.0       ┆ 0.0       ┆ … ┆ null      ┆ 0.0       ┆ computing ┆ Bourgeois │\n",
       "│          ┆           ┆           ┆           ┆   ┆           ┆           ┆ _quality  ┆           │\n",
       "└──────────┴───────────┴───────────┴───────────┴───┴───────────┴───────────┴───────────┴───────────┘"
      ]
     },
     "execution_count": 245,
     "metadata": {},
     "output_type": "execute_result"
    }
   ],
   "source": [
    "df_final.write_parquet(folder / \"grid_user_profile.parquet\")"
   ]
  },
  {
   "cell_type": "code",
   "execution_count": 256,
   "id": "f362fb3e",
   "metadata": {},
   "outputs": [],
   "source": [
    "N = 3\n",
    "\n",
    "profiles = df_saved.select(\"profile\").unique().to_series().to_list()\n",
    "\n",
    "\n",
    "sampled_dfs = [\n",
    "    df_saved.filter(pl.col(\"profile\") == profile).sample(n=N, with_replacement=False)\n",
    "    for profile in profiles\n",
    "]\n",
    "\n",
    "\n",
    "df_samples_saved = pl.concat(sampled_dfs)\n"
   ]
  },
  {
   "cell_type": "code",
   "execution_count": 248,
   "id": "ebad09d2",
   "metadata": {},
   "outputs": [],
   "source": [
    "df_final.write_parquet(folder / \"grid_with_profiles.parquet\")"
   ]
  },
  {
   "cell_type": "code",
   "execution_count": 257,
   "id": "7746cbdc",
   "metadata": {},
   "outputs": [
    {
     "data": {
      "text/html": [
       "<div><style>\n",
       ".dataframe > thead > tr,\n",
       ".dataframe > tbody > tr {\n",
       "  text-align: right;\n",
       "  white-space: pre-wrap;\n",
       "}\n",
       "</style>\n",
       "<small>shape: (24, 13)</small><table border=\"1\" class=\"dataframe\"><thead><tr><th>cost_pln</th><th>co2_emission_kg</th><th>normalized_comfort</th><th>normalized_failure_rate</th><th>device_cost</th><th>heating_quality</th><th>optimal_device</th><th>optimal_score</th><th>cooling_quality</th><th>cooking_quality</th><th>computing_quality</th><th>unique_parameter</th><th>inferred_profile</th></tr><tr><td>f64</td><td>f64</td><td>f64</td><td>f64</td><td>f64</td><td>f64</td><td>str</td><td>f64</td><td>f64</td><td>f64</td><td>f64</td><td>str</td><td>str</td></tr></thead><tbody><tr><td>0.2</td><td>0.2</td><td>0.2</td><td>0.2</td><td>-0.2</td><td>null</td><td>&quot;Shower&quot;</td><td>0.2</td><td>null</td><td>null</td><td>null</td><td>null</td><td>&quot;Balanced&quot;</td></tr><tr><td>0.2</td><td>0.2</td><td>0.2</td><td>0.2</td><td>-0.2</td><td>null</td><td>&quot;FlowHeater&quot;</td><td>0.186117</td><td>null</td><td>null</td><td>null</td><td>null</td><td>&quot;Balanced&quot;</td></tr><tr><td>0.2</td><td>0.2</td><td>0.2</td><td>0.2</td><td>-0.2</td><td>null</td><td>&quot;GasHob&quot;</td><td>0.4</td><td>null</td><td>null</td><td>null</td><td>null</td><td>&quot;Balanced&quot;</td></tr><tr><td>0.1</td><td>0.0</td><td>0.5</td><td>0.0</td><td>-0.4</td><td>null</td><td>&quot;CoffeeMachine&quot;</td><td>0.5</td><td>null</td><td>null</td><td>null</td><td>null</td><td>&quot;ComfortSeeker&quot;</td></tr><tr><td>0.0</td><td>0.0</td><td>0.6</td><td>0.1</td><td>0.3</td><td>0.0</td><td>&quot;Microwave&quot;</td><td>0.0</td><td>null</td><td>null</td><td>null</td><td>&quot;heating_quality&quot;</td><td>&quot;ComfortSeeker&quot;</td></tr><tr><td>&hellip;</td><td>&hellip;</td><td>&hellip;</td><td>&hellip;</td><td>&hellip;</td><td>&hellip;</td><td>&hellip;</td><td>&hellip;</td><td>&hellip;</td><td>&hellip;</td><td>&hellip;</td><td>&hellip;</td><td>&hellip;</td></tr><tr><td>0.0</td><td>0.1</td><td>0.3</td><td>0.3</td><td>-0.3</td><td>0.0</td><td>&quot;FloorHeating&quot;</td><td>0.4</td><td>null</td><td>null</td><td>null</td><td>&quot;heating_quality&quot;</td><td>&quot;Budget&quot;</td></tr><tr><td>0.0</td><td>0.3</td><td>0.3</td><td>0.0</td><td>-0.4</td><td>null</td><td>&quot;Shower&quot;</td><td>0.3</td><td>null</td><td>null</td><td>null</td><td>null</td><td>&quot;Budget&quot;</td></tr><tr><td>0.1</td><td>0.0</td><td>0.4</td><td>0.5</td><td>0.0</td><td>null</td><td>&quot;CoffeeMachine&quot;</td><td>0.1</td><td>null</td><td>null</td><td>null</td><td>null</td><td>&quot;RiskAware&quot;</td></tr><tr><td>0.0</td><td>0.3</td><td>0.1</td><td>0.5</td><td>0.0</td><td>null</td><td>&quot;DesktopComputer&quot;</td><td>0.3</td><td>null</td><td>null</td><td>0.1</td><td>&quot;computing_quality&quot;</td><td>&quot;RiskAware&quot;</td></tr><tr><td>0.0</td><td>0.0</td><td>0.2</td><td>0.6</td><td>0.2</td><td>0.0</td><td>&quot;Microwave&quot;</td><td>0.0</td><td>null</td><td>null</td><td>null</td><td>&quot;heating_quality&quot;</td><td>&quot;RiskAware&quot;</td></tr></tbody></table></div>"
      ],
      "text/plain": [
       "shape: (24, 13)\n",
       "┌──────────┬───────────┬───────────┬───────────┬───┬───────────┬───────────┬───────────┬───────────┐\n",
       "│ cost_pln ┆ co2_emiss ┆ normalize ┆ normalize ┆ … ┆ cooking_q ┆ computing ┆ unique_pa ┆ inferred_ │\n",
       "│ ---      ┆ ion_kg    ┆ d_comfort ┆ d_failure ┆   ┆ uality    ┆ _quality  ┆ rameter   ┆ profile   │\n",
       "│ f64      ┆ ---       ┆ ---       ┆ _rate     ┆   ┆ ---       ┆ ---       ┆ ---       ┆ ---       │\n",
       "│          ┆ f64       ┆ f64       ┆ ---       ┆   ┆ f64       ┆ f64       ┆ str       ┆ str       │\n",
       "│          ┆           ┆           ┆ f64       ┆   ┆           ┆           ┆           ┆           │\n",
       "╞══════════╪═══════════╪═══════════╪═══════════╪═══╪═══════════╪═══════════╪═══════════╪═══════════╡\n",
       "│ 0.2      ┆ 0.2       ┆ 0.2       ┆ 0.2       ┆ … ┆ null      ┆ null      ┆ null      ┆ Balanced  │\n",
       "│ 0.2      ┆ 0.2       ┆ 0.2       ┆ 0.2       ┆ … ┆ null      ┆ null      ┆ null      ┆ Balanced  │\n",
       "│ 0.2      ┆ 0.2       ┆ 0.2       ┆ 0.2       ┆ … ┆ null      ┆ null      ┆ null      ┆ Balanced  │\n",
       "│ 0.1      ┆ 0.0       ┆ 0.5       ┆ 0.0       ┆ … ┆ null      ┆ null      ┆ null      ┆ ComfortSe │\n",
       "│          ┆           ┆           ┆           ┆   ┆           ┆           ┆           ┆ eker      │\n",
       "│ 0.0      ┆ 0.0       ┆ 0.6       ┆ 0.1       ┆ … ┆ null      ┆ null      ┆ heating_q ┆ ComfortSe │\n",
       "│          ┆           ┆           ┆           ┆   ┆           ┆           ┆ uality    ┆ eker      │\n",
       "│ …        ┆ …         ┆ …         ┆ …         ┆ … ┆ …         ┆ …         ┆ …         ┆ …         │\n",
       "│ 0.0      ┆ 0.1       ┆ 0.3       ┆ 0.3       ┆ … ┆ null      ┆ null      ┆ heating_q ┆ Budget    │\n",
       "│          ┆           ┆           ┆           ┆   ┆           ┆           ┆ uality    ┆           │\n",
       "│ 0.0      ┆ 0.3       ┆ 0.3       ┆ 0.0       ┆ … ┆ null      ┆ null      ┆ null      ┆ Budget    │\n",
       "│ 0.1      ┆ 0.0       ┆ 0.4       ┆ 0.5       ┆ … ┆ null      ┆ null      ┆ null      ┆ RiskAware │\n",
       "│ 0.0      ┆ 0.3       ┆ 0.1       ┆ 0.5       ┆ … ┆ null      ┆ 0.1       ┆ computing ┆ RiskAware │\n",
       "│          ┆           ┆           ┆           ┆   ┆           ┆           ┆ _quality  ┆           │\n",
       "│ 0.0      ┆ 0.0       ┆ 0.2       ┆ 0.6       ┆ … ┆ null      ┆ null      ┆ heating_q ┆ RiskAware │\n",
       "│          ┆           ┆           ┆           ┆   ┆           ┆           ┆ uality    ┆           │\n",
       "└──────────┴───────────┴───────────┴───────────┴───┴───────────┴───────────┴───────────┴───────────┘"
      ]
     },
     "execution_count": 257,
     "metadata": {},
     "output_type": "execute_result"
    }
   ],
   "source": [
    "df_samples"
   ]
  },
  {
   "cell_type": "code",
   "execution_count": 258,
   "id": "7fceb2a9",
   "metadata": {},
   "outputs": [
    {
     "data": {
      "text/html": [
       "<div><style>\n",
       ".dataframe > thead > tr,\n",
       ".dataframe > tbody > tr {\n",
       "  text-align: right;\n",
       "  white-space: pre-wrap;\n",
       "}\n",
       "</style>\n",
       "<small>shape: (24, 13)</small><table border=\"1\" class=\"dataframe\"><thead><tr><th>cost_pln</th><th>co2_emission_kg</th><th>normalized_comfort</th><th>normalized_failure_rate</th><th>device_cost</th><th>heating_quality</th><th>optimal_device</th><th>optimal_score</th><th>cooling_quality</th><th>cooking_quality</th><th>computing_quality</th><th>unique_parameter</th><th>profile</th></tr><tr><td>f64</td><td>f64</td><td>f64</td><td>f64</td><td>f64</td><td>f64</td><td>str</td><td>f64</td><td>f64</td><td>f64</td><td>f64</td><td>str</td><td>str</td></tr></thead><tbody><tr><td>0.0</td><td>0.0</td><td>0.2</td><td>0.6</td><td>-0.1</td><td>0.1</td><td>&quot;Microwave&quot;</td><td>0.0</td><td>null</td><td>null</td><td>null</td><td>&quot;heating_quality&quot;</td><td>&quot;RiskAware&quot;</td></tr><tr><td>0.1</td><td>0.2</td><td>0.1</td><td>0.3</td><td>-0.2</td><td>0.1</td><td>&quot;Microwave&quot;</td><td>0.0</td><td>null</td><td>null</td><td>null</td><td>&quot;heating_quality&quot;</td><td>&quot;RiskAware&quot;</td></tr><tr><td>0.2</td><td>0.2</td><td>0.0</td><td>0.3</td><td>-0.2</td><td>null</td><td>&quot;ThermomixTM6&quot;</td><td>0.0</td><td>null</td><td>0.1</td><td>null</td><td>&quot;cooking_quality&quot;</td><td>&quot;RiskAware&quot;</td></tr><tr><td>0.2</td><td>0.6</td><td>0.2</td><td>0.0</td><td>0.0</td><td>null</td><td>&quot;ThermomixTM6&quot;</td><td>0.0</td><td>null</td><td>0.0</td><td>null</td><td>&quot;cooking_quality&quot;</td><td>&quot;EcoFriendly&quot;</td></tr><tr><td>0.0</td><td>0.4</td><td>0.2</td><td>0.0</td><td>-0.2</td><td>0.2</td><td>&quot;Microwave&quot;</td><td>0.0</td><td>null</td><td>null</td><td>null</td><td>&quot;heating_quality&quot;</td><td>&quot;EcoFriendly&quot;</td></tr><tr><td>&hellip;</td><td>&hellip;</td><td>&hellip;</td><td>&hellip;</td><td>&hellip;</td><td>&hellip;</td><td>&hellip;</td><td>&hellip;</td><td>&hellip;</td><td>&hellip;</td><td>&hellip;</td><td>&hellip;</td><td>&hellip;</td></tr><tr><td>0.3</td><td>0.1</td><td>0.0</td><td>0.2</td><td>-0.4</td><td>0.0</td><td>&quot;Microwave&quot;</td><td>0.0</td><td>null</td><td>null</td><td>null</td><td>&quot;heating_quality&quot;</td><td>&quot;Budget&quot;</td></tr><tr><td>0.3</td><td>0.3</td><td>0.0</td><td>0.0</td><td>-0.3</td><td>null</td><td>&quot;ThermomixTM6&quot;</td><td>0.0</td><td>null</td><td>0.1</td><td>null</td><td>&quot;cooking_quality&quot;</td><td>&quot;Budget&quot;</td></tr><tr><td>0.0</td><td>0.0</td><td>0.7</td><td>0.3</td><td>0.0</td><td>null</td><td>&quot;AirConditioner&quot;</td><td>0.3</td><td>0.0</td><td>null</td><td>null</td><td>&quot;cooling_quality&quot;</td><td>&quot;ComfortSeeker&quot;</td></tr><tr><td>0.2</td><td>0.0</td><td>0.5</td><td>0.1</td><td>0.1</td><td>null</td><td>&quot;LaptopWithMonitor&quot;</td><td>-1.1102e-16</td><td>null</td><td>null</td><td>0.1</td><td>&quot;computing_quality&quot;</td><td>&quot;ComfortSeeker&quot;</td></tr><tr><td>0.2</td><td>0.0</td><td>0.4</td><td>0.0</td><td>-0.1</td><td>null</td><td>&quot;LaptopWithMonitor&quot;</td><td>0.1</td><td>null</td><td>null</td><td>0.3</td><td>&quot;computing_quality&quot;</td><td>&quot;ComfortSeeker&quot;</td></tr></tbody></table></div>"
      ],
      "text/plain": [
       "shape: (24, 13)\n",
       "┌──────────┬───────────┬───────────┬───────────┬───┬───────────┬───────────┬───────────┬───────────┐\n",
       "│ cost_pln ┆ co2_emiss ┆ normalize ┆ normalize ┆ … ┆ cooking_q ┆ computing ┆ unique_pa ┆ profile   │\n",
       "│ ---      ┆ ion_kg    ┆ d_comfort ┆ d_failure ┆   ┆ uality    ┆ _quality  ┆ rameter   ┆ ---       │\n",
       "│ f64      ┆ ---       ┆ ---       ┆ _rate     ┆   ┆ ---       ┆ ---       ┆ ---       ┆ str       │\n",
       "│          ┆ f64       ┆ f64       ┆ ---       ┆   ┆ f64       ┆ f64       ┆ str       ┆           │\n",
       "│          ┆           ┆           ┆ f64       ┆   ┆           ┆           ┆           ┆           │\n",
       "╞══════════╪═══════════╪═══════════╪═══════════╪═══╪═══════════╪═══════════╪═══════════╪═══════════╡\n",
       "│ 0.0      ┆ 0.0       ┆ 0.2       ┆ 0.6       ┆ … ┆ null      ┆ null      ┆ heating_q ┆ RiskAware │\n",
       "│          ┆           ┆           ┆           ┆   ┆           ┆           ┆ uality    ┆           │\n",
       "│ 0.1      ┆ 0.2       ┆ 0.1       ┆ 0.3       ┆ … ┆ null      ┆ null      ┆ heating_q ┆ RiskAware │\n",
       "│          ┆           ┆           ┆           ┆   ┆           ┆           ┆ uality    ┆           │\n",
       "│ 0.2      ┆ 0.2       ┆ 0.0       ┆ 0.3       ┆ … ┆ 0.1       ┆ null      ┆ cooking_q ┆ RiskAware │\n",
       "│          ┆           ┆           ┆           ┆   ┆           ┆           ┆ uality    ┆           │\n",
       "│ 0.2      ┆ 0.6       ┆ 0.2       ┆ 0.0       ┆ … ┆ 0.0       ┆ null      ┆ cooking_q ┆ EcoFriend │\n",
       "│          ┆           ┆           ┆           ┆   ┆           ┆           ┆ uality    ┆ ly        │\n",
       "│ 0.0      ┆ 0.4       ┆ 0.2       ┆ 0.0       ┆ … ┆ null      ┆ null      ┆ heating_q ┆ EcoFriend │\n",
       "│          ┆           ┆           ┆           ┆   ┆           ┆           ┆ uality    ┆ ly        │\n",
       "│ …        ┆ …         ┆ …         ┆ …         ┆ … ┆ …         ┆ …         ┆ …         ┆ …         │\n",
       "│ 0.3      ┆ 0.1       ┆ 0.0       ┆ 0.2       ┆ … ┆ null      ┆ null      ┆ heating_q ┆ Budget    │\n",
       "│          ┆           ┆           ┆           ┆   ┆           ┆           ┆ uality    ┆           │\n",
       "│ 0.3      ┆ 0.3       ┆ 0.0       ┆ 0.0       ┆ … ┆ 0.1       ┆ null      ┆ cooking_q ┆ Budget    │\n",
       "│          ┆           ┆           ┆           ┆   ┆           ┆           ┆ uality    ┆           │\n",
       "│ 0.0      ┆ 0.0       ┆ 0.7       ┆ 0.3       ┆ … ┆ null      ┆ null      ┆ cooling_q ┆ ComfortSe │\n",
       "│          ┆           ┆           ┆           ┆   ┆           ┆           ┆ uality    ┆ eker      │\n",
       "│ 0.2      ┆ 0.0       ┆ 0.5       ┆ 0.1       ┆ … ┆ null      ┆ 0.1       ┆ computing ┆ ComfortSe │\n",
       "│          ┆           ┆           ┆           ┆   ┆           ┆           ┆ _quality  ┆ eker      │\n",
       "│ 0.2      ┆ 0.0       ┆ 0.4       ┆ 0.0       ┆ … ┆ null      ┆ 0.3       ┆ computing ┆ ComfortSe │\n",
       "│          ┆           ┆           ┆           ┆   ┆           ┆           ┆ _quality  ┆ eker      │\n",
       "└──────────┴───────────┴───────────┴───────────┴───┴───────────┴───────────┴───────────┴───────────┘"
      ]
     },
     "execution_count": 258,
     "metadata": {},
     "output_type": "execute_result"
    }
   ],
   "source": [
    "df_samples_saved"
   ]
  },
  {
   "cell_type": "code",
   "execution_count": null,
   "id": "f09a82da",
   "metadata": {},
   "outputs": [],
   "source": [
    "\"\"\" \n",
    "co2_emission_kg: destymulanta \n",
    "cost_pln: destymulanta\n",
    "normalized_comfort: destymulanta\n",
    "normalized_failure_rate: destymulanta\n",
    "device_cost: destymulanta\n",
    "unique_parameter: stymulanta\n",
    "\n",
    "Tzn 1 oznacza pierwsze miejsce w sortowaniu od najmniejszej do największej wartości wg wagi,\n",
    "Moduł z wagi oznacza jej ważność zaś + lub - oznacza czy jest to stymulanta czy destymulanta. \n",
    "\"\"\"\n",
    "\n",
    "USER_PROFILES = {\n",
    "    \"EcoFriendly\": {\n",
    "        \"co2_emission_kg\": 1,                     # zawsze 1\n",
    "        \"cost_pln\": [2, 3, 4, 5, 6],\n",
    "        \"normalized_comfort\": [2, 3, 4, 5, 6],\n",
    "        \"normalized_failure_rate\": [2, 3, 4, 5, 6],\n",
    "        \"device_cost\": [2, 3, 4, 5, 6],\n",
    "        \"unique_parameter\": [2, 3, 4, 5, 6]\n",
    "    },\n",
    "    \"Saver\": {\n",
    "        \"co2_emission_kg\": [2, 3, 4, 5, 6],\n",
    "        \"cost_pln\": 1,                            # zawsze 1\n",
    "        \"normalized_comfort\": [2, 3, 4, 5, 6],\n",
    "        \"normalized_failure_rate\": [2, 3, 4, 5, 6],\n",
    "        \"device_cost\": [2, 3, 4, 5, 6],\n",
    "        \"unique_parameter\": [2, 3, 4, 5, 6]\n",
    "    },\n",
    "    \"ComfortSeeker\": {\n",
    "        \"co2_emission_kg\": [2, 3, 4, 5, 6],\n",
    "        \"cost_pln\": [2, 3, 4, 5, 6],\n",
    "        \"normalized_comfort\": 1,                  # zawsze 1\n",
    "        \"normalized_failure_rate\": [2, 3, 4, 5, 6],\n",
    "        \"device_cost\": [2, 3, 4, 5, 6],\n",
    "        \"unique_parameter\": [2, 3, 4, 5, 6]\n",
    "    },\n",
    "    \"Balanced\": {\n",
    "        \"co2_emission_kg\": [1, 2, 3, 4, 5, 6],\n",
    "        \"cost_pln\": [1, 2, 3, 4, 5, 6],\n",
    "        \"normalized_comfort\": [1, 2, 3, 4, 5, 6],\n",
    "        \"normalized_failure_rate\": [1, 2, 3, 4, 5, 6],\n",
    "        \"device_cost\": [1, 2, 3, 4, 5, 6],\n",
    "        \"unique_parameter\": [1, 2, 3, 4, 5, 6]\n",
    "    },\n",
    "    \"QualitySeeker\": {\n",
    "        \"co2_emission_kg\": [1, 2, 3, 4, 6],\n",
    "        \"cost_pln\": [1, 2, 3, 4, 6],\n",
    "        \"normalized_comfort\": [1, 2, 3, 4, 6],\n",
    "        \"normalized_failure_rate\": [1, 2, 3, 4, 6],\n",
    "        \"device_cost\": [1, 2, 3, 4, 6],\n",
    "        \"unique_parameter\": 5                     # zawsze 5\n",
    "    },\n",
    "    \"Budget\": {\n",
    "        \"co2_emission_kg\": [2, 3, 4, 5, 6],\n",
    "        \"cost_pln\": [2, 3, 4, 5, 6],\n",
    "        \"normalized_comfort\": [2, 3, 4, 5, 6],\n",
    "        \"normalized_failure_rate\": [2, 3, 4, 5, 6],\n",
    "        \"device_cost\": 1,                         # zawsze 1\n",
    "        \"unique_parameter\": [2, 3, 4, 5, 6]\n",
    "    },\n",
    "    \"RiskAware\": {\n",
    "        \"co2_emission_kg\": [2, 3, 4, 5, 6],\n",
    "        \"cost_pln\": [2, 3, 4, 5, 6],\n",
    "        \"normalized_comfort\": [2, 3, 4, 5, 6],\n",
    "        \"normalized_failure_rate\": 1,             # zawsze 1\n",
    "        \"device_cost\": [2, 3, 4, 5, 6],\n",
    "        \"unique_parameter\": [2, 3, 4, 5, 6]\n",
    "    }\n",
    "}\n",
    "czy"
   ]
  },
  {
   "cell_type": "code",
   "execution_count": 249,
   "id": "45f27ef3",
   "metadata": {},
   "outputs": [
    {
     "data": {
      "text/html": [
       "<div><style>\n",
       ".dataframe > thead > tr,\n",
       ".dataframe > tbody > tr {\n",
       "  text-align: right;\n",
       "  white-space: pre-wrap;\n",
       "}\n",
       "</style>\n",
       "<small>shape: (31_889, 13)</small><table border=\"1\" class=\"dataframe\"><thead><tr><th>cost_pln</th><th>co2_emission_kg</th><th>normalized_comfort</th><th>normalized_failure_rate</th><th>device_cost</th><th>heating_quality</th><th>optimal_device</th><th>optimal_score</th><th>cooling_quality</th><th>cooking_quality</th><th>computing_quality</th><th>unique_parameter</th><th>profile</th></tr><tr><td>f64</td><td>f64</td><td>f64</td><td>f64</td><td>f64</td><td>f64</td><td>str</td><td>f64</td><td>f64</td><td>f64</td><td>f64</td><td>str</td><td>str</td></tr></thead><tbody><tr><td>1.0</td><td>0.0</td><td>0.0</td><td>0.0</td><td>0.0</td><td>0.0</td><td>&quot;LadderHeater&quot;</td><td>0.0</td><td>null</td><td>null</td><td>null</td><td>&quot;heating_quality&quot;</td><td>&quot;Saver&quot;</td></tr><tr><td>0.9</td><td>0.1</td><td>0.0</td><td>0.0</td><td>0.0</td><td>0.0</td><td>&quot;LadderHeater&quot;</td><td>0.0</td><td>null</td><td>null</td><td>null</td><td>&quot;heating_quality&quot;</td><td>&quot;Saver&quot;</td></tr><tr><td>0.9</td><td>0.0</td><td>0.1</td><td>0.0</td><td>0.0</td><td>0.0</td><td>&quot;LadderHeater&quot;</td><td>0.1</td><td>null</td><td>null</td><td>null</td><td>&quot;heating_quality&quot;</td><td>&quot;Saver&quot;</td></tr><tr><td>0.9</td><td>0.0</td><td>0.0</td><td>0.1</td><td>0.0</td><td>0.0</td><td>&quot;LadderHeater&quot;</td><td>0.1</td><td>null</td><td>null</td><td>null</td><td>&quot;heating_quality&quot;</td><td>&quot;Saver&quot;</td></tr><tr><td>0.9</td><td>0.0</td><td>0.0</td><td>0.0</td><td>-0.1</td><td>0.0</td><td>&quot;LadderHeater&quot;</td><td>0.0</td><td>null</td><td>null</td><td>null</td><td>&quot;heating_quality&quot;</td><td>&quot;Saver&quot;</td></tr><tr><td>&hellip;</td><td>&hellip;</td><td>&hellip;</td><td>&hellip;</td><td>&hellip;</td><td>&hellip;</td><td>&hellip;</td><td>&hellip;</td><td>&hellip;</td><td>&hellip;</td><td>&hellip;</td><td>&hellip;</td><td>&hellip;</td></tr><tr><td>0.0</td><td>0.0</td><td>0.0</td><td>0.0</td><td>0.6</td><td>null</td><td>&quot;LaptopWithMonitor&quot;</td><td>-0.6</td><td>null</td><td>null</td><td>0.4</td><td>&quot;computing_quality&quot;</td><td>&quot;Bourgeois&quot;</td></tr><tr><td>0.0</td><td>0.0</td><td>0.0</td><td>0.0</td><td>0.7</td><td>null</td><td>&quot;LaptopWithMonitor&quot;</td><td>-0.7</td><td>null</td><td>null</td><td>0.3</td><td>&quot;computing_quality&quot;</td><td>&quot;Bourgeois&quot;</td></tr><tr><td>0.0</td><td>0.0</td><td>0.0</td><td>0.0</td><td>0.8</td><td>null</td><td>&quot;LaptopWithMonitor&quot;</td><td>-0.8</td><td>null</td><td>null</td><td>0.2</td><td>&quot;computing_quality&quot;</td><td>&quot;Bourgeois&quot;</td></tr><tr><td>0.0</td><td>0.0</td><td>0.0</td><td>0.0</td><td>0.9</td><td>null</td><td>&quot;LaptopWithMonitor&quot;</td><td>-0.9</td><td>null</td><td>null</td><td>0.1</td><td>&quot;computing_quality&quot;</td><td>&quot;Bourgeois&quot;</td></tr><tr><td>0.0</td><td>0.0</td><td>0.0</td><td>0.0</td><td>1.0</td><td>null</td><td>&quot;LaptopWithMonitor&quot;</td><td>-1.0</td><td>null</td><td>null</td><td>0.0</td><td>&quot;computing_quality&quot;</td><td>&quot;Bourgeois&quot;</td></tr></tbody></table></div>"
      ],
      "text/plain": [
       "shape: (31_889, 13)\n",
       "┌──────────┬───────────┬───────────┬───────────┬───┬───────────┬───────────┬───────────┬───────────┐\n",
       "│ cost_pln ┆ co2_emiss ┆ normalize ┆ normalize ┆ … ┆ cooking_q ┆ computing ┆ unique_pa ┆ profile   │\n",
       "│ ---      ┆ ion_kg    ┆ d_comfort ┆ d_failure ┆   ┆ uality    ┆ _quality  ┆ rameter   ┆ ---       │\n",
       "│ f64      ┆ ---       ┆ ---       ┆ _rate     ┆   ┆ ---       ┆ ---       ┆ ---       ┆ str       │\n",
       "│          ┆ f64       ┆ f64       ┆ ---       ┆   ┆ f64       ┆ f64       ┆ str       ┆           │\n",
       "│          ┆           ┆           ┆ f64       ┆   ┆           ┆           ┆           ┆           │\n",
       "╞══════════╪═══════════╪═══════════╪═══════════╪═══╪═══════════╪═══════════╪═══════════╪═══════════╡\n",
       "│ 1.0      ┆ 0.0       ┆ 0.0       ┆ 0.0       ┆ … ┆ null      ┆ null      ┆ heating_q ┆ Saver     │\n",
       "│          ┆           ┆           ┆           ┆   ┆           ┆           ┆ uality    ┆           │\n",
       "│ 0.9      ┆ 0.1       ┆ 0.0       ┆ 0.0       ┆ … ┆ null      ┆ null      ┆ heating_q ┆ Saver     │\n",
       "│          ┆           ┆           ┆           ┆   ┆           ┆           ┆ uality    ┆           │\n",
       "│ 0.9      ┆ 0.0       ┆ 0.1       ┆ 0.0       ┆ … ┆ null      ┆ null      ┆ heating_q ┆ Saver     │\n",
       "│          ┆           ┆           ┆           ┆   ┆           ┆           ┆ uality    ┆           │\n",
       "│ 0.9      ┆ 0.0       ┆ 0.0       ┆ 0.1       ┆ … ┆ null      ┆ null      ┆ heating_q ┆ Saver     │\n",
       "│          ┆           ┆           ┆           ┆   ┆           ┆           ┆ uality    ┆           │\n",
       "│ 0.9      ┆ 0.0       ┆ 0.0       ┆ 0.0       ┆ … ┆ null      ┆ null      ┆ heating_q ┆ Saver     │\n",
       "│          ┆           ┆           ┆           ┆   ┆           ┆           ┆ uality    ┆           │\n",
       "│ …        ┆ …         ┆ …         ┆ …         ┆ … ┆ …         ┆ …         ┆ …         ┆ …         │\n",
       "│ 0.0      ┆ 0.0       ┆ 0.0       ┆ 0.0       ┆ … ┆ null      ┆ 0.4       ┆ computing ┆ Bourgeois │\n",
       "│          ┆           ┆           ┆           ┆   ┆           ┆           ┆ _quality  ┆           │\n",
       "│ 0.0      ┆ 0.0       ┆ 0.0       ┆ 0.0       ┆ … ┆ null      ┆ 0.3       ┆ computing ┆ Bourgeois │\n",
       "│          ┆           ┆           ┆           ┆   ┆           ┆           ┆ _quality  ┆           │\n",
       "│ 0.0      ┆ 0.0       ┆ 0.0       ┆ 0.0       ┆ … ┆ null      ┆ 0.2       ┆ computing ┆ Bourgeois │\n",
       "│          ┆           ┆           ┆           ┆   ┆           ┆           ┆ _quality  ┆           │\n",
       "│ 0.0      ┆ 0.0       ┆ 0.0       ┆ 0.0       ┆ … ┆ null      ┆ 0.1       ┆ computing ┆ Bourgeois │\n",
       "│          ┆           ┆           ┆           ┆   ┆           ┆           ┆ _quality  ┆           │\n",
       "│ 0.0      ┆ 0.0       ┆ 0.0       ┆ 0.0       ┆ … ┆ null      ┆ 0.0       ┆ computing ┆ Bourgeois │\n",
       "│          ┆           ┆           ┆           ┆   ┆           ┆           ┆ _quality  ┆           │\n",
       "└──────────┴───────────┴───────────┴───────────┴───┴───────────┴───────────┴───────────┴───────────┘"
      ]
     },
     "execution_count": 249,
     "metadata": {},
     "output_type": "execute_result"
    }
   ],
   "source": [
    "df_final"
   ]
  },
  {
   "cell_type": "code",
   "execution_count": 260,
   "id": "064525e7",
   "metadata": {},
   "outputs": [],
   "source": [
    "df_saved=pl.read_parquet(folder / \"grid_user_profile.parquet\")"
   ]
  },
  {
   "cell_type": "code",
   "execution_count": 261,
   "id": "54d53cd4",
   "metadata": {},
   "outputs": [
    {
     "data": {
      "text/html": [
       "<div><style>\n",
       ".dataframe > thead > tr,\n",
       ".dataframe > tbody > tr {\n",
       "  text-align: right;\n",
       "  white-space: pre-wrap;\n",
       "}\n",
       "</style>\n",
       "<small>shape: (31_889, 13)</small><table border=\"1\" class=\"dataframe\"><thead><tr><th>cost_pln</th><th>co2_emission_kg</th><th>normalized_comfort</th><th>normalized_failure_rate</th><th>device_cost</th><th>heating_quality</th><th>optimal_device</th><th>optimal_score</th><th>cooling_quality</th><th>cooking_quality</th><th>computing_quality</th><th>unique_parameter</th><th>profile</th></tr><tr><td>f64</td><td>f64</td><td>f64</td><td>f64</td><td>f64</td><td>f64</td><td>str</td><td>f64</td><td>f64</td><td>f64</td><td>f64</td><td>str</td><td>str</td></tr></thead><tbody><tr><td>1.0</td><td>0.0</td><td>0.0</td><td>0.0</td><td>0.0</td><td>0.0</td><td>&quot;LadderHeater&quot;</td><td>0.0</td><td>null</td><td>null</td><td>null</td><td>&quot;heating_quality&quot;</td><td>&quot;Saver&quot;</td></tr><tr><td>0.9</td><td>0.1</td><td>0.0</td><td>0.0</td><td>0.0</td><td>0.0</td><td>&quot;LadderHeater&quot;</td><td>0.0</td><td>null</td><td>null</td><td>null</td><td>&quot;heating_quality&quot;</td><td>&quot;Saver&quot;</td></tr><tr><td>0.9</td><td>0.0</td><td>0.1</td><td>0.0</td><td>0.0</td><td>0.0</td><td>&quot;LadderHeater&quot;</td><td>0.1</td><td>null</td><td>null</td><td>null</td><td>&quot;heating_quality&quot;</td><td>&quot;Saver&quot;</td></tr><tr><td>0.9</td><td>0.0</td><td>0.0</td><td>0.1</td><td>0.0</td><td>0.0</td><td>&quot;LadderHeater&quot;</td><td>0.1</td><td>null</td><td>null</td><td>null</td><td>&quot;heating_quality&quot;</td><td>&quot;Saver&quot;</td></tr><tr><td>0.9</td><td>0.0</td><td>0.0</td><td>0.0</td><td>-0.1</td><td>0.0</td><td>&quot;LadderHeater&quot;</td><td>0.0</td><td>null</td><td>null</td><td>null</td><td>&quot;heating_quality&quot;</td><td>&quot;Saver&quot;</td></tr><tr><td>&hellip;</td><td>&hellip;</td><td>&hellip;</td><td>&hellip;</td><td>&hellip;</td><td>&hellip;</td><td>&hellip;</td><td>&hellip;</td><td>&hellip;</td><td>&hellip;</td><td>&hellip;</td><td>&hellip;</td><td>&hellip;</td></tr><tr><td>0.0</td><td>0.0</td><td>0.0</td><td>0.0</td><td>0.6</td><td>null</td><td>&quot;LaptopWithMonitor&quot;</td><td>-0.6</td><td>null</td><td>null</td><td>0.4</td><td>&quot;computing_quality&quot;</td><td>&quot;Bourgeois&quot;</td></tr><tr><td>0.0</td><td>0.0</td><td>0.0</td><td>0.0</td><td>0.7</td><td>null</td><td>&quot;LaptopWithMonitor&quot;</td><td>-0.7</td><td>null</td><td>null</td><td>0.3</td><td>&quot;computing_quality&quot;</td><td>&quot;Bourgeois&quot;</td></tr><tr><td>0.0</td><td>0.0</td><td>0.0</td><td>0.0</td><td>0.8</td><td>null</td><td>&quot;LaptopWithMonitor&quot;</td><td>-0.8</td><td>null</td><td>null</td><td>0.2</td><td>&quot;computing_quality&quot;</td><td>&quot;Bourgeois&quot;</td></tr><tr><td>0.0</td><td>0.0</td><td>0.0</td><td>0.0</td><td>0.9</td><td>null</td><td>&quot;LaptopWithMonitor&quot;</td><td>-0.9</td><td>null</td><td>null</td><td>0.1</td><td>&quot;computing_quality&quot;</td><td>&quot;Bourgeois&quot;</td></tr><tr><td>0.0</td><td>0.0</td><td>0.0</td><td>0.0</td><td>1.0</td><td>null</td><td>&quot;LaptopWithMonitor&quot;</td><td>-1.0</td><td>null</td><td>null</td><td>0.0</td><td>&quot;computing_quality&quot;</td><td>&quot;Bourgeois&quot;</td></tr></tbody></table></div>"
      ],
      "text/plain": [
       "shape: (31_889, 13)\n",
       "┌──────────┬───────────┬───────────┬───────────┬───┬───────────┬───────────┬───────────┬───────────┐\n",
       "│ cost_pln ┆ co2_emiss ┆ normalize ┆ normalize ┆ … ┆ cooking_q ┆ computing ┆ unique_pa ┆ profile   │\n",
       "│ ---      ┆ ion_kg    ┆ d_comfort ┆ d_failure ┆   ┆ uality    ┆ _quality  ┆ rameter   ┆ ---       │\n",
       "│ f64      ┆ ---       ┆ ---       ┆ _rate     ┆   ┆ ---       ┆ ---       ┆ ---       ┆ str       │\n",
       "│          ┆ f64       ┆ f64       ┆ ---       ┆   ┆ f64       ┆ f64       ┆ str       ┆           │\n",
       "│          ┆           ┆           ┆ f64       ┆   ┆           ┆           ┆           ┆           │\n",
       "╞══════════╪═══════════╪═══════════╪═══════════╪═══╪═══════════╪═══════════╪═══════════╪═══════════╡\n",
       "│ 1.0      ┆ 0.0       ┆ 0.0       ┆ 0.0       ┆ … ┆ null      ┆ null      ┆ heating_q ┆ Saver     │\n",
       "│          ┆           ┆           ┆           ┆   ┆           ┆           ┆ uality    ┆           │\n",
       "│ 0.9      ┆ 0.1       ┆ 0.0       ┆ 0.0       ┆ … ┆ null      ┆ null      ┆ heating_q ┆ Saver     │\n",
       "│          ┆           ┆           ┆           ┆   ┆           ┆           ┆ uality    ┆           │\n",
       "│ 0.9      ┆ 0.0       ┆ 0.1       ┆ 0.0       ┆ … ┆ null      ┆ null      ┆ heating_q ┆ Saver     │\n",
       "│          ┆           ┆           ┆           ┆   ┆           ┆           ┆ uality    ┆           │\n",
       "│ 0.9      ┆ 0.0       ┆ 0.0       ┆ 0.1       ┆ … ┆ null      ┆ null      ┆ heating_q ┆ Saver     │\n",
       "│          ┆           ┆           ┆           ┆   ┆           ┆           ┆ uality    ┆           │\n",
       "│ 0.9      ┆ 0.0       ┆ 0.0       ┆ 0.0       ┆ … ┆ null      ┆ null      ┆ heating_q ┆ Saver     │\n",
       "│          ┆           ┆           ┆           ┆   ┆           ┆           ┆ uality    ┆           │\n",
       "│ …        ┆ …         ┆ …         ┆ …         ┆ … ┆ …         ┆ …         ┆ …         ┆ …         │\n",
       "│ 0.0      ┆ 0.0       ┆ 0.0       ┆ 0.0       ┆ … ┆ null      ┆ 0.4       ┆ computing ┆ Bourgeois │\n",
       "│          ┆           ┆           ┆           ┆   ┆           ┆           ┆ _quality  ┆           │\n",
       "│ 0.0      ┆ 0.0       ┆ 0.0       ┆ 0.0       ┆ … ┆ null      ┆ 0.3       ┆ computing ┆ Bourgeois │\n",
       "│          ┆           ┆           ┆           ┆   ┆           ┆           ┆ _quality  ┆           │\n",
       "│ 0.0      ┆ 0.0       ┆ 0.0       ┆ 0.0       ┆ … ┆ null      ┆ 0.2       ┆ computing ┆ Bourgeois │\n",
       "│          ┆           ┆           ┆           ┆   ┆           ┆           ┆ _quality  ┆           │\n",
       "│ 0.0      ┆ 0.0       ┆ 0.0       ┆ 0.0       ┆ … ┆ null      ┆ 0.1       ┆ computing ┆ Bourgeois │\n",
       "│          ┆           ┆           ┆           ┆   ┆           ┆           ┆ _quality  ┆           │\n",
       "│ 0.0      ┆ 0.0       ┆ 0.0       ┆ 0.0       ┆ … ┆ null      ┆ 0.0       ┆ computing ┆ Bourgeois │\n",
       "│          ┆           ┆           ┆           ┆   ┆           ┆           ┆ _quality  ┆           │\n",
       "└──────────┴───────────┴───────────┴───────────┴───┴───────────┴───────────┴───────────┴───────────┘"
      ]
     },
     "execution_count": 261,
     "metadata": {},
     "output_type": "execute_result"
    }
   ],
   "source": [
    "df_saved"
   ]
  }
 ],
 "metadata": {
  "kernelspec": {
   "display_name": ".venv",
   "language": "python",
   "name": "python3"
  },
  "language_info": {
   "codemirror_mode": {
    "name": "ipython",
    "version": 3
   },
   "file_extension": ".py",
   "mimetype": "text/x-python",
   "name": "python",
   "nbconvert_exporter": "python",
   "pygments_lexer": "ipython3",
   "version": "3.12.9"
  }
 },
 "nbformat": 4,
 "nbformat_minor": 5
}
