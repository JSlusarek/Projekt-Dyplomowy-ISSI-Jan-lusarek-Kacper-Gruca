{
 "cells": [
  {
   "cell_type": "code",
   "execution_count": 1,
   "id": "5e929ef4",
   "metadata": {},
   "outputs": [],
   "source": [
    "from simulator_appliances_class import Appliance,Kettle,InductionHob,GasHob,Kitchen\n",
    "from simulator_appliances_class import Microwave,GasOven,AirFryer,ElectricOven,find_optimal_device\n",
    "from simulator_appliances_class import ElectricMokaPot,CoffeeMachine\n",
    "from simulator_appliances_class import ThermomixTM6,BoschCookit\n",
    "import pandas as pd"
   ]
  },
  {
   "cell_type": "markdown",
   "id": "0bc2d88d",
   "metadata": {},
   "source": [
    "# Kitchen"
   ]
  },
  {
   "cell_type": "markdown",
   "id": "26280a73",
   "metadata": {},
   "source": [
    "### Cooking"
   ]
  },
  {
   "cell_type": "code",
   "execution_count": 2,
   "id": "85762826",
   "metadata": {},
   "outputs": [
    {
     "data": {
      "application/vnd.microsoft.datawrangler.viewer.v0+json": {
       "columns": [
        {
         "name": "index",
         "rawType": "int64",
         "type": "integer"
        },
        {
         "name": "name",
         "rawType": "object",
         "type": "string"
        },
        {
         "name": "energy_kwh",
         "rawType": "float64",
         "type": "float"
        },
        {
         "name": "cost_pln",
         "rawType": "float64",
         "type": "float"
        },
        {
         "name": "time_min",
         "rawType": "float64",
         "type": "float"
        },
        {
         "name": "comfort_penalty",
         "rawType": "float64",
         "type": "float"
        },
        {
         "name": "co2_emission_kg",
         "rawType": "float64",
         "type": "float"
        },
        {
         "name": "requires_supervision",
         "rawType": "bool",
         "type": "boolean"
        },
        {
         "name": "priority",
         "rawType": "int64",
         "type": "integer"
        },
        {
         "name": "device_cost",
         "rawType": "int64",
         "type": "integer"
        },
        {
         "name": "failure_rate",
         "rawType": "float64",
         "type": "float"
        },
        {
         "name": "normalized_comfort",
         "rawType": "float64",
         "type": "float"
        },
        {
         "name": "normalized_failure_rate",
         "rawType": "float64",
         "type": "float"
        },
        {
         "name": "score",
         "rawType": "float64",
         "type": "float"
        }
       ],
       "ref": "fa775fdc-f27f-49ec-8a43-3239febdbc73",
       "rows": [
        [
         "0",
         "GasHob",
         "1.667",
         "0.0",
         "0.0",
         "0.15",
         "0.667",
         "False",
         "5",
         "1500",
         "0.1",
         "0.75",
         "0.455",
         "-0.2"
        ],
        [
         "1",
         "InductionHob",
         "0.9",
         "0.56",
         "30.0",
         "0.05",
         "0.36",
         "False",
         "5",
         "2100",
         "0.12",
         "0.25",
         "0.545",
         "-0.7999999999999999"
        ]
       ],
       "shape": {
        "columns": 13,
        "rows": 2
       }
      },
      "text/html": [
       "<div>\n",
       "<style scoped>\n",
       "    .dataframe tbody tr th:only-of-type {\n",
       "        vertical-align: middle;\n",
       "    }\n",
       "\n",
       "    .dataframe tbody tr th {\n",
       "        vertical-align: top;\n",
       "    }\n",
       "\n",
       "    .dataframe thead th {\n",
       "        text-align: right;\n",
       "    }\n",
       "</style>\n",
       "<table border=\"1\" class=\"dataframe\">\n",
       "  <thead>\n",
       "    <tr style=\"text-align: right;\">\n",
       "      <th></th>\n",
       "      <th>name</th>\n",
       "      <th>energy_kwh</th>\n",
       "      <th>cost_pln</th>\n",
       "      <th>time_min</th>\n",
       "      <th>comfort_penalty</th>\n",
       "      <th>co2_emission_kg</th>\n",
       "      <th>requires_supervision</th>\n",
       "      <th>priority</th>\n",
       "      <th>device_cost</th>\n",
       "      <th>failure_rate</th>\n",
       "      <th>normalized_comfort</th>\n",
       "      <th>normalized_failure_rate</th>\n",
       "      <th>score</th>\n",
       "    </tr>\n",
       "  </thead>\n",
       "  <tbody>\n",
       "    <tr>\n",
       "      <th>0</th>\n",
       "      <td>GasHob</td>\n",
       "      <td>1.667</td>\n",
       "      <td>0.00</td>\n",
       "      <td>0.0</td>\n",
       "      <td>0.15</td>\n",
       "      <td>0.667</td>\n",
       "      <td>False</td>\n",
       "      <td>5</td>\n",
       "      <td>1500</td>\n",
       "      <td>0.10</td>\n",
       "      <td>0.75</td>\n",
       "      <td>0.455</td>\n",
       "      <td>-0.2</td>\n",
       "    </tr>\n",
       "    <tr>\n",
       "      <th>1</th>\n",
       "      <td>InductionHob</td>\n",
       "      <td>0.900</td>\n",
       "      <td>0.56</td>\n",
       "      <td>30.0</td>\n",
       "      <td>0.05</td>\n",
       "      <td>0.360</td>\n",
       "      <td>False</td>\n",
       "      <td>5</td>\n",
       "      <td>2100</td>\n",
       "      <td>0.12</td>\n",
       "      <td>0.25</td>\n",
       "      <td>0.545</td>\n",
       "      <td>-0.8</td>\n",
       "    </tr>\n",
       "  </tbody>\n",
       "</table>\n",
       "</div>"
      ],
      "text/plain": [
       "           name  energy_kwh  cost_pln  time_min  comfort_penalty  \\\n",
       "0        GasHob       1.667      0.00       0.0             0.15   \n",
       "1  InductionHob       0.900      0.56      30.0             0.05   \n",
       "\n",
       "   co2_emission_kg  requires_supervision  priority  device_cost  failure_rate  \\\n",
       "0            0.667                 False         5         1500          0.10   \n",
       "1            0.360                 False         5         2100          0.12   \n",
       "\n",
       "   normalized_comfort  normalized_failure_rate  score  \n",
       "0                0.75                    0.455   -0.2  \n",
       "1                0.25                    0.545   -0.8  "
      ]
     },
     "execution_count": 2,
     "metadata": {},
     "output_type": "execute_result"
    }
   ],
   "source": [
    "df_cooking = Kitchen.compare_cooking_devices(time_minutes=30)\n",
    "weights = {\n",
    "    \"cost_pln\": -0.4,\n",
    "    \"time_min\": -0.3,\n",
    "    \"normalized_comfort\": -0.2,\n",
    "    \"normalized_failure_rate\": -0.1\n",
    "}\n",
    "find_optimal_device(df_cooking, weights)\n",
    "\n"
   ]
  },
  {
   "cell_type": "markdown",
   "id": "58518210",
   "metadata": {},
   "source": [
    "### Heating"
   ]
  },
  {
   "cell_type": "code",
   "execution_count": 3,
   "id": "a786470f",
   "metadata": {},
   "outputs": [
    {
     "data": {
      "application/vnd.microsoft.datawrangler.viewer.v0+json": {
       "columns": [
        {
         "name": "index",
         "rawType": "int64",
         "type": "integer"
        },
        {
         "name": "name",
         "rawType": "object",
         "type": "string"
        },
        {
         "name": "energy_kwh",
         "rawType": "float64",
         "type": "float"
        },
        {
         "name": "cost_pln",
         "rawType": "float64",
         "type": "float"
        },
        {
         "name": "time_min",
         "rawType": "int64",
         "type": "integer"
        },
        {
         "name": "comfort_penalty",
         "rawType": "float64",
         "type": "float"
        },
        {
         "name": "co2_emission_kg",
         "rawType": "float64",
         "type": "float"
        },
        {
         "name": "requires_supervision",
         "rawType": "bool",
         "type": "boolean"
        },
        {
         "name": "priority",
         "rawType": "int64",
         "type": "integer"
        },
        {
         "name": "device_cost",
         "rawType": "int64",
         "type": "integer"
        },
        {
         "name": "failure_rate",
         "rawType": "float64",
         "type": "float"
        },
        {
         "name": "heating_quality",
         "rawType": "float64",
         "type": "float"
        },
        {
         "name": "normalized_comfort",
         "rawType": "float64",
         "type": "float"
        },
        {
         "name": "normalized_failure_rate",
         "rawType": "float64",
         "type": "float"
        },
        {
         "name": "score",
         "rawType": "float64",
         "type": "float"
        }
       ],
       "ref": "3439e547-045d-40f4-b0cd-d96508ef271d",
       "rows": [
        [
         "0",
         "Microwave",
         "0.45",
         "0.28",
         "30",
         "0.05",
         "0.18",
         "False",
         "5",
         "500",
         "0.08",
         "0.4",
         "0.1",
         "0.2",
         "0.0"
        ],
        [
         "1",
         "AirFryer",
         "0.75",
         "0.46",
         "30",
         "0.1",
         "0.3",
         "False",
         "5",
         "800",
         "0.1",
         "0.7",
         "0.2",
         "0.25",
         "-0.09266666666666669"
        ],
        [
         "2",
         "GasOven",
         "2.217",
         "0.65",
         "40",
         "0.2",
         "0.887",
         "False",
         "5",
         "1800",
         "0.1",
         "0.9",
         "0.4",
         "0.25",
         "-0.3473333333333333"
        ],
        [
         "3",
         "ElectricOven",
         "1.667",
         "1.03",
         "40",
         "0.15",
         "0.667",
         "False",
         "5",
         "2000",
         "0.12",
         "0.7",
         "0.3",
         "0.3",
         "-0.6133333333333333"
        ]
       ],
       "shape": {
        "columns": 14,
        "rows": 4
       }
      },
      "text/html": [
       "<div>\n",
       "<style scoped>\n",
       "    .dataframe tbody tr th:only-of-type {\n",
       "        vertical-align: middle;\n",
       "    }\n",
       "\n",
       "    .dataframe tbody tr th {\n",
       "        vertical-align: top;\n",
       "    }\n",
       "\n",
       "    .dataframe thead th {\n",
       "        text-align: right;\n",
       "    }\n",
       "</style>\n",
       "<table border=\"1\" class=\"dataframe\">\n",
       "  <thead>\n",
       "    <tr style=\"text-align: right;\">\n",
       "      <th></th>\n",
       "      <th>name</th>\n",
       "      <th>energy_kwh</th>\n",
       "      <th>cost_pln</th>\n",
       "      <th>time_min</th>\n",
       "      <th>comfort_penalty</th>\n",
       "      <th>co2_emission_kg</th>\n",
       "      <th>requires_supervision</th>\n",
       "      <th>priority</th>\n",
       "      <th>device_cost</th>\n",
       "      <th>failure_rate</th>\n",
       "      <th>heating_quality</th>\n",
       "      <th>normalized_comfort</th>\n",
       "      <th>normalized_failure_rate</th>\n",
       "      <th>score</th>\n",
       "    </tr>\n",
       "  </thead>\n",
       "  <tbody>\n",
       "    <tr>\n",
       "      <th>0</th>\n",
       "      <td>Microwave</td>\n",
       "      <td>0.450</td>\n",
       "      <td>0.28</td>\n",
       "      <td>30</td>\n",
       "      <td>0.05</td>\n",
       "      <td>0.180</td>\n",
       "      <td>False</td>\n",
       "      <td>5</td>\n",
       "      <td>500</td>\n",
       "      <td>0.08</td>\n",
       "      <td>0.4</td>\n",
       "      <td>0.1</td>\n",
       "      <td>0.20</td>\n",
       "      <td>0.000000</td>\n",
       "    </tr>\n",
       "    <tr>\n",
       "      <th>1</th>\n",
       "      <td>AirFryer</td>\n",
       "      <td>0.750</td>\n",
       "      <td>0.46</td>\n",
       "      <td>30</td>\n",
       "      <td>0.10</td>\n",
       "      <td>0.300</td>\n",
       "      <td>False</td>\n",
       "      <td>5</td>\n",
       "      <td>800</td>\n",
       "      <td>0.10</td>\n",
       "      <td>0.7</td>\n",
       "      <td>0.2</td>\n",
       "      <td>0.25</td>\n",
       "      <td>-0.092667</td>\n",
       "    </tr>\n",
       "    <tr>\n",
       "      <th>2</th>\n",
       "      <td>GasOven</td>\n",
       "      <td>2.217</td>\n",
       "      <td>0.65</td>\n",
       "      <td>40</td>\n",
       "      <td>0.20</td>\n",
       "      <td>0.887</td>\n",
       "      <td>False</td>\n",
       "      <td>5</td>\n",
       "      <td>1800</td>\n",
       "      <td>0.10</td>\n",
       "      <td>0.9</td>\n",
       "      <td>0.4</td>\n",
       "      <td>0.25</td>\n",
       "      <td>-0.347333</td>\n",
       "    </tr>\n",
       "    <tr>\n",
       "      <th>3</th>\n",
       "      <td>ElectricOven</td>\n",
       "      <td>1.667</td>\n",
       "      <td>1.03</td>\n",
       "      <td>40</td>\n",
       "      <td>0.15</td>\n",
       "      <td>0.667</td>\n",
       "      <td>False</td>\n",
       "      <td>5</td>\n",
       "      <td>2000</td>\n",
       "      <td>0.12</td>\n",
       "      <td>0.7</td>\n",
       "      <td>0.3</td>\n",
       "      <td>0.30</td>\n",
       "      <td>-0.613333</td>\n",
       "    </tr>\n",
       "  </tbody>\n",
       "</table>\n",
       "</div>"
      ],
      "text/plain": [
       "           name  energy_kwh  cost_pln  time_min  comfort_penalty  \\\n",
       "0     Microwave       0.450      0.28        30             0.05   \n",
       "1      AirFryer       0.750      0.46        30             0.10   \n",
       "2       GasOven       2.217      0.65        40             0.20   \n",
       "3  ElectricOven       1.667      1.03        40             0.15   \n",
       "\n",
       "   co2_emission_kg  requires_supervision  priority  device_cost  failure_rate  \\\n",
       "0            0.180                 False         5          500          0.08   \n",
       "1            0.300                 False         5          800          0.10   \n",
       "2            0.887                 False         5         1800          0.10   \n",
       "3            0.667                 False         5         2000          0.12   \n",
       "\n",
       "   heating_quality  normalized_comfort  normalized_failure_rate     score  \n",
       "0              0.4                 0.1                     0.20  0.000000  \n",
       "1              0.7                 0.2                     0.25 -0.092667  \n",
       "2              0.9                 0.4                     0.25 -0.347333  \n",
       "3              0.7                 0.3                     0.30 -0.613333  "
      ]
     },
     "execution_count": 3,
     "metadata": {},
     "output_type": "execute_result"
    }
   ],
   "source": [
    "df_heating = Kitchen.compare_heating_devices(time_minutes=30)\n",
    "\n",
    "weights = {\n",
    "    \"cost_pln\": -0.4,\n",
    "    \"time_min\": -0.1,\n",
    "    \"normalized_comfort\": -0.2,\n",
    "    \"normalized_failure_rate\": -0.1,\n",
    "    \"heating_quality\": 0.2\n",
    "}\n",
    "\n",
    "result = find_optimal_device(df_heating, weights)\n",
    "result\n"
   ]
  },
  {
   "cell_type": "markdown",
   "id": "754c74ef",
   "metadata": {},
   "source": [
    "### Coffee"
   ]
  },
  {
   "cell_type": "code",
   "execution_count": 4,
   "id": "f31047e9",
   "metadata": {},
   "outputs": [
    {
     "data": {
      "application/vnd.microsoft.datawrangler.viewer.v0+json": {
       "columns": [
        {
         "name": "index",
         "rawType": "int64",
         "type": "integer"
        },
        {
         "name": "name",
         "rawType": "object",
         "type": "string"
        },
        {
         "name": "energy_kwh",
         "rawType": "float64",
         "type": "float"
        },
        {
         "name": "cost_pln",
         "rawType": "float64",
         "type": "float"
        },
        {
         "name": "time_min",
         "rawType": "float64",
         "type": "float"
        },
        {
         "name": "comfort_penalty",
         "rawType": "float64",
         "type": "float"
        },
        {
         "name": "co2_emission_kg",
         "rawType": "float64",
         "type": "float"
        },
        {
         "name": "requires_supervision",
         "rawType": "bool",
         "type": "boolean"
        },
        {
         "name": "priority",
         "rawType": "int64",
         "type": "integer"
        },
        {
         "name": "device_cost",
         "rawType": "int64",
         "type": "integer"
        },
        {
         "name": "failure_rate",
         "rawType": "float64",
         "type": "float"
        },
        {
         "name": "coffee_taste",
         "rawType": "float64",
         "type": "float"
        },
        {
         "name": "normalized_comfort",
         "rawType": "float64",
         "type": "float"
        },
        {
         "name": "normalized_failure_rate",
         "rawType": "float64",
         "type": "float"
        },
        {
         "name": "score",
         "rawType": "float64",
         "type": "float"
        }
       ],
       "ref": "2e7d2de0-ca99-41d4-9096-75a9f6b0cb3d",
       "rows": [
        [
         "0",
         "CoffeeMachine",
         "0.08",
         "0.05",
         "1.5",
         "0.05",
         "0.032",
         "False",
         "5",
         "2000",
         "0.05",
         "0.9",
         "0.333",
         "0.385",
         "0.3"
        ],
        [
         "1",
         "ElectricMokaPot",
         "0.045",
         "0.03",
         "3.0",
         "0.1",
         "0.018",
         "False",
         "5",
         "300",
         "0.08",
         "0.78",
         "0.667",
         "0.615",
         "-0.30000000000000004"
        ]
       ],
       "shape": {
        "columns": 14,
        "rows": 2
       }
      },
      "text/html": [
       "<div>\n",
       "<style scoped>\n",
       "    .dataframe tbody tr th:only-of-type {\n",
       "        vertical-align: middle;\n",
       "    }\n",
       "\n",
       "    .dataframe tbody tr th {\n",
       "        vertical-align: top;\n",
       "    }\n",
       "\n",
       "    .dataframe thead th {\n",
       "        text-align: right;\n",
       "    }\n",
       "</style>\n",
       "<table border=\"1\" class=\"dataframe\">\n",
       "  <thead>\n",
       "    <tr style=\"text-align: right;\">\n",
       "      <th></th>\n",
       "      <th>name</th>\n",
       "      <th>energy_kwh</th>\n",
       "      <th>cost_pln</th>\n",
       "      <th>time_min</th>\n",
       "      <th>comfort_penalty</th>\n",
       "      <th>co2_emission_kg</th>\n",
       "      <th>requires_supervision</th>\n",
       "      <th>priority</th>\n",
       "      <th>device_cost</th>\n",
       "      <th>failure_rate</th>\n",
       "      <th>coffee_taste</th>\n",
       "      <th>normalized_comfort</th>\n",
       "      <th>normalized_failure_rate</th>\n",
       "      <th>score</th>\n",
       "    </tr>\n",
       "  </thead>\n",
       "  <tbody>\n",
       "    <tr>\n",
       "      <th>0</th>\n",
       "      <td>CoffeeMachine</td>\n",
       "      <td>0.080</td>\n",
       "      <td>0.05</td>\n",
       "      <td>1.5</td>\n",
       "      <td>0.05</td>\n",
       "      <td>0.032</td>\n",
       "      <td>False</td>\n",
       "      <td>5</td>\n",
       "      <td>2000</td>\n",
       "      <td>0.05</td>\n",
       "      <td>0.90</td>\n",
       "      <td>0.333</td>\n",
       "      <td>0.385</td>\n",
       "      <td>0.3</td>\n",
       "    </tr>\n",
       "    <tr>\n",
       "      <th>1</th>\n",
       "      <td>ElectricMokaPot</td>\n",
       "      <td>0.045</td>\n",
       "      <td>0.03</td>\n",
       "      <td>3.0</td>\n",
       "      <td>0.10</td>\n",
       "      <td>0.018</td>\n",
       "      <td>False</td>\n",
       "      <td>5</td>\n",
       "      <td>300</td>\n",
       "      <td>0.08</td>\n",
       "      <td>0.78</td>\n",
       "      <td>0.667</td>\n",
       "      <td>0.615</td>\n",
       "      <td>-0.3</td>\n",
       "    </tr>\n",
       "  </tbody>\n",
       "</table>\n",
       "</div>"
      ],
      "text/plain": [
       "              name  energy_kwh  cost_pln  time_min  comfort_penalty  \\\n",
       "0    CoffeeMachine       0.080      0.05       1.5             0.05   \n",
       "1  ElectricMokaPot       0.045      0.03       3.0             0.10   \n",
       "\n",
       "   co2_emission_kg  requires_supervision  priority  device_cost  failure_rate  \\\n",
       "0            0.032                 False         5         2000          0.05   \n",
       "1            0.018                 False         5          300          0.08   \n",
       "\n",
       "   coffee_taste  normalized_comfort  normalized_failure_rate  score  \n",
       "0          0.90               0.333                    0.385    0.3  \n",
       "1          0.78               0.667                    0.615   -0.3  "
      ]
     },
     "execution_count": 4,
     "metadata": {},
     "output_type": "execute_result"
    }
   ],
   "source": [
    "df_coffee = Kitchen.compare_coffee_devices(cups=1)\n",
    "\n",
    "weights = {\n",
    "    \"coffee_taste\": 0.5,\n",
    "    \"cost_pln\": -0.2,\n",
    "    \"time_min\": -0.1,\n",
    "    \"normalized_comfort\": -0.1,\n",
    "    \"normalized_failure_rate\": -0.1\n",
    "}\n",
    "\n",
    "find_optimal_device(df_coffee, weights)\n"
   ]
  },
  {
   "cell_type": "markdown",
   "id": "d09ee8a9",
   "metadata": {},
   "source": [
    "### Robots"
   ]
  },
  {
   "cell_type": "code",
   "execution_count": 5,
   "id": "5357c73b",
   "metadata": {},
   "outputs": [
    {
     "data": {
      "application/vnd.microsoft.datawrangler.viewer.v0+json": {
       "columns": [
        {
         "name": "index",
         "rawType": "int64",
         "type": "integer"
        },
        {
         "name": "name",
         "rawType": "object",
         "type": "string"
        },
        {
         "name": "energy_kwh",
         "rawType": "float64",
         "type": "float"
        },
        {
         "name": "cost_pln",
         "rawType": "float64",
         "type": "float"
        },
        {
         "name": "time_min",
         "rawType": "float64",
         "type": "float"
        },
        {
         "name": "comfort_penalty",
         "rawType": "float64",
         "type": "float"
        },
        {
         "name": "co2_emission_kg",
         "rawType": "float64",
         "type": "float"
        },
        {
         "name": "requires_supervision",
         "rawType": "bool",
         "type": "boolean"
        },
        {
         "name": "priority",
         "rawType": "int64",
         "type": "integer"
        },
        {
         "name": "device_cost",
         "rawType": "int64",
         "type": "integer"
        },
        {
         "name": "failure_rate",
         "rawType": "float64",
         "type": "float"
        },
        {
         "name": "cooking_quality",
         "rawType": "float64",
         "type": "float"
        },
        {
         "name": "normalized_comfort",
         "rawType": "float64",
         "type": "float"
        },
        {
         "name": "normalized_failure_rate",
         "rawType": "float64",
         "type": "float"
        },
        {
         "name": "score",
         "rawType": "float64",
         "type": "float"
        }
       ],
       "ref": "7dc68b1f-aa13-4aed-a51c-6e439a0ee860",
       "rows": [
        [
         "0",
         "ThermomixTM6",
         "1.125",
         "0.7",
         "30.0",
         "0.05",
         "0.45",
         "False",
         "5",
         "5995",
         "0.04",
         "0.88",
         "0.417",
         "0.444",
         "0.0"
        ],
        [
         "1",
         "BoschCookit",
         "1.35",
         "0.84",
         "33.0",
         "0.07",
         "0.54",
         "False",
         "5",
         "6399",
         "0.05",
         "0.91",
         "0.583",
         "0.556",
         "-2.7755575615628914e-17"
        ]
       ],
       "shape": {
        "columns": 14,
        "rows": 2
       }
      },
      "text/html": [
       "<div>\n",
       "<style scoped>\n",
       "    .dataframe tbody tr th:only-of-type {\n",
       "        vertical-align: middle;\n",
       "    }\n",
       "\n",
       "    .dataframe tbody tr th {\n",
       "        vertical-align: top;\n",
       "    }\n",
       "\n",
       "    .dataframe thead th {\n",
       "        text-align: right;\n",
       "    }\n",
       "</style>\n",
       "<table border=\"1\" class=\"dataframe\">\n",
       "  <thead>\n",
       "    <tr style=\"text-align: right;\">\n",
       "      <th></th>\n",
       "      <th>name</th>\n",
       "      <th>energy_kwh</th>\n",
       "      <th>cost_pln</th>\n",
       "      <th>time_min</th>\n",
       "      <th>comfort_penalty</th>\n",
       "      <th>co2_emission_kg</th>\n",
       "      <th>requires_supervision</th>\n",
       "      <th>priority</th>\n",
       "      <th>device_cost</th>\n",
       "      <th>failure_rate</th>\n",
       "      <th>cooking_quality</th>\n",
       "      <th>normalized_comfort</th>\n",
       "      <th>normalized_failure_rate</th>\n",
       "      <th>score</th>\n",
       "    </tr>\n",
       "  </thead>\n",
       "  <tbody>\n",
       "    <tr>\n",
       "      <th>0</th>\n",
       "      <td>ThermomixTM6</td>\n",
       "      <td>1.125</td>\n",
       "      <td>0.70</td>\n",
       "      <td>30.0</td>\n",
       "      <td>0.05</td>\n",
       "      <td>0.45</td>\n",
       "      <td>False</td>\n",
       "      <td>5</td>\n",
       "      <td>5995</td>\n",
       "      <td>0.04</td>\n",
       "      <td>0.88</td>\n",
       "      <td>0.417</td>\n",
       "      <td>0.444</td>\n",
       "      <td>0.000000e+00</td>\n",
       "    </tr>\n",
       "    <tr>\n",
       "      <th>1</th>\n",
       "      <td>BoschCookit</td>\n",
       "      <td>1.350</td>\n",
       "      <td>0.84</td>\n",
       "      <td>33.0</td>\n",
       "      <td>0.07</td>\n",
       "      <td>0.54</td>\n",
       "      <td>False</td>\n",
       "      <td>5</td>\n",
       "      <td>6399</td>\n",
       "      <td>0.05</td>\n",
       "      <td>0.91</td>\n",
       "      <td>0.583</td>\n",
       "      <td>0.556</td>\n",
       "      <td>-2.775558e-17</td>\n",
       "    </tr>\n",
       "  </tbody>\n",
       "</table>\n",
       "</div>"
      ],
      "text/plain": [
       "           name  energy_kwh  cost_pln  time_min  comfort_penalty  \\\n",
       "0  ThermomixTM6       1.125      0.70      30.0             0.05   \n",
       "1   BoschCookit       1.350      0.84      33.0             0.07   \n",
       "\n",
       "   co2_emission_kg  requires_supervision  priority  device_cost  failure_rate  \\\n",
       "0             0.45                 False         5         5995          0.04   \n",
       "1             0.54                 False         5         6399          0.05   \n",
       "\n",
       "   cooking_quality  normalized_comfort  normalized_failure_rate         score  \n",
       "0             0.88               0.417                    0.444  0.000000e+00  \n",
       "1             0.91               0.583                    0.556 -2.775558e-17  "
      ]
     },
     "execution_count": 5,
     "metadata": {},
     "output_type": "execute_result"
    }
   ],
   "source": [
    "df_robots = Kitchen.compare_multicookers(recipe_complexity=1.5)\n",
    "\n",
    "weights = {\n",
    "    \"cooking_quality\": 0.5,\n",
    "    \"cost_pln\": -0.2,\n",
    "    \"time_min\": -0.1,\n",
    "    \"normalized_comfort\": -0.1,\n",
    "    \"normalized_failure_rate\": -0.1\n",
    "}\n",
    "\n",
    "find_optimal_device(df_robots, weights)\n"
   ]
  },
  {
   "cell_type": "markdown",
   "id": "5e518e65",
   "metadata": {},
   "source": [
    "# Bathroom\n"
   ]
  },
  {
   "cell_type": "code",
   "execution_count": 6,
   "id": "a6b78ef3",
   "metadata": {},
   "outputs": [],
   "source": [
    "from simulator_appliances_class import Appliance, ElectricHeater, GasHeater, HeatPump, FlowHeater,Bathroom\n",
    "from simulator_appliances_class import Bathtub, Shower\n",
    "from simulator_appliances_class import LadderHeater,FloorHeating"
   ]
  },
  {
   "cell_type": "markdown",
   "id": "7dbd7121",
   "metadata": {},
   "source": [
    "### Water Heating"
   ]
  },
  {
   "cell_type": "code",
   "execution_count": 7,
   "id": "74c122fd",
   "metadata": {},
   "outputs": [
    {
     "data": {
      "application/vnd.microsoft.datawrangler.viewer.v0+json": {
       "columns": [
        {
         "name": "index",
         "rawType": "int64",
         "type": "integer"
        },
        {
         "name": "name",
         "rawType": "object",
         "type": "string"
        },
        {
         "name": "energy_kwh",
         "rawType": "float64",
         "type": "float"
        },
        {
         "name": "cost_pln",
         "rawType": "float64",
         "type": "float"
        },
        {
         "name": "time_min",
         "rawType": "float64",
         "type": "float"
        },
        {
         "name": "comfort_penalty",
         "rawType": "float64",
         "type": "float"
        },
        {
         "name": "co2_emission_kg",
         "rawType": "float64",
         "type": "float"
        },
        {
         "name": "requires_supervision",
         "rawType": "bool",
         "type": "boolean"
        },
        {
         "name": "priority",
         "rawType": "int64",
         "type": "integer"
        },
        {
         "name": "device_cost",
         "rawType": "int64",
         "type": "integer"
        },
        {
         "name": "failure_rate",
         "rawType": "float64",
         "type": "float"
        },
        {
         "name": "co2_per_kwh_heat",
         "rawType": "float64",
         "type": "float"
        },
        {
         "name": "cost_per_kwh_heat",
         "rawType": "float64",
         "type": "float"
        },
        {
         "name": "normalized_comfort",
         "rawType": "float64",
         "type": "float"
        },
        {
         "name": "normalized_failure_rate",
         "rawType": "float64",
         "type": "float"
        },
        {
         "name": "score",
         "rawType": "float64",
         "type": "float"
        }
       ],
       "ref": "2a4864eb-5777-4a11-b82c-cadb5edb8144",
       "rows": [
        [
         "0",
         "HeatPump",
         "0.775",
         "0.48",
         "38.75925925925925",
         "0.03",
         "0.31",
         "False",
         "5",
         "4500",
         "0.06",
         "0.133",
         "0.3333333333333333",
         "0.15",
         "0.273",
         "-0.1719826506073697"
        ],
        [
         "1",
         "FlowHeater",
         "2.326",
         "1.44",
         "19.93333333333333",
         "0.04",
         "0.93",
         "False",
         "5",
         "1000",
         "0.04",
         "0.4",
         "1.0",
         "0.2",
         "0.182",
         "-0.46814574659528585"
        ],
        [
         "2",
         "GasHeater",
         "10.556",
         "3.11",
         "8.0",
         "0.08",
         "2.006",
         "False",
         "5",
         "1400",
         "0.07",
         "0.19",
         "0.29473684210526313",
         "0.4",
         "0.318",
         "-0.5426966292134832"
        ],
        [
         "3",
         "ElectricHeater",
         "2.326",
         "1.44",
         "69.76666666666667",
         "0.05",
         "0.93",
         "False",
         "5",
         "1200",
         "0.05",
         "0.4",
         "0.65",
         "0.25",
         "0.227",
         "-0.6329670730445291"
        ]
       ],
       "shape": {
        "columns": 15,
        "rows": 4
       }
      },
      "text/html": [
       "<div>\n",
       "<style scoped>\n",
       "    .dataframe tbody tr th:only-of-type {\n",
       "        vertical-align: middle;\n",
       "    }\n",
       "\n",
       "    .dataframe tbody tr th {\n",
       "        vertical-align: top;\n",
       "    }\n",
       "\n",
       "    .dataframe thead th {\n",
       "        text-align: right;\n",
       "    }\n",
       "</style>\n",
       "<table border=\"1\" class=\"dataframe\">\n",
       "  <thead>\n",
       "    <tr style=\"text-align: right;\">\n",
       "      <th></th>\n",
       "      <th>name</th>\n",
       "      <th>energy_kwh</th>\n",
       "      <th>cost_pln</th>\n",
       "      <th>time_min</th>\n",
       "      <th>comfort_penalty</th>\n",
       "      <th>co2_emission_kg</th>\n",
       "      <th>requires_supervision</th>\n",
       "      <th>priority</th>\n",
       "      <th>device_cost</th>\n",
       "      <th>failure_rate</th>\n",
       "      <th>co2_per_kwh_heat</th>\n",
       "      <th>cost_per_kwh_heat</th>\n",
       "      <th>normalized_comfort</th>\n",
       "      <th>normalized_failure_rate</th>\n",
       "      <th>score</th>\n",
       "    </tr>\n",
       "  </thead>\n",
       "  <tbody>\n",
       "    <tr>\n",
       "      <th>0</th>\n",
       "      <td>HeatPump</td>\n",
       "      <td>0.775</td>\n",
       "      <td>0.48</td>\n",
       "      <td>38.759259</td>\n",
       "      <td>0.03</td>\n",
       "      <td>0.310</td>\n",
       "      <td>False</td>\n",
       "      <td>5</td>\n",
       "      <td>4500</td>\n",
       "      <td>0.06</td>\n",
       "      <td>0.133</td>\n",
       "      <td>0.333333</td>\n",
       "      <td>0.15</td>\n",
       "      <td>0.273</td>\n",
       "      <td>-0.171983</td>\n",
       "    </tr>\n",
       "    <tr>\n",
       "      <th>1</th>\n",
       "      <td>FlowHeater</td>\n",
       "      <td>2.326</td>\n",
       "      <td>1.44</td>\n",
       "      <td>19.933333</td>\n",
       "      <td>0.04</td>\n",
       "      <td>0.930</td>\n",
       "      <td>False</td>\n",
       "      <td>5</td>\n",
       "      <td>1000</td>\n",
       "      <td>0.04</td>\n",
       "      <td>0.400</td>\n",
       "      <td>1.000000</td>\n",
       "      <td>0.20</td>\n",
       "      <td>0.182</td>\n",
       "      <td>-0.468146</td>\n",
       "    </tr>\n",
       "    <tr>\n",
       "      <th>2</th>\n",
       "      <td>GasHeater</td>\n",
       "      <td>10.556</td>\n",
       "      <td>3.11</td>\n",
       "      <td>8.000000</td>\n",
       "      <td>0.08</td>\n",
       "      <td>2.006</td>\n",
       "      <td>False</td>\n",
       "      <td>5</td>\n",
       "      <td>1400</td>\n",
       "      <td>0.07</td>\n",
       "      <td>0.190</td>\n",
       "      <td>0.294737</td>\n",
       "      <td>0.40</td>\n",
       "      <td>0.318</td>\n",
       "      <td>-0.542697</td>\n",
       "    </tr>\n",
       "    <tr>\n",
       "      <th>3</th>\n",
       "      <td>ElectricHeater</td>\n",
       "      <td>2.326</td>\n",
       "      <td>1.44</td>\n",
       "      <td>69.766667</td>\n",
       "      <td>0.05</td>\n",
       "      <td>0.930</td>\n",
       "      <td>False</td>\n",
       "      <td>5</td>\n",
       "      <td>1200</td>\n",
       "      <td>0.05</td>\n",
       "      <td>0.400</td>\n",
       "      <td>0.650000</td>\n",
       "      <td>0.25</td>\n",
       "      <td>0.227</td>\n",
       "      <td>-0.632967</td>\n",
       "    </tr>\n",
       "  </tbody>\n",
       "</table>\n",
       "</div>"
      ],
      "text/plain": [
       "             name  energy_kwh  cost_pln   time_min  comfort_penalty  \\\n",
       "0        HeatPump       0.775      0.48  38.759259             0.03   \n",
       "1      FlowHeater       2.326      1.44  19.933333             0.04   \n",
       "2       GasHeater      10.556      3.11   8.000000             0.08   \n",
       "3  ElectricHeater       2.326      1.44  69.766667             0.05   \n",
       "\n",
       "   co2_emission_kg  requires_supervision  priority  device_cost  failure_rate  \\\n",
       "0            0.310                 False         5         4500          0.06   \n",
       "1            0.930                 False         5         1000          0.04   \n",
       "2            2.006                 False         5         1400          0.07   \n",
       "3            0.930                 False         5         1200          0.05   \n",
       "\n",
       "   co2_per_kwh_heat  cost_per_kwh_heat  normalized_comfort  \\\n",
       "0             0.133           0.333333                0.15   \n",
       "1             0.400           1.000000                0.20   \n",
       "2             0.190           0.294737                0.40   \n",
       "3             0.400           0.650000                0.25   \n",
       "\n",
       "   normalized_failure_rate     score  \n",
       "0                    0.273 -0.171983  \n",
       "1                    0.182 -0.468146  \n",
       "2                    0.318 -0.542697  \n",
       "3                    0.227 -0.632967  "
      ]
     },
     "execution_count": 7,
     "metadata": {},
     "output_type": "execute_result"
    }
   ],
   "source": [
    "df_heaters = Bathroom.compare_water_heaters(liters=50)\n",
    "weights = {\n",
    "    \"cost_pln\": -0.3,\n",
    "    \"time_min\": -0.2,\n",
    "    \"co2_per_kwh_heat\": -0.2,\n",
    "    \"normalized_comfort\": -0.1,\n",
    "    \"normalized_failure_rate\": -0.1,\n",
    "    \"cost_per_kwh_heat\": -0.1\n",
    "}\n",
    "\n",
    "find_optimal_device(df_heaters, weights)\n",
    "\n"
   ]
  },
  {
   "cell_type": "markdown",
   "id": "9e1b8e73",
   "metadata": {},
   "source": [
    "### Bath"
   ]
  },
  {
   "cell_type": "code",
   "execution_count": 8,
   "id": "e0d7ab81",
   "metadata": {},
   "outputs": [
    {
     "data": {
      "application/vnd.microsoft.datawrangler.viewer.v0+json": {
       "columns": [
        {
         "name": "index",
         "rawType": "int64",
         "type": "integer"
        },
        {
         "name": "name",
         "rawType": "object",
         "type": "string"
        },
        {
         "name": "energy_kwh",
         "rawType": "float64",
         "type": "float"
        },
        {
         "name": "cost_pln",
         "rawType": "float64",
         "type": "float"
        },
        {
         "name": "time_min",
         "rawType": "float64",
         "type": "float"
        },
        {
         "name": "comfort_penalty",
         "rawType": "float64",
         "type": "float"
        },
        {
         "name": "co2_emission_kg",
         "rawType": "float64",
         "type": "float"
        },
        {
         "name": "requires_supervision",
         "rawType": "bool",
         "type": "boolean"
        },
        {
         "name": "priority",
         "rawType": "int64",
         "type": "integer"
        },
        {
         "name": "device_cost",
         "rawType": "int64",
         "type": "integer"
        },
        {
         "name": "failure_rate",
         "rawType": "float64",
         "type": "float"
        },
        {
         "name": "normalized_comfort",
         "rawType": "float64",
         "type": "float"
        },
        {
         "name": "normalized_failure_rate",
         "rawType": "float64",
         "type": "float"
        },
        {
         "name": "score",
         "rawType": "float64",
         "type": "float"
        }
       ],
       "ref": "9316a3b8-2660-4ef6-a75d-0e6597159042",
       "rows": [
        [
         "0",
         "Bathtub",
         "6.105",
         "3.78",
         "15.0",
         "0.005",
         "2.442",
         "False",
         "5",
         "2500",
         "0.03",
         "0.2",
         "0.6",
         "-0.4"
        ],
        [
         "1",
         "Shower",
         "2.93",
         "1.82",
         "8.0",
         "0.02",
         "1.172",
         "False",
         "5",
         "2000",
         "0.02",
         "0.8",
         "0.4",
         "-0.6"
        ]
       ],
       "shape": {
        "columns": 13,
        "rows": 2
       }
      },
      "text/html": [
       "<div>\n",
       "<style scoped>\n",
       "    .dataframe tbody tr th:only-of-type {\n",
       "        vertical-align: middle;\n",
       "    }\n",
       "\n",
       "    .dataframe tbody tr th {\n",
       "        vertical-align: top;\n",
       "    }\n",
       "\n",
       "    .dataframe thead th {\n",
       "        text-align: right;\n",
       "    }\n",
       "</style>\n",
       "<table border=\"1\" class=\"dataframe\">\n",
       "  <thead>\n",
       "    <tr style=\"text-align: right;\">\n",
       "      <th></th>\n",
       "      <th>name</th>\n",
       "      <th>energy_kwh</th>\n",
       "      <th>cost_pln</th>\n",
       "      <th>time_min</th>\n",
       "      <th>comfort_penalty</th>\n",
       "      <th>co2_emission_kg</th>\n",
       "      <th>requires_supervision</th>\n",
       "      <th>priority</th>\n",
       "      <th>device_cost</th>\n",
       "      <th>failure_rate</th>\n",
       "      <th>normalized_comfort</th>\n",
       "      <th>normalized_failure_rate</th>\n",
       "      <th>score</th>\n",
       "    </tr>\n",
       "  </thead>\n",
       "  <tbody>\n",
       "    <tr>\n",
       "      <th>0</th>\n",
       "      <td>Bathtub</td>\n",
       "      <td>6.105</td>\n",
       "      <td>3.78</td>\n",
       "      <td>15.0</td>\n",
       "      <td>0.005</td>\n",
       "      <td>2.442</td>\n",
       "      <td>False</td>\n",
       "      <td>5</td>\n",
       "      <td>2500</td>\n",
       "      <td>0.03</td>\n",
       "      <td>0.2</td>\n",
       "      <td>0.6</td>\n",
       "      <td>-0.4</td>\n",
       "    </tr>\n",
       "    <tr>\n",
       "      <th>1</th>\n",
       "      <td>Shower</td>\n",
       "      <td>2.930</td>\n",
       "      <td>1.82</td>\n",
       "      <td>8.0</td>\n",
       "      <td>0.020</td>\n",
       "      <td>1.172</td>\n",
       "      <td>False</td>\n",
       "      <td>5</td>\n",
       "      <td>2000</td>\n",
       "      <td>0.02</td>\n",
       "      <td>0.8</td>\n",
       "      <td>0.4</td>\n",
       "      <td>-0.6</td>\n",
       "    </tr>\n",
       "  </tbody>\n",
       "</table>\n",
       "</div>"
      ],
      "text/plain": [
       "      name  energy_kwh  cost_pln  time_min  comfort_penalty  co2_emission_kg  \\\n",
       "0  Bathtub       6.105      3.78      15.0            0.005            2.442   \n",
       "1   Shower       2.930      1.82       8.0            0.020            1.172   \n",
       "\n",
       "   requires_supervision  priority  device_cost  failure_rate  \\\n",
       "0                 False         5         2500          0.03   \n",
       "1                 False         5         2000          0.02   \n",
       "\n",
       "   normalized_comfort  normalized_failure_rate  score  \n",
       "0                 0.2                      0.6   -0.4  \n",
       "1                 0.8                      0.4   -0.6  "
      ]
     },
     "execution_count": 8,
     "metadata": {},
     "output_type": "execute_result"
    }
   ],
   "source": [
    "df_bath = Bathroom.compare_bathing_options()\n",
    "\n",
    "\n",
    "weights = {\n",
    "    \"comfort_penalty\": -0.6,          \n",
    "    \"cost_pln\": -0.2,\n",
    "    \"time_min\": -0.1,\n",
    "    \"co2_emission_kg\": -0.1\n",
    "\n",
    "}\n",
    "\n",
    "find_optimal_device(df_bath, weights)\n"
   ]
  },
  {
   "cell_type": "markdown",
   "id": "6b7fba8d",
   "metadata": {},
   "source": [
    "### Air Heating"
   ]
  },
  {
   "cell_type": "code",
   "execution_count": 9,
   "id": "055611ce",
   "metadata": {},
   "outputs": [
    {
     "data": {
      "application/vnd.microsoft.datawrangler.viewer.v0+json": {
       "columns": [
        {
         "name": "index",
         "rawType": "int64",
         "type": "integer"
        },
        {
         "name": "name",
         "rawType": "object",
         "type": "string"
        },
        {
         "name": "energy_kwh",
         "rawType": "float64",
         "type": "float"
        },
        {
         "name": "cost_pln",
         "rawType": "float64",
         "type": "float"
        },
        {
         "name": "time_min",
         "rawType": "float64",
         "type": "float"
        },
        {
         "name": "comfort_penalty",
         "rawType": "float64",
         "type": "float"
        },
        {
         "name": "co2_emission_kg",
         "rawType": "float64",
         "type": "float"
        },
        {
         "name": "requires_supervision",
         "rawType": "bool",
         "type": "boolean"
        },
        {
         "name": "priority",
         "rawType": "int64",
         "type": "integer"
        },
        {
         "name": "device_cost",
         "rawType": "int64",
         "type": "integer"
        },
        {
         "name": "failure_rate",
         "rawType": "float64",
         "type": "float"
        },
        {
         "name": "heating_quality",
         "rawType": "float64",
         "type": "float"
        },
        {
         "name": "normalized_comfort",
         "rawType": "float64",
         "type": "float"
        },
        {
         "name": "normalized_failure_rate",
         "rawType": "float64",
         "type": "float"
        },
        {
         "name": "score",
         "rawType": "float64",
         "type": "float"
        }
       ],
       "ref": "7bed7aa6-d940-435d-b7ae-6290404f7545",
       "rows": [
        [
         "0",
         "LadderHeater",
         "2.0",
         "1.3",
         "120.0",
         "0.03",
         "0.8",
         "False",
         "5",
         "900",
         "0.04",
         "0.75",
         "0.75",
         "0.667",
         "-0.2"
        ],
        [
         "1",
         "FloorHeating",
         "2.4",
         "1.56",
         "300.0",
         "0.01",
         "0.96",
         "False",
         "5",
         "2000",
         "0.02",
         "0.95",
         "0.25",
         "0.333",
         "-0.6"
        ]
       ],
       "shape": {
        "columns": 14,
        "rows": 2
       }
      },
      "text/html": [
       "<div>\n",
       "<style scoped>\n",
       "    .dataframe tbody tr th:only-of-type {\n",
       "        vertical-align: middle;\n",
       "    }\n",
       "\n",
       "    .dataframe tbody tr th {\n",
       "        vertical-align: top;\n",
       "    }\n",
       "\n",
       "    .dataframe thead th {\n",
       "        text-align: right;\n",
       "    }\n",
       "</style>\n",
       "<table border=\"1\" class=\"dataframe\">\n",
       "  <thead>\n",
       "    <tr style=\"text-align: right;\">\n",
       "      <th></th>\n",
       "      <th>name</th>\n",
       "      <th>energy_kwh</th>\n",
       "      <th>cost_pln</th>\n",
       "      <th>time_min</th>\n",
       "      <th>comfort_penalty</th>\n",
       "      <th>co2_emission_kg</th>\n",
       "      <th>requires_supervision</th>\n",
       "      <th>priority</th>\n",
       "      <th>device_cost</th>\n",
       "      <th>failure_rate</th>\n",
       "      <th>heating_quality</th>\n",
       "      <th>normalized_comfort</th>\n",
       "      <th>normalized_failure_rate</th>\n",
       "      <th>score</th>\n",
       "    </tr>\n",
       "  </thead>\n",
       "  <tbody>\n",
       "    <tr>\n",
       "      <th>0</th>\n",
       "      <td>LadderHeater</td>\n",
       "      <td>2.0</td>\n",
       "      <td>1.30</td>\n",
       "      <td>120.0</td>\n",
       "      <td>0.03</td>\n",
       "      <td>0.80</td>\n",
       "      <td>False</td>\n",
       "      <td>5</td>\n",
       "      <td>900</td>\n",
       "      <td>0.04</td>\n",
       "      <td>0.75</td>\n",
       "      <td>0.75</td>\n",
       "      <td>0.667</td>\n",
       "      <td>-0.2</td>\n",
       "    </tr>\n",
       "    <tr>\n",
       "      <th>1</th>\n",
       "      <td>FloorHeating</td>\n",
       "      <td>2.4</td>\n",
       "      <td>1.56</td>\n",
       "      <td>300.0</td>\n",
       "      <td>0.01</td>\n",
       "      <td>0.96</td>\n",
       "      <td>False</td>\n",
       "      <td>5</td>\n",
       "      <td>2000</td>\n",
       "      <td>0.02</td>\n",
       "      <td>0.95</td>\n",
       "      <td>0.25</td>\n",
       "      <td>0.333</td>\n",
       "      <td>-0.6</td>\n",
       "    </tr>\n",
       "  </tbody>\n",
       "</table>\n",
       "</div>"
      ],
      "text/plain": [
       "           name  energy_kwh  cost_pln  time_min  comfort_penalty  \\\n",
       "0  LadderHeater         2.0      1.30     120.0             0.03   \n",
       "1  FloorHeating         2.4      1.56     300.0             0.01   \n",
       "\n",
       "   co2_emission_kg  requires_supervision  priority  device_cost  failure_rate  \\\n",
       "0             0.80                 False         5          900          0.04   \n",
       "1             0.96                 False         5         2000          0.02   \n",
       "\n",
       "   heating_quality  normalized_comfort  normalized_failure_rate  score  \n",
       "0             0.75                0.75                    0.667   -0.2  \n",
       "1             0.95                0.25                    0.333   -0.6  "
      ]
     },
     "execution_count": 9,
     "metadata": {},
     "output_type": "execute_result"
    }
   ],
   "source": [
    "df_air_heating = Bathroom.compare_bathroom_heating()\n",
    "weights = {\n",
    "    \"cost_pln\": -0.3,\n",
    "    \"time_min\": -0.2,\n",
    "    \"co2_emission_kg\": -0.2,\n",
    "    \"normalized_comfort\": -0.1,\n",
    "    \"normalized_failure_rate\": -0.1,\n",
    "    \"heating_quality\": 0.1\n",
    "}\n",
    "\n",
    "find_optimal_device(df_air_heating, weights)\n"
   ]
  },
  {
   "cell_type": "markdown",
   "id": "a0fd1c34",
   "metadata": {},
   "source": [
    "# Room "
   ]
  },
  {
   "cell_type": "markdown",
   "id": "4874a647",
   "metadata": {},
   "source": [
    "### Desktop vs Laptop"
   ]
  },
  {
   "cell_type": "code",
   "execution_count": 10,
   "id": "7178f910",
   "metadata": {},
   "outputs": [],
   "source": [
    "from simulator_appliances_class import LaptopWithMonitor,DesktopComputer,Room, Fan, AirConditioner"
   ]
  },
  {
   "cell_type": "code",
   "execution_count": 11,
   "id": "efbc9be8",
   "metadata": {},
   "outputs": [
    {
     "data": {
      "application/vnd.microsoft.datawrangler.viewer.v0+json": {
       "columns": [
        {
         "name": "index",
         "rawType": "int64",
         "type": "integer"
        },
        {
         "name": "name",
         "rawType": "object",
         "type": "string"
        },
        {
         "name": "energy_kwh",
         "rawType": "float64",
         "type": "float"
        },
        {
         "name": "cost_pln",
         "rawType": "float64",
         "type": "float"
        },
        {
         "name": "time_min",
         "rawType": "int64",
         "type": "integer"
        },
        {
         "name": "comfort_penalty",
         "rawType": "float64",
         "type": "float"
        },
        {
         "name": "co2_emission_kg",
         "rawType": "float64",
         "type": "float"
        },
        {
         "name": "requires_supervision",
         "rawType": "bool",
         "type": "boolean"
        },
        {
         "name": "priority",
         "rawType": "int64",
         "type": "integer"
        },
        {
         "name": "device_cost",
         "rawType": "int64",
         "type": "integer"
        },
        {
         "name": "failure_rate",
         "rawType": "float64",
         "type": "float"
        },
        {
         "name": "computing_quality",
         "rawType": "float64",
         "type": "float"
        },
        {
         "name": "normalized_comfort",
         "rawType": "float64",
         "type": "float"
        },
        {
         "name": "normalized_failure_rate",
         "rawType": "float64",
         "type": "float"
        },
        {
         "name": "score",
         "rawType": "float64",
         "type": "float"
        }
       ],
       "ref": "a5714c3b-658a-41ce-b889-34144494e98b",
       "rows": [
        [
         "0",
         "DesktopComputer",
         "0.9",
         "0.58",
         "360",
         "0.02",
         "0.36",
         "False",
         "5",
         "4000",
         "0.03",
         "0.95",
         "0.667",
         "0.375",
         "-0.10000000000000003"
        ],
        [
         "1",
         "LaptopWithMonitor",
         "0.42",
         "0.27",
         "360",
         "0.01",
         "0.168",
         "False",
         "5",
         "5000",
         "0.05",
         "0.85",
         "0.333",
         "0.625",
         "-0.2"
        ]
       ],
       "shape": {
        "columns": 14,
        "rows": 2
       }
      },
      "text/html": [
       "<div>\n",
       "<style scoped>\n",
       "    .dataframe tbody tr th:only-of-type {\n",
       "        vertical-align: middle;\n",
       "    }\n",
       "\n",
       "    .dataframe tbody tr th {\n",
       "        vertical-align: top;\n",
       "    }\n",
       "\n",
       "    .dataframe thead th {\n",
       "        text-align: right;\n",
       "    }\n",
       "</style>\n",
       "<table border=\"1\" class=\"dataframe\">\n",
       "  <thead>\n",
       "    <tr style=\"text-align: right;\">\n",
       "      <th></th>\n",
       "      <th>name</th>\n",
       "      <th>energy_kwh</th>\n",
       "      <th>cost_pln</th>\n",
       "      <th>time_min</th>\n",
       "      <th>comfort_penalty</th>\n",
       "      <th>co2_emission_kg</th>\n",
       "      <th>requires_supervision</th>\n",
       "      <th>priority</th>\n",
       "      <th>device_cost</th>\n",
       "      <th>failure_rate</th>\n",
       "      <th>computing_quality</th>\n",
       "      <th>normalized_comfort</th>\n",
       "      <th>normalized_failure_rate</th>\n",
       "      <th>score</th>\n",
       "    </tr>\n",
       "  </thead>\n",
       "  <tbody>\n",
       "    <tr>\n",
       "      <th>0</th>\n",
       "      <td>DesktopComputer</td>\n",
       "      <td>0.90</td>\n",
       "      <td>0.58</td>\n",
       "      <td>360</td>\n",
       "      <td>0.02</td>\n",
       "      <td>0.360</td>\n",
       "      <td>False</td>\n",
       "      <td>5</td>\n",
       "      <td>4000</td>\n",
       "      <td>0.03</td>\n",
       "      <td>0.95</td>\n",
       "      <td>0.667</td>\n",
       "      <td>0.375</td>\n",
       "      <td>-0.1</td>\n",
       "    </tr>\n",
       "    <tr>\n",
       "      <th>1</th>\n",
       "      <td>LaptopWithMonitor</td>\n",
       "      <td>0.42</td>\n",
       "      <td>0.27</td>\n",
       "      <td>360</td>\n",
       "      <td>0.01</td>\n",
       "      <td>0.168</td>\n",
       "      <td>False</td>\n",
       "      <td>5</td>\n",
       "      <td>5000</td>\n",
       "      <td>0.05</td>\n",
       "      <td>0.85</td>\n",
       "      <td>0.333</td>\n",
       "      <td>0.625</td>\n",
       "      <td>-0.2</td>\n",
       "    </tr>\n",
       "  </tbody>\n",
       "</table>\n",
       "</div>"
      ],
      "text/plain": [
       "                name  energy_kwh  cost_pln  time_min  comfort_penalty  \\\n",
       "0    DesktopComputer        0.90      0.58       360             0.02   \n",
       "1  LaptopWithMonitor        0.42      0.27       360             0.01   \n",
       "\n",
       "   co2_emission_kg  requires_supervision  priority  device_cost  failure_rate  \\\n",
       "0            0.360                 False         5         4000          0.03   \n",
       "1            0.168                 False         5         5000          0.05   \n",
       "\n",
       "   computing_quality  normalized_comfort  normalized_failure_rate  score  \n",
       "0               0.95               0.667                    0.375   -0.1  \n",
       "1               0.85               0.333                    0.625   -0.2  "
      ]
     },
     "execution_count": 11,
     "metadata": {},
     "output_type": "execute_result"
    }
   ],
   "source": [
    "df_work = Room.compare_workstations()\n",
    "\n",
    "weights = {\n",
    "    \"cost_pln\": -0.2,\n",
    "    \"time_min\": -0.1,\n",
    "    \"co2_emission_kg\": -0.1,\n",
    "    \"normalized_comfort\": -0.1,\n",
    "    \"normalized_failure_rate\": -0.2,\n",
    "    \"computing_quality\": 0.3\n",
    "}\n",
    "\n",
    "find_optimal_device(df_work, weights)\n"
   ]
  },
  {
   "cell_type": "markdown",
   "id": "60fb3b40",
   "metadata": {},
   "source": [
    "### Colling"
   ]
  },
  {
   "cell_type": "code",
   "execution_count": 12,
   "id": "a92fa82b",
   "metadata": {},
   "outputs": [
    {
     "data": {
      "application/vnd.microsoft.datawrangler.viewer.v0+json": {
       "columns": [
        {
         "name": "index",
         "rawType": "int64",
         "type": "integer"
        },
        {
         "name": "name",
         "rawType": "object",
         "type": "string"
        },
        {
         "name": "energy_kwh",
         "rawType": "float64",
         "type": "float"
        },
        {
         "name": "cost_pln",
         "rawType": "float64",
         "type": "float"
        },
        {
         "name": "time_min",
         "rawType": "int64",
         "type": "integer"
        },
        {
         "name": "comfort_penalty",
         "rawType": "float64",
         "type": "float"
        },
        {
         "name": "co2_emission_kg",
         "rawType": "float64",
         "type": "float"
        },
        {
         "name": "requires_supervision",
         "rawType": "bool",
         "type": "boolean"
        },
        {
         "name": "priority",
         "rawType": "int64",
         "type": "integer"
        },
        {
         "name": "device_cost",
         "rawType": "int64",
         "type": "integer"
        },
        {
         "name": "failure_rate",
         "rawType": "float64",
         "type": "float"
        },
        {
         "name": "cooling_quality",
         "rawType": "float64",
         "type": "float"
        },
        {
         "name": "normalized_comfort",
         "rawType": "float64",
         "type": "float"
        },
        {
         "name": "normalized_failure_rate",
         "rawType": "float64",
         "type": "float"
        },
        {
         "name": "score",
         "rawType": "float64",
         "type": "float"
        }
       ],
       "ref": "806b94fe-21c4-4e52-a962-02da22564655",
       "rows": [
        [
         "0",
         "Fan",
         "0.07",
         "0.04",
         "60",
         "0.08",
         "0.028",
         "False",
         "5",
         "250",
         "0.03",
         "0.4",
         "0.889",
         "0.231",
         "-0.1"
        ],
        [
         "1",
         "AirConditioner",
         "1.5",
         "0.93",
         "60",
         "0.01",
         "0.6",
         "False",
         "5",
         "3000",
         "0.1",
         "0.9",
         "0.111",
         "0.769",
         "-0.49999999999999994"
        ]
       ],
       "shape": {
        "columns": 14,
        "rows": 2
       }
      },
      "text/html": [
       "<div>\n",
       "<style scoped>\n",
       "    .dataframe tbody tr th:only-of-type {\n",
       "        vertical-align: middle;\n",
       "    }\n",
       "\n",
       "    .dataframe tbody tr th {\n",
       "        vertical-align: top;\n",
       "    }\n",
       "\n",
       "    .dataframe thead th {\n",
       "        text-align: right;\n",
       "    }\n",
       "</style>\n",
       "<table border=\"1\" class=\"dataframe\">\n",
       "  <thead>\n",
       "    <tr style=\"text-align: right;\">\n",
       "      <th></th>\n",
       "      <th>name</th>\n",
       "      <th>energy_kwh</th>\n",
       "      <th>cost_pln</th>\n",
       "      <th>time_min</th>\n",
       "      <th>comfort_penalty</th>\n",
       "      <th>co2_emission_kg</th>\n",
       "      <th>requires_supervision</th>\n",
       "      <th>priority</th>\n",
       "      <th>device_cost</th>\n",
       "      <th>failure_rate</th>\n",
       "      <th>cooling_quality</th>\n",
       "      <th>normalized_comfort</th>\n",
       "      <th>normalized_failure_rate</th>\n",
       "      <th>score</th>\n",
       "    </tr>\n",
       "  </thead>\n",
       "  <tbody>\n",
       "    <tr>\n",
       "      <th>0</th>\n",
       "      <td>Fan</td>\n",
       "      <td>0.07</td>\n",
       "      <td>0.04</td>\n",
       "      <td>60</td>\n",
       "      <td>0.08</td>\n",
       "      <td>0.028</td>\n",
       "      <td>False</td>\n",
       "      <td>5</td>\n",
       "      <td>250</td>\n",
       "      <td>0.03</td>\n",
       "      <td>0.4</td>\n",
       "      <td>0.889</td>\n",
       "      <td>0.231</td>\n",
       "      <td>-0.1</td>\n",
       "    </tr>\n",
       "    <tr>\n",
       "      <th>1</th>\n",
       "      <td>AirConditioner</td>\n",
       "      <td>1.50</td>\n",
       "      <td>0.93</td>\n",
       "      <td>60</td>\n",
       "      <td>0.01</td>\n",
       "      <td>0.600</td>\n",
       "      <td>False</td>\n",
       "      <td>5</td>\n",
       "      <td>3000</td>\n",
       "      <td>0.10</td>\n",
       "      <td>0.9</td>\n",
       "      <td>0.111</td>\n",
       "      <td>0.769</td>\n",
       "      <td>-0.5</td>\n",
       "    </tr>\n",
       "  </tbody>\n",
       "</table>\n",
       "</div>"
      ],
      "text/plain": [
       "             name  energy_kwh  cost_pln  time_min  comfort_penalty  \\\n",
       "0             Fan        0.07      0.04        60             0.08   \n",
       "1  AirConditioner        1.50      0.93        60             0.01   \n",
       "\n",
       "   co2_emission_kg  requires_supervision  priority  device_cost  failure_rate  \\\n",
       "0            0.028                 False         5          250          0.03   \n",
       "1            0.600                 False         5         3000          0.10   \n",
       "\n",
       "   cooling_quality  normalized_comfort  normalized_failure_rate  score  \n",
       "0              0.4               0.889                    0.231   -0.1  \n",
       "1              0.9               0.111                    0.769   -0.5  "
      ]
     },
     "execution_count": 12,
     "metadata": {},
     "output_type": "execute_result"
    }
   ],
   "source": [
    "df_cooling = Room.compare_cooling_devices(duration_min=60)\n",
    "weights = {\n",
    "    \"cost_pln\": -0.3,\n",
    "    \"co2_emission_kg\": -0.2,\n",
    "    \"normalized_comfort\": -0.1,\n",
    "    \"normalized_failure_rate\": -0.1,\n",
    "    \"device_cost\": -0.1,\n",
    "    \"cooling_quality\": 0.2\n",
    "}\n",
    "\n",
    "find_optimal_device(df_cooling, weights)\n"
   ]
  },
  {
   "cell_type": "markdown",
   "id": "45a077a3",
   "metadata": {},
   "source": [
    "Web Scrapping"
   ]
  },
  {
   "cell_type": "code",
   "execution_count": 21,
   "id": "5d000ed0",
   "metadata": {},
   "outputs": [
    {
     "ename": "NoSuchDriverException",
     "evalue": "Message: Unable to obtain driver for firefox; For documentation on this error, please visit: https://www.selenium.dev/documentation/webdriver/troubleshooting/errors/driver_location\n",
     "output_type": "error",
     "traceback": [
      "\u001b[31m---------------------------------------------------------------------------\u001b[39m",
      "\u001b[31mValueError\u001b[39m                                Traceback (most recent call last)",
      "\u001b[36mFile \u001b[39m\u001b[32mc:\\Users\\jansl\\OneDrive - uek.krakow.pl\\Pulpit\\ISSI\\Projekt dyplomowy\\.venv\\Lib\\site-packages\\selenium\\webdriver\\common\\driver_finder.py:64\u001b[39m, in \u001b[36mDriverFinder._binary_paths\u001b[39m\u001b[34m(self)\u001b[39m\n\u001b[32m     63\u001b[39m \u001b[38;5;28;01mif\u001b[39;00m \u001b[38;5;129;01mnot\u001b[39;00m Path(path).is_file():\n\u001b[32m---> \u001b[39m\u001b[32m64\u001b[39m     \u001b[38;5;28;01mraise\u001b[39;00m \u001b[38;5;167;01mValueError\u001b[39;00m(\u001b[33mf\u001b[39m\u001b[33m\"\u001b[39m\u001b[33mThe path is not a valid file: \u001b[39m\u001b[38;5;132;01m{\u001b[39;00mpath\u001b[38;5;132;01m}\u001b[39;00m\u001b[33m\"\u001b[39m)\n\u001b[32m     65\u001b[39m \u001b[38;5;28mself\u001b[39m._paths[\u001b[33m\"\u001b[39m\u001b[33mdriver_path\u001b[39m\u001b[33m\"\u001b[39m] = path\n",
      "\u001b[31mValueError\u001b[39m: The path is not a valid file: ./geckodriver.exe",
      "\nThe above exception was the direct cause of the following exception:\n",
      "\u001b[31mNoSuchDriverException\u001b[39m                     Traceback (most recent call last)",
      "\u001b[36mCell\u001b[39m\u001b[36m \u001b[39m\u001b[32mIn[21]\u001b[39m\u001b[32m, line 16\u001b[39m\n\u001b[32m     13\u001b[39m service = Service(\u001b[33m\"\u001b[39m\u001b[33m./geckodriver.exe\u001b[39m\u001b[33m\"\u001b[39m)\n\u001b[32m     15\u001b[39m \u001b[38;5;66;03m# Uruchomienie przeglądarki\u001b[39;00m\n\u001b[32m---> \u001b[39m\u001b[32m16\u001b[39m driver = \u001b[43mwebdriver\u001b[49m\u001b[43m.\u001b[49m\u001b[43mFirefox\u001b[49m\u001b[43m(\u001b[49m\u001b[43mservice\u001b[49m\u001b[43m=\u001b[49m\u001b[43mservice\u001b[49m\u001b[43m,\u001b[49m\u001b[43m \u001b[49m\u001b[43moptions\u001b[49m\u001b[43m=\u001b[49m\u001b[43moptions\u001b[49m\u001b[43m)\u001b[49m\n\u001b[32m     18\u001b[39m \u001b[38;5;66;03m# URL produktu\u001b[39;00m\n\u001b[32m     19\u001b[39m url = \u001b[33m\"\u001b[39m\u001b[33mhttps://www.mediaexpert.pl/agd-do-zabudowy/płyty-do-zabudowy/płyta-gazowa-amica-pgcd6121apfb\u001b[39m\u001b[33m\"\u001b[39m\n",
      "\u001b[36mFile \u001b[39m\u001b[32mc:\\Users\\jansl\\OneDrive - uek.krakow.pl\\Pulpit\\ISSI\\Projekt dyplomowy\\.venv\\Lib\\site-packages\\selenium\\webdriver\\firefox\\webdriver.py:58\u001b[39m, in \u001b[36mWebDriver.__init__\u001b[39m\u001b[34m(self, options, service, keep_alive)\u001b[39m\n\u001b[32m     55\u001b[39m options = options \u001b[38;5;28;01mif\u001b[39;00m options \u001b[38;5;28;01melse\u001b[39;00m Options()\n\u001b[32m     57\u001b[39m finder = DriverFinder(\u001b[38;5;28mself\u001b[39m.service, options)\n\u001b[32m---> \u001b[39m\u001b[32m58\u001b[39m \u001b[38;5;28;01mif\u001b[39;00m \u001b[43mfinder\u001b[49m\u001b[43m.\u001b[49m\u001b[43mget_browser_path\u001b[49m\u001b[43m(\u001b[49m\u001b[43m)\u001b[49m:\n\u001b[32m     59\u001b[39m     options.binary_location = finder.get_browser_path()\n\u001b[32m     60\u001b[39m     options.browser_version = \u001b[38;5;28;01mNone\u001b[39;00m\n",
      "\u001b[36mFile \u001b[39m\u001b[32mc:\\Users\\jansl\\OneDrive - uek.krakow.pl\\Pulpit\\ISSI\\Projekt dyplomowy\\.venv\\Lib\\site-packages\\selenium\\webdriver\\common\\driver_finder.py:47\u001b[39m, in \u001b[36mDriverFinder.get_browser_path\u001b[39m\u001b[34m(self)\u001b[39m\n\u001b[32m     46\u001b[39m \u001b[38;5;28;01mdef\u001b[39;00m\u001b[38;5;250m \u001b[39m\u001b[34mget_browser_path\u001b[39m(\u001b[38;5;28mself\u001b[39m) -> \u001b[38;5;28mstr\u001b[39m:\n\u001b[32m---> \u001b[39m\u001b[32m47\u001b[39m     \u001b[38;5;28;01mreturn\u001b[39;00m \u001b[38;5;28;43mself\u001b[39;49m\u001b[43m.\u001b[49m\u001b[43m_binary_paths\u001b[49m\u001b[43m(\u001b[49m\u001b[43m)\u001b[49m[\u001b[33m\"\u001b[39m\u001b[33mbrowser_path\u001b[39m\u001b[33m\"\u001b[39m]\n",
      "\u001b[36mFile \u001b[39m\u001b[32mc:\\Users\\jansl\\OneDrive - uek.krakow.pl\\Pulpit\\ISSI\\Projekt dyplomowy\\.venv\\Lib\\site-packages\\selenium\\webdriver\\common\\driver_finder.py:78\u001b[39m, in \u001b[36mDriverFinder._binary_paths\u001b[39m\u001b[34m(self)\u001b[39m\n\u001b[32m     76\u001b[39m \u001b[38;5;28;01mexcept\u001b[39;00m \u001b[38;5;167;01mException\u001b[39;00m \u001b[38;5;28;01mas\u001b[39;00m err:\n\u001b[32m     77\u001b[39m     msg = \u001b[33mf\u001b[39m\u001b[33m\"\u001b[39m\u001b[33mUnable to obtain driver for \u001b[39m\u001b[38;5;132;01m{\u001b[39;00mbrowser\u001b[38;5;132;01m}\u001b[39;00m\u001b[33m\"\u001b[39m\n\u001b[32m---> \u001b[39m\u001b[32m78\u001b[39m     \u001b[38;5;28;01mraise\u001b[39;00m NoSuchDriverException(msg) \u001b[38;5;28;01mfrom\u001b[39;00m\u001b[38;5;250m \u001b[39m\u001b[34;01merr\u001b[39;00m\n\u001b[32m     79\u001b[39m \u001b[38;5;28;01mreturn\u001b[39;00m \u001b[38;5;28mself\u001b[39m._paths\n",
      "\u001b[31mNoSuchDriverException\u001b[39m: Message: Unable to obtain driver for firefox; For documentation on this error, please visit: https://www.selenium.dev/documentation/webdriver/troubleshooting/errors/driver_location\n"
     ]
    }
   ],
   "source": [
    "import json\n",
    "import time\n",
    "from selenium import webdriver\n",
    "from selenium.webdriver.firefox.service import Service\n",
    "from selenium.webdriver.firefox.options import Options\n",
    "from bs4 import BeautifulSoup\n",
    "\n",
    "# Konfiguracja przeglądarki Firefox (tryb headless)\n",
    "options = Options()\n",
    "options.add_argument(\"--headless\")\n",
    "\n",
    "# Ścieżka do geckodriver.exe (dostosuj do siebie)\n",
    "service = Service(\"./geckodriver.exe\")\n",
    "\n",
    "# Uruchomienie przeglądarki\n",
    "driver = webdriver.Firefox(service=service, options=options)\n",
    "\n",
    "# URL produktu\n",
    "url = \"https://www.mediaexpert.pl/agd-do-zabudowy/płyty-do-zabudowy/płyta-gazowa-amica-pgcd6121apfb\"\n",
    "driver.get(url)\n",
    "\n",
    "# Poczekaj na pełne załadowanie strony (5 sekund)\n",
    "time.sleep(5)\n",
    "\n",
    "# Parsowanie HTML\n",
    "soup = BeautifulSoup(driver.page_source, \"html.parser\")\n",
    "driver.quit()\n",
    "\n",
    "# Wyciąganie danych\n",
    "produkt = {\n",
    "    \"nazwa\": soup.find(\"h1\").get_text(strip=True),\n",
    "    \"cena\": soup.find(\"span\", class_=\"prices__price\").get_text(strip=True),\n",
    "    \"kod_produktu\": soup.find(\"span\", class_=\"product-code\").get_text(strip=True),\n",
    "    \"funkcje\": [li.get_text(strip=True) for li in soup.select(\".product-functions__item\")],\n",
    "    \"parametry\": [li.get_text(strip=True) for li in soup.select(\".parameters__list .parameters__row\")]\n",
    "}\n",
    "\n",
    "# Zapis do pliku JSON\n",
    "with open(\"plyta_amica.json\", \"w\", encoding=\"utf-8\") as f:\n",
    "    json.dump(produkt, f, ensure_ascii=False, indent=2)\n",
    "\n",
    "# Podgląd w konsoli\n",
    "print(json.dumps(produkt, ensure_ascii=False, indent=2))\n"
   ]
  },
  {
   "cell_type": "markdown",
   "id": "7de28b59",
   "metadata": {},
   "source": []
  },
  {
   "cell_type": "markdown",
   "id": "d7f31ec8",
   "metadata": {},
   "source": []
  },
  {
   "cell_type": "markdown",
   "id": "06331bbf",
   "metadata": {},
   "source": []
  }
 ],
 "metadata": {
  "kernelspec": {
   "display_name": ".venv",
   "language": "python",
   "name": "python3"
  },
  "language_info": {
   "codemirror_mode": {
    "name": "ipython",
    "version": 3
   },
   "file_extension": ".py",
   "mimetype": "text/x-python",
   "name": "python",
   "nbconvert_exporter": "python",
   "pygments_lexer": "ipython3",
   "version": "3.12.9"
  }
 },
 "nbformat": 4,
 "nbformat_minor": 5
}
