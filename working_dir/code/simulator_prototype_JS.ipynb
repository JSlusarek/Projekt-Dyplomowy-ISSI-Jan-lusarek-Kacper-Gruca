{
 "cells": [
  {
   "cell_type": "code",
   "execution_count": 2,
   "id": "5e929ef4",
   "metadata": {},
   "outputs": [],
   "source": [
    "from simulator_appliances_class import Appliance,Kettle,Dishwasher,WashingMachine,InductionHob,GasHob,check_network_load, summarize_device_stats"
   ]
  },
  {
   "cell_type": "code",
   "execution_count": 5,
   "id": "9487364c",
   "metadata": {},
   "outputs": [
    {
     "data": {
      "application/vnd.microsoft.datawrangler.viewer.v0+json": {
       "columns": [
        {
         "name": "index",
         "rawType": "int64",
         "type": "integer"
        },
        {
         "name": "Device",
         "rawType": "object",
         "type": "string"
        },
        {
         "name": "Energy (kWh)",
         "rawType": "float64",
         "type": "float"
        },
        {
         "name": "Cost (PLN)",
         "rawType": "float64",
         "type": "float"
        }
       ],
       "ref": "8b831c6e-b538-44a2-9f8e-021aff59dd5e",
       "rows": [
        [
         "0",
         "Kettle",
         "0.103",
         "0.06"
        ],
        [
         "1",
         "InductionHob",
         "0.126",
         "0.08"
        ],
        [
         "2",
         "GasHob",
         "0.237",
         "0.04"
        ]
       ],
       "shape": {
        "columns": 3,
        "rows": 3
       }
      },
      "text/html": [
       "<div>\n",
       "<style scoped>\n",
       "    .dataframe tbody tr th:only-of-type {\n",
       "        vertical-align: middle;\n",
       "    }\n",
       "\n",
       "    .dataframe tbody tr th {\n",
       "        vertical-align: top;\n",
       "    }\n",
       "\n",
       "    .dataframe thead th {\n",
       "        text-align: right;\n",
       "    }\n",
       "</style>\n",
       "<table border=\"1\" class=\"dataframe\">\n",
       "  <thead>\n",
       "    <tr style=\"text-align: right;\">\n",
       "      <th></th>\n",
       "      <th>Device</th>\n",
       "      <th>Energy (kWh)</th>\n",
       "      <th>Cost (PLN)</th>\n",
       "    </tr>\n",
       "  </thead>\n",
       "  <tbody>\n",
       "    <tr>\n",
       "      <th>0</th>\n",
       "      <td>Kettle</td>\n",
       "      <td>0.103</td>\n",
       "      <td>0.06</td>\n",
       "    </tr>\n",
       "    <tr>\n",
       "      <th>1</th>\n",
       "      <td>InductionHob</td>\n",
       "      <td>0.126</td>\n",
       "      <td>0.08</td>\n",
       "    </tr>\n",
       "    <tr>\n",
       "      <th>2</th>\n",
       "      <td>GasHob</td>\n",
       "      <td>0.237</td>\n",
       "      <td>0.04</td>\n",
       "    </tr>\n",
       "  </tbody>\n",
       "</table>\n",
       "</div>"
      ],
      "text/plain": [
       "         Device  Energy (kWh)  Cost (PLN)\n",
       "0        Kettle         0.103        0.06\n",
       "1  InductionHob         0.126        0.08\n",
       "2        GasHob         0.237        0.04"
      ]
     },
     "execution_count": 5,
     "metadata": {},
     "output_type": "execute_result"
    }
   ],
   "source": [
    "df = summarize_device_stats(kettle=1.0, gas=1.0,induction=1.0)\n",
    "df"
   ]
  },
  {
   "cell_type": "markdown",
   "id": "961d81f4",
   "metadata": {},
   "source": [
    "### Trzeba stworzyc mozliwe jak najwięcej ścieżek konkurencyjnych tzn plyta indukscyjna vs plyta gazowa ktore maja sens dla urzadzen domowych \n",
    "moje typy: \n",
    "\n",
    "Głośnik Bluetooth vs Wieża Audio\n",
    "\n",
    "Suszenie prania: suszarka bębnowa vs sznurek\n",
    "\n",
    "Laptop z monitorem vs PC desktop\n",
    "\n",
    "Telewizor vs Projektor LED \n",
    "\n",
    "\n",
    "\n"
   ]
  }
 ],
 "metadata": {
  "kernelspec": {
   "display_name": ".venv",
   "language": "python",
   "name": "python3"
  },
  "language_info": {
   "codemirror_mode": {
    "name": "ipython",
    "version": 3
   },
   "file_extension": ".py",
   "mimetype": "text/x-python",
   "name": "python",
   "nbconvert_exporter": "python",
   "pygments_lexer": "ipython3",
   "version": "3.12.9"
  }
 },
 "nbformat": 4,
 "nbformat_minor": 5
}
