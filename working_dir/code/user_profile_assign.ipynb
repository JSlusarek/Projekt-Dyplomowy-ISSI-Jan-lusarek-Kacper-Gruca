{
 "cells": [
  {
   "cell_type": "code",
   "execution_count": 1,
   "id": "6a8ffa47",
   "metadata": {},
   "outputs": [],
   "source": [
    "import sys\n",
    "import os\n",
    "sys.path.append(os.path.abspath(os.path.join(\"../../\")))\n",
    "import pandas as pd\n",
    "from src.comparisons.household import Kitchen, Bathroom\n",
    "\n",
    "from sklearn.ensemble import RandomForestClassifier\n",
    "from sklearn.model_selection import train_test_split\n",
    "from sklearn.preprocessing import StandardScaler\n",
    "from sklearn.metrics import classification_report\n",
    "from src.recommendation_engine.comparing_devices import comparing_devices\n",
    "from src.recommendation_engine.recommend_best_device_per_group import recommend_best_per_group\n",
    "from src.recommendation_engine.user_profile_model import train_profile_model"
   ]
  },
  {
   "cell_type": "code",
   "execution_count": 7,
   "id": "f77bc812",
   "metadata": {},
   "outputs": [],
   "source": [
    "df = pd.read_parquet(\"../../Data/GRID/grid_with_profiles.parquet\")\n",
    "df[df.select_dtypes(include=['float']).columns] = df.select_dtypes(include=['float']).round(1)\n",
    "\n",
    "# delete balanced profiles\n",
    "df = df[df[\"profile\"] != \"Balanced\"]\n",
    "df.drop(columns=[\"optimal_score\", \"unique_parameter\",], inplace=True)"
   ]
  },
  {
   "cell_type": "code",
   "execution_count": null,
   "id": "66ac15fa",
   "metadata": {},
   "outputs": [
    {
     "data": {
      "application/vnd.microsoft.datawrangler.viewer.v0+json": {
       "columns": [
        {
         "name": "index",
         "rawType": "int64",
         "type": "integer"
        },
        {
         "name": "name",
         "rawType": "object",
         "type": "string"
        },
        {
         "name": "energy_kwh",
         "rawType": "float64",
         "type": "float"
        },
        {
         "name": "cost_pln",
         "rawType": "float64",
         "type": "float"
        },
        {
         "name": "time_min",
         "rawType": "float64",
         "type": "float"
        },
        {
         "name": "co2_emission_kg",
         "rawType": "float64",
         "type": "float"
        },
        {
         "name": "device_cost",
         "rawType": "int64",
         "type": "integer"
        },
        {
         "name": "normalized_failure_rate",
         "rawType": "float64",
         "type": "float"
        }
       ],
       "ref": "e10ecc7d-d4eb-442a-a2f4-51f364c527c7",
       "rows": [
        [
         "0",
         "InductionHob",
         "0.9",
         "0.56",
         "30.0",
         "0.36",
         "2100",
         "0.545"
        ],
        [
         "1",
         "GasHob",
         "1.667",
         "0.49",
         "30.0",
         "0.667",
         "1500",
         "0.455"
        ]
       ],
       "shape": {
        "columns": 7,
        "rows": 2
       }
      },
      "text/html": [
       "<div>\n",
       "<style scoped>\n",
       "    .dataframe tbody tr th:only-of-type {\n",
       "        vertical-align: middle;\n",
       "    }\n",
       "\n",
       "    .dataframe tbody tr th {\n",
       "        vertical-align: top;\n",
       "    }\n",
       "\n",
       "    .dataframe thead th {\n",
       "        text-align: right;\n",
       "    }\n",
       "</style>\n",
       "<table border=\"1\" class=\"dataframe\">\n",
       "  <thead>\n",
       "    <tr style=\"text-align: right;\">\n",
       "      <th></th>\n",
       "      <th>name</th>\n",
       "      <th>energy_kwh</th>\n",
       "      <th>cost_pln</th>\n",
       "      <th>time_min</th>\n",
       "      <th>co2_emission_kg</th>\n",
       "      <th>device_cost</th>\n",
       "      <th>normalized_failure_rate</th>\n",
       "    </tr>\n",
       "  </thead>\n",
       "  <tbody>\n",
       "    <tr>\n",
       "      <th>0</th>\n",
       "      <td>InductionHob</td>\n",
       "      <td>0.900</td>\n",
       "      <td>0.56</td>\n",
       "      <td>30.0</td>\n",
       "      <td>0.360</td>\n",
       "      <td>2100</td>\n",
       "      <td>0.545</td>\n",
       "    </tr>\n",
       "    <tr>\n",
       "      <th>1</th>\n",
       "      <td>GasHob</td>\n",
       "      <td>1.667</td>\n",
       "      <td>0.49</td>\n",
       "      <td>30.0</td>\n",
       "      <td>0.667</td>\n",
       "      <td>1500</td>\n",
       "      <td>0.455</td>\n",
       "    </tr>\n",
       "  </tbody>\n",
       "</table>\n",
       "</div>"
      ],
      "text/plain": [
       "           name  energy_kwh  cost_pln  time_min  co2_emission_kg  device_cost  \\\n",
       "0  InductionHob       0.900      0.56      30.0            0.360         2100   \n",
       "1        GasHob       1.667      0.49      30.0            0.667         1500   \n",
       "\n",
       "   normalized_failure_rate  \n",
       "0                    0.545  \n",
       "1                    0.455  "
      ]
     },
     "execution_count": 4,
     "metadata": {},
     "output_type": "execute_result"
    }
   ],
   "source": [
    "# # test cooking devices\n",
    "# df_cooking = Kitchen.compare_cooking_devices(time_minutes=30)\n",
    "# df_cooking_2 = df_cooking[[\"name\", \"energy_kwh\", \"cost_pln\", \"time_min\", \"co2_emission_kg\", \"device_cost\", \"normalized_failure_rate\"]]\n",
    "\n",
    "# # df_cooking_2.to_csv(\"cooking_compare.csv\", index=False)\n",
    "# df_cooking_2"
   ]
  },
  {
   "cell_type": "code",
   "execution_count": 8,
   "id": "892fa897",
   "metadata": {},
   "outputs": [
    {
     "data": {
      "text/plain": [
       "{'Bourgeois': {'precision': 0.9973154362416108,\n",
       "  'recall': 1.0,\n",
       "  'f1-score': 0.9986559139784946,\n",
       "  'support': 743.0},\n",
       " 'Budget': {'precision': 1.0,\n",
       "  'recall': 1.0,\n",
       "  'f1-score': 1.0,\n",
       "  'support': 742.0},\n",
       " 'ComfortSeeker': {'precision': 1.0,\n",
       "  'recall': 1.0,\n",
       "  'f1-score': 1.0,\n",
       "  'support': 939.0},\n",
       " 'EcoFriendly': {'precision': 0.9990817263544536,\n",
       "  'recall': 1.0,\n",
       "  'f1-score': 0.9995406522737712,\n",
       "  'support': 1088.0},\n",
       " 'QualitySeeker': {'precision': 1.0,\n",
       "  'recall': 0.9969356486210419,\n",
       "  'f1-score': 0.99846547314578,\n",
       "  'support': 979.0},\n",
       " 'RiskAware': {'precision': 1.0,\n",
       "  'recall': 1.0,\n",
       "  'f1-score': 1.0,\n",
       "  'support': 876.0},\n",
       " 'Saver': {'precision': 1.0,\n",
       "  'recall': 1.0,\n",
       "  'f1-score': 1.0,\n",
       "  'support': 1010.0},\n",
       " 'accuracy': 0.9995295593539282,\n",
       " 'macro avg': {'precision': 0.9994853089422949,\n",
       "  'recall': 0.9995622355172917,\n",
       "  'f1-score': 0.9995231484854351,\n",
       "  'support': 6377.0},\n",
       " 'weighted avg': {'precision': 0.9995305453036165,\n",
       "  'recall': 0.9995295593539282,\n",
       "  'f1-score': 0.9995294451888982,\n",
       "  'support': 6377.0}}"
      ]
     },
     "execution_count": 8,
     "metadata": {},
     "output_type": "execute_result"
    }
   ],
   "source": [
    "model, y_pred, report = train_profile_model(df)\n",
    "report"
   ]
  },
  {
   "cell_type": "code",
   "execution_count": 9,
   "id": "c9851a0b",
   "metadata": {},
   "outputs": [
    {
     "data": {
      "text/plain": [
       "{'boiling_water': 'GasHob',\n",
       " 'cooking': 'GasHob',\n",
       " 'heating_food': 'Microwave',\n",
       " 'making_coffee': 'ElectricMokaPot',\n",
       " 'multicookers': 'ThermomixTM6',\n",
       " 'water_heating': 'HeatPump',\n",
       " 'bathing': 'Shower',\n",
       " 'bathroom_heating': 'LadderHeater',\n",
       " 'workstation': 'LaptopWithMonitor',\n",
       " 'cooling': 'Fan'}"
      ]
     },
     "execution_count": 9,
     "metadata": {},
     "output_type": "execute_result"
    }
   ],
   "source": [
    "recommend_best_per_group(\"Saver\", df=df, comparing_dict=comparing_devices)"
   ]
  }
 ],
 "metadata": {
  "kernelspec": {
   "display_name": ".venv",
   "language": "python",
   "name": "python3"
  },
  "language_info": {
   "codemirror_mode": {
    "name": "ipython",
    "version": 3
   },
   "file_extension": ".py",
   "mimetype": "text/x-python",
   "name": "python",
   "nbconvert_exporter": "python",
   "pygments_lexer": "ipython3",
   "version": "3.12.8"
  }
 },
 "nbformat": 4,
 "nbformat_minor": 5
}
