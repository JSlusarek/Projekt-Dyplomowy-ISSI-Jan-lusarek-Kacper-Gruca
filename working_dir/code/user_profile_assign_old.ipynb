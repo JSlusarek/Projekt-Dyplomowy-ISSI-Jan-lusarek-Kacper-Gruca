{
 "cells": [
  {
   "cell_type": "code",
   "execution_count": 21,
   "id": "6a8ffa47",
   "metadata": {},
   "outputs": [],
   "source": [
    "import sys\n",
    "import os\n",
    "sys.path.append(os.path.abspath(os.path.join(\"../../\")))\n",
    "import pandas as pd\n",
    "from src.comparisons.household import Kitchen, Bathroom\n",
    "\n",
    "from sklearn.ensemble import RandomForestClassifier\n",
    "from sklearn.model_selection import train_test_split\n",
    "from sklearn.preprocessing import StandardScaler\n",
    "from sklearn.metrics import classification_report\n",
    "from src.recommendation_engine.comparing_devices import comparing_devices\n",
    "from src.recommendation_engine.recommend_best_device_per_group import recommend_best_per_group\n",
    "from src.recommendation_engine.user_profile_model import train_profile_model\n",
    "import pickle\n",
    "from src.recommendation_engine.predict_profile_for_user import predict_profile_for_user\n",
    "from src.recommendation_engine.validate_user_input import validate_user_input"
   ]
  },
  {
   "cell_type": "code",
   "execution_count": 22,
   "id": "f77bc812",
   "metadata": {},
   "outputs": [],
   "source": [
    "df = pd.read_parquet(\"../../Data/GRID/grid_with_profiles.parquet\")\n",
    "df[df.select_dtypes(include=['float']).columns] = df.select_dtypes(include=['float']).round(1)\n",
    "\n",
    "# delete balanced profiles\n",
    "df = df[df[\"profile\"] != \"Balanced\"]\n",
    "df.drop(columns=[\"optimal_score\", \"unique_parameter\",], inplace=True)"
   ]
  },
  {
   "cell_type": "code",
   "execution_count": 23,
   "id": "66ac15fa",
   "metadata": {},
   "outputs": [],
   "source": [
    "# # test cooking devices\n",
    "# df_cooking = Kitchen.compare_cooking_devices(time_minutes=30)\n",
    "# df_cooking_2 = df_cooking[[\"name\", \"energy_kwh\", \"cost_pln\", \"time_min\", \"co2_emission_kg\", \"device_cost\", \"normalized_failure_rate\"]]\n",
    "\n",
    "# # df_cooking_2.to_csv(\"cooking_compare.csv\", index=False)\n",
    "# df_cooking_2"
   ]
  },
  {
   "cell_type": "code",
   "execution_count": 24,
   "id": "b1246811",
   "metadata": {},
   "outputs": [],
   "source": [
    "base_columns = [\"cost_pln\", \"co2_emission_kg\", \"normalized_comfort\", \"normalized_failure_rate\", \"device_cost\"]\n",
    "specific_columns = [\"heating_quality\", \"cooking_quality\", \"computing_quality\", \"cooling_quality\"]\n",
    "all_features = base_columns + specific_columns"
   ]
  },
  {
   "cell_type": "code",
   "execution_count": 25,
   "id": "af605179",
   "metadata": {},
   "outputs": [
    {
     "name": "stdout",
     "output_type": "stream",
     "text": [
      "cost_pln: [0.  0.1 0.2 0.3 0.4 0.5 0.6 0.7 0.8 0.9 1. ]\n",
      "co2_emission_kg: [0.  0.1 0.2 0.3 0.4 0.5 0.6 0.7 0.8 0.9 1. ]\n",
      "normalized_comfort: [0.  0.1 0.2 0.3 0.4 0.5 0.6 0.7 0.8 0.9 1. ]\n",
      "normalized_failure_rate: [0.  0.1 0.2 0.3 0.4 0.5 0.6 0.7 0.8 0.9 1. ]\n",
      "device_cost: [-1.  -0.9 -0.8 -0.7 -0.6 -0.5 -0.4 -0.3 -0.2 -0.1  0.   0.1  0.2  0.3\n",
      "  0.4  0.5  0.6  0.7  0.8  0.9  1. ]\n",
      "heating_quality: [0.  0.1 0.2 0.3 0.4 0.5 0.6 0.7 0.8 0.9 1.  nan]\n",
      "cooking_quality: [0.  0.1 0.2 0.3 0.4 0.5 0.6 0.7 0.8 0.9 1.  nan]\n",
      "computing_quality: [0.  0.1 0.2 0.3 0.4 0.5 0.6 0.7 0.8 0.9 1.  nan]\n",
      "cooling_quality: [0.  0.1 0.2 0.3 0.4 0.5 0.6 0.7 0.8 0.9 1.  nan]\n"
     ]
    }
   ],
   "source": [
    "# print unique values from columns in all_features and order them\n",
    "\n",
    "for column in all_features:\n",
    "    unique_values = df[column].unique()\n",
    "    unique_values.sort()\n",
    "    print(f\"{column}: {unique_values}\")"
   ]
  },
  {
   "cell_type": "code",
   "execution_count": 26,
   "id": "892fa897",
   "metadata": {},
   "outputs": [],
   "source": [
    "# model, y_pred, report = train_profile_model(df)\n",
    "# report"
   ]
  },
  {
   "cell_type": "code",
   "execution_count": 27,
   "id": "95ec67b2",
   "metadata": {},
   "outputs": [],
   "source": [
    "# with open('../../models/user_profile_model.pkl', 'wb') as f:\n",
    "#     pickle.dump(model, f)"
   ]
  },
  {
   "cell_type": "code",
   "execution_count": 28,
   "id": "f0b18a6d",
   "metadata": {},
   "outputs": [],
   "source": [
    "# with open(\"../../models/feature_order_user_profile_model.pkl\", \"wb\") as f:\n",
    "#     pickle.dump(all_features, f)"
   ]
  },
  {
   "cell_type": "code",
   "execution_count": 29,
   "id": "c9851a0b",
   "metadata": {},
   "outputs": [
    {
     "data": {
      "text/plain": [
       "{'boiling_water': 'GasHob',\n",
       " 'cooking': 'GasHob',\n",
       " 'heating_food': 'Microwave',\n",
       " 'making_coffee': 'ElectricMokaPot',\n",
       " 'multicookers': 'ThermomixTM6',\n",
       " 'water_heating': 'HeatPump',\n",
       " 'bathing': 'Shower',\n",
       " 'bathroom_heating': 'LadderHeater',\n",
       " 'workstation': 'LaptopWithMonitor',\n",
       " 'cooling': 'Fan'}"
      ]
     },
     "execution_count": 29,
     "metadata": {},
     "output_type": "execute_result"
    }
   ],
   "source": [
    "recommend_best_per_group(\"Saver\", df=df, comparing_dict=comparing_devices)"
   ]
  },
  {
   "cell_type": "markdown",
   "id": "80bc4c9d",
   "metadata": {},
   "source": [
    "### Przypisywanie uytkownika na podstawie ankiety"
   ]
  },
  {
   "cell_type": "code",
   "execution_count": 30,
   "id": "1a960ee9",
   "metadata": {},
   "outputs": [
    {
     "name": "stdout",
     "output_type": "stream",
     "text": [
      "Przewidziany profil: QualitySeeker\n"
     ]
    }
   ],
   "source": [
    "with open(\"../../models/user_profile_model.pkl\", \"rb\") as f:\n",
    "    model = pickle.load(f)\n",
    "\n",
    "with open(\"../../models/feature_order_user_profile_model.pkl\", \"rb\") as f:\n",
    "    feature_order = pickle.load(f)\n",
    "\n",
    "user_input = {\n",
    "    \"cost_pln\": 1,          # 1–10\n",
    "    \"co2_emission_kg\": 5,\n",
    "    \"normalized_comfort\": 8,\n",
    "    \"normalized_failure_rate\": 2,\n",
    "    \"device_cost\": -5,      # -10 do 10\n",
    "    \"cooking_quality\": 9\n",
    "}\n",
    "\n",
    "# Predykcja\n",
    "predicted_profile = predict_profile_for_user(user_input=user_input,\n",
    "                                             model=model,\n",
    "                                             feature_order=feature_order,)\n",
    "\n",
    "print(\"Przewidziany profil:\", predicted_profile)\n"
   ]
  }
 ],
 "metadata": {
  "kernelspec": {
   "display_name": ".venv",
   "language": "python",
   "name": "python3"
  },
  "language_info": {
   "codemirror_mode": {
    "name": "ipython",
    "version": 3
   },
   "file_extension": ".py",
   "mimetype": "text/x-python",
   "name": "python",
   "nbconvert_exporter": "python",
   "pygments_lexer": "ipython3",
   "version": "3.12.9"
  }
 },
 "nbformat": 4,
 "nbformat_minor": 5
}
