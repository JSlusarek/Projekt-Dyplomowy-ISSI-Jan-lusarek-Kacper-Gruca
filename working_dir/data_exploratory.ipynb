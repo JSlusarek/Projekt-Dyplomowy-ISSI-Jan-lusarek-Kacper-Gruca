{
 "cells": [
  {
   "cell_type": "code",
   "execution_count": null,
   "id": "4fa8e2a3",
   "metadata": {},
   "outputs": [],
   "source": [
    "import pandas as pd\n",
    "import duckdb\n",
    "import os"
   ]
  },
  {
   "cell_type": "code",
   "execution_count": 86,
   "id": "b09ea5e5",
   "metadata": {},
   "outputs": [],
   "source": [
    "sensor = pd.read_csv(\"../Data/NAV/sensor.csv\")\n",
    "sensorbox = pd.read_csv(\"../Data/NAV/sensorbox.csv\")\n",
    "home = pd.read_csv(\"../Data/NAV/home.csv\")"
   ]
  },
  {
   "cell_type": "code",
   "execution_count": 7,
   "id": "122d2ee8",
   "metadata": {},
   "outputs": [
    {
     "data": {
      "text/plain": [
       "array(['room', 'clamp', 'electric', 'gas', 'relay', 'plug_monitor',\n",
       "       'subcircuit_monitor'], dtype=object)"
      ]
     },
     "execution_count": 7,
     "metadata": {},
     "output_type": "execute_result"
    }
   ],
   "source": [
    "sensorbox[\"sensorbox_type\"].unique()"
   ]
  },
  {
   "cell_type": "code",
   "execution_count": 9,
   "id": "7a85dd75",
   "metadata": {},
   "outputs": [
    {
     "data": {
      "text/plain": [
       "array(['light', 'humidity', 'temperature', 'battery', 'clamp_temperature',\n",
       "       'electric', 'gas', 'electric_socket', 'power', 'electric_pulse'],\n",
       "      dtype=object)"
      ]
     },
     "execution_count": 9,
     "metadata": {},
     "output_type": "execute_result"
    }
   ],
   "source": [
    "sensor[\"type\"].unique()"
   ]
  },
  {
   "cell_type": "code",
   "execution_count": 4,
   "id": "d8a5f4d5",
   "metadata": {},
   "outputs": [
    {
     "data": {
      "application/vnd.microsoft.datawrangler.viewer.v0+json": {
       "columns": [
        {
         "name": "index",
         "rawType": "int64",
         "type": "integer"
        },
        {
         "name": "sensorid",
         "rawType": "int64",
         "type": "integer"
        },
        {
         "name": "sensorboxid",
         "rawType": "int64",
         "type": "integer"
        },
        {
         "name": "type",
         "rawType": "object",
         "type": "string"
        },
        {
         "name": "unit",
         "rawType": "object",
         "type": "string"
        },
        {
         "name": "status",
         "rawType": "object",
         "type": "string"
        },
        {
         "name": "roomid",
         "rawType": "int64",
         "type": "integer"
        },
        {
         "name": "subcircuit_type",
         "rawType": "object",
         "type": "unknown"
        },
        {
         "name": "scalingfactor",
         "rawType": "float64",
         "type": "float"
        },
        {
         "name": "rawunit",
         "rawType": "object",
         "type": "unknown"
        },
        {
         "name": "counter",
         "rawType": "int64",
         "type": "integer"
        }
       ],
       "ref": "c9308ce1-7063-4a1a-a028-3e753bcdb7a5",
       "rows": [
        [
         "0",
         "1174",
         "279492261292874",
         "light",
         "0.1cd",
         "active",
         "650",
         null,
         "1.0",
         null,
         "1"
        ],
        [
         "1",
         "1175",
         "279492261292874",
         "humidity",
         "0.1%",
         "active",
         "650",
         null,
         "1.0",
         null,
         "1"
        ],
        [
         "2",
         "1176",
         "279492261292874",
         "temperature",
         "0.1C",
         "active",
         "650",
         null,
         "1.0",
         null,
         "1"
        ],
        [
         "3",
         "1177",
         "279492261292874",
         "battery",
         "0.01V",
         "active",
         "650",
         null,
         "1.0",
         null,
         "1"
        ],
        [
         "4",
         "1178",
         "279492261292874",
         "battery",
         "0.01V",
         "active",
         "650",
         null,
         "1.0",
         null,
         "2"
        ],
        [
         "5",
         "1179",
         "279492261292875",
         "light",
         "0.1cd",
         "active",
         "650",
         null,
         "1.0",
         null,
         "1"
        ],
        [
         "6",
         "1180",
         "279492261292875",
         "humidity",
         "0.1%",
         "active",
         "650",
         null,
         "1.0",
         null,
         "1"
        ],
        [
         "7",
         "1182",
         "279492261292875",
         "clamp_temperature",
         "0.1C",
         "active",
         "650",
         null,
         "1.0",
         null,
         "1"
        ],
        [
         "8",
         "1184",
         "279492261292875",
         "battery",
         "0.01V",
         "active",
         "650",
         null,
         "1.0",
         null,
         "1"
        ],
        [
         "9",
         "1181",
         "279492261292875",
         "temperature",
         "0.1C",
         "active",
         "650",
         null,
         "1.0",
         null,
         "1"
        ],
        [
         "10",
         "1183",
         "279492261292875",
         "clamp_temperature",
         "0.1C",
         "active",
         "650",
         null,
         "1.0",
         null,
         "2"
        ],
        [
         "11",
         "1185",
         "279492261292875",
         "battery",
         "0.01V",
         "active",
         "650",
         null,
         "1.0",
         null,
         "2"
        ],
        [
         "12",
         "1186",
         "279492261292876",
         "light",
         "0.1cd",
         "active",
         "650",
         null,
         "1.0",
         null,
         "1"
        ],
        [
         "13",
         "1187",
         "279492261292876",
         "humidity",
         "0.1%",
         "active",
         "650",
         null,
         "1.0",
         null,
         "1"
        ],
        [
         "14",
         "1189",
         "279492261292876",
         "clamp_temperature",
         "0.1C",
         "active",
         "650",
         null,
         "1.0",
         null,
         "1"
        ],
        [
         "15",
         "1191",
         "279492261292876",
         "battery",
         "0.01V",
         "active",
         "650",
         null,
         "1.0",
         null,
         "1"
        ],
        [
         "16",
         "1188",
         "279492261292876",
         "temperature",
         "0.1C",
         "active",
         "650",
         null,
         "1.0",
         null,
         "1"
        ],
        [
         "17",
         "1190",
         "279492261292876",
         "clamp_temperature",
         "0.1C",
         "active",
         "650",
         null,
         "1.0",
         null,
         "2"
        ],
        [
         "18",
         "1192",
         "279492261292876",
         "battery",
         "0.01V",
         "active",
         "650",
         null,
         "1.0",
         null,
         "2"
        ],
        [
         "19",
         "1193",
         "279492261292877",
         "light",
         "0.1cd",
         "active",
         "651",
         null,
         "1.0",
         null,
         "1"
        ],
        [
         "20",
         "1194",
         "279492261292877",
         "humidity",
         "0.1%",
         "active",
         "651",
         null,
         "1.0",
         null,
         "1"
        ],
        [
         "21",
         "1196",
         "279492261292877",
         "battery",
         "0.01V",
         "active",
         "651",
         null,
         "1.0",
         null,
         "1"
        ],
        [
         "22",
         "1195",
         "279492261292877",
         "temperature",
         "0.1C",
         "active",
         "651",
         null,
         "1.0",
         null,
         "1"
        ],
        [
         "23",
         "1197",
         "279492261292877",
         "battery",
         "0.01V",
         "active",
         "651",
         null,
         "1.0",
         null,
         "2"
        ],
        [
         "24",
         "1198",
         "279492261292878",
         "light",
         "0.1cd",
         "active",
         "652",
         null,
         "1.0",
         null,
         "1"
        ],
        [
         "25",
         "1199",
         "279492261292878",
         "humidity",
         "0.1%",
         "active",
         "652",
         null,
         "1.0",
         null,
         "1"
        ],
        [
         "26",
         "1201",
         "279492261292878",
         "battery",
         "0.01V",
         "active",
         "652",
         null,
         "1.0",
         null,
         "1"
        ],
        [
         "27",
         "1200",
         "279492261292878",
         "temperature",
         "0.1C",
         "active",
         "652",
         null,
         "1.0",
         null,
         "1"
        ],
        [
         "28",
         "1202",
         "279492261292878",
         "battery",
         "0.01V",
         "active",
         "652",
         null,
         "1.0",
         null,
         "2"
        ],
        [
         "29",
         "1203",
         "279492261292879",
         "light",
         "0.1cd",
         "active",
         "653",
         null,
         "1.0",
         null,
         "1"
        ],
        [
         "30",
         "1204",
         "279492261292879",
         "humidity",
         "0.1%",
         "active",
         "653",
         null,
         "1.0",
         null,
         "1"
        ],
        [
         "31",
         "1206",
         "279492261292879",
         "battery",
         "0.01V",
         "active",
         "653",
         null,
         "1.0",
         null,
         "1"
        ],
        [
         "32",
         "1205",
         "279492261292879",
         "temperature",
         "0.1C",
         "active",
         "653",
         null,
         "1.0",
         null,
         "1"
        ],
        [
         "33",
         "1207",
         "279492261292879",
         "battery",
         "0.01V",
         "active",
         "653",
         null,
         "1.0",
         null,
         "2"
        ],
        [
         "34",
         "1208",
         "279492261292880",
         "light",
         "0.1cd",
         "active",
         "654",
         null,
         "1.0",
         null,
         "1"
        ],
        [
         "35",
         "1209",
         "279492261292880",
         "humidity",
         "0.1%",
         "active",
         "654",
         null,
         "1.0",
         null,
         "1"
        ],
        [
         "36",
         "1211",
         "279492261292880",
         "battery",
         "0.01V",
         "active",
         "654",
         null,
         "1.0",
         null,
         "1"
        ],
        [
         "37",
         "1210",
         "279492261292880",
         "temperature",
         "0.1C",
         "active",
         "654",
         null,
         "1.0",
         null,
         "1"
        ],
        [
         "38",
         "1212",
         "279492261292880",
         "battery",
         "0.01V",
         "active",
         "654",
         null,
         "1.0",
         null,
         "2"
        ],
        [
         "39",
         "1213",
         "279492261292881",
         "battery",
         "0.01V",
         "active",
         "654",
         null,
         "1.0",
         null,
         "1"
        ],
        [
         "40",
         "1215",
         "279492261292881",
         "electric",
         "1J",
         "active",
         "654",
         null,
         "0.00911",
         "1A",
         "1"
        ],
        [
         "41",
         "1214",
         "279492261292881",
         "battery",
         "0.01V",
         "active",
         "654",
         null,
         "1.0",
         null,
         "2"
        ],
        [
         "42",
         "1216",
         "279492261292881",
         "electric",
         "1J",
         "active",
         "654",
         null,
         "0.0105469",
         "1A",
         "2"
        ],
        [
         "43",
         "1217",
         "279492261292882",
         "battery",
         "0.01V",
         "active",
         "654",
         null,
         "1.0",
         null,
         "1"
        ],
        [
         "44",
         "1219",
         "279492261292882",
         "electric",
         "1J",
         "active",
         "654",
         null,
         "0.03037",
         "1A",
         "1"
        ],
        [
         "45",
         "1218",
         "279492261292882",
         "battery",
         "0.01V",
         "active",
         "654",
         null,
         "1.0",
         null,
         "2"
        ],
        [
         "46",
         "1220",
         "279492261292882",
         "electric",
         "1J",
         "active",
         "654",
         null,
         "0.0351562",
         "1A",
         "2"
        ],
        [
         "47",
         "1221",
         "279492261292883",
         "gas",
         "1Wh",
         "active",
         "654",
         null,
         "1.0",
         "0.01m3",
         "1"
        ],
        [
         "48",
         "1222",
         "279492261292883",
         "battery",
         "0.01V",
         "active",
         "654",
         null,
         "1.0",
         null,
         "1"
        ],
        [
         "49",
         "1224",
         "279492261292883",
         "light",
         "0.1cd",
         "active",
         "654",
         null,
         "1.0",
         null,
         "1"
        ]
       ],
       "shape": {
        "columns": 10,
        "rows": 20081
       }
      },
      "text/html": [
       "<div>\n",
       "<style scoped>\n",
       "    .dataframe tbody tr th:only-of-type {\n",
       "        vertical-align: middle;\n",
       "    }\n",
       "\n",
       "    .dataframe tbody tr th {\n",
       "        vertical-align: top;\n",
       "    }\n",
       "\n",
       "    .dataframe thead th {\n",
       "        text-align: right;\n",
       "    }\n",
       "</style>\n",
       "<table border=\"1\" class=\"dataframe\">\n",
       "  <thead>\n",
       "    <tr style=\"text-align: right;\">\n",
       "      <th></th>\n",
       "      <th>sensorid</th>\n",
       "      <th>sensorboxid</th>\n",
       "      <th>type</th>\n",
       "      <th>unit</th>\n",
       "      <th>status</th>\n",
       "      <th>roomid</th>\n",
       "      <th>subcircuit_type</th>\n",
       "      <th>scalingfactor</th>\n",
       "      <th>rawunit</th>\n",
       "      <th>counter</th>\n",
       "    </tr>\n",
       "  </thead>\n",
       "  <tbody>\n",
       "    <tr>\n",
       "      <th>0</th>\n",
       "      <td>1174</td>\n",
       "      <td>279492261292874</td>\n",
       "      <td>light</td>\n",
       "      <td>0.1cd</td>\n",
       "      <td>active</td>\n",
       "      <td>650</td>\n",
       "      <td>None</td>\n",
       "      <td>1.0</td>\n",
       "      <td>None</td>\n",
       "      <td>1</td>\n",
       "    </tr>\n",
       "    <tr>\n",
       "      <th>1</th>\n",
       "      <td>1175</td>\n",
       "      <td>279492261292874</td>\n",
       "      <td>humidity</td>\n",
       "      <td>0.1%</td>\n",
       "      <td>active</td>\n",
       "      <td>650</td>\n",
       "      <td>None</td>\n",
       "      <td>1.0</td>\n",
       "      <td>None</td>\n",
       "      <td>1</td>\n",
       "    </tr>\n",
       "    <tr>\n",
       "      <th>2</th>\n",
       "      <td>1176</td>\n",
       "      <td>279492261292874</td>\n",
       "      <td>temperature</td>\n",
       "      <td>0.1C</td>\n",
       "      <td>active</td>\n",
       "      <td>650</td>\n",
       "      <td>None</td>\n",
       "      <td>1.0</td>\n",
       "      <td>None</td>\n",
       "      <td>1</td>\n",
       "    </tr>\n",
       "    <tr>\n",
       "      <th>3</th>\n",
       "      <td>1177</td>\n",
       "      <td>279492261292874</td>\n",
       "      <td>battery</td>\n",
       "      <td>0.01V</td>\n",
       "      <td>active</td>\n",
       "      <td>650</td>\n",
       "      <td>None</td>\n",
       "      <td>1.0</td>\n",
       "      <td>None</td>\n",
       "      <td>1</td>\n",
       "    </tr>\n",
       "    <tr>\n",
       "      <th>4</th>\n",
       "      <td>1178</td>\n",
       "      <td>279492261292874</td>\n",
       "      <td>battery</td>\n",
       "      <td>0.01V</td>\n",
       "      <td>active</td>\n",
       "      <td>650</td>\n",
       "      <td>None</td>\n",
       "      <td>1.0</td>\n",
       "      <td>None</td>\n",
       "      <td>2</td>\n",
       "    </tr>\n",
       "    <tr>\n",
       "      <th>...</th>\n",
       "      <td>...</td>\n",
       "      <td>...</td>\n",
       "      <td>...</td>\n",
       "      <td>...</td>\n",
       "      <td>...</td>\n",
       "      <td>...</td>\n",
       "      <td>...</td>\n",
       "      <td>...</td>\n",
       "      <td>...</td>\n",
       "      <td>...</td>\n",
       "    </tr>\n",
       "    <tr>\n",
       "      <th>20076</th>\n",
       "      <td>21843</td>\n",
       "      <td>279492261297010</td>\n",
       "      <td>humidity</td>\n",
       "      <td>0.1%</td>\n",
       "      <td>active</td>\n",
       "      <td>3026</td>\n",
       "      <td>None</td>\n",
       "      <td>1.0</td>\n",
       "      <td>None</td>\n",
       "      <td>1</td>\n",
       "    </tr>\n",
       "    <tr>\n",
       "      <th>20077</th>\n",
       "      <td>21844</td>\n",
       "      <td>279492261297010</td>\n",
       "      <td>temperature</td>\n",
       "      <td>0.1C</td>\n",
       "      <td>active</td>\n",
       "      <td>3026</td>\n",
       "      <td>None</td>\n",
       "      <td>1.0</td>\n",
       "      <td>None</td>\n",
       "      <td>1</td>\n",
       "    </tr>\n",
       "    <tr>\n",
       "      <th>20078</th>\n",
       "      <td>21845</td>\n",
       "      <td>279492261297010</td>\n",
       "      <td>battery</td>\n",
       "      <td>0.01V</td>\n",
       "      <td>active</td>\n",
       "      <td>3026</td>\n",
       "      <td>None</td>\n",
       "      <td>1.0</td>\n",
       "      <td>None</td>\n",
       "      <td>1</td>\n",
       "    </tr>\n",
       "    <tr>\n",
       "      <th>20079</th>\n",
       "      <td>21846</td>\n",
       "      <td>279492261297010</td>\n",
       "      <td>battery</td>\n",
       "      <td>0.01V</td>\n",
       "      <td>active</td>\n",
       "      <td>3026</td>\n",
       "      <td>None</td>\n",
       "      <td>1.0</td>\n",
       "      <td>None</td>\n",
       "      <td>2</td>\n",
       "    </tr>\n",
       "    <tr>\n",
       "      <th>20080</th>\n",
       "      <td>21907</td>\n",
       "      <td>279492261297010</td>\n",
       "      <td>light</td>\n",
       "      <td>0.1cd</td>\n",
       "      <td>active</td>\n",
       "      <td>3026</td>\n",
       "      <td>None</td>\n",
       "      <td>1.0</td>\n",
       "      <td>None</td>\n",
       "      <td>1</td>\n",
       "    </tr>\n",
       "  </tbody>\n",
       "</table>\n",
       "<p>20081 rows × 10 columns</p>\n",
       "</div>"
      ],
      "text/plain": [
       "       sensorid      sensorboxid         type   unit  status  roomid  \\\n",
       "0          1174  279492261292874        light  0.1cd  active     650   \n",
       "1          1175  279492261292874     humidity   0.1%  active     650   \n",
       "2          1176  279492261292874  temperature   0.1C  active     650   \n",
       "3          1177  279492261292874      battery  0.01V  active     650   \n",
       "4          1178  279492261292874      battery  0.01V  active     650   \n",
       "...         ...              ...          ...    ...     ...     ...   \n",
       "20076     21843  279492261297010     humidity   0.1%  active    3026   \n",
       "20077     21844  279492261297010  temperature   0.1C  active    3026   \n",
       "20078     21845  279492261297010      battery  0.01V  active    3026   \n",
       "20079     21846  279492261297010      battery  0.01V  active    3026   \n",
       "20080     21907  279492261297010        light  0.1cd  active    3026   \n",
       "\n",
       "      subcircuit_type  scalingfactor rawunit  counter  \n",
       "0                None            1.0    None        1  \n",
       "1                None            1.0    None        1  \n",
       "2                None            1.0    None        1  \n",
       "3                None            1.0    None        1  \n",
       "4                None            1.0    None        2  \n",
       "...               ...            ...     ...      ...  \n",
       "20076            None            1.0    None        1  \n",
       "20077            None            1.0    None        1  \n",
       "20078            None            1.0    None        1  \n",
       "20079            None            1.0    None        2  \n",
       "20080            None            1.0    None        1  \n",
       "\n",
       "[20081 rows x 10 columns]"
      ]
     },
     "execution_count": 4,
     "metadata": {},
     "output_type": "execute_result"
    }
   ],
   "source": [
    "duckdb.query(\"\"\"\n",
    "    select a.*\n",
    "    from '../Data/NAV/sensor.csv' as a\n",
    "    \"\"\").to_df()"
   ]
  },
  {
   "cell_type": "markdown",
   "id": "d0b34e2d",
   "metadata": {},
   "source": [
    "### Wypisanie nazw plików dla wybranego domu"
   ]
  },
  {
   "cell_type": "code",
   "execution_count": 35,
   "id": "d17794bd",
   "metadata": {},
   "outputs": [],
   "source": [
    "def returm_matching_files(folder_path, searched_fragment):\n",
    "    matching_files = [\n",
    "        filename\n",
    "        for filename in os.listdir(folder_path)\n",
    "        if searched_fragment in filename and not filename.startswith(\"._\")\n",
    "    ]\n",
    "    return pd.DataFrame(matching_files, columns=['file_path'])"
   ]
  },
  {
   "cell_type": "code",
   "execution_count": 43,
   "id": "a81359fe",
   "metadata": {},
   "outputs": [],
   "source": [
    "folder_path = \"../Data/CSV/household_sensors/sensordata\"\n",
    "wanted_fragment = \"home61\"\n",
    "\n",
    "household_61 = returm_matching_files(folder_path, wanted_fragment)"
   ]
  },
  {
   "cell_type": "code",
   "execution_count": 44,
   "id": "9dbd5d35",
   "metadata": {},
   "outputs": [],
   "source": [
    "folder_path = \"../Data/CSV/room_and_appliance_sensors/sensordata\"\n",
    "wanted_fragment = \"home61\"\n",
    "\n",
    "room_and_appliance_61 = returm_matching_files(folder_path, wanted_fragment)"
   ]
  },
  {
   "cell_type": "markdown",
   "id": "2fc05f3a",
   "metadata": {},
   "source": [
    "### Sprawdzenie który dom ma najwięcej plików i przejrzenie ich"
   ]
  },
  {
   "cell_type": "code",
   "execution_count": 52,
   "id": "61851f80",
   "metadata": {},
   "outputs": [],
   "source": [
    "def policz_prefixy(folder_path):\n",
    "    \"\"\"\n",
    "    Zwraca DataFrame z unikalnymi prefixami (do pierwszego podkreślenia) \n",
    "    z nazw plików w folderze i liczbą ich wystąpień.\n",
    "    \n",
    "    Args:\n",
    "        folder_path (str): Ścieżka do folderu z plikami.\n",
    "        \n",
    "    Returns:\n",
    "        pd.DataFrame: Kolumny: 'prefix', 'count'\n",
    "    \"\"\"\n",
    "    # Pobierz wszystkie zwykłe pliki (pomijając ukryte i pliki typu ._)\n",
    "    filenames = [\n",
    "        f for f in os.listdir(folder_path)\n",
    "        if os.path.isfile(os.path.join(folder_path, f)) and not f.startswith(\"._\")\n",
    "    ]\n",
    "\n",
    "    # Wyciągnij prefiks do pierwszego \"_\"\n",
    "    prefixes = [fname.split(\"_\")[0] for fname in filenames]\n",
    "\n",
    "    # Policz wystąpienia i stwórz DataFrame\n",
    "    df_counts = pd.Series(prefixes).value_counts().reset_index()\n",
    "    df_counts.columns = [\"prefix\", \"count\"]\n",
    "\n",
    "    return df_counts"
   ]
  },
  {
   "cell_type": "code",
   "execution_count": 53,
   "id": "57de8524",
   "metadata": {},
   "outputs": [],
   "source": [
    "folder_path = \"../Data/CSV/household_sensors/sensordata\"\n",
    "household_counts = policz_prefixy(folder_path)\n",
    "\n",
    "folder_path = \"../Data/CSV/room_and_appliance_sensors/sensordata\"\n",
    "room_and_appliance_counts = policz_prefixy(folder_path)"
   ]
  },
  {
   "cell_type": "code",
   "execution_count": 57,
   "id": "f77570d5",
   "metadata": {},
   "outputs": [],
   "source": [
    "household_counts.sort_values(by=\"count\", ascending=False, inplace=True)\n",
    "room_and_appliance_counts.sort_values(by=\"count\", ascending=False, inplace=True)"
   ]
  },
  {
   "cell_type": "code",
   "execution_count": 60,
   "id": "038a16d6",
   "metadata": {},
   "outputs": [
    {
     "name": "stdout",
     "output_type": "stream",
     "text": [
      "     prefix  household_count  room_appliance_count  total_count\n",
      "19  home146                8                    55           63\n"
     ]
    }
   ],
   "source": [
    "# Zmiana nazwy kolumn\n",
    "household_counts = household_counts.rename(columns={'count': 'household_count'})\n",
    "room_and_appliance_counts = room_and_appliance_counts.rename(columns={'count': 'room_appliance_count'})\n",
    "\n",
    "# Połączenie po prefixie\n",
    "merged = pd.merge(household_counts, room_and_appliance_counts, on='prefix', how='inner')\n",
    "\n",
    "# DDodanie kolumny z sumą liczb wystąpień\n",
    "merged['total_count'] = merged['household_count'] + merged['room_appliance_count']\n",
    "\n",
    "# Sortowanie i wybranie najczęściej występującego prefixu\n",
    "top_comon = merged.sort_values('total_count', ascending=False).head(1)\n",
    "\n",
    "print(top_common)"
   ]
  },
  {
   "cell_type": "markdown",
   "id": "8362d611",
   "metadata": {},
   "source": [
    "### Przejrzenie plików dla home146"
   ]
  },
  {
   "cell_type": "code",
   "execution_count": 75,
   "id": "cd4afca5",
   "metadata": {},
   "outputs": [],
   "source": [
    "folder_path_household = \"../Data/CSV/household_sensors/sensordata\"\n",
    "folder_path_room_and_appliance = \"../Data/CSV/room_and_appliance_sensors/sensordata\"\n",
    "\n",
    "wanted_fragment_household = \"home146\"\n",
    "wanted_fragment_room_and_appliance = \"home146\"\n",
    "\n",
    "household_146 = returm_matching_files(folder_path_household, wanted_fragment_household)\n",
    "room_and_appliance_146 = returm_matching_files(folder_path_room_and_appliance, wanted_fragment_room_and_appliance)"
   ]
  },
  {
   "cell_type": "code",
   "execution_count": 76,
   "id": "97adb300",
   "metadata": {},
   "outputs": [
    {
     "data": {
      "application/vnd.microsoft.datawrangler.viewer.v0+json": {
       "columns": [
        {
         "name": "index",
         "rawType": "int64",
         "type": "integer"
        },
        {
         "name": "file_path",
         "rawType": "object",
         "type": "string"
        }
       ],
       "ref": "8c31cae6-ff19-4e16-95d8-4ff3c922b225",
       "rows": [
        [
         "0",
         "home146_hall1352_sensor15550_electric-appliance_vacuumcleaner.csv.gz"
        ],
        [
         "1",
         "home146_kitchen1355_sensor15431_electric-appliance_microwave.csv.gz"
        ],
        [
         "2",
         "home146_kitchen1355_sensor15432_electric-appliance_kettle.csv.gz"
        ],
        [
         "3",
         "home146_kitchen1355_sensor15885_electric-appliance_washingmachinetumbledrier.csv.gz"
        ],
        [
         "4",
         "home146_bathroom1357_sensor7177_room_temperature.csv.gz"
        ],
        [
         "5",
         "home146_bathroom1361_sensor7215_room_temperature.csv.gz"
        ],
        [
         "6",
         "home146_bedroom1360_sensor7211_room_temperature.csv.gz"
        ],
        [
         "7",
         "home146_bedroom1362_sensor7222_room_temperature.csv.gz"
        ],
        [
         "8",
         "home146_bedroom1363_sensor7225_room_temperature.csv.gz"
        ],
        [
         "9",
         "home146_diningroom1354_sensor7158_room_temperature.csv.gz"
        ],
        [
         "10",
         "home146_hall1352_sensor7148_room_temperature.csv.gz"
        ],
        [
         "11",
         "home146_hall1359_sensor7207_room_temperature.csv.gz"
        ],
        [
         "12",
         "home146_kitchen1355_sensor7161_room_temperature.csv.gz"
        ],
        [
         "13",
         "home146_livingroom1351_sensor7143_room_temperature.csv.gz"
        ],
        [
         "14",
         "home146_other1356_sensor7165_room_temperature.csv.gz"
        ],
        [
         "15",
         "home146_playroom1353_sensor7153_room_temperature.csv.gz"
        ],
        [
         "16",
         "home146_study1358_sensor7190_room_temperature.csv.gz"
        ],
        [
         "17",
         "home146_bathroom1357_sensor7176_room_humidity.csv.gz"
        ],
        [
         "18",
         "home146_bathroom1361_sensor7214_room_humidity.csv.gz"
        ],
        [
         "19",
         "home146_bedroom1360_sensor7210_room_humidity.csv.gz"
        ],
        [
         "20",
         "home146_bedroom1362_sensor7221_room_humidity.csv.gz"
        ],
        [
         "21",
         "home146_bedroom1363_sensor7224_room_humidity.csv.gz"
        ],
        [
         "22",
         "home146_diningroom1354_sensor7157_room_humidity.csv.gz"
        ],
        [
         "23",
         "home146_hall1352_sensor7147_room_humidity.csv.gz"
        ],
        [
         "24",
         "home146_hall1359_sensor7206_room_humidity.csv.gz"
        ],
        [
         "25",
         "home146_kitchen1355_sensor7160_room_humidity.csv.gz"
        ],
        [
         "26",
         "home146_livingroom1351_sensor7142_room_humidity.csv.gz"
        ],
        [
         "27",
         "home146_other1356_sensor7164_room_humidity.csv.gz"
        ],
        [
         "28",
         "home146_playroom1353_sensor7152_room_humidity.csv.gz"
        ],
        [
         "29",
         "home146_study1358_sensor7189_room_humidity.csv.gz"
        ],
        [
         "30",
         "home146_bathroom1357_sensor15466_tempprobe_sink.csv.gz"
        ],
        [
         "31",
         "home146_bathroom1361_sensor15454_tempprobe_sink.csv.gz"
        ],
        [
         "32",
         "home146_kitchen1355_sensor15475_tempprobe_sink.csv.gz"
        ],
        [
         "33",
         "home146_bathroom1357_sensor15382_tempprobe_radiator-output.csv.gz"
        ],
        [
         "34",
         "home146_bathroom1357_sensor15383_tempprobe_radiator-input.csv.gz"
        ],
        [
         "35",
         "home146_bathroom1361_sensor15447_tempprobe_radiator-output.csv.gz"
        ],
        [
         "36",
         "home146_bathroom1361_sensor15448_tempprobe_radiator-input.csv.gz"
        ],
        [
         "37",
         "home146_bedroom1360_sensor15459_tempprobe_radiator-input.csv.gz"
        ],
        [
         "38",
         "home146_bedroom1360_sensor31458_tempprobe_radiator-output.csv.gz"
        ],
        [
         "39",
         "home146_bedroom1362_sensor15442_tempprobe_radiator-output.csv.gz"
        ],
        [
         "40",
         "home146_bedroom1362_sensor15443_tempprobe_radiator-input.csv.gz"
        ],
        [
         "41",
         "home146_bedroom1363_sensor15406_tempprobe_radiator-input.csv.gz"
        ],
        [
         "42",
         "home146_bedroom1363_sensor15407_tempprobe_radiator-output.csv.gz"
        ],
        [
         "43",
         "home146_diningroom1354_sensor15429_tempprobe_radiator-input.csv.gz"
        ],
        [
         "44",
         "home146_diningroom1354_sensor15430_tempprobe_radiator-output.csv.gz"
        ],
        [
         "45",
         "home146_hall1352_sensor15389_tempprobe_radiator-input.csv.gz"
        ],
        [
         "46",
         "home146_hall1352_sensor15435_tempprobe_radiator-output.csv.gz"
        ],
        [
         "47",
         "home146_hall1352_sensor15436_tempprobe_radiator-input.csv.gz"
        ],
        [
         "48",
         "home146_kitchen1355_sensor15424_tempprobe_radiator-output.csv.gz"
        ],
        [
         "49",
         "home146_kitchen1355_sensor15425_tempprobe_radiator-input.csv.gz"
        ]
       ],
       "shape": {
        "columns": 1,
        "rows": 55
       }
      },
      "text/html": [
       "<div>\n",
       "<style scoped>\n",
       "    .dataframe tbody tr th:only-of-type {\n",
       "        vertical-align: middle;\n",
       "    }\n",
       "\n",
       "    .dataframe tbody tr th {\n",
       "        vertical-align: top;\n",
       "    }\n",
       "\n",
       "    .dataframe thead th {\n",
       "        text-align: right;\n",
       "    }\n",
       "</style>\n",
       "<table border=\"1\" class=\"dataframe\">\n",
       "  <thead>\n",
       "    <tr style=\"text-align: right;\">\n",
       "      <th></th>\n",
       "      <th>file_path</th>\n",
       "    </tr>\n",
       "  </thead>\n",
       "  <tbody>\n",
       "    <tr>\n",
       "      <th>0</th>\n",
       "      <td>home146_hall1352_sensor15550_electric-applianc...</td>\n",
       "    </tr>\n",
       "    <tr>\n",
       "      <th>1</th>\n",
       "      <td>home146_kitchen1355_sensor15431_electric-appli...</td>\n",
       "    </tr>\n",
       "    <tr>\n",
       "      <th>2</th>\n",
       "      <td>home146_kitchen1355_sensor15432_electric-appli...</td>\n",
       "    </tr>\n",
       "    <tr>\n",
       "      <th>3</th>\n",
       "      <td>home146_kitchen1355_sensor15885_electric-appli...</td>\n",
       "    </tr>\n",
       "    <tr>\n",
       "      <th>4</th>\n",
       "      <td>home146_bathroom1357_sensor7177_room_temperatu...</td>\n",
       "    </tr>\n",
       "    <tr>\n",
       "      <th>5</th>\n",
       "      <td>home146_bathroom1361_sensor7215_room_temperatu...</td>\n",
       "    </tr>\n",
       "    <tr>\n",
       "      <th>6</th>\n",
       "      <td>home146_bedroom1360_sensor7211_room_temperatur...</td>\n",
       "    </tr>\n",
       "    <tr>\n",
       "      <th>7</th>\n",
       "      <td>home146_bedroom1362_sensor7222_room_temperatur...</td>\n",
       "    </tr>\n",
       "    <tr>\n",
       "      <th>8</th>\n",
       "      <td>home146_bedroom1363_sensor7225_room_temperatur...</td>\n",
       "    </tr>\n",
       "    <tr>\n",
       "      <th>9</th>\n",
       "      <td>home146_diningroom1354_sensor7158_room_tempera...</td>\n",
       "    </tr>\n",
       "    <tr>\n",
       "      <th>10</th>\n",
       "      <td>home146_hall1352_sensor7148_room_temperature.c...</td>\n",
       "    </tr>\n",
       "    <tr>\n",
       "      <th>11</th>\n",
       "      <td>home146_hall1359_sensor7207_room_temperature.c...</td>\n",
       "    </tr>\n",
       "    <tr>\n",
       "      <th>12</th>\n",
       "      <td>home146_kitchen1355_sensor7161_room_temperatur...</td>\n",
       "    </tr>\n",
       "    <tr>\n",
       "      <th>13</th>\n",
       "      <td>home146_livingroom1351_sensor7143_room_tempera...</td>\n",
       "    </tr>\n",
       "    <tr>\n",
       "      <th>14</th>\n",
       "      <td>home146_other1356_sensor7165_room_temperature....</td>\n",
       "    </tr>\n",
       "    <tr>\n",
       "      <th>15</th>\n",
       "      <td>home146_playroom1353_sensor7153_room_temperatu...</td>\n",
       "    </tr>\n",
       "    <tr>\n",
       "      <th>16</th>\n",
       "      <td>home146_study1358_sensor7190_room_temperature....</td>\n",
       "    </tr>\n",
       "    <tr>\n",
       "      <th>17</th>\n",
       "      <td>home146_bathroom1357_sensor7176_room_humidity....</td>\n",
       "    </tr>\n",
       "    <tr>\n",
       "      <th>18</th>\n",
       "      <td>home146_bathroom1361_sensor7214_room_humidity....</td>\n",
       "    </tr>\n",
       "    <tr>\n",
       "      <th>19</th>\n",
       "      <td>home146_bedroom1360_sensor7210_room_humidity.c...</td>\n",
       "    </tr>\n",
       "    <tr>\n",
       "      <th>20</th>\n",
       "      <td>home146_bedroom1362_sensor7221_room_humidity.c...</td>\n",
       "    </tr>\n",
       "    <tr>\n",
       "      <th>21</th>\n",
       "      <td>home146_bedroom1363_sensor7224_room_humidity.c...</td>\n",
       "    </tr>\n",
       "    <tr>\n",
       "      <th>22</th>\n",
       "      <td>home146_diningroom1354_sensor7157_room_humidit...</td>\n",
       "    </tr>\n",
       "    <tr>\n",
       "      <th>23</th>\n",
       "      <td>home146_hall1352_sensor7147_room_humidity.csv.gz</td>\n",
       "    </tr>\n",
       "    <tr>\n",
       "      <th>24</th>\n",
       "      <td>home146_hall1359_sensor7206_room_humidity.csv.gz</td>\n",
       "    </tr>\n",
       "    <tr>\n",
       "      <th>25</th>\n",
       "      <td>home146_kitchen1355_sensor7160_room_humidity.c...</td>\n",
       "    </tr>\n",
       "    <tr>\n",
       "      <th>26</th>\n",
       "      <td>home146_livingroom1351_sensor7142_room_humidit...</td>\n",
       "    </tr>\n",
       "    <tr>\n",
       "      <th>27</th>\n",
       "      <td>home146_other1356_sensor7164_room_humidity.csv.gz</td>\n",
       "    </tr>\n",
       "    <tr>\n",
       "      <th>28</th>\n",
       "      <td>home146_playroom1353_sensor7152_room_humidity....</td>\n",
       "    </tr>\n",
       "    <tr>\n",
       "      <th>29</th>\n",
       "      <td>home146_study1358_sensor7189_room_humidity.csv.gz</td>\n",
       "    </tr>\n",
       "    <tr>\n",
       "      <th>30</th>\n",
       "      <td>home146_bathroom1357_sensor15466_tempprobe_sin...</td>\n",
       "    </tr>\n",
       "    <tr>\n",
       "      <th>31</th>\n",
       "      <td>home146_bathroom1361_sensor15454_tempprobe_sin...</td>\n",
       "    </tr>\n",
       "    <tr>\n",
       "      <th>32</th>\n",
       "      <td>home146_kitchen1355_sensor15475_tempprobe_sink...</td>\n",
       "    </tr>\n",
       "    <tr>\n",
       "      <th>33</th>\n",
       "      <td>home146_bathroom1357_sensor15382_tempprobe_rad...</td>\n",
       "    </tr>\n",
       "    <tr>\n",
       "      <th>34</th>\n",
       "      <td>home146_bathroom1357_sensor15383_tempprobe_rad...</td>\n",
       "    </tr>\n",
       "    <tr>\n",
       "      <th>35</th>\n",
       "      <td>home146_bathroom1361_sensor15447_tempprobe_rad...</td>\n",
       "    </tr>\n",
       "    <tr>\n",
       "      <th>36</th>\n",
       "      <td>home146_bathroom1361_sensor15448_tempprobe_rad...</td>\n",
       "    </tr>\n",
       "    <tr>\n",
       "      <th>37</th>\n",
       "      <td>home146_bedroom1360_sensor15459_tempprobe_radi...</td>\n",
       "    </tr>\n",
       "    <tr>\n",
       "      <th>38</th>\n",
       "      <td>home146_bedroom1360_sensor31458_tempprobe_radi...</td>\n",
       "    </tr>\n",
       "    <tr>\n",
       "      <th>39</th>\n",
       "      <td>home146_bedroom1362_sensor15442_tempprobe_radi...</td>\n",
       "    </tr>\n",
       "    <tr>\n",
       "      <th>40</th>\n",
       "      <td>home146_bedroom1362_sensor15443_tempprobe_radi...</td>\n",
       "    </tr>\n",
       "    <tr>\n",
       "      <th>41</th>\n",
       "      <td>home146_bedroom1363_sensor15406_tempprobe_radi...</td>\n",
       "    </tr>\n",
       "    <tr>\n",
       "      <th>42</th>\n",
       "      <td>home146_bedroom1363_sensor15407_tempprobe_radi...</td>\n",
       "    </tr>\n",
       "    <tr>\n",
       "      <th>43</th>\n",
       "      <td>home146_diningroom1354_sensor15429_tempprobe_r...</td>\n",
       "    </tr>\n",
       "    <tr>\n",
       "      <th>44</th>\n",
       "      <td>home146_diningroom1354_sensor15430_tempprobe_r...</td>\n",
       "    </tr>\n",
       "    <tr>\n",
       "      <th>45</th>\n",
       "      <td>home146_hall1352_sensor15389_tempprobe_radiato...</td>\n",
       "    </tr>\n",
       "    <tr>\n",
       "      <th>46</th>\n",
       "      <td>home146_hall1352_sensor15435_tempprobe_radiato...</td>\n",
       "    </tr>\n",
       "    <tr>\n",
       "      <th>47</th>\n",
       "      <td>home146_hall1352_sensor15436_tempprobe_radiato...</td>\n",
       "    </tr>\n",
       "    <tr>\n",
       "      <th>48</th>\n",
       "      <td>home146_kitchen1355_sensor15424_tempprobe_radi...</td>\n",
       "    </tr>\n",
       "    <tr>\n",
       "      <th>49</th>\n",
       "      <td>home146_kitchen1355_sensor15425_tempprobe_radi...</td>\n",
       "    </tr>\n",
       "    <tr>\n",
       "      <th>50</th>\n",
       "      <td>home146_livingroom1351_sensor15396_tempprobe_r...</td>\n",
       "    </tr>\n",
       "    <tr>\n",
       "      <th>51</th>\n",
       "      <td>home146_livingroom1351_sensor15401_tempprobe_r...</td>\n",
       "    </tr>\n",
       "    <tr>\n",
       "      <th>52</th>\n",
       "      <td>home146_playroom1353_sensor15376_tempprobe_rad...</td>\n",
       "    </tr>\n",
       "    <tr>\n",
       "      <th>53</th>\n",
       "      <td>home146_study1358_sensor15415_tempprobe_radiat...</td>\n",
       "    </tr>\n",
       "    <tr>\n",
       "      <th>54</th>\n",
       "      <td>home146_study1358_sensor15416_tempprobe_radiat...</td>\n",
       "    </tr>\n",
       "  </tbody>\n",
       "</table>\n",
       "</div>"
      ],
      "text/plain": [
       "                                            file_path\n",
       "0   home146_hall1352_sensor15550_electric-applianc...\n",
       "1   home146_kitchen1355_sensor15431_electric-appli...\n",
       "2   home146_kitchen1355_sensor15432_electric-appli...\n",
       "3   home146_kitchen1355_sensor15885_electric-appli...\n",
       "4   home146_bathroom1357_sensor7177_room_temperatu...\n",
       "5   home146_bathroom1361_sensor7215_room_temperatu...\n",
       "6   home146_bedroom1360_sensor7211_room_temperatur...\n",
       "7   home146_bedroom1362_sensor7222_room_temperatur...\n",
       "8   home146_bedroom1363_sensor7225_room_temperatur...\n",
       "9   home146_diningroom1354_sensor7158_room_tempera...\n",
       "10  home146_hall1352_sensor7148_room_temperature.c...\n",
       "11  home146_hall1359_sensor7207_room_temperature.c...\n",
       "12  home146_kitchen1355_sensor7161_room_temperatur...\n",
       "13  home146_livingroom1351_sensor7143_room_tempera...\n",
       "14  home146_other1356_sensor7165_room_temperature....\n",
       "15  home146_playroom1353_sensor7153_room_temperatu...\n",
       "16  home146_study1358_sensor7190_room_temperature....\n",
       "17  home146_bathroom1357_sensor7176_room_humidity....\n",
       "18  home146_bathroom1361_sensor7214_room_humidity....\n",
       "19  home146_bedroom1360_sensor7210_room_humidity.c...\n",
       "20  home146_bedroom1362_sensor7221_room_humidity.c...\n",
       "21  home146_bedroom1363_sensor7224_room_humidity.c...\n",
       "22  home146_diningroom1354_sensor7157_room_humidit...\n",
       "23   home146_hall1352_sensor7147_room_humidity.csv.gz\n",
       "24   home146_hall1359_sensor7206_room_humidity.csv.gz\n",
       "25  home146_kitchen1355_sensor7160_room_humidity.c...\n",
       "26  home146_livingroom1351_sensor7142_room_humidit...\n",
       "27  home146_other1356_sensor7164_room_humidity.csv.gz\n",
       "28  home146_playroom1353_sensor7152_room_humidity....\n",
       "29  home146_study1358_sensor7189_room_humidity.csv.gz\n",
       "30  home146_bathroom1357_sensor15466_tempprobe_sin...\n",
       "31  home146_bathroom1361_sensor15454_tempprobe_sin...\n",
       "32  home146_kitchen1355_sensor15475_tempprobe_sink...\n",
       "33  home146_bathroom1357_sensor15382_tempprobe_rad...\n",
       "34  home146_bathroom1357_sensor15383_tempprobe_rad...\n",
       "35  home146_bathroom1361_sensor15447_tempprobe_rad...\n",
       "36  home146_bathroom1361_sensor15448_tempprobe_rad...\n",
       "37  home146_bedroom1360_sensor15459_tempprobe_radi...\n",
       "38  home146_bedroom1360_sensor31458_tempprobe_radi...\n",
       "39  home146_bedroom1362_sensor15442_tempprobe_radi...\n",
       "40  home146_bedroom1362_sensor15443_tempprobe_radi...\n",
       "41  home146_bedroom1363_sensor15406_tempprobe_radi...\n",
       "42  home146_bedroom1363_sensor15407_tempprobe_radi...\n",
       "43  home146_diningroom1354_sensor15429_tempprobe_r...\n",
       "44  home146_diningroom1354_sensor15430_tempprobe_r...\n",
       "45  home146_hall1352_sensor15389_tempprobe_radiato...\n",
       "46  home146_hall1352_sensor15435_tempprobe_radiato...\n",
       "47  home146_hall1352_sensor15436_tempprobe_radiato...\n",
       "48  home146_kitchen1355_sensor15424_tempprobe_radi...\n",
       "49  home146_kitchen1355_sensor15425_tempprobe_radi...\n",
       "50  home146_livingroom1351_sensor15396_tempprobe_r...\n",
       "51  home146_livingroom1351_sensor15401_tempprobe_r...\n",
       "52  home146_playroom1353_sensor15376_tempprobe_rad...\n",
       "53  home146_study1358_sensor15415_tempprobe_radiat...\n",
       "54  home146_study1358_sensor15416_tempprobe_radiat..."
      ]
     },
     "execution_count": 76,
     "metadata": {},
     "output_type": "execute_result"
    }
   ],
   "source": [
    "room_and_appliance_146"
   ]
  },
  {
   "cell_type": "code",
   "execution_count": 77,
   "id": "96dd6992",
   "metadata": {},
   "outputs": [],
   "source": [
    "household_146.to_excel(\"household_146.xlsx\", index=False)\n",
    "room_and_appliance_146.to_excel(\"room_and_appliance_146.xlsx\", index=False)"
   ]
  },
  {
   "cell_type": "markdown",
   "id": "13866411",
   "metadata": {},
   "source": [
    "### Sprawdzenie jakie są unikalne nazwy zawierające \"electric\" w folderze household_sensors"
   ]
  },
  {
   "cell_type": "code",
   "execution_count": 80,
   "id": "d35c22b0",
   "metadata": {},
   "outputs": [],
   "source": [
    "def find_unique_electric_segments(folder_path):\n",
    "    \"\"\"\n",
    "    Returns unique parts of filenames that contain 'electric',\n",
    "    specifically the segment between underscores that contains 'electric'.\n",
    "    \n",
    "    Args:\n",
    "        folder_path (str): Path to the folder containing the files.\n",
    "        \n",
    "    Returns:\n",
    "        set: A set of unique segments (str) that contain 'electric'.\n",
    "    \"\"\"\n",
    "    unique_segments = set()\n",
    "    \n",
    "    for filename in os.listdir(folder_path):\n",
    "        if \"electric\" in filename and not filename.startswith(\"._\"):\n",
    "            parts = filename.split(\"_\")\n",
    "            for part in parts:\n",
    "                if \"electric\" in part:\n",
    "                    unique_segments.add(part)\n",
    "    \n",
    "    return unique_segments"
   ]
  },
  {
   "cell_type": "code",
   "execution_count": 81,
   "id": "7002d3e1",
   "metadata": {},
   "outputs": [
    {
     "data": {
      "text/plain": [
       "{'electric-combined.csv.gz', 'electric-mains', 'electric-subcircuit'}"
      ]
     },
     "execution_count": 81,
     "metadata": {},
     "output_type": "execute_result"
    }
   ],
   "source": [
    "folder_path_household = \"../Data/CSV/household_sensors/sensordata\"\n",
    "\n",
    "find_unique_electric_segments(folder_path_household)"
   ]
  },
  {
   "cell_type": "code",
   "execution_count": null,
   "id": "7a81e513",
   "metadata": {},
   "outputs": [],
   "source": [
    "from collections import defaultdict\n",
    "\n",
    "def count_electric_files_per_home(data_directory):\n",
    "    \"\"\"\n",
    "    Counts the number of files containing the word 'electric' for each home,\n",
    "    based on IDEAL dataset naming convention.\n",
    "\n",
    "    Args:\n",
    "        data_directory (str): Path to the directory containing the sensor data files.\n",
    "\n",
    "    Returns:\n",
    "        dict: A dictionary where keys are home IDs and values are counts of 'electric' files.\n",
    "    \"\"\"\n",
    "    electric_file_counts = defaultdict(int)\n",
    "\n",
    "    for filename in os.listdir(data_directory):\n",
    "        if \"electric\" in filename and filename.endswith(\".csv.gz\"):\n",
    "            if filename.startswith(\"home\"):\n",
    "                try:\n",
    "                    home_id = filename.split(\"_\")[0].replace(\"home\", \"\")\n",
    "                    electric_file_counts[home_id] += 1\n",
    "                except IndexError:\n",
    "                    continue  # Skip files with unexpected naming format\n",
    "\n",
    "    return pd.DataFrame(sorted(electric_file_counts.items(), key=lambda item: int(item[0])))"
   ]
  },
  {
   "cell_type": "code",
   "execution_count": 89,
   "id": "3fd32d4d",
   "metadata": {},
   "outputs": [],
   "source": [
    "electric_per_home = count_electric_files_per_home(\"../Data/CSV/household_sensors/sensordata\")"
   ]
  },
  {
   "cell_type": "code",
   "execution_count": 95,
   "id": "e9c0e4ac",
   "metadata": {},
   "outputs": [],
   "source": [
    "electric_per_home.sort_values(by=1, ascending=False, inplace=True)"
   ]
  },
  {
   "cell_type": "code",
   "execution_count": 96,
   "id": "63cd9ff7",
   "metadata": {},
   "outputs": [
    {
     "data": {
      "application/vnd.microsoft.datawrangler.viewer.v0+json": {
       "columns": [
        {
         "name": "index",
         "rawType": "int64",
         "type": "integer"
        },
        {
         "name": "0",
         "rawType": "object",
         "type": "string"
        },
        {
         "name": "1",
         "rawType": "int64",
         "type": "integer"
        }
       ],
       "ref": "348d3682-eb07-4b2d-af1d-965769fd6305",
       "rows": [
        [
         "100",
         "171",
         "5"
        ],
        [
         "91",
         "162",
         "4"
        ],
        [
         "6",
         "65",
         "4"
        ],
        [
         "188",
         "266",
         "4"
        ],
        [
         "164",
         "242",
         "4"
        ],
        [
         "160",
         "238",
         "4"
        ],
        [
         "103",
         "175",
         "4"
        ],
        [
         "30",
         "90",
         "4"
        ],
        [
         "43",
         "106",
         "4"
        ],
        [
         "185",
         "263",
         "4"
        ],
        [
         "198",
         "276",
         "3"
        ],
        [
         "184",
         "262",
         "3"
        ],
        [
         "232",
         "311",
         "3"
        ],
        [
         "61",
         "128",
         "3"
        ],
        [
         "70",
         "140",
         "3"
        ],
        [
         "74",
         "145",
         "3"
        ],
        [
         "75",
         "146",
         "3"
        ],
        [
         "186",
         "264",
         "3"
        ],
        [
         "137",
         "212",
         "3"
        ],
        [
         "181",
         "259",
         "3"
        ],
        [
         "35",
         "96",
         "3"
        ],
        [
         "177",
         "255",
         "3"
        ],
        [
         "97",
         "168",
         "3"
        ],
        [
         "14",
         "73",
         "3"
        ],
        [
         "98",
         "169",
         "3"
        ],
        [
         "246",
         "328",
         "3"
        ],
        [
         "171",
         "249",
         "3"
        ],
        [
         "150",
         "228",
         "3"
        ],
        [
         "149",
         "227",
         "3"
        ],
        [
         "147",
         "225",
         "3"
        ],
        [
         "133",
         "208",
         "3"
        ],
        [
         "190",
         "268",
         "2"
        ],
        [
         "66",
         "136",
         "2"
        ],
        [
         "42",
         "105",
         "2"
        ],
        [
         "69",
         "139",
         "2"
        ],
        [
         "4",
         "63",
         "2"
        ],
        [
         "2",
         "61",
         "2"
        ],
        [
         "3",
         "62",
         "2"
        ],
        [
         "173",
         "251",
         "1"
        ],
        [
         "165",
         "243",
         "1"
        ],
        [
         "166",
         "244",
         "1"
        ],
        [
         "167",
         "245",
         "1"
        ],
        [
         "168",
         "246",
         "1"
        ],
        [
         "169",
         "247",
         "1"
        ],
        [
         "170",
         "248",
         "1"
        ],
        [
         "249",
         "331",
         "1"
        ],
        [
         "248",
         "330",
         "1"
        ],
        [
         "172",
         "250",
         "1"
        ],
        [
         "247",
         "329",
         "1"
        ],
        [
         "226",
         "305",
         "1"
        ]
       ],
       "shape": {
        "columns": 2,
        "rows": 254
       }
      },
      "text/html": [
       "<div>\n",
       "<style scoped>\n",
       "    .dataframe tbody tr th:only-of-type {\n",
       "        vertical-align: middle;\n",
       "    }\n",
       "\n",
       "    .dataframe tbody tr th {\n",
       "        vertical-align: top;\n",
       "    }\n",
       "\n",
       "    .dataframe thead th {\n",
       "        text-align: right;\n",
       "    }\n",
       "</style>\n",
       "<table border=\"1\" class=\"dataframe\">\n",
       "  <thead>\n",
       "    <tr style=\"text-align: right;\">\n",
       "      <th></th>\n",
       "      <th>0</th>\n",
       "      <th>1</th>\n",
       "    </tr>\n",
       "  </thead>\n",
       "  <tbody>\n",
       "    <tr>\n",
       "      <th>100</th>\n",
       "      <td>171</td>\n",
       "      <td>5</td>\n",
       "    </tr>\n",
       "    <tr>\n",
       "      <th>91</th>\n",
       "      <td>162</td>\n",
       "      <td>4</td>\n",
       "    </tr>\n",
       "    <tr>\n",
       "      <th>6</th>\n",
       "      <td>65</td>\n",
       "      <td>4</td>\n",
       "    </tr>\n",
       "    <tr>\n",
       "      <th>188</th>\n",
       "      <td>266</td>\n",
       "      <td>4</td>\n",
       "    </tr>\n",
       "    <tr>\n",
       "      <th>164</th>\n",
       "      <td>242</td>\n",
       "      <td>4</td>\n",
       "    </tr>\n",
       "    <tr>\n",
       "      <th>...</th>\n",
       "      <td>...</td>\n",
       "      <td>...</td>\n",
       "    </tr>\n",
       "    <tr>\n",
       "      <th>99</th>\n",
       "      <td>170</td>\n",
       "      <td>1</td>\n",
       "    </tr>\n",
       "    <tr>\n",
       "      <th>101</th>\n",
       "      <td>173</td>\n",
       "      <td>1</td>\n",
       "    </tr>\n",
       "    <tr>\n",
       "      <th>102</th>\n",
       "      <td>174</td>\n",
       "      <td>1</td>\n",
       "    </tr>\n",
       "    <tr>\n",
       "      <th>104</th>\n",
       "      <td>176</td>\n",
       "      <td>1</td>\n",
       "    </tr>\n",
       "    <tr>\n",
       "      <th>253</th>\n",
       "      <td>335</td>\n",
       "      <td>1</td>\n",
       "    </tr>\n",
       "  </tbody>\n",
       "</table>\n",
       "<p>254 rows × 2 columns</p>\n",
       "</div>"
      ],
      "text/plain": [
       "       0  1\n",
       "100  171  5\n",
       "91   162  4\n",
       "6     65  4\n",
       "188  266  4\n",
       "164  242  4\n",
       "..   ... ..\n",
       "99   170  1\n",
       "101  173  1\n",
       "102  174  1\n",
       "104  176  1\n",
       "253  335  1\n",
       "\n",
       "[254 rows x 2 columns]"
      ]
     },
     "execution_count": 96,
     "metadata": {},
     "output_type": "execute_result"
    }
   ],
   "source": [
    "electric_per_home"
   ]
  }
 ],
 "metadata": {
  "kernelspec": {
   "display_name": ".venv",
   "language": "python",
   "name": "python3"
  },
  "language_info": {
   "codemirror_mode": {
    "name": "ipython",
    "version": 3
   },
   "file_extension": ".py",
   "mimetype": "text/x-python",
   "name": "python",
   "nbconvert_exporter": "python",
   "pygments_lexer": "ipython3",
   "version": "3.12.8"
  }
 },
 "nbformat": 4,
 "nbformat_minor": 5
}
